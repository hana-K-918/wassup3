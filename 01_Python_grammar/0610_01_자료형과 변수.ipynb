{
 "cells": [
  {
   "cell_type": "markdown",
   "id": "35e43f44-b9c6-45ab-a5df-916d9eda1cb7",
   "metadata": {},
   "source": [
    "# 숫자 자료형"
   ]
  },
  {
   "cell_type": "code",
   "execution_count": 2,
   "id": "a1d95074-9910-46db-a0b3-f998e7e76d42",
   "metadata": {},
   "outputs": [],
   "source": [
    "a = 123 "
   ]
  },
  {
   "cell_type": "code",
   "execution_count": 3,
   "id": "9641dbbe-0bdb-4477-a97d-ed9eb3f3929d",
   "metadata": {},
   "outputs": [
    {
     "data": {
      "text/plain": [
       "123"
      ]
     },
     "execution_count": 3,
     "metadata": {},
     "output_type": "execute_result"
    }
   ],
   "source": [
    "a"
   ]
  },
  {
   "cell_type": "code",
   "execution_count": 4,
   "id": "2ea460b2-c819-4697-af57-40ed9d368fdf",
   "metadata": {},
   "outputs": [
    {
     "data": {
      "text/plain": [
       "-178"
      ]
     },
     "execution_count": 4,
     "metadata": {},
     "output_type": "execute_result"
    }
   ],
   "source": [
    "a = -178\n",
    "a"
   ]
  },
  {
   "cell_type": "code",
   "execution_count": 5,
   "id": "fb671359-83a4-4b61-a7d4-ad0ebab60f01",
   "metadata": {},
   "outputs": [],
   "source": [
    "a = 0"
   ]
  },
  {
   "cell_type": "code",
   "execution_count": 7,
   "id": "72cbfc30-3f3d-47eb-8448-48f2dfcb3c41",
   "metadata": {},
   "outputs": [
    {
     "data": {
      "text/plain": [
       "-4.2395"
      ]
     },
     "execution_count": 7,
     "metadata": {},
     "output_type": "execute_result"
    }
   ],
   "source": [
    "a = -4.2395\n",
    "a"
   ]
  },
  {
   "cell_type": "code",
   "execution_count": 8,
   "id": "d237f9cc-edfb-4177-be46-af7275c1d8db",
   "metadata": {},
   "outputs": [
    {
     "data": {
      "text/plain": [
       "42300000000.0"
      ]
     },
     "execution_count": 8,
     "metadata": {},
     "output_type": "execute_result"
    }
   ],
   "source": [
    "a = 4.23E10\n",
    "a"
   ]
  },
  {
   "cell_type": "code",
   "execution_count": 9,
   "id": "62ca09b8-021d-4d47-ae60-f1225b5541cb",
   "metadata": {},
   "outputs": [
    {
     "data": {
      "text/plain": [
       "4.23e-10"
      ]
     },
     "execution_count": 9,
     "metadata": {},
     "output_type": "execute_result"
    }
   ],
   "source": [
    "a = 4.23E-10\n",
    "a"
   ]
  },
  {
   "cell_type": "code",
   "execution_count": null,
   "id": "3af65112-eb12-421f-8fb2-1088f6b7423d",
   "metadata": {},
   "outputs": [],
   "source": []
  },
  {
   "cell_type": "code",
   "execution_count": 11,
   "id": "1f882a19-aab3-4cbb-a34e-ba5842e527dc",
   "metadata": {},
   "outputs": [
    {
     "data": {
      "text/plain": [
       "127"
      ]
     },
     "execution_count": 11,
     "metadata": {},
     "output_type": "execute_result"
    }
   ],
   "source": [
    "a = 0o177\n",
    "a"
   ]
  },
  {
   "cell_type": "code",
   "execution_count": 12,
   "id": "389a775d-ac36-46e8-b8ce-68cdd0c3e5ab",
   "metadata": {},
   "outputs": [
    {
     "data": {
      "text/plain": [
       "(2303, 2748)"
      ]
     },
     "execution_count": 12,
     "metadata": {},
     "output_type": "execute_result"
    }
   ],
   "source": [
    "a = 0x8ff\n",
    "b = 0xABC\n",
    "a, b"
   ]
  },
  {
   "cell_type": "markdown",
   "id": "7ec6f465-b246-49cc-a0cf-9d26c047539a",
   "metadata": {
    "jp-MarkdownHeadingCollapsed": true
   },
   "source": [
    "## 사칙연산"
   ]
  },
  {
   "cell_type": "code",
   "execution_count": 13,
   "id": "8bdc87cd-36b1-414c-b171-99cfdd84c061",
   "metadata": {},
   "outputs": [
    {
     "data": {
      "text/plain": [
       "7"
      ]
     },
     "execution_count": 13,
     "metadata": {},
     "output_type": "execute_result"
    }
   ],
   "source": [
    "a = 3\n",
    "b = 4\n",
    "a + b "
   ]
  },
  {
   "cell_type": "code",
   "execution_count": 14,
   "id": "dac4b05f-8a4b-4943-978e-6e9591ee2cba",
   "metadata": {},
   "outputs": [
    {
     "data": {
      "text/plain": [
       "-1"
      ]
     },
     "execution_count": 14,
     "metadata": {},
     "output_type": "execute_result"
    }
   ],
   "source": [
    "a-b"
   ]
  },
  {
   "cell_type": "code",
   "execution_count": 15,
   "id": "f4a47851-2133-45eb-882f-f0ac9149e851",
   "metadata": {},
   "outputs": [
    {
     "data": {
      "text/plain": [
       "12"
      ]
     },
     "execution_count": 15,
     "metadata": {},
     "output_type": "execute_result"
    }
   ],
   "source": [
    "a*b"
   ]
  },
  {
   "cell_type": "code",
   "execution_count": 16,
   "id": "a81fe7fc-33c9-41cf-b868-b97be6a62d85",
   "metadata": {},
   "outputs": [
    {
     "data": {
      "text/plain": [
       "0.75"
      ]
     },
     "execution_count": 16,
     "metadata": {},
     "output_type": "execute_result"
    }
   ],
   "source": [
    "a/b"
   ]
  },
  {
   "cell_type": "markdown",
   "id": "ffabb94f-6186-4f29-9b3e-f4b42beb2dfd",
   "metadata": {
    "jp-MarkdownHeadingCollapsed": true
   },
   "source": [
    "## 제곱연산"
   ]
  },
  {
   "cell_type": "code",
   "execution_count": 18,
   "id": "52a026ef-fa8e-4fbb-a5ba-44773987811f",
   "metadata": {},
   "outputs": [
    {
     "data": {
      "text/plain": [
       "81"
      ]
     },
     "execution_count": 18,
     "metadata": {},
     "output_type": "execute_result"
    }
   ],
   "source": [
    "a ** b "
   ]
  },
  {
   "cell_type": "markdown",
   "id": "0d73597b-fa16-4d94-a1a4-0082cdb20448",
   "metadata": {
    "jp-MarkdownHeadingCollapsed": true
   },
   "source": [
    "## 나눗셈 나머지 연산"
   ]
  },
  {
   "cell_type": "code",
   "execution_count": 20,
   "id": "d0184710-94fd-4ed8-860d-5d7db90a7f1b",
   "metadata": {},
   "outputs": [
    {
     "data": {
      "text/plain": [
       "1"
      ]
     },
     "execution_count": 20,
     "metadata": {},
     "output_type": "execute_result"
    }
   ],
   "source": [
    "7 % 3 "
   ]
  },
  {
   "cell_type": "code",
   "execution_count": 21,
   "id": "a746bb44-e3c8-4cc8-81dc-6518c39e8cc4",
   "metadata": {},
   "outputs": [
    {
     "data": {
      "text/plain": [
       "3"
      ]
     },
     "execution_count": 21,
     "metadata": {},
     "output_type": "execute_result"
    }
   ],
   "source": [
    "3 % 7 "
   ]
  },
  {
   "cell_type": "markdown",
   "id": "4a17fd5d-0896-4f9f-9ef8-f58e6d2027bc",
   "metadata": {
    "jp-MarkdownHeadingCollapsed": true
   },
   "source": [
    "## 나눗셈 몫 연산"
   ]
  },
  {
   "cell_type": "code",
   "execution_count": 22,
   "id": "04b683b1-41cf-4823-a197-7e54ca5c16af",
   "metadata": {},
   "outputs": [
    {
     "data": {
      "text/plain": [
       "1"
      ]
     },
     "execution_count": 22,
     "metadata": {},
     "output_type": "execute_result"
    }
   ],
   "source": [
    "7 // 4"
   ]
  },
  {
   "cell_type": "code",
   "execution_count": 27,
   "id": "c8331694-7ae5-4b2f-8582-78dba28d862e",
   "metadata": {},
   "outputs": [
    {
     "data": {
      "text/plain": [
       "1.75"
      ]
     },
     "execution_count": 27,
     "metadata": {},
     "output_type": "execute_result"
    }
   ],
   "source": [
    "7/4"
   ]
  },
  {
   "cell_type": "markdown",
   "id": "926e364a-0ffa-474b-852f-5477fd200662",
   "metadata": {},
   "source": [
    "# 문자열 자료형"
   ]
  },
  {
   "cell_type": "code",
   "execution_count": 28,
   "id": "6c588fb9-c3e9-4182-a091-6aee5e52efeb",
   "metadata": {},
   "outputs": [
    {
     "data": {
      "text/plain": [
       "'hello world'"
      ]
     },
     "execution_count": 28,
     "metadata": {},
     "output_type": "execute_result"
    }
   ],
   "source": [
    "\"hello world\""
   ]
  },
  {
   "cell_type": "code",
   "execution_count": 29,
   "id": "2b842d59-1b49-4a08-8311-b51a0a411791",
   "metadata": {},
   "outputs": [
    {
     "data": {
      "text/plain": [
       "' HELLO WORLD '"
      ]
     },
     "execution_count": 29,
     "metadata": {},
     "output_type": "execute_result"
    }
   ],
   "source": [
    "\"\"\" HELLO WORLD \"\"\""
   ]
  },
  {
   "cell_type": "code",
   "execution_count": 39,
   "id": "5e048062-c956-44d0-9fdd-49e4b287dd57",
   "metadata": {},
   "outputs": [
    {
     "data": {
      "text/plain": [
       "'\\nHELLO WORLD\\n'"
      ]
     },
     "execution_count": 39,
     "metadata": {},
     "output_type": "execute_result"
    }
   ],
   "source": [
    "'''\n",
    "HELLO WORLD\n",
    "'''"
   ]
  },
  {
   "cell_type": "markdown",
   "id": "9d6b032f-ac95-4679-8cdf-d074dc1068c9",
   "metadata": {},
   "source": [
    "## 문자열 안에 작은 따옴표나 큰 타옴표를 포함시키고 싶을때"
   ]
  },
  {
   "cell_type": "code",
   "execution_count": 33,
   "id": "eb40c6e6-93fa-41fa-b1c6-fe1a1eddef0b",
   "metadata": {},
   "outputs": [
    {
     "ename": "SyntaxError",
     "evalue": "unterminated string literal (detected at line 1) (2917458957.py, line 1)",
     "output_type": "error",
     "traceback": [
      "\u001b[1;36m  Cell \u001b[1;32mIn[33], line 1\u001b[1;36m\u001b[0m\n\u001b[1;33m    Python's favorite food is perl\u001b[0m\n\u001b[1;37m          ^\u001b[0m\n\u001b[1;31mSyntaxError\u001b[0m\u001b[1;31m:\u001b[0m unterminated string literal (detected at line 1)\n"
     ]
    }
   ],
   "source": [
    "Python's favorite food is perl"
   ]
  },
  {
   "cell_type": "code",
   "execution_count": 34,
   "id": "5d470e22-73d0-4c74-9b0b-662b858da324",
   "metadata": {},
   "outputs": [
    {
     "ename": "SyntaxError",
     "evalue": "unterminated string literal (detected at line 1) (1974562179.py, line 1)",
     "output_type": "error",
     "traceback": [
      "\u001b[1;36m  Cell \u001b[1;32mIn[34], line 1\u001b[1;36m\u001b[0m\n\u001b[1;33m    'Python's favorite food is perl'\u001b[0m\n\u001b[1;37m                                   ^\u001b[0m\n\u001b[1;31mSyntaxError\u001b[0m\u001b[1;31m:\u001b[0m unterminated string literal (detected at line 1)\n"
     ]
    }
   ],
   "source": [
    "'Python's favorite food is perl'"
   ]
  },
  {
   "cell_type": "code",
   "execution_count": 35,
   "id": "0cb73fe8-98dd-4aa2-ba73-af521de447ed",
   "metadata": {},
   "outputs": [
    {
     "data": {
      "text/plain": [
       "\"Python's favorite food is perl\""
      ]
     },
     "execution_count": 35,
     "metadata": {},
     "output_type": "execute_result"
    }
   ],
   "source": [
    "\"Python's favorite food is perl\""
   ]
  },
  {
   "cell_type": "code",
   "execution_count": 36,
   "id": "d0333922-0045-4721-8890-32cca16a54aa",
   "metadata": {},
   "outputs": [
    {
     "ename": "SyntaxError",
     "evalue": "invalid syntax (2498016959.py, line 1)",
     "output_type": "error",
     "traceback": [
      "\u001b[1;36m  Cell \u001b[1;32mIn[36], line 1\u001b[1;36m\u001b[0m\n\u001b[1;33m    \"Python is very easy.\" he says.\u001b[0m\n\u001b[1;37m                           ^\u001b[0m\n\u001b[1;31mSyntaxError\u001b[0m\u001b[1;31m:\u001b[0m invalid syntax\n"
     ]
    }
   ],
   "source": [
    "\"Python is very easy.\" he says."
   ]
  },
  {
   "cell_type": "code",
   "execution_count": 37,
   "id": "257ea6e8-f55e-4dae-b707-043f447c61db",
   "metadata": {},
   "outputs": [
    {
     "data": {
      "text/plain": [
       "'\"Python is very easy.\" he says.'"
      ]
     },
     "execution_count": 37,
     "metadata": {},
     "output_type": "execute_result"
    }
   ],
   "source": [
    "'\"Python is very easy.\" he says.'"
   ]
  },
  {
   "cell_type": "code",
   "execution_count": 38,
   "id": "e51120d6-7c7e-4aeb-9163-0c6d6527cf30",
   "metadata": {},
   "outputs": [
    {
     "data": {
      "text/plain": [
       "\"Python's favorite food is perl\""
      ]
     },
     "execution_count": 38,
     "metadata": {},
     "output_type": "execute_result"
    }
   ],
   "source": [
    "'Python\\'s favorite food is perl'"
   ]
  },
  {
   "cell_type": "code",
   "execution_count": 40,
   "id": "b51b91d3-375c-4ecd-9e58-ff7c6cd76fc0",
   "metadata": {},
   "outputs": [
    {
     "data": {
      "text/plain": [
       "'Life is too short You need python'"
      ]
     },
     "execution_count": 40,
     "metadata": {},
     "output_type": "execute_result"
    }
   ],
   "source": [
    "\"Life is too short You need python\""
   ]
  },
  {
   "cell_type": "code",
   "execution_count": 41,
   "id": "f81c9ad6-b2ee-4b13-8e3c-0287d029fe44",
   "metadata": {},
   "outputs": [
    {
     "data": {
      "text/plain": [
       "'Life is too short \\n You need python'"
      ]
     },
     "execution_count": 41,
     "metadata": {},
     "output_type": "execute_result"
    }
   ],
   "source": [
    "\"Life is too short \\n You need python\""
   ]
  },
  {
   "cell_type": "code",
   "execution_count": 46,
   "id": "b4a6f7b7-e9cf-4773-9ef8-901ca6e84a9e",
   "metadata": {},
   "outputs": [
    {
     "data": {
      "text/plain": [
       "'Life is too short \\n You need python'"
      ]
     },
     "execution_count": 46,
     "metadata": {},
     "output_type": "execute_result"
    }
   ],
   "source": [
    "multiline = \"Life is too short \\n You need python\"\n",
    "multiline"
   ]
  },
  {
   "cell_type": "code",
   "execution_count": 47,
   "id": "da72a347-fe7f-4cb7-869e-acf8f875058e",
   "metadata": {},
   "outputs": [
    {
     "name": "stdout",
     "output_type": "stream",
     "text": [
      "Life is too short \n",
      " You need python\n"
     ]
    }
   ],
   "source": [
    "print(multiline)"
   ]
  },
  {
   "cell_type": "code",
   "execution_count": 49,
   "id": "af3dfe42-7480-4ce6-851c-6878a99c4536",
   "metadata": {},
   "outputs": [
    {
     "data": {
      "text/plain": [
       "'\\nLife is too short\\nYou need python\\n'"
      ]
     },
     "execution_count": 49,
     "metadata": {},
     "output_type": "execute_result"
    }
   ],
   "source": [
    "multiline = '''\n",
    "Life is too short\n",
    "You need python\n",
    "'''"
   ]
  },
  {
   "cell_type": "code",
   "execution_count": 4,
   "id": "5492c4b5-ad0c-49e0-80f8-cbcae09f3dbf",
   "metadata": {},
   "outputs": [
    {
     "name": "stdout",
     "output_type": "stream",
     "text": [
      "첫문장을 쓰고\n",
      "다음문장을 쓰면\n"
     ]
    }
   ],
   "source": [
    "multiline='첫문장을 쓰고\\n다음문장을 쓰면'\n",
    "print(multiline)"
   ]
  },
  {
   "cell_type": "code",
   "execution_count": 6,
   "id": "e4cda39f-b9ed-4d68-ac73-abc55c8580c1",
   "metadata": {},
   "outputs": [
    {
     "name": "stdout",
     "output_type": "stream",
     "text": [
      "\n",
      "어쩌고\n",
      "저쩌고\n",
      "블라블라\n",
      "\n"
     ]
    }
   ],
   "source": [
    "multiline=\"\"\"\n",
    "어쩌고\n",
    "저쩌고\n",
    "블라블라\n",
    "\"\"\"\n",
    "print(multiline)"
   ]
  },
  {
   "cell_type": "code",
   "execution_count": 11,
   "id": "a3ef48ff-f6f0-4c4b-b9cb-628757781ee8",
   "metadata": {},
   "outputs": [
    {
     "data": {
      "text/plain": [
       "'uscat ju'"
      ]
     },
     "execution_count": 11,
     "metadata": {},
     "output_type": "execute_result"
    }
   ],
   "source": [
    "a = \"shine muscat juice\"\n",
    "a[7:-3]"
   ]
  },
  {
   "cell_type": "code",
   "execution_count": 14,
   "id": "0b92e26c-9ac7-4b7b-a9ee-8ae84fa76aa0",
   "metadata": {},
   "outputs": [
    {
     "data": {
      "text/plain": [
       "('2024061', '0python')"
      ]
     },
     "execution_count": 14,
     "metadata": {},
     "output_type": "execute_result"
    }
   ],
   "source": [
    "b = '20240610python'\n",
    "date = b[:7]\n",
    "name = b[7:] \n",
    "date, name"
   ]
  },
  {
   "cell_type": "code",
   "execution_count": 15,
   "id": "51184aa4-26c4-4233-9233-760716af2933",
   "metadata": {},
   "outputs": [
    {
     "data": {
      "text/plain": [
       "'banana'"
      ]
     },
     "execution_count": 15,
     "metadata": {},
     "output_type": "execute_result"
    }
   ],
   "source": [
    "c = 'banaba'\n",
    "c[:4]+'n'+c[5:]"
   ]
  },
  {
   "cell_type": "code",
   "execution_count": 51,
   "id": "95eaa16e-f821-4768-b778-fda85ac09414",
   "metadata": {},
   "outputs": [
    {
     "data": {
      "text/plain": [
       "'\\nLife is too short\\nYou need python\\n'"
      ]
     },
     "execution_count": 51,
     "metadata": {},
     "output_type": "execute_result"
    }
   ],
   "source": [
    "multiline"
   ]
  },
  {
   "cell_type": "code",
   "execution_count": 50,
   "id": "4cbd9a57-d6fa-4ca7-ba37-6895b178ae48",
   "metadata": {},
   "outputs": [
    {
     "name": "stdout",
     "output_type": "stream",
     "text": [
      "\n",
      "Life is too short\n",
      "You need python\n",
      "\n"
     ]
    }
   ],
   "source": [
    "print (multiline)"
   ]
  },
  {
   "cell_type": "markdown",
   "id": "3079f560-d8aa-47ca-86ec-9fa7e63b2b7b",
   "metadata": {},
   "source": [
    "## 문자열 연산하기 "
   ]
  },
  {
   "cell_type": "code",
   "execution_count": 52,
   "id": "c6863425-82a0-4b5d-93f9-f5b17676970c",
   "metadata": {},
   "outputs": [
    {
     "data": {
      "text/plain": [
       "'Python is fun!'"
      ]
     },
     "execution_count": 52,
     "metadata": {},
     "output_type": "execute_result"
    }
   ],
   "source": [
    "head = \"Python\"\n",
    "tail = \" is fun!\"\n",
    "head + tail"
   ]
  },
  {
   "cell_type": "code",
   "execution_count": 53,
   "id": "6cf4b2bf-f1d1-45d7-8e80-46144291f677",
   "metadata": {},
   "outputs": [
    {
     "data": {
      "text/plain": [
       "'PythonPythonPythonPythonPython'"
      ]
     },
     "execution_count": 53,
     "metadata": {},
     "output_type": "execute_result"
    }
   ],
   "source": [
    "a = 'Python'\n",
    "a *5"
   ]
  },
  {
   "cell_type": "code",
   "execution_count": 54,
   "id": "25b7ef64-243c-400b-bac5-5472bd401797",
   "metadata": {},
   "outputs": [
    {
     "name": "stdout",
     "output_type": "stream",
     "text": [
      "==================================================\n"
     ]
    }
   ],
   "source": [
    "print('='*50)"
   ]
  },
  {
   "cell_type": "code",
   "execution_count": 55,
   "id": "5913d5c5-5421-4374-87c0-d36743c4698a",
   "metadata": {},
   "outputs": [
    {
     "data": {
      "text/plain": [
       "17"
      ]
     },
     "execution_count": 55,
     "metadata": {},
     "output_type": "execute_result"
    }
   ],
   "source": [
    "a = \"Life is too short\"\n",
    "len(a)"
   ]
  },
  {
   "cell_type": "markdown",
   "id": "5dc4233c-389e-4eb3-8f2e-2bf8fb0fcb46",
   "metadata": {},
   "source": [
    "## 문자열 인덱싱"
   ]
  },
  {
   "cell_type": "code",
   "execution_count": 56,
   "id": "c73d9c6b-6d30-4644-91d4-ff4fd4c7ba60",
   "metadata": {},
   "outputs": [],
   "source": [
    "a = \"Life is too short, You need Python\""
   ]
  },
  {
   "cell_type": "code",
   "execution_count": 57,
   "id": "c9141c8d-86cf-4b75-aced-d3a330412f2e",
   "metadata": {},
   "outputs": [
    {
     "data": {
      "text/plain": [
       "34"
      ]
     },
     "execution_count": 57,
     "metadata": {},
     "output_type": "execute_result"
    }
   ],
   "source": [
    "len (a) #문자의 갯수 "
   ]
  },
  {
   "cell_type": "code",
   "execution_count": 59,
   "id": "dc122d61-e523-4478-afde-e367747601f3",
   "metadata": {},
   "outputs": [
    {
     "data": {
      "text/plain": [
       "'e'"
      ]
     },
     "execution_count": 59,
     "metadata": {},
     "output_type": "execute_result"
    }
   ],
   "source": [
    "a[3]  #파이선은 0부터 시작! "
   ]
  },
  {
   "cell_type": "code",
   "execution_count": 61,
   "id": "b417455c-8d27-42bf-a70f-7dbcc0ccc5d3",
   "metadata": {},
   "outputs": [
    {
     "data": {
      "text/plain": [
       "'h'"
      ]
     },
     "execution_count": 61,
     "metadata": {},
     "output_type": "execute_result"
    }
   ],
   "source": [
    "a[13]"
   ]
  },
  {
   "cell_type": "code",
   "execution_count": 62,
   "id": "2ba29a5c-3eca-4c3c-82d5-1e4e686b2fc1",
   "metadata": {},
   "outputs": [
    {
     "data": {
      "text/plain": [
       "'n'"
      ]
     },
     "execution_count": 62,
     "metadata": {},
     "output_type": "execute_result"
    }
   ],
   "source": [
    "a[-1] #맨뒤에서 출발할때는 -1"
   ]
  },
  {
   "cell_type": "code",
   "execution_count": 63,
   "id": "54166d83-2df8-46f6-9841-aef7f5613984",
   "metadata": {},
   "outputs": [
    {
     "data": {
      "text/plain": [
       "' '"
      ]
     },
     "execution_count": 63,
     "metadata": {},
     "output_type": "execute_result"
    }
   ],
   "source": [
    "a[-7]"
   ]
  },
  {
   "cell_type": "markdown",
   "id": "50dd8ca3-ee1d-415d-a1a3-5be6711f03f0",
   "metadata": {},
   "source": [
    "## 문자열 슬라이싱"
   ]
  },
  {
   "cell_type": "code",
   "execution_count": 64,
   "id": "5bb49611-f04d-4ee9-8915-83473ad6188a",
   "metadata": {},
   "outputs": [
    {
     "data": {
      "text/plain": [
       "'Life is too short, You need Python'"
      ]
     },
     "execution_count": 64,
     "metadata": {},
     "output_type": "execute_result"
    }
   ],
   "source": [
    "a"
   ]
  },
  {
   "cell_type": "code",
   "execution_count": 65,
   "id": "14eb7b11-d282-4962-afb3-760637eeb6f4",
   "metadata": {},
   "outputs": [
    {
     "data": {
      "text/plain": [
       "'Life'"
      ]
     },
     "execution_count": 65,
     "metadata": {},
     "output_type": "execute_result"
    }
   ],
   "source": [
    "a[0]+a[1]+a[2]+a[3]"
   ]
  },
  {
   "cell_type": "code",
   "execution_count": 68,
   "id": "341529ec-854d-47d1-a701-3cd65d19eb8e",
   "metadata": {},
   "outputs": [
    {
     "data": {
      "text/plain": [
       "'Life'"
      ]
     },
     "execution_count": 68,
     "metadata": {},
     "output_type": "execute_result"
    }
   ],
   "source": [
    "a[0:4] #변수명[start#:end#] 범위지정 *end#은 -1 됨"
   ]
  },
  {
   "cell_type": "code",
   "execution_count": 73,
   "id": "1dc7b23f-f388-419e-b4db-9e0449f89768",
   "metadata": {},
   "outputs": [
    {
     "data": {
      "text/plain": [
       "'You need Python'"
      ]
     },
     "execution_count": 73,
     "metadata": {},
     "output_type": "execute_result"
    }
   ],
   "source": [
    "a[-15:]"
   ]
  },
  {
   "cell_type": "code",
   "execution_count": 75,
   "id": "a2abf1c5-dd09-4a08-9139-1d14044fc31a",
   "metadata": {},
   "outputs": [
    {
     "data": {
      "text/plain": [
       "'Life is too short, You need Python'"
      ]
     },
     "execution_count": 75,
     "metadata": {},
     "output_type": "execute_result"
    }
   ],
   "source": [
    "a[:] #전부다나옴"
   ]
  },
  {
   "cell_type": "code",
   "execution_count": 76,
   "id": "e9c692d3-764a-4dfa-90b2-4cc3073d3cdb",
   "metadata": {},
   "outputs": [
    {
     "data": {
      "text/plain": [
       "'You need'"
      ]
     },
     "execution_count": 76,
     "metadata": {},
     "output_type": "execute_result"
    }
   ],
   "source": [
    "a[19:-7]"
   ]
  },
  {
   "cell_type": "markdown",
   "id": "994182a1-7a5b-45df-a6c8-78cf5893af2a",
   "metadata": {},
   "source": [
    "## 슬라이싱으로 문자열 나누기"
   ]
  },
  {
   "cell_type": "code",
   "execution_count": 81,
   "id": "c0769dfa-999d-47cc-b42e-09aff173d2d8",
   "metadata": {},
   "outputs": [
    {
     "data": {
      "text/plain": [
       "('20240610', 'sunny')"
      ]
     },
     "execution_count": 81,
     "metadata": {},
     "output_type": "execute_result"
    }
   ],
   "source": [
    "a = \"20240610sunny\"\n",
    "date = a[:8]\n",
    "weather = a[8:]\n",
    "date, weather"
   ]
  },
  {
   "cell_type": "code",
   "execution_count": 82,
   "id": "961b6d30-c5fe-48c7-ad8a-9bc9016cf1c9",
   "metadata": {},
   "outputs": [
    {
     "data": {
      "text/plain": [
       "('2024', '06', '10', 'sunny')"
      ]
     },
     "execution_count": 82,
     "metadata": {},
     "output_type": "execute_result"
    }
   ],
   "source": [
    "year = a[:4]\n",
    "month = a[4:6]\n",
    "day = a[6:8]\n",
    "year, month, day, weather"
   ]
  },
  {
   "cell_type": "code",
   "execution_count": 83,
   "id": "ab80c773-15a5-4b32-8a00-d60e455c616d",
   "metadata": {},
   "outputs": [
    {
     "ename": "TypeError",
     "evalue": "'str' object does not support item assignment",
     "output_type": "error",
     "traceback": [
      "\u001b[1;31m---------------------------------------------------------------------------\u001b[0m",
      "\u001b[1;31mTypeError\u001b[0m                                 Traceback (most recent call last)",
      "Cell \u001b[1;32mIn[83], line 2\u001b[0m\n\u001b[0;32m      1\u001b[0m a \u001b[38;5;241m=\u001b[39m \u001b[38;5;124m\"\u001b[39m\u001b[38;5;124mpithon\u001b[39m\u001b[38;5;124m\"\u001b[39m\n\u001b[1;32m----> 2\u001b[0m a[\u001b[38;5;241m1\u001b[39m] \u001b[38;5;241m=\u001b[39m \u001b[38;5;124m'\u001b[39m\u001b[38;5;124my\u001b[39m\u001b[38;5;124m'\u001b[39m\n",
      "\u001b[1;31mTypeError\u001b[0m: 'str' object does not support item assignment"
     ]
    }
   ],
   "source": [
    "a = \"pithon\"\n",
    "a[1] = 'y'"
   ]
  },
  {
   "cell_type": "code",
   "execution_count": 86,
   "id": "7c41b585-4578-4123-9a7b-d4bf9fa2bfa9",
   "metadata": {},
   "outputs": [
    {
     "data": {
      "text/plain": [
       "'python'"
      ]
     },
     "execution_count": 86,
     "metadata": {},
     "output_type": "execute_result"
    }
   ],
   "source": [
    "b = a [0] + 'y' + a[2:]\n",
    "b"
   ]
  },
  {
   "cell_type": "markdown",
   "id": "5970f2d9-40c7-455c-8740-d303bb714990",
   "metadata": {},
   "source": [
    "## 문자열 포매팅"
   ]
  },
  {
   "cell_type": "code",
   "execution_count": 88,
   "id": "64cb3b9c-3bfa-499d-9125-7d7d73e0eb08",
   "metadata": {},
   "outputs": [
    {
     "data": {
      "text/plain": [
       "'I eat 3 apples'"
      ]
     },
     "execution_count": 88,
     "metadata": {},
     "output_type": "execute_result"
    }
   ],
   "source": [
    "# 숫자 바로 대입 방식\n",
    "\"I eat %d apples\"%3"
   ]
  },
  {
   "cell_type": "code",
   "execution_count": 89,
   "id": "9435e957-6f6b-4152-9a06-bf3e610d1335",
   "metadata": {},
   "outputs": [
    {
     "data": {
      "text/plain": [
       "'I eat five apples'"
      ]
     },
     "execution_count": 89,
     "metadata": {},
     "output_type": "execute_result"
    }
   ],
   "source": [
    "# 문자열 바로 대입 방식\n",
    "\"I eat %s apples\" %\"five\""
   ]
  },
  {
   "cell_type": "code",
   "execution_count": 90,
   "id": "9cce4b4c-0245-4a8f-8015-cd9ebf9d6afd",
   "metadata": {},
   "outputs": [
    {
     "data": {
      "text/plain": [
       "'I eat 5 apples'"
      ]
     },
     "execution_count": 90,
     "metadata": {},
     "output_type": "execute_result"
    }
   ],
   "source": [
    "\"I eat %s apples\" %5"
   ]
  },
  {
   "cell_type": "code",
   "execution_count": 91,
   "id": "a3ad7eaa-e6c7-424e-9757-4713fc6929a3",
   "metadata": {},
   "outputs": [
    {
     "ename": "TypeError",
     "evalue": "%d format: a real number is required, not str",
     "output_type": "error",
     "traceback": [
      "\u001b[1;31m---------------------------------------------------------------------------\u001b[0m",
      "\u001b[1;31mTypeError\u001b[0m                                 Traceback (most recent call last)",
      "Cell \u001b[1;32mIn[91], line 1\u001b[0m\n\u001b[1;32m----> 1\u001b[0m \u001b[38;5;124m\"\u001b[39m\u001b[38;5;124mI eat \u001b[39m\u001b[38;5;132;01m%d\u001b[39;00m\u001b[38;5;124m apples\u001b[39m\u001b[38;5;124m\"\u001b[39m \u001b[38;5;241m%\u001b[39m\u001b[38;5;124m\"\u001b[39m\u001b[38;5;124m삼\u001b[39m\u001b[38;5;124m\"\u001b[39m\n",
      "\u001b[1;31mTypeError\u001b[0m: %d format: a real number is required, not str"
     ]
    }
   ],
   "source": [
    "\"I eat %d apples\" %\"삼\""
   ]
  },
  {
   "cell_type": "code",
   "execution_count": 93,
   "id": "b5b8d262-93fe-4adb-b380-caff65314036",
   "metadata": {},
   "outputs": [
    {
     "data": {
      "text/plain": [
       "'I eat 3 apples'"
      ]
     },
     "execution_count": 93,
     "metadata": {},
     "output_type": "execute_result"
    }
   ],
   "source": [
    "# 숫자 값을 나타내는 변수로 대입\n",
    "num = 3\n",
    "\"I eat %d apples\" %num"
   ]
  },
  {
   "cell_type": "code",
   "execution_count": 16,
   "id": "8c35978a-3174-4796-8862-736d543bd23a",
   "metadata": {},
   "outputs": [
    {
     "data": {
      "text/plain": [
       "'I have 3 oranges'"
      ]
     },
     "execution_count": 16,
     "metadata": {},
     "output_type": "execute_result"
    }
   ],
   "source": [
    "num = 3\n",
    "'I have %d oranges'%num"
   ]
  },
  {
   "cell_type": "code",
   "execution_count": 96,
   "id": "fe5ead34-9aac-4324-bcf3-9f5e5e971c6e",
   "metadata": {},
   "outputs": [
    {
     "data": {
      "text/plain": [
       "'I eat 10 apples. so I was sick for three days.'"
      ]
     },
     "execution_count": 96,
     "metadata": {},
     "output_type": "execute_result"
    }
   ],
   "source": [
    "# 2개 이상 값 넣기\n",
    "num = 10 \n",
    "day = \"three\"\n",
    "\"I eat %d apples. so I was sick for %s days.\"%(num, day)"
   ]
  },
  {
   "cell_type": "code",
   "execution_count": 17,
   "id": "7d71b717-8d42-4b5a-9e28-bdd6d6492590",
   "metadata": {},
   "outputs": [
    {
     "data": {
      "text/plain": [
       "'I have 3 oranges for ten days'"
      ]
     },
     "execution_count": 17,
     "metadata": {},
     "output_type": "execute_result"
    }
   ],
   "source": [
    "num = 3\n",
    "day = 'ten'\n",
    "'I have %d oranges for %s days' %(num, day)"
   ]
  },
  {
   "cell_type": "code",
   "execution_count": 97,
   "id": "5b134c45-ac11-4954-9dfa-062e028429ea",
   "metadata": {},
   "outputs": [
    {
     "ename": "TypeError",
     "evalue": "%d format: a real number is required, not str",
     "output_type": "error",
     "traceback": [
      "\u001b[1;31m---------------------------------------------------------------------------\u001b[0m",
      "\u001b[1;31mTypeError\u001b[0m                                 Traceback (most recent call last)",
      "Cell \u001b[1;32mIn[97], line 1\u001b[0m\n\u001b[1;32m----> 1\u001b[0m \u001b[38;5;124m\"\u001b[39m\u001b[38;5;124mI eat \u001b[39m\u001b[38;5;132;01m%d\u001b[39;00m\u001b[38;5;124m apples. so I was sick for \u001b[39m\u001b[38;5;132;01m%s\u001b[39;00m\u001b[38;5;124m days.\u001b[39m\u001b[38;5;124m\"\u001b[39m\u001b[38;5;241m%\u001b[39m(day, num)\n",
      "\u001b[1;31mTypeError\u001b[0m: %d format: a real number is required, not str"
     ]
    }
   ],
   "source": [
    "\"I eat %d apples. so I was sick for %s days.\"%(day, num)  #자료형 달라서 안돼"
   ]
  },
  {
   "cell_type": "code",
   "execution_count": 99,
   "id": "3a5cbdf6-5854-470d-a219-1fb729e6ec1e",
   "metadata": {},
   "outputs": [
    {
     "data": {
      "text/plain": [
       "'I have 3 apples'"
      ]
     },
     "execution_count": 99,
     "metadata": {},
     "output_type": "execute_result"
    }
   ],
   "source": [
    "\"I have %s apples\"%3"
   ]
  },
  {
   "cell_type": "code",
   "execution_count": 100,
   "id": "d7c68f17-cf81-4905-8c40-41a544298860",
   "metadata": {},
   "outputs": [
    {
     "data": {
      "text/plain": [
       "'rate is 4.326'"
      ]
     },
     "execution_count": 100,
     "metadata": {},
     "output_type": "execute_result"
    }
   ],
   "source": [
    "\"rate is %s\" %4.326"
   ]
  },
  {
   "cell_type": "code",
   "execution_count": 102,
   "id": "efebdc48-8f25-4e42-8c0d-55555db4dfd0",
   "metadata": {},
   "outputs": [
    {
     "data": {
      "text/plain": [
       "'오늘의 습도는 70%입니다'"
      ]
     },
     "execution_count": 102,
     "metadata": {},
     "output_type": "execute_result"
    }
   ],
   "source": [
    "\"오늘의 습도는 %d%%입니다\"%70 #%두개 넣어서 문자열임을 알려주기"
   ]
  },
  {
   "cell_type": "markdown",
   "id": "92cf1817-cf2f-4056-96b2-ee77621bc710",
   "metadata": {},
   "source": [
    "## 소수점 표현하기"
   ]
  },
  {
   "cell_type": "code",
   "execution_count": 105,
   "id": "d162ba06-c7be-48a0-9c01-fd74d7ecf118",
   "metadata": {},
   "outputs": [
    {
     "data": {
      "text/plain": [
       "'3.14'"
      ]
     },
     "execution_count": 105,
     "metadata": {},
     "output_type": "execute_result"
    }
   ],
   "source": [
    "\"%0.2f\"%3.14159268"
   ]
  },
  {
   "cell_type": "code",
   "execution_count": 106,
   "id": "51603cc1-546f-4052-85b0-d0047c00aed8",
   "metadata": {},
   "outputs": [
    {
     "data": {
      "text/plain": [
       "'3.1416'"
      ]
     },
     "execution_count": 106,
     "metadata": {},
     "output_type": "execute_result"
    }
   ],
   "source": [
    "\"%0.4f\"%3.14159268"
   ]
  },
  {
   "cell_type": "markdown",
   "id": "bf5b68bf-6376-4f3a-9b4a-ee0fc69e1147",
   "metadata": {},
   "source": [
    "## format 함수를 사용한 포매팅"
   ]
  },
  {
   "cell_type": "code",
   "execution_count": 107,
   "id": "cb98d360-c35e-4594-80f0-5306868338f4",
   "metadata": {},
   "outputs": [
    {
     "data": {
      "text/plain": [
       "'I eat 3 apples'"
      ]
     },
     "execution_count": 107,
     "metadata": {},
     "output_type": "execute_result"
    }
   ],
   "source": [
    "\"I eat {} apples\". format(3)"
   ]
  },
  {
   "cell_type": "code",
   "execution_count": 112,
   "id": "0e9e2817-56d5-47ba-bb98-225a994101bd",
   "metadata": {},
   "outputs": [
    {
     "data": {
      "text/plain": [
       "'I eat five apples'"
      ]
     },
     "execution_count": 112,
     "metadata": {},
     "output_type": "execute_result"
    }
   ],
   "source": [
    "\"I eat {} apples\". format('five')"
   ]
  },
  {
   "cell_type": "code",
   "execution_count": 114,
   "id": "98ba46d6-7924-4719-8f72-6ebb240e8f52",
   "metadata": {},
   "outputs": [
    {
     "data": {
      "text/plain": [
       "'I eat 10 apples'"
      ]
     },
     "execution_count": 114,
     "metadata": {},
     "output_type": "execute_result"
    }
   ],
   "source": [
    "num=10\n",
    "\"I eat {} apples\". format(num)"
   ]
  },
  {
   "cell_type": "code",
   "execution_count": 118,
   "id": "bbcadc9c-b567-4f4a-90ec-32b4c37af586",
   "metadata": {},
   "outputs": [
    {
     "data": {
      "text/plain": [
       "'I eat 10 apples. so I was sick for three days.'"
      ]
     },
     "execution_count": 118,
     "metadata": {},
     "output_type": "execute_result"
    }
   ],
   "source": [
    "# 2개 이상 값 넣기\n",
    "num = 10 \n",
    "day = \"three\"\n",
    "\"I eat {} apples. so I was sick for {} days.\". format(num, day)"
   ]
  },
  {
   "cell_type": "code",
   "execution_count": 119,
   "id": "22649dfb-ee22-4d08-b28b-d8ced6beb643",
   "metadata": {},
   "outputs": [
    {
     "data": {
      "text/plain": [
       "'I eat 10 apples. so I was sick for three days.'"
      ]
     },
     "execution_count": 119,
     "metadata": {},
     "output_type": "execute_result"
    }
   ],
   "source": [
    "\"I eat {0} apples. so I was sick for {1} days.\". format(num, day)"
   ]
  },
  {
   "cell_type": "code",
   "execution_count": 124,
   "id": "0e326e11-d790-416d-99cb-e8fca66539ea",
   "metadata": {},
   "outputs": [
    {
     "data": {
      "text/plain": [
       "'I eat 10 apples. so I was sick for 3 days.'"
      ]
     },
     "execution_count": 124,
     "metadata": {},
     "output_type": "execute_result"
    }
   ],
   "source": [
    "\"I eat {num} apples. so I was sick for {day} days.\". format(num=10, day=3)"
   ]
  },
  {
   "cell_type": "code",
   "execution_count": 125,
   "id": "94ee2ced-e410-4e02-b06d-47d57d4279d5",
   "metadata": {},
   "outputs": [
    {
     "data": {
      "text/plain": [
       "'I eat 10 apples. so I was sick for 3 days.'"
      ]
     },
     "execution_count": 125,
     "metadata": {},
     "output_type": "execute_result"
    }
   ],
   "source": [
    "\"I eat {num} apples. so I was sick for {day} days.\". format(day=3, num=10) #순서를 바꿔도 라벨을 찾아감"
   ]
  },
  {
   "cell_type": "code",
   "execution_count": 128,
   "id": "fc186536-b7cc-413b-9e1b-2bfc8a879f83",
   "metadata": {},
   "outputs": [
    {
     "ename": "SyntaxError",
     "evalue": "positional argument follows keyword argument (134982171.py, line 1)",
     "output_type": "error",
     "traceback": [
      "\u001b[1;36m  Cell \u001b[1;32mIn[128], line 1\u001b[1;36m\u001b[0m\n\u001b[1;33m    \"I eat {} apples. so I was sick for {day} days.\". format(day=3,10)\u001b[0m\n\u001b[1;37m                                                                     ^\u001b[0m\n\u001b[1;31mSyntaxError\u001b[0m\u001b[1;31m:\u001b[0m positional argument follows keyword argument\n"
     ]
    }
   ],
   "source": [
    "\"I eat {} apples. so I was sick for {day} days.\". format(day=3,10) #라벨이 없으면 순서대로 들어가는데, 두번째는 이미 라벨이 있어서 오류남"
   ]
  },
  {
   "cell_type": "markdown",
   "id": "afc46b4a-6ac9-4bd4-a2a2-93e18c4efb1a",
   "metadata": {},
   "source": [
    "## 소수점 표현하기"
   ]
  },
  {
   "cell_type": "code",
   "execution_count": 19,
   "id": "07f9bf18-8174-45a1-90f7-0b274e6f8ae4",
   "metadata": {},
   "outputs": [
    {
     "data": {
      "text/plain": [
       "'3.1294'"
      ]
     },
     "execution_count": 19,
     "metadata": {},
     "output_type": "execute_result"
    }
   ],
   "source": [
    "y = 3.1293873762\n",
    "\"{0:0.4f}\". format(y)"
   ]
  },
  {
   "cell_type": "markdown",
   "id": "c3f63974-3114-445f-a543-705c6323e8a0",
   "metadata": {},
   "source": [
    "## f문자열 포매팅 (활용도 높아!!)"
   ]
  },
  {
   "cell_type": "code",
   "execution_count": 131,
   "id": "de2ffd09-10e7-4a0b-9800-8de68dcc5b1b",
   "metadata": {},
   "outputs": [
    {
     "data": {
      "text/plain": [
       "'나의 이름은 홍길동입니다. 나이는 30입니다.'"
      ]
     },
     "execution_count": 131,
     "metadata": {},
     "output_type": "execute_result"
    }
   ],
   "source": [
    "name = '홍길동'\n",
    "age = 30\n",
    "f'나의 이름은 {name}입니다. 나이는 {age}입니다.'"
   ]
  },
  {
   "cell_type": "code",
   "execution_count": 132,
   "id": "83fed4ce-423a-4df8-b8db-b2b27b618934",
   "metadata": {},
   "outputs": [
    {
     "data": {
      "text/plain": [
       "'나는 내년이면 31살이 됩니다.'"
      ]
     },
     "execution_count": 132,
     "metadata": {},
     "output_type": "execute_result"
    }
   ],
   "source": [
    "f'나는 내년이면 {age+1}살이 됩니다.'"
   ]
  },
  {
   "cell_type": "code",
   "execution_count": 133,
   "id": "781d6405-0c9b-4f85-869c-df2c9b79d3ae",
   "metadata": {},
   "outputs": [
    {
     "data": {
      "text/plain": [
       "'나의 이름은 홍길동입니다. 나이는 30입니다.'"
      ]
     },
     "execution_count": 133,
     "metadata": {},
     "output_type": "execute_result"
    }
   ],
   "source": [
    "d = {'name' : '홍길동', 'age':30}\n",
    "f'나의 이름은 {d[\"name\"]}입니다. 나이는 {d[\"age\"]}입니다.' #' 와 \" 구분해주기 다른 계층 ! "
   ]
  },
  {
   "cell_type": "code",
   "execution_count": null,
   "id": "1d15444c-4bf2-4980-8c21-751d13db7d6a",
   "metadata": {},
   "outputs": [],
   "source": []
  },
  {
   "cell_type": "code",
   "execution_count": null,
   "id": "414f6656-0c10-4f4f-9ceb-4d8b5af35257",
   "metadata": {},
   "outputs": [],
   "source": []
  },
  {
   "cell_type": "code",
   "execution_count": null,
   "id": "bd17bb28-9e86-45ce-8a31-83bf0e703c48",
   "metadata": {},
   "outputs": [],
   "source": []
  },
  {
   "cell_type": "code",
   "execution_count": null,
   "id": "31dd6282-5532-42d2-842d-e6f9115dac4d",
   "metadata": {},
   "outputs": [],
   "source": []
  },
  {
   "cell_type": "code",
   "execution_count": null,
   "id": "e4f94b82-3b97-436f-944e-1ed7df58ebdf",
   "metadata": {},
   "outputs": [],
   "source": []
  },
  {
   "cell_type": "code",
   "execution_count": null,
   "id": "24dd431a-8d67-4478-97ff-e3c88a60ef59",
   "metadata": {},
   "outputs": [],
   "source": []
  },
  {
   "cell_type": "code",
   "execution_count": null,
   "id": "10ac607b-7e10-4707-94a0-6269468e282e",
   "metadata": {},
   "outputs": [],
   "source": []
  },
  {
   "cell_type": "code",
   "execution_count": null,
   "id": "543e383f-12bb-40cb-abfb-4ed36fd010f1",
   "metadata": {},
   "outputs": [],
   "source": []
  },
  {
   "cell_type": "code",
   "execution_count": null,
   "id": "e6b70a30-b1f9-4d53-9d0f-1883b32845b8",
   "metadata": {},
   "outputs": [],
   "source": []
  }
 ],
 "metadata": {
  "kernelspec": {
   "display_name": "Python 3 (ipykernel)",
   "language": "python",
   "name": "python3"
  },
  "language_info": {
   "codemirror_mode": {
    "name": "ipython",
    "version": 3
   },
   "file_extension": ".py",
   "mimetype": "text/x-python",
   "name": "python",
   "nbconvert_exporter": "python",
   "pygments_lexer": "ipython3",
   "version": "3.11.7"
  }
 },
 "nbformat": 4,
 "nbformat_minor": 5
}
