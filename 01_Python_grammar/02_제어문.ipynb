{
 "cells": [
  {
   "cell_type": "markdown",
   "id": "2555d335-3b53-43c5-bfcb-1d6964ea9d3c",
   "metadata": {
    "jp-MarkdownHeadingCollapsed": true
   },
   "source": [
    "# if 분기문"
   ]
  },
  {
   "cell_type": "code",
   "execution_count": null,
   "id": "8d411510-1397-4817-aac7-a9c0e00170b2",
   "metadata": {},
   "outputs": [],
   "source": [
    "#‘돈이 있으면 택시를 타고 가고, 돈이 없으면 걸어간다.’"
   ]
  },
  {
   "cell_type": "code",
   "execution_count": 2,
   "id": "b2959e9a-56b7-4208-8649-2d9a2c1ddba7",
   "metadata": {},
   "outputs": [
    {
     "name": "stdout",
     "output_type": "stream",
     "text": [
      "택시를 타고 가라\n"
     ]
    }
   ],
   "source": [
    " money = True         #계층 주의! ':'주의! \n",
    "if money:\n",
    "     print(\"택시를 타고 가라\")\n",
    "else:\n",
    "     print(\"걸어 가라\")"
   ]
  },
  {
   "cell_type": "markdown",
   "id": "94aa2cfe-d51f-42bf-b0a7-92d29c011593",
   "metadata": {},
   "source": [
    "## 조건문\n",
    "참과 거짓을 판단하는 문장"
   ]
  },
  {
   "cell_type": "code",
   "execution_count": 8,
   "id": "4252323a-acbb-4dd7-8fd1-08d445b4434a",
   "metadata": {},
   "outputs": [
    {
     "data": {
      "text/plain": [
       "True"
      ]
     },
     "execution_count": 8,
     "metadata": {},
     "output_type": "execute_result"
    }
   ],
   "source": [
    "# 비교연산자\n",
    "x = 3\n",
    "y = 2\n",
    "x>y"
   ]
  },
  {
   "cell_type": "code",
   "execution_count": 9,
   "id": "ad9b0bbd-361c-429a-83b8-cfe53ffe05e9",
   "metadata": {},
   "outputs": [
    {
     "data": {
      "text/plain": [
       "False"
      ]
     },
     "execution_count": 9,
     "metadata": {},
     "output_type": "execute_result"
    }
   ],
   "source": [
    "x<y"
   ]
  },
  {
   "cell_type": "code",
   "execution_count": 10,
   "id": "70fcc281-a1de-4bd9-ba8b-d5942618167a",
   "metadata": {},
   "outputs": [
    {
     "data": {
      "text/plain": [
       "True"
      ]
     },
     "execution_count": 10,
     "metadata": {},
     "output_type": "execute_result"
    }
   ],
   "source": [
    "x != y"
   ]
  },
  {
   "cell_type": "code",
   "execution_count": 11,
   "id": "7b550a62-24d7-4239-8a89-1263f55e591a",
   "metadata": {},
   "outputs": [
    {
     "data": {
      "text/plain": [
       "False"
      ]
     },
     "execution_count": 11,
     "metadata": {},
     "output_type": "execute_result"
    }
   ],
   "source": [
    "x == y"
   ]
  },
  {
   "cell_type": "code",
   "execution_count": 14,
   "id": "a0bee008-401a-4b46-bda5-17aed7254b95",
   "metadata": {},
   "outputs": [
    {
     "name": "stdout",
     "output_type": "stream",
     "text": [
      "걸어가라\n"
     ]
    }
   ],
   "source": [
    "#‘3000원 이상 돈이 있으면 택시를 타고 가고, 돈이 없으면 걸어간다.’\n",
    "\n",
    "money = 2500\n",
    "if money >= 3000 :\n",
    "    print ('택시를 타고 가라')\n",
    "else:\n",
    "    print ('걸어가라')"
   ]
  },
  {
   "cell_type": "code",
   "execution_count": 16,
   "id": "cb2cd75a-697a-4d68-944e-9050c2bfed21",
   "metadata": {},
   "outputs": [
    {
     "name": "stdout",
     "output_type": "stream",
     "text": [
      "택시를 타고 가라\n"
     ]
    }
   ],
   "source": [
    "# and, or, not\n",
    "#‘3000원 이상 돈이 있거나 카드가 있다면 택시를 타고 가고, 아니면 걸어가라.’\n",
    "\n",
    "money = 2500\n",
    "card = True\n",
    "if money >= 3000 or card :\n",
    "    print ('택시를 타고 가라')\n",
    "else:\n",
    "    print ('걸어가라')"
   ]
  },
  {
   "cell_type": "markdown",
   "id": "06d50e0d-4b01-4072-af34-9b1552870634",
   "metadata": {},
   "source": [
    "## in, not in"
   ]
  },
  {
   "cell_type": "code",
   "execution_count": 17,
   "id": "b6be451a-fca7-442c-927e-a1fbec4ce3be",
   "metadata": {},
   "outputs": [
    {
     "data": {
      "text/plain": [
       "True"
      ]
     },
     "execution_count": 17,
     "metadata": {},
     "output_type": "execute_result"
    }
   ],
   "source": [
    "1 in [1,2,3]"
   ]
  },
  {
   "cell_type": "code",
   "execution_count": 18,
   "id": "0c4e4f28-fcb1-4256-8f75-c6a1dfbcdc31",
   "metadata": {},
   "outputs": [
    {
     "data": {
      "text/plain": [
       "False"
      ]
     },
     "execution_count": 18,
     "metadata": {},
     "output_type": "execute_result"
    }
   ],
   "source": [
    "1 not in [1,2,3]"
   ]
  },
  {
   "cell_type": "code",
   "execution_count": 19,
   "id": "b1161fce-429e-4831-931e-6b18a8813f9d",
   "metadata": {},
   "outputs": [
    {
     "data": {
      "text/plain": [
       "True"
      ]
     },
     "execution_count": 19,
     "metadata": {},
     "output_type": "execute_result"
    }
   ],
   "source": [
    "'a' in ('a','b','c')"
   ]
  },
  {
   "cell_type": "code",
   "execution_count": 20,
   "id": "9caf3cdb-5161-44d2-ae12-e810803e18d6",
   "metadata": {},
   "outputs": [
    {
     "data": {
      "text/plain": [
       "True"
      ]
     },
     "execution_count": 20,
     "metadata": {},
     "output_type": "execute_result"
    }
   ],
   "source": [
    "'j' not in 'python'"
   ]
  },
  {
   "cell_type": "code",
   "execution_count": 22,
   "id": "d61e6e81-9c94-416c-a852-4df0dbdb5964",
   "metadata": {},
   "outputs": [
    {
     "name": "stdout",
     "output_type": "stream",
     "text": [
      "택시타\n"
     ]
    }
   ],
   "source": [
    "#주머니에 돈이 있으면 택시를 타고 가고, 없으면 걸어가라\n",
    "\n",
    "pocket = ['money', 'cellphone', 'key']\n",
    "if 'money' in pocket:\n",
    "    print('택시타')\n",
    "else:\n",
    "    print('걸어가')"
   ]
  },
  {
   "cell_type": "code",
   "execution_count": 23,
   "id": "29029c78-8079-4535-83ed-580a775daafe",
   "metadata": {},
   "outputs": [],
   "source": [
    "#주머니에 돈이 있으면 가만히 있고, 없으면 걸어가라\n",
    "\n",
    "pocket = ['money', 'cellphone', 'key']\n",
    "if 'money' in pocket:\n",
    "    pass\n",
    "else:\n",
    "    print('걸어가')"
   ]
  },
  {
   "cell_type": "markdown",
   "id": "e630d152-2262-47ed-be5a-f28f094b89ce",
   "metadata": {},
   "source": [
    "## 다양한 조건을 판단하는 elif\n",
    "주머니에 돈이 있으면 택시를 타고 가고,   \n",
    "주머니에 돈은 없지만 카드가 있으면 택시를 타고 가고,   \n",
    "돈도 없고 카드도 없으면 걸어가라."
   ]
  },
  {
   "cell_type": "code",
   "execution_count": 44,
   "id": "50cb5a88-d86d-4831-a045-1da7f47019c5",
   "metadata": {},
   "outputs": [
    {
     "name": "stdout",
     "output_type": "stream",
     "text": [
      "택시\n"
     ]
    }
   ],
   "source": [
    "p = ['phone' , 'key', 'card']\n",
    "\n",
    "if 'money' in p:\n",
    "    print('택시')\n",
    "else:\n",
    "    if 'card' in p:\n",
    "        print ('택시')\n",
    "    else:\n",
    "        print('걸어가')"
   ]
  },
  {
   "cell_type": "code",
   "execution_count": 34,
   "id": "cb1d31d3-b4b6-4084-920e-4694d26625e8",
   "metadata": {},
   "outputs": [
    {
     "name": "stdout",
     "output_type": "stream",
     "text": [
      "걸어가\n"
     ]
    }
   ],
   "source": [
    "p = ['phone' , 'key']\n",
    "card = False\n",
    "if 'money' in p:\n",
    "    print('택시')\n",
    "elif card:      #elif 개수제약없어\n",
    "    print ('택시')\n",
    "else:\n",
    "    print('걸어가')"
   ]
  },
  {
   "cell_type": "markdown",
   "id": "8ccec809-de7a-44dc-a46e-a8c30090e67c",
   "metadata": {},
   "source": [
    "## 조건부 표현식 "
   ]
  },
  {
   "cell_type": "code",
   "execution_count": 38,
   "id": "12021386-5856-4cb0-a25a-dd51b3ad97c7",
   "metadata": {},
   "outputs": [
    {
     "name": "stdout",
     "output_type": "stream",
     "text": [
      "success\n"
     ]
    }
   ],
   "source": [
    "score = 88\n",
    "if score >= 60:\n",
    "    message = \"success\"\n",
    "    print(message)\n",
    "else:\n",
    "    message = \"failure\"\n",
    "    print(message)"
   ]
  },
  {
   "cell_type": "code",
   "execution_count": 39,
   "id": "7746eddd-6b0b-4534-8f9b-98b5cdf2dc5e",
   "metadata": {},
   "outputs": [
    {
     "name": "stdout",
     "output_type": "stream",
     "text": [
      "success\n"
     ]
    }
   ],
   "source": [
    "message = \"success\" if score >= 60 else \"failure\"\n",
    "print(message)"
   ]
  },
  {
   "cell_type": "markdown",
   "id": "cda078c4-2bab-4595-9e56-1e75d1ab8563",
   "metadata": {},
   "source": [
    "# While 조건 반복문"
   ]
  },
  {
   "cell_type": "code",
   "execution_count": 45,
   "id": "79208db7-319a-43b7-a64d-b7438a8917af",
   "metadata": {},
   "outputs": [
    {
     "name": "stdout",
     "output_type": "stream",
     "text": [
      "나무를 1번 찍었습니다.\n",
      "나무를 2번 찍었습니다.\n",
      "나무를 3번 찍었습니다.\n",
      "나무를 4번 찍었습니다.\n",
      "나무를 5번 찍었습니다.\n",
      "나무를 6번 찍었습니다.\n",
      "나무를 7번 찍었습니다.\n",
      "나무를 8번 찍었습니다.\n",
      "나무를 9번 찍었습니다.\n",
      "나무를 10번 찍었습니다.\n",
      "나무 넘어갑니다.\n"
     ]
    }
   ],
   "source": [
    "treeHit = 0\n",
    "while treeHit < 10:\n",
    "    treeHit = treeHit +1\n",
    "    print(\"나무를 %d번 찍었습니다.\" % treeHit)\n",
    "    if treeHit == 10:\n",
    "        print(\"나무 넘어갑니다.\")"
   ]
  },
  {
   "cell_type": "markdown",
   "id": "0c4a5f3f-190e-4ea2-8107-85825bdf4101",
   "metadata": {},
   "source": [
    "## while문 만들기"
   ]
  },
  {
   "cell_type": "code",
   "execution_count": 1,
   "id": "36651f1e-bac1-4efb-97e0-48687bee0229",
   "metadata": {},
   "outputs": [],
   "source": [
    "prompt = \"\"\"\n",
    "1. Add\n",
    "2. Del\n",
    "3. List\n",
    "4. Quit\n",
    "\n",
    "Enter number: \"\"\""
   ]
  },
  {
   "cell_type": "code",
   "execution_count": 2,
   "id": "6255caa3-b2bd-4033-a76e-c6292c7dc306",
   "metadata": {
    "scrolled": true
   },
   "outputs": [
    {
     "name": "stdout",
     "output_type": "stream",
     "text": [
      "\n",
      "1. Add\n",
      "2. Del\n",
      "3. List\n",
      "4. Quit\n",
      "\n",
      "Enter number: \n"
     ]
    }
   ],
   "source": [
    "print(prompt)"
   ]
  },
  {
   "cell_type": "code",
   "execution_count": 8,
   "id": "41f12ef4-62cd-4641-81bd-acd7319442cf",
   "metadata": {},
   "outputs": [
    {
     "name": "stdout",
     "output_type": "stream",
     "text": [
      "\n",
      "1. Add\n",
      "2. Del\n",
      "3. List\n",
      "4. Quit\n",
      "\n",
      "Enter number: \n"
     ]
    },
    {
     "name": "stdin",
     "output_type": "stream",
     "text": [
      " 2\n"
     ]
    },
    {
     "name": "stdout",
     "output_type": "stream",
     "text": [
      "\n",
      "1. Add\n",
      "2. Del\n",
      "3. List\n",
      "4. Quit\n",
      "\n",
      "Enter number: \n"
     ]
    },
    {
     "name": "stdin",
     "output_type": "stream",
     "text": [
      " 4\n"
     ]
    }
   ],
   "source": [
    "number = 0\n",
    "while number != 4:\n",
    "     print(prompt)\n",
    "     number = int(input())"
   ]
  },
  {
   "cell_type": "markdown",
   "id": "2db9183d-294d-4bf7-b366-ed41b01c1dd6",
   "metadata": {},
   "source": [
    "## while 문 강제로 빠져나가기"
   ]
  },
  {
   "cell_type": "code",
   "execution_count": 7,
   "id": "79858ca8-7616-4b1e-80a6-3e9d452cdf20",
   "metadata": {},
   "outputs": [
    {
     "name": "stdout",
     "output_type": "stream",
     "text": [
      "돈을 받았으니 커피를 줍니다.\n",
      "남은 커피의 양은 9개입니다.\n",
      "돈을 받았으니 커피를 줍니다.\n",
      "남은 커피의 양은 8개입니다.\n",
      "돈을 받았으니 커피를 줍니다.\n",
      "남은 커피의 양은 7개입니다.\n",
      "돈을 받았으니 커피를 줍니다.\n",
      "남은 커피의 양은 6개입니다.\n",
      "돈을 받았으니 커피를 줍니다.\n",
      "남은 커피의 양은 5개입니다.\n",
      "돈을 받았으니 커피를 줍니다.\n",
      "남은 커피의 양은 4개입니다.\n",
      "돈을 받았으니 커피를 줍니다.\n",
      "남은 커피의 양은 3개입니다.\n",
      "돈을 받았으니 커피를 줍니다.\n",
      "남은 커피의 양은 2개입니다.\n",
      "돈을 받았으니 커피를 줍니다.\n",
      "남은 커피의 양은 1개입니다.\n",
      "돈을 받았으니 커피를 줍니다.\n",
      "남은 커피의 양은 0개입니다.\n",
      "커피가 다 떨어졌습니다. 판매를 중지합니다.\n"
     ]
    }
   ],
   "source": [
    "coffee = 10\n",
    "money = 300\n",
    "while money:\n",
    "     print(\"돈을 받았으니 커피를 줍니다.\")\n",
    "     coffee = coffee -1\n",
    "     print(f'남은 커피의 양은 {coffee}개입니다.')\n",
    "     if coffee == 0:\n",
    "         print(\"커피가 다 떨어졌습니다. 판매를 중지합니다.\")\n",
    "         break"
   ]
  },
  {
   "cell_type": "code",
   "execution_count": 14,
   "id": "da8ba489-2ba6-44c5-80ad-e4d96cb3b2d8",
   "metadata": {},
   "outputs": [
    {
     "name": "stdin",
     "output_type": "stream",
     "text": [
      "돈을 주세요 200\n"
     ]
    },
    {
     "name": "stdout",
     "output_type": "stream",
     "text": [
      "돈을 더 주세요\n",
      "남은 커피의 양은 10입니다.\n"
     ]
    },
    {
     "name": "stdin",
     "output_type": "stream",
     "text": [
      "돈을 주세요 300\n"
     ]
    },
    {
     "name": "stdout",
     "output_type": "stream",
     "text": [
      "돈을 받았으니 커피를 줍니다.\n",
      "남은 커피의 양은 9입니다.\n"
     ]
    },
    {
     "name": "stdin",
     "output_type": "stream",
     "text": [
      "돈을 주세요 310\n"
     ]
    },
    {
     "name": "stdout",
     "output_type": "stream",
     "text": [
      "거스름돈 10를 주고 커피를 줍니다.\n",
      "남은 커피의 양은 8입니다.\n"
     ]
    },
    {
     "name": "stdin",
     "output_type": "stream",
     "text": [
      "돈을 주세요 30\n"
     ]
    },
    {
     "name": "stdout",
     "output_type": "stream",
     "text": [
      "돈을 더 주세요\n",
      "남은 커피의 양은 8입니다.\n"
     ]
    },
    {
     "name": "stdin",
     "output_type": "stream",
     "text": [
      "돈을 주세요 300\n"
     ]
    },
    {
     "name": "stdout",
     "output_type": "stream",
     "text": [
      "돈을 받았으니 커피를 줍니다.\n",
      "남은 커피의 양은 7입니다.\n"
     ]
    },
    {
     "name": "stdin",
     "output_type": "stream",
     "text": [
      "돈을 주세요 300\n"
     ]
    },
    {
     "name": "stdout",
     "output_type": "stream",
     "text": [
      "돈을 받았으니 커피를 줍니다.\n",
      "남은 커피의 양은 6입니다.\n"
     ]
    },
    {
     "name": "stdin",
     "output_type": "stream",
     "text": [
      "돈을 주세요 300\n"
     ]
    },
    {
     "name": "stdout",
     "output_type": "stream",
     "text": [
      "돈을 받았으니 커피를 줍니다.\n",
      "남은 커피의 양은 5입니다.\n"
     ]
    },
    {
     "name": "stdin",
     "output_type": "stream",
     "text": [
      "돈을 주세요 300\n"
     ]
    },
    {
     "name": "stdout",
     "output_type": "stream",
     "text": [
      "돈을 받았으니 커피를 줍니다.\n",
      "남은 커피의 양은 4입니다.\n"
     ]
    },
    {
     "name": "stdin",
     "output_type": "stream",
     "text": [
      "돈을 주세요 350\n"
     ]
    },
    {
     "name": "stdout",
     "output_type": "stream",
     "text": [
      "거스름돈 50를 주고 커피를 줍니다.\n",
      "남은 커피의 양은 3입니다.\n"
     ]
    },
    {
     "name": "stdin",
     "output_type": "stream",
     "text": [
      "돈을 주세요 310\n"
     ]
    },
    {
     "name": "stdout",
     "output_type": "stream",
     "text": [
      "거스름돈 10를 주고 커피를 줍니다.\n",
      "남은 커피의 양은 2입니다.\n"
     ]
    },
    {
     "name": "stdin",
     "output_type": "stream",
     "text": [
      "돈을 주세요 300\n"
     ]
    },
    {
     "name": "stdout",
     "output_type": "stream",
     "text": [
      "돈을 받았으니 커피를 줍니다.\n",
      "남은 커피의 양은 1입니다.\n"
     ]
    },
    {
     "name": "stdin",
     "output_type": "stream",
     "text": [
      "돈을 주세요 300\n"
     ]
    },
    {
     "name": "stdout",
     "output_type": "stream",
     "text": [
      "돈을 받았으니 커피를 줍니다.\n",
      "남은 커피의 양은 0입니다.\n",
      "커피가 다 떨어져서 판매를 중지합니다.\n"
     ]
    }
   ],
   "source": [
    "coffee = 10\n",
    "money = 300\n",
    "\n",
    "while True :\n",
    "    money = int(input(\"돈을 주세요\"))\n",
    "    if money == 300:\n",
    "        print('돈을 받았으니 커피를 줍니다.')\n",
    "        coffee = coffee -1\n",
    "    elif money > 300:\n",
    "        print(f\"거스름돈 {money -300}를 주고 커피를 줍니다.\")\n",
    "        coffee = coffee - 1\n",
    "    elif money < 300:\n",
    "        print('돈을 더 주세요')\n",
    "        coffee = coffee\n",
    "    print(f'남은 커피의 양은 {coffee}입니다.')\n",
    "    if coffee == 0:\n",
    "        print('커피가 다 떨어져서 판매를 중지합니다.')\n",
    "        break"
   ]
  },
  {
   "cell_type": "markdown",
   "id": "9cd2d3f9-1f95-4f33-ae2e-65d8190236ec",
   "metadata": {},
   "source": [
    "### input / output 정의\n",
    "데이터 : 커피가격 300원, 커피재고(상수), 사용자입력커피금액(input())\n",
    "조건\n",
    "1. 커피값 == 300\n",
    "   커피제공 (print())\n",
    "   커피재고 차감 (stock = coffee - userinput)\n",
    "   재고를 안내해주자 (print(stock))\n",
    "2. 커피값 > 300\n",
    "   커피제공\n",
    "   거스름돈 준다 change = userinput - 300\n",
    "   커피재고 차감\n",
    "   재고 안내\n",
    "3. 커피값 < 300\n",
    "   안준다 print\n",
    "   재고안내 print\n",
    "4. 커피재고 == 0\n",
    "   재고소진안내\n",
    "   마감안내\n",
    "\n",
    "   break"
   ]
  },
  {
   "cell_type": "code",
   "execution_count": 22,
   "id": "1873c0fc-99bb-4d31-bf97-41f0485f981c",
   "metadata": {},
   "outputs": [
    {
     "name": "stdin",
     "output_type": "stream",
     "text": [
      "돈을 넣어주세요 400\n"
     ]
    },
    {
     "name": "stdout",
     "output_type": "stream",
     "text": [
      "거스름돈 100원을 주고 커피를 줍니다.\n",
      "남은 커피수량은 4입니다\n"
     ]
    },
    {
     "name": "stdin",
     "output_type": "stream",
     "text": [
      "돈을 넣어주세요 500\n"
     ]
    },
    {
     "name": "stdout",
     "output_type": "stream",
     "text": [
      "거스름돈 200원을 주고 커피를 줍니다.\n",
      "남은 커피수량은 3입니다\n"
     ]
    },
    {
     "name": "stdin",
     "output_type": "stream",
     "text": [
      "돈을 넣어주세요 100\n"
     ]
    },
    {
     "name": "stdout",
     "output_type": "stream",
     "text": [
      "돈이 부족합니다.\n"
     ]
    },
    {
     "name": "stdin",
     "output_type": "stream",
     "text": [
      "돈을 넣어주세요 600\n"
     ]
    },
    {
     "name": "stdout",
     "output_type": "stream",
     "text": [
      "거스름돈 300원을 주고 커피를 줍니다.\n",
      "남은 커피수량은 2입니다\n"
     ]
    },
    {
     "name": "stdin",
     "output_type": "stream",
     "text": [
      "돈을 넣어주세요 300\n"
     ]
    },
    {
     "name": "stdout",
     "output_type": "stream",
     "text": [
      "300원을 받았습니다. 커피를 줍니다.\n",
      "남은 커피수량은 1입니다\n"
     ]
    },
    {
     "name": "stdin",
     "output_type": "stream",
     "text": [
      "돈을 넣어주세요 300\n"
     ]
    },
    {
     "name": "stdout",
     "output_type": "stream",
     "text": [
      "300원을 받았습니다. 커피를 줍니다.\n",
      "남은 커피수량은 0입니다\n",
      "커피가 다 떨어졌습니다\n"
     ]
    }
   ],
   "source": [
    "coffee = 5\n",
    "\n",
    "while True:\n",
    "    money = int(input('돈을 넣어주세요'))\n",
    "\n",
    "    if money == 300:\n",
    "        print('300원을 받았습니다. 커피를 줍니다.')\n",
    "        coffee = coffee -1\n",
    "        print(f'남은 커피수량은 {coffee}입니다')\n",
    "    elif money > 300:\n",
    "        print(f'거스름돈 {money-300}원을 주고 커피를 줍니다.')\n",
    "        coffee = coffee -1\n",
    "        print(f'남은 커피수량은 {coffee}입니다')\n",
    "    else: # money<300 \n",
    "        print('돈이 부족합니다.')\n",
    "\n",
    "    if coffee == 0:\n",
    "        print('커피가 다 떨어졌습니다')\n",
    "        break"
   ]
  },
  {
   "cell_type": "code",
   "execution_count": null,
   "id": "2556c090-3bcc-4c3a-9482-3ab6e1ac09a0",
   "metadata": {},
   "outputs": [],
   "source": []
  },
  {
   "cell_type": "markdown",
   "id": "38a241b8-e89f-43c3-a8bd-e0ef9866f4a3",
   "metadata": {},
   "source": [
    "# for loop반복문"
   ]
  },
  {
   "cell_type": "code",
   "execution_count": 1,
   "id": "8bacdc98-e271-47b7-a089-e3cd3eb920ad",
   "metadata": {},
   "outputs": [
    {
     "name": "stdout",
     "output_type": "stream",
     "text": [
      "one\n",
      "two\n",
      "three\n"
     ]
    }
   ],
   "source": [
    "#전형적인 for 문\n",
    "test_list = ['one', 'two', 'three'] \n",
    "for i in test_list: \n",
    "     print(i)"
   ]
  },
  {
   "cell_type": "code",
   "execution_count": 2,
   "id": "95a83d3c-8b31-4491-b2c7-5dd75db7109e",
   "metadata": {},
   "outputs": [
    {
     "name": "stdout",
     "output_type": "stream",
     "text": [
      "3\n",
      "7\n",
      "11\n"
     ]
    }
   ],
   "source": [
    "a = [(1,2),(3,4),(5,6)]\n",
    "for (first,last) in a:\n",
    "    print(first + last)"
   ]
  },
  {
   "cell_type": "markdown",
   "id": "34fa8e52-cf55-4d8d-8cb6-2d6e80903068",
   "metadata": {},
   "source": [
    "##  Quiz \n",
    "총 5명의 학생이 시험을 보았는데 시험 점수가 60점 이상이면 합격이고 그렇지 않으면 불합격이다. 합격인지, 불합격인지 결과를 보여 주시오."
   ]
  },
  {
   "cell_type": "code",
   "execution_count": 9,
   "id": "0890ad0d-f5fc-4667-914a-134ff876e351",
   "metadata": {},
   "outputs": [
    {
     "name": "stdout",
     "output_type": "stream",
     "text": [
      "1번 학생은 합격입니다.\n",
      "2번 학생은 불합격입니다.\n",
      "3번 학생은 합격입니다.\n",
      "4번 학생은 불합격입니다.\n",
      "5번 학생은 합격입니다.\n"
     ]
    }
   ],
   "source": [
    "marks = [90, 25, 67, 45, 80]   # 학생들의 시험 점수 리스트\n",
    "\n",
    "number = 0   # 학생에게 붙여 줄 번호\n",
    "for mark in marks:   # 90, 25, 67, 45, 80을 순서대로 mark에 대입\n",
    "    number = number +1 \n",
    "    if mark >= 60: \n",
    "        print(\"%d번 학생은 합격입니다.\" % number)\n",
    "    else: \n",
    "        print(\"%d번 학생은 불합격입니다.\" % number)"
   ]
  },
  {
   "cell_type": "markdown",
   "id": "a84c67c1-c316-4530-af1a-7cf59bb648dd",
   "metadata": {},
   "source": [
    "## for문과 continue문"
   ]
  },
  {
   "cell_type": "code",
   "execution_count": 22,
   "id": "3a4b5bed-7f0d-4313-a8bb-04d208253692",
   "metadata": {},
   "outputs": [
    {
     "name": "stdout",
     "output_type": "stream",
     "text": [
      "1번학생 축하합니다! 합격!\n",
      "3번학생 축하합니다! 합격!\n",
      "5번학생 축하합니다! 합격!\n"
     ]
    }
   ],
   "source": [
    "marks = [90, 25, 67, 45, 80]\n",
    "number = 0\n",
    "for mark in marks :\n",
    "    number = number +1\n",
    "    if mark < 60:\n",
    "        continue\n",
    "    print ('%d번학생 축하합니다! 합격!' %number)"
   ]
  },
  {
   "cell_type": "code",
   "execution_count": 47,
   "id": "431779a5-6750-4a6c-ae65-27887657b9d1",
   "metadata": {},
   "outputs": [],
   "source": [
    "#contine는 처음으로 다시 돌아온다. 하위코드 실행 안됨\n",
    "#pass 아무런 일도 하지 않게 설정 "
   ]
  },
  {
   "cell_type": "code",
   "execution_count": null,
   "id": "e2ab64ae-e252-44a2-bd50-dfc9b2316d02",
   "metadata": {},
   "outputs": [],
   "source": []
  },
  {
   "cell_type": "code",
   "execution_count": null,
   "id": "e9769e34-5340-4e86-9e8f-c2ab85c187ff",
   "metadata": {},
   "outputs": [],
   "source": []
  },
  {
   "cell_type": "code",
   "execution_count": null,
   "id": "016bc70c-7a7e-4bd3-bec1-594238c5f3ee",
   "metadata": {},
   "outputs": [],
   "source": []
  },
  {
   "cell_type": "markdown",
   "id": "a7bc5f03-e5d1-4f5a-a018-6631540b1867",
   "metadata": {},
   "source": [
    "## for문과 함께 자주 사용하는 range함수"
   ]
  },
  {
   "cell_type": "code",
   "execution_count": null,
   "id": "5e1a23a0-2e2e-406e-9964-75a845593e72",
   "metadata": {},
   "outputs": [],
   "source": []
  },
  {
   "cell_type": "code",
   "execution_count": 46,
   "id": "2775fd10-94df-4381-b56d-808d4847b1a4",
   "metadata": {},
   "outputs": [
    {
     "name": "stdout",
     "output_type": "stream",
     "text": [
      "0\n",
      "1\n",
      "2\n",
      "3\n",
      "4\n",
      "5\n",
      "6\n",
      "7\n",
      "8\n"
     ]
    }
   ],
   "source": [
    "range(10)\n",
    "for i in range(0,9):\n",
    "    print(i)"
   ]
  },
  {
   "cell_type": "code",
   "execution_count": 33,
   "id": "e3a132e5-f454-49e9-928c-592c6f42dd9c",
   "metadata": {},
   "outputs": [
    {
     "name": "stdout",
     "output_type": "stream",
     "text": [
      "1\n",
      "3\n",
      "6\n",
      "10\n",
      "15\n",
      "21\n",
      "28\n",
      "36\n",
      "45\n",
      "55\n"
     ]
    }
   ],
   "source": [
    "sum = 0 #별도 저장소 (temp변수)\n",
    "for i in range(1,11):\n",
    "    sum += i    # += 증감 연산자 a = a+1 \n",
    "    print(sum)"
   ]
  },
  {
   "cell_type": "code",
   "execution_count": null,
   "id": "e919d143-2169-4acf-88c9-a340606e0a14",
   "metadata": {},
   "outputs": [],
   "source": []
  },
  {
   "cell_type": "code",
   "execution_count": 35,
   "id": "dbf7c760-b64c-41bf-ac24-c4801163cea9",
   "metadata": {},
   "outputs": [
    {
     "name": "stdout",
     "output_type": "stream",
     "text": [
      "1번 학생 축하합니다. 합격입니다.\n",
      "3번 학생 축하합니다. 합격입니다.\n",
      "5번 학생 축하합니다. 합격입니다.\n"
     ]
    }
   ],
   "source": [
    "marks = [90, 25, 67, 45, 80]\n",
    "for number in range(len(marks)):  #= range(5) 0 1 2 3 4 \n",
    "    if marks[number] < 60:  #marks [인덱스번호] \n",
    "        continue\n",
    "    print(\"%d번 학생 축하합니다. 합격입니다.\" % (number+1))"
   ]
  },
  {
   "cell_type": "code",
   "execution_count": 37,
   "id": "fb571b56-7ceb-40e0-b0cc-6257fcefa6b8",
   "metadata": {},
   "outputs": [
    {
     "name": "stdout",
     "output_type": "stream",
     "text": [
      "1 번 학생 축합격\n",
      "3 번 학생 축합격\n",
      "5 번 학생 축합격\n"
     ]
    }
   ],
   "source": [
    "marks = [90, 30, 94, 40, 78]\n",
    "for i in range(len(marks)):\n",
    "    if marks[i] < 60:\n",
    "        continue\n",
    "    print ('%d 번 학생 축합격' % (i+1))"
   ]
  },
  {
   "cell_type": "markdown",
   "id": "59d7565f-43cc-4d3d-b3f2-bfc7b04d1c56",
   "metadata": {},
   "source": [
    "## quiz 구구단프로그램"
   ]
  },
  {
   "cell_type": "code",
   "execution_count": 59,
   "id": "00bc9912-fb81-49ae-ab92-4145152b9e72",
   "metadata": {},
   "outputs": [
    {
     "name": "stdout",
     "output_type": "stream",
     "text": [
      "====================\n",
      "x= 2\n",
      "====================\n",
      "2*1=2\n",
      "2*2=4\n",
      "2*3=6\n",
      "2*4=8\n",
      "2*5=10\n",
      "2*6=12\n",
      "2*7=14\n",
      "2*8=16\n",
      "2*9=18\n",
      "====================\n",
      "x= 3\n",
      "====================\n",
      "3*1=3\n",
      "3*2=6\n",
      "3*3=9\n",
      "3*4=12\n",
      "3*5=15\n",
      "3*6=18\n",
      "3*7=21\n",
      "3*8=24\n",
      "3*9=27\n",
      "====================\n",
      "x= 4\n",
      "====================\n",
      "4*1=4\n",
      "4*2=8\n",
      "4*3=12\n",
      "4*4=16\n",
      "4*5=20\n",
      "4*6=24\n",
      "4*7=28\n",
      "4*8=32\n",
      "4*9=36\n",
      "====================\n",
      "x= 5\n",
      "====================\n",
      "5*1=5\n",
      "5*2=10\n",
      "5*3=15\n",
      "5*4=20\n",
      "5*5=25\n",
      "5*6=30\n",
      "5*7=35\n",
      "5*8=40\n",
      "5*9=45\n",
      "====================\n",
      "x= 6\n",
      "====================\n",
      "6*1=6\n",
      "6*2=12\n",
      "6*3=18\n",
      "6*4=24\n",
      "6*5=30\n",
      "6*6=36\n",
      "6*7=42\n",
      "6*8=48\n",
      "6*9=54\n",
      "====================\n",
      "x= 7\n",
      "====================\n",
      "7*1=7\n",
      "7*2=14\n",
      "7*3=21\n",
      "7*4=28\n",
      "7*5=35\n",
      "7*6=42\n",
      "7*7=49\n",
      "7*8=56\n",
      "7*9=63\n",
      "====================\n",
      "x= 8\n",
      "====================\n",
      "8*1=8\n",
      "8*2=16\n",
      "8*3=24\n",
      "8*4=32\n",
      "8*5=40\n",
      "8*6=48\n",
      "8*7=56\n",
      "8*8=64\n",
      "8*9=72\n",
      "====================\n",
      "x= 9\n",
      "====================\n",
      "9*1=9\n",
      "9*2=18\n",
      "9*3=27\n",
      "9*4=36\n",
      "9*5=45\n",
      "9*6=54\n",
      "9*7=63\n",
      "9*8=72\n",
      "9*9=81\n"
     ]
    }
   ],
   "source": [
    "for i in range (2,10):\n",
    "    print('='*20)\n",
    "    print('x=',i)\n",
    "    print('='*20)\n",
    "    for j in range (1,10):\n",
    "        print(f'{i}*{j}={i*j}')"
   ]
  },
  {
   "cell_type": "markdown",
   "id": "d5742ad6-ec07-4daf-a52f-4701f862386c",
   "metadata": {},
   "source": [
    "## 리스트 컴프리헨션"
   ]
  },
  {
   "cell_type": "code",
   "execution_count": 60,
   "id": "07eebb38-69d7-4165-b012-479f339bf52d",
   "metadata": {},
   "outputs": [
    {
     "name": "stdout",
     "output_type": "stream",
     "text": [
      "[3, 6, 9, 12]\n"
     ]
    }
   ],
   "source": [
    "a = [1,2,3,4]\n",
    "result = []\n",
    "for num in a:\n",
    "    result.append(num*3)\n",
    "print(result)"
   ]
  },
  {
   "cell_type": "code",
   "execution_count": 61,
   "id": "f48b49aa-137c-4083-a5da-46decf915a95",
   "metadata": {},
   "outputs": [
    {
     "name": "stdout",
     "output_type": "stream",
     "text": [
      "[6, 12]\n"
     ]
    }
   ],
   "source": [
    "a = [1,2,3,4]\n",
    "result = [num * 3 for num in a if num % 2 == 0]\n",
    "print(result)"
   ]
  },
  {
   "cell_type": "code",
   "execution_count": 64,
   "id": "8d57eb8a-dfae-4e6d-ba89-1f3e4d732a95",
   "metadata": {},
   "outputs": [
    {
     "name": "stdout",
     "output_type": "stream",
     "text": [
      "[2, 4, 6, 8, 10, 12, 14, 16, 18, 3, 6, 9, 12, 15, 18, 21, 24, 27, 4, 8, 12, 16, 20, 24, 28, 32, 36, 5, 10, 15, 20, 25, 30, 35, 40, 45, 6, 12, 18, 24, 30, 36, 42, 48, 54, 7, 14, 21, 28, 35, 42, 49, 56, 63, 8, 16, 24, 32, 40, 48, 56, 64, 72, 9, 18, 27, 36, 45, 54, 63, 72, 81]\n"
     ]
    }
   ],
   "source": [
    "result = [x*y for x in range(2,10)\n",
    "              for y in range(1,10)]\n",
    "print(result)"
   ]
  },
  {
   "cell_type": "code",
   "execution_count": 63,
   "id": "0607ab6f-fa81-4a0e-a078-0ac2b8b2a85d",
   "metadata": {},
   "outputs": [
    {
     "name": "stdout",
     "output_type": "stream",
     "text": [
      "List Comprehension Time: 0.05598711967468262\n",
      "For loop Time: 0.10347652435302734\n"
     ]
    }
   ],
   "source": [
    "#시간 측정을 위한 코드, 2배넘게 차이남\n",
    "import time\n",
    "\n",
    "start = time.time() \n",
    "numbers = [i for i in range(1000000)] \n",
    "end = time.time() \n",
    "print('List Comprehension Time:', end-start)\n",
    "\n",
    "start = time.time() \n",
    "numbers = []\n",
    "for i in range(1000000):\n",
    "    numbers.append(i)\n",
    "end = time.time() \n",
    "print('For loop Time:', end-start)"
   ]
  },
  {
   "cell_type": "code",
   "execution_count": null,
   "id": "0321c009-b7fb-4fb8-a7d4-c824d5463a20",
   "metadata": {},
   "outputs": [],
   "source": []
  },
  {
   "cell_type": "code",
   "execution_count": null,
   "id": "92365195-0835-40f4-b641-9a3134ecf128",
   "metadata": {},
   "outputs": [],
   "source": []
  },
  {
   "cell_type": "code",
   "execution_count": null,
   "id": "3867a0ac-7936-4b5c-a345-ac329d0b9de4",
   "metadata": {},
   "outputs": [],
   "source": []
  },
  {
   "cell_type": "code",
   "execution_count": null,
   "id": "6bd65a7f-4e55-49cf-a3b7-201211a07ba8",
   "metadata": {},
   "outputs": [],
   "source": []
  },
  {
   "cell_type": "code",
   "execution_count": null,
   "id": "edbde5b8-03f9-47ce-baef-eb399d933191",
   "metadata": {},
   "outputs": [],
   "source": []
  },
  {
   "cell_type": "code",
   "execution_count": null,
   "id": "da3e9479-73f8-437d-90ad-e414a858a0a2",
   "metadata": {},
   "outputs": [],
   "source": []
  },
  {
   "cell_type": "code",
   "execution_count": null,
   "id": "bac223c1-a151-4e66-963c-a336269b4f56",
   "metadata": {},
   "outputs": [],
   "source": []
  },
  {
   "cell_type": "code",
   "execution_count": null,
   "id": "c30a9f8b-8097-4dc7-a35c-663fca8d6978",
   "metadata": {},
   "outputs": [],
   "source": []
  }
 ],
 "metadata": {
  "kernelspec": {
   "display_name": "Python 3 (ipykernel)",
   "language": "python",
   "name": "python3"
  },
  "language_info": {
   "codemirror_mode": {
    "name": "ipython",
    "version": 3
   },
   "file_extension": ".py",
   "mimetype": "text/x-python",
   "name": "python",
   "nbconvert_exporter": "python",
   "pygments_lexer": "ipython3",
   "version": "3.11.7"
  }
 },
 "nbformat": 4,
 "nbformat_minor": 5
}
