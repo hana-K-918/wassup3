{
 "cells": [
  {
   "cell_type": "markdown",
   "id": "2555d335-3b53-43c5-bfcb-1d6964ea9d3c",
   "metadata": {},
   "source": [
    "# if 분기문"
   ]
  },
  {
   "cell_type": "code",
   "execution_count": null,
   "id": "8d411510-1397-4817-aac7-a9c0e00170b2",
   "metadata": {},
   "outputs": [],
   "source": [
    "#‘돈이 있으면 택시를 타고 가고, 돈이 없으면 걸어간다.’"
   ]
  },
  {
   "cell_type": "code",
   "execution_count": 2,
   "id": "b2959e9a-56b7-4208-8649-2d9a2c1ddba7",
   "metadata": {},
   "outputs": [
    {
     "name": "stdout",
     "output_type": "stream",
     "text": [
      "택시를 타고 가라\n"
     ]
    }
   ],
   "source": [
    " money = True         #계층 주의! ':'주의! \n",
    "if money:\n",
    "     print(\"택시를 타고 가라\")\n",
    "else:\n",
    "     print(\"걸어 가라\")"
   ]
  },
  {
   "cell_type": "markdown",
   "id": "94aa2cfe-d51f-42bf-b0a7-92d29c011593",
   "metadata": {},
   "source": [
    "## 조건문\n",
    "참과 거짓을 판단하는 문장"
   ]
  },
  {
   "cell_type": "code",
   "execution_count": 8,
   "id": "4252323a-acbb-4dd7-8fd1-08d445b4434a",
   "metadata": {},
   "outputs": [
    {
     "data": {
      "text/plain": [
       "True"
      ]
     },
     "execution_count": 8,
     "metadata": {},
     "output_type": "execute_result"
    }
   ],
   "source": [
    "# 비교연산자\n",
    "x = 3\n",
    "y = 2\n",
    "x>y"
   ]
  },
  {
   "cell_type": "code",
   "execution_count": 9,
   "id": "ad9b0bbd-361c-429a-83b8-cfe53ffe05e9",
   "metadata": {},
   "outputs": [
    {
     "data": {
      "text/plain": [
       "False"
      ]
     },
     "execution_count": 9,
     "metadata": {},
     "output_type": "execute_result"
    }
   ],
   "source": [
    "x<y"
   ]
  },
  {
   "cell_type": "code",
   "execution_count": 10,
   "id": "70fcc281-a1de-4bd9-ba8b-d5942618167a",
   "metadata": {},
   "outputs": [
    {
     "data": {
      "text/plain": [
       "True"
      ]
     },
     "execution_count": 10,
     "metadata": {},
     "output_type": "execute_result"
    }
   ],
   "source": [
    "x != y"
   ]
  },
  {
   "cell_type": "code",
   "execution_count": 11,
   "id": "7b550a62-24d7-4239-8a89-1263f55e591a",
   "metadata": {},
   "outputs": [
    {
     "data": {
      "text/plain": [
       "False"
      ]
     },
     "execution_count": 11,
     "metadata": {},
     "output_type": "execute_result"
    }
   ],
   "source": [
    "x == y"
   ]
  },
  {
   "cell_type": "code",
   "execution_count": 14,
   "id": "a0bee008-401a-4b46-bda5-17aed7254b95",
   "metadata": {},
   "outputs": [
    {
     "name": "stdout",
     "output_type": "stream",
     "text": [
      "걸어가라\n"
     ]
    }
   ],
   "source": [
    "#‘3000원 이상 돈이 있으면 택시를 타고 가고, 돈이 없으면 걸어간다.’\n",
    "\n",
    "money = 2500\n",
    "if money >= 3000 :\n",
    "    print ('택시를 타고 가라')\n",
    "else:\n",
    "    print ('걸어가라')"
   ]
  },
  {
   "cell_type": "code",
   "execution_count": 16,
   "id": "cb2cd75a-697a-4d68-944e-9050c2bfed21",
   "metadata": {},
   "outputs": [
    {
     "name": "stdout",
     "output_type": "stream",
     "text": [
      "택시를 타고 가라\n"
     ]
    }
   ],
   "source": [
    "# and, or, not\n",
    "#‘3000원 이상 돈이 있거나 카드가 있다면 택시를 타고 가고, 아니면 걸어가라.’\n",
    "\n",
    "money = 2500\n",
    "card = True\n",
    "if money >= 3000 or card :\n",
    "    print ('택시를 타고 가라')\n",
    "else:\n",
    "    print ('걸어가라')"
   ]
  },
  {
   "cell_type": "markdown",
   "id": "06d50e0d-4b01-4072-af34-9b1552870634",
   "metadata": {},
   "source": [
    "## in, not in"
   ]
  },
  {
   "cell_type": "code",
   "execution_count": 17,
   "id": "b6be451a-fca7-442c-927e-a1fbec4ce3be",
   "metadata": {},
   "outputs": [
    {
     "data": {
      "text/plain": [
       "True"
      ]
     },
     "execution_count": 17,
     "metadata": {},
     "output_type": "execute_result"
    }
   ],
   "source": [
    "1 in [1,2,3]"
   ]
  },
  {
   "cell_type": "code",
   "execution_count": 18,
   "id": "0c4e4f28-fcb1-4256-8f75-c6a1dfbcdc31",
   "metadata": {},
   "outputs": [
    {
     "data": {
      "text/plain": [
       "False"
      ]
     },
     "execution_count": 18,
     "metadata": {},
     "output_type": "execute_result"
    }
   ],
   "source": [
    "1 not in [1,2,3]"
   ]
  },
  {
   "cell_type": "code",
   "execution_count": 19,
   "id": "b1161fce-429e-4831-931e-6b18a8813f9d",
   "metadata": {},
   "outputs": [
    {
     "data": {
      "text/plain": [
       "True"
      ]
     },
     "execution_count": 19,
     "metadata": {},
     "output_type": "execute_result"
    }
   ],
   "source": [
    "'a' in ('a','b','c')"
   ]
  },
  {
   "cell_type": "code",
   "execution_count": 20,
   "id": "9caf3cdb-5161-44d2-ae12-e810803e18d6",
   "metadata": {},
   "outputs": [
    {
     "data": {
      "text/plain": [
       "True"
      ]
     },
     "execution_count": 20,
     "metadata": {},
     "output_type": "execute_result"
    }
   ],
   "source": [
    "'j' not in 'python'"
   ]
  },
  {
   "cell_type": "code",
   "execution_count": 22,
   "id": "d61e6e81-9c94-416c-a852-4df0dbdb5964",
   "metadata": {},
   "outputs": [
    {
     "name": "stdout",
     "output_type": "stream",
     "text": [
      "택시타\n"
     ]
    }
   ],
   "source": [
    "#주머니에 돈이 있으면 택시를 타고 가고, 없으면 걸어가라\n",
    "\n",
    "pocket = ['money', 'cellphone', 'key']\n",
    "if 'money' in pocket:\n",
    "    print('택시타')\n",
    "else:\n",
    "    print('걸어가')"
   ]
  },
  {
   "cell_type": "code",
   "execution_count": 23,
   "id": "29029c78-8079-4535-83ed-580a775daafe",
   "metadata": {},
   "outputs": [],
   "source": [
    "#주머니에 돈이 있으면 가만히 있고, 없으면 걸어가라\n",
    "\n",
    "pocket = ['money', 'cellphone', 'key']\n",
    "if 'money' in pocket:\n",
    "    pass\n",
    "else:\n",
    "    print('걸어가')"
   ]
  },
  {
   "cell_type": "markdown",
   "id": "e630d152-2262-47ed-be5a-f28f094b89ce",
   "metadata": {},
   "source": [
    "## 다양한 조건을 판단하는 elif\n",
    "주머니에 돈이 있으면 택시를 타고 가고,   \n",
    "주머니에 돈은 없지만 카드가 있으면 택시를 타고 가고,   \n",
    "돈도 없고 카드도 없으면 걸어가라."
   ]
  },
  {
   "cell_type": "code",
   "execution_count": 44,
   "id": "50cb5a88-d86d-4831-a045-1da7f47019c5",
   "metadata": {},
   "outputs": [
    {
     "name": "stdout",
     "output_type": "stream",
     "text": [
      "택시\n"
     ]
    }
   ],
   "source": [
    "p = ['phone' , 'key', 'card']\n",
    "\n",
    "if 'money' in p:\n",
    "    print('택시')\n",
    "else:\n",
    "    if 'card' in p:\n",
    "        print ('택시')\n",
    "    else:\n",
    "        print('걸어가')"
   ]
  },
  {
   "cell_type": "code",
   "execution_count": 34,
   "id": "cb1d31d3-b4b6-4084-920e-4694d26625e8",
   "metadata": {},
   "outputs": [
    {
     "name": "stdout",
     "output_type": "stream",
     "text": [
      "걸어가\n"
     ]
    }
   ],
   "source": [
    "p = ['phone' , 'key']\n",
    "card = False\n",
    "if 'money' in p:\n",
    "    print('택시')\n",
    "elif card:      #elif 개수제약없어\n",
    "    print ('택시')\n",
    "else:\n",
    "    print('걸어가')"
   ]
  },
  {
   "cell_type": "markdown",
   "id": "8ccec809-de7a-44dc-a46e-a8c30090e67c",
   "metadata": {},
   "source": [
    "## 조건부 표현식 "
   ]
  },
  {
   "cell_type": "code",
   "execution_count": 38,
   "id": "12021386-5856-4cb0-a25a-dd51b3ad97c7",
   "metadata": {},
   "outputs": [
    {
     "name": "stdout",
     "output_type": "stream",
     "text": [
      "success\n"
     ]
    }
   ],
   "source": [
    "score = 88\n",
    "if score >= 60:\n",
    "    message = \"success\"\n",
    "    print(message)\n",
    "else:\n",
    "    message = \"failure\"\n",
    "    print(message)"
   ]
  },
  {
   "cell_type": "code",
   "execution_count": 39,
   "id": "7746eddd-6b0b-4534-8f9b-98b5cdf2dc5e",
   "metadata": {},
   "outputs": [
    {
     "name": "stdout",
     "output_type": "stream",
     "text": [
      "success\n"
     ]
    }
   ],
   "source": [
    "message = \"success\" if score >= 60 else \"failure\"\n",
    "print(message)"
   ]
  },
  {
   "cell_type": "markdown",
   "id": "cda078c4-2bab-4595-9e56-1e75d1ab8563",
   "metadata": {},
   "source": [
    "# While 조건 반복문"
   ]
  },
  {
   "cell_type": "code",
   "execution_count": 45,
   "id": "79208db7-319a-43b7-a64d-b7438a8917af",
   "metadata": {},
   "outputs": [
    {
     "name": "stdout",
     "output_type": "stream",
     "text": [
      "나무를 1번 찍었습니다.\n",
      "나무를 2번 찍었습니다.\n",
      "나무를 3번 찍었습니다.\n",
      "나무를 4번 찍었습니다.\n",
      "나무를 5번 찍었습니다.\n",
      "나무를 6번 찍었습니다.\n",
      "나무를 7번 찍었습니다.\n",
      "나무를 8번 찍었습니다.\n",
      "나무를 9번 찍었습니다.\n",
      "나무를 10번 찍었습니다.\n",
      "나무 넘어갑니다.\n"
     ]
    }
   ],
   "source": [
    "treeHit = 0\n",
    "while treeHit < 10:\n",
    "    treeHit = treeHit +1\n",
    "    print(\"나무를 %d번 찍었습니다.\" % treeHit)\n",
    "    if treeHit == 10:\n",
    "        print(\"나무 넘어갑니다.\")"
   ]
  },
  {
   "cell_type": "markdown",
   "id": "0c4a5f3f-190e-4ea2-8107-85825bdf4101",
   "metadata": {},
   "source": [
    "## while문 만들기"
   ]
  },
  {
   "cell_type": "code",
   "execution_count": 1,
   "id": "36651f1e-bac1-4efb-97e0-48687bee0229",
   "metadata": {},
   "outputs": [],
   "source": [
    "prompt = \"\"\"\n",
    "1. Add\n",
    "2. Del\n",
    "3. List\n",
    "4. Quit\n",
    "\n",
    "Enter number: \"\"\""
   ]
  },
  {
   "cell_type": "code",
   "execution_count": 2,
   "id": "6255caa3-b2bd-4033-a76e-c6292c7dc306",
   "metadata": {
    "scrolled": true
   },
   "outputs": [
    {
     "name": "stdout",
     "output_type": "stream",
     "text": [
      "\n",
      "1. Add\n",
      "2. Del\n",
      "3. List\n",
      "4. Quit\n",
      "\n",
      "Enter number: \n"
     ]
    }
   ],
   "source": [
    "print(prompt)"
   ]
  },
  {
   "cell_type": "code",
   "execution_count": 8,
   "id": "41f12ef4-62cd-4641-81bd-acd7319442cf",
   "metadata": {},
   "outputs": [
    {
     "name": "stdout",
     "output_type": "stream",
     "text": [
      "\n",
      "1. Add\n",
      "2. Del\n",
      "3. List\n",
      "4. Quit\n",
      "\n",
      "Enter number: \n"
     ]
    },
    {
     "name": "stdin",
     "output_type": "stream",
     "text": [
      " 2\n"
     ]
    },
    {
     "name": "stdout",
     "output_type": "stream",
     "text": [
      "\n",
      "1. Add\n",
      "2. Del\n",
      "3. List\n",
      "4. Quit\n",
      "\n",
      "Enter number: \n"
     ]
    },
    {
     "name": "stdin",
     "output_type": "stream",
     "text": [
      " 4\n"
     ]
    }
   ],
   "source": [
    "number = 0\n",
    "while number != 4:\n",
    "     print(prompt)\n",
    "     number = int(input())"
   ]
  },
  {
   "cell_type": "markdown",
   "id": "2db9183d-294d-4bf7-b366-ed41b01c1dd6",
   "metadata": {},
   "source": [
    "## while 문 강제로 빠져나가기"
   ]
  },
  {
   "cell_type": "code",
   "execution_count": 7,
   "id": "79858ca8-7616-4b1e-80a6-3e9d452cdf20",
   "metadata": {},
   "outputs": [
    {
     "name": "stdout",
     "output_type": "stream",
     "text": [
      "돈을 받았으니 커피를 줍니다.\n",
      "남은 커피의 양은 9개입니다.\n",
      "돈을 받았으니 커피를 줍니다.\n",
      "남은 커피의 양은 8개입니다.\n",
      "돈을 받았으니 커피를 줍니다.\n",
      "남은 커피의 양은 7개입니다.\n",
      "돈을 받았으니 커피를 줍니다.\n",
      "남은 커피의 양은 6개입니다.\n",
      "돈을 받았으니 커피를 줍니다.\n",
      "남은 커피의 양은 5개입니다.\n",
      "돈을 받았으니 커피를 줍니다.\n",
      "남은 커피의 양은 4개입니다.\n",
      "돈을 받았으니 커피를 줍니다.\n",
      "남은 커피의 양은 3개입니다.\n",
      "돈을 받았으니 커피를 줍니다.\n",
      "남은 커피의 양은 2개입니다.\n",
      "돈을 받았으니 커피를 줍니다.\n",
      "남은 커피의 양은 1개입니다.\n",
      "돈을 받았으니 커피를 줍니다.\n",
      "남은 커피의 양은 0개입니다.\n",
      "커피가 다 떨어졌습니다. 판매를 중지합니다.\n"
     ]
    }
   ],
   "source": [
    "coffee = 10\n",
    "money = 300\n",
    "while money:\n",
    "     print(\"돈을 받았으니 커피를 줍니다.\")\n",
    "     coffee = coffee -1\n",
    "     print(f'남은 커피의 양은 {coffee}개입니다.')\n",
    "     if coffee == 0:\n",
    "         print(\"커피가 다 떨어졌습니다. 판매를 중지합니다.\")\n",
    "         break"
   ]
  },
  {
   "cell_type": "code",
   "execution_count": 14,
   "id": "da8ba489-2ba6-44c5-80ad-e4d96cb3b2d8",
   "metadata": {},
   "outputs": [
    {
     "name": "stdin",
     "output_type": "stream",
     "text": [
      "돈을 주세요 200\n"
     ]
    },
    {
     "name": "stdout",
     "output_type": "stream",
     "text": [
      "돈을 더 주세요\n",
      "남은 커피의 양은 10입니다.\n"
     ]
    },
    {
     "name": "stdin",
     "output_type": "stream",
     "text": [
      "돈을 주세요 300\n"
     ]
    },
    {
     "name": "stdout",
     "output_type": "stream",
     "text": [
      "돈을 받았으니 커피를 줍니다.\n",
      "남은 커피의 양은 9입니다.\n"
     ]
    },
    {
     "name": "stdin",
     "output_type": "stream",
     "text": [
      "돈을 주세요 310\n"
     ]
    },
    {
     "name": "stdout",
     "output_type": "stream",
     "text": [
      "거스름돈 10를 주고 커피를 줍니다.\n",
      "남은 커피의 양은 8입니다.\n"
     ]
    },
    {
     "name": "stdin",
     "output_type": "stream",
     "text": [
      "돈을 주세요 30\n"
     ]
    },
    {
     "name": "stdout",
     "output_type": "stream",
     "text": [
      "돈을 더 주세요\n",
      "남은 커피의 양은 8입니다.\n"
     ]
    },
    {
     "name": "stdin",
     "output_type": "stream",
     "text": [
      "돈을 주세요 300\n"
     ]
    },
    {
     "name": "stdout",
     "output_type": "stream",
     "text": [
      "돈을 받았으니 커피를 줍니다.\n",
      "남은 커피의 양은 7입니다.\n"
     ]
    },
    {
     "name": "stdin",
     "output_type": "stream",
     "text": [
      "돈을 주세요 300\n"
     ]
    },
    {
     "name": "stdout",
     "output_type": "stream",
     "text": [
      "돈을 받았으니 커피를 줍니다.\n",
      "남은 커피의 양은 6입니다.\n"
     ]
    },
    {
     "name": "stdin",
     "output_type": "stream",
     "text": [
      "돈을 주세요 300\n"
     ]
    },
    {
     "name": "stdout",
     "output_type": "stream",
     "text": [
      "돈을 받았으니 커피를 줍니다.\n",
      "남은 커피의 양은 5입니다.\n"
     ]
    },
    {
     "name": "stdin",
     "output_type": "stream",
     "text": [
      "돈을 주세요 300\n"
     ]
    },
    {
     "name": "stdout",
     "output_type": "stream",
     "text": [
      "돈을 받았으니 커피를 줍니다.\n",
      "남은 커피의 양은 4입니다.\n"
     ]
    },
    {
     "name": "stdin",
     "output_type": "stream",
     "text": [
      "돈을 주세요 350\n"
     ]
    },
    {
     "name": "stdout",
     "output_type": "stream",
     "text": [
      "거스름돈 50를 주고 커피를 줍니다.\n",
      "남은 커피의 양은 3입니다.\n"
     ]
    },
    {
     "name": "stdin",
     "output_type": "stream",
     "text": [
      "돈을 주세요 310\n"
     ]
    },
    {
     "name": "stdout",
     "output_type": "stream",
     "text": [
      "거스름돈 10를 주고 커피를 줍니다.\n",
      "남은 커피의 양은 2입니다.\n"
     ]
    },
    {
     "name": "stdin",
     "output_type": "stream",
     "text": [
      "돈을 주세요 300\n"
     ]
    },
    {
     "name": "stdout",
     "output_type": "stream",
     "text": [
      "돈을 받았으니 커피를 줍니다.\n",
      "남은 커피의 양은 1입니다.\n"
     ]
    },
    {
     "name": "stdin",
     "output_type": "stream",
     "text": [
      "돈을 주세요 300\n"
     ]
    },
    {
     "name": "stdout",
     "output_type": "stream",
     "text": [
      "돈을 받았으니 커피를 줍니다.\n",
      "남은 커피의 양은 0입니다.\n",
      "커피가 다 떨어져서 판매를 중지합니다.\n"
     ]
    }
   ],
   "source": [
    "coffee = 10\n",
    "money = 300\n",
    "\n",
    "while True :\n",
    "    money = int(input(\"돈을 주세요\"))\n",
    "    if money == 300:\n",
    "        print('돈을 받았으니 커피를 줍니다.')\n",
    "        coffee = coffee -1\n",
    "    elif money > 300:\n",
    "        print(f\"거스름돈 {money -300}를 주고 커피를 줍니다.\")\n",
    "        coffee = coffee - 1\n",
    "    elif money < 300:\n",
    "        print('돈을 더 주세요')\n",
    "        coffee = coffee\n",
    "    print(f'남은 커피의 양은 {coffee}입니다.')\n",
    "    if coffee == 0:\n",
    "        print('커피가 다 떨어져서 판매를 중지합니다.')\n",
    "        break"
   ]
  },
  {
   "cell_type": "markdown",
   "id": "9cd2d3f9-1f95-4f33-ae2e-65d8190236ec",
   "metadata": {},
   "source": [
    "### input / output 정의\n",
    "데이터 : 커피가격 300원, 커피재고(상수), 사용자입력커피금액(input())\n",
    "조건\n",
    "1. 커피값 == 300\n",
    "   커피제공 (print())\n",
    "   커피재고 차감 (stock = coffee - userinput)\n",
    "   재고를 안내해주자 (print(stock))\n",
    "2. 커피값 > 300\n",
    "   커피제공\n",
    "   거스름돈 준다 change = userinput - 300\n",
    "   커피재고 차감\n",
    "   재고 안내\n",
    "3. 커피값 < 300\n",
    "   안준다 print\n",
    "   재고안내 print\n",
    "4. 커피재고 == 0\n",
    "   재고소진안내\n",
    "   마감안내\n",
    "\n",
    "   break"
   ]
  },
  {
   "cell_type": "code",
   "execution_count": 22,
   "id": "1873c0fc-99bb-4d31-bf97-41f0485f981c",
   "metadata": {},
   "outputs": [
    {
     "name": "stdin",
     "output_type": "stream",
     "text": [
      "돈을 넣어주세요 400\n"
     ]
    },
    {
     "name": "stdout",
     "output_type": "stream",
     "text": [
      "거스름돈 100원을 주고 커피를 줍니다.\n",
      "남은 커피수량은 4입니다\n"
     ]
    },
    {
     "name": "stdin",
     "output_type": "stream",
     "text": [
      "돈을 넣어주세요 500\n"
     ]
    },
    {
     "name": "stdout",
     "output_type": "stream",
     "text": [
      "거스름돈 200원을 주고 커피를 줍니다.\n",
      "남은 커피수량은 3입니다\n"
     ]
    },
    {
     "name": "stdin",
     "output_type": "stream",
     "text": [
      "돈을 넣어주세요 100\n"
     ]
    },
    {
     "name": "stdout",
     "output_type": "stream",
     "text": [
      "돈이 부족합니다.\n"
     ]
    },
    {
     "name": "stdin",
     "output_type": "stream",
     "text": [
      "돈을 넣어주세요 600\n"
     ]
    },
    {
     "name": "stdout",
     "output_type": "stream",
     "text": [
      "거스름돈 300원을 주고 커피를 줍니다.\n",
      "남은 커피수량은 2입니다\n"
     ]
    },
    {
     "name": "stdin",
     "output_type": "stream",
     "text": [
      "돈을 넣어주세요 300\n"
     ]
    },
    {
     "name": "stdout",
     "output_type": "stream",
     "text": [
      "300원을 받았습니다. 커피를 줍니다.\n",
      "남은 커피수량은 1입니다\n"
     ]
    },
    {
     "name": "stdin",
     "output_type": "stream",
     "text": [
      "돈을 넣어주세요 300\n"
     ]
    },
    {
     "name": "stdout",
     "output_type": "stream",
     "text": [
      "300원을 받았습니다. 커피를 줍니다.\n",
      "남은 커피수량은 0입니다\n",
      "커피가 다 떨어졌습니다\n"
     ]
    }
   ],
   "source": [
    "coffee = 5\n",
    "\n",
    "while True:\n",
    "    money = int(input('돈을 넣어주세요'))\n",
    "\n",
    "    if money == 300:\n",
    "        print('300원을 받았습니다. 커피를 줍니다.')\n",
    "        coffee = coffee -1\n",
    "        print(f'남은 커피수량은 {coffee}입니다')\n",
    "    elif money > 300:\n",
    "        print(f'거스름돈 {money-300}원을 주고 커피를 줍니다.')\n",
    "        coffee = coffee -1\n",
    "        print(f'남은 커피수량은 {coffee}입니다')\n",
    "    else: # money<300 \n",
    "        print('돈이 부족합니다.')\n",
    "\n",
    "    if coffee == 0:\n",
    "        print('커피가 다 떨어졌습니다')\n",
    "        break"
   ]
  },
  {
   "cell_type": "code",
   "execution_count": null,
   "id": "2556c090-3bcc-4c3a-9482-3ab6e1ac09a0",
   "metadata": {},
   "outputs": [],
   "source": []
  },
  {
   "cell_type": "code",
   "execution_count": null,
   "id": "6140c57c-fbd0-4e38-b6c6-b99918b757cc",
   "metadata": {},
   "outputs": [],
   "source": []
  },
  {
   "cell_type": "code",
   "execution_count": null,
   "id": "8bacdc98-e271-47b7-a089-e3cd3eb920ad",
   "metadata": {},
   "outputs": [],
   "source": []
  },
  {
   "cell_type": "code",
   "execution_count": null,
   "id": "95a83d3c-8b31-4491-b2c7-5dd75db7109e",
   "metadata": {},
   "outputs": [],
   "source": []
  },
  {
   "cell_type": "code",
   "execution_count": null,
   "id": "89ba1d05-b4f9-4e82-baca-335e04e2692f",
   "metadata": {},
   "outputs": [],
   "source": []
  },
  {
   "cell_type": "code",
   "execution_count": null,
   "id": "0890ad0d-f5fc-4667-914a-134ff876e351",
   "metadata": {},
   "outputs": [],
   "source": []
  },
  {
   "cell_type": "code",
   "execution_count": null,
   "id": "c3602a0f-5c19-4cd7-8f81-cb9917b6fdc3",
   "metadata": {},
   "outputs": [],
   "source": []
  },
  {
   "cell_type": "code",
   "execution_count": null,
   "id": "3a4b5bed-7f0d-4313-a8bb-04d208253692",
   "metadata": {},
   "outputs": [],
   "source": []
  },
  {
   "cell_type": "code",
   "execution_count": null,
   "id": "9c919dd6-3ff7-4693-a6e3-153da7695023",
   "metadata": {},
   "outputs": [],
   "source": []
  },
  {
   "cell_type": "code",
   "execution_count": null,
   "id": "dd770857-f646-4d64-8a50-374bd2f7c09a",
   "metadata": {},
   "outputs": [],
   "source": []
  }
 ],
 "metadata": {
  "kernelspec": {
   "display_name": "Python 3 (ipykernel)",
   "language": "python",
   "name": "python3"
  },
  "language_info": {
   "codemirror_mode": {
    "name": "ipython",
    "version": 3
   },
   "file_extension": ".py",
   "mimetype": "text/x-python",
   "name": "python",
   "nbconvert_exporter": "python",
   "pygments_lexer": "ipython3",
   "version": "3.11.7"
  }
 },
 "nbformat": 4,
 "nbformat_minor": 5
}
