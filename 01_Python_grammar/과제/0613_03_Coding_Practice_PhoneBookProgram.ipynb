{
 "cells": [
  {
   "cell_type": "markdown",
   "metadata": {},
   "source": [
    "# 전화번호 프로그램 만들기\n",
    "\n",
    "* 홍길동 010-123-4567\n",
    "* 기능1 : 연락처 추가\n",
    "* 기능2 : 연락처 전체 보기\n",
    "* 기능3 : 검색, 이름을 입력받아서 전화번호 조회\n",
    "* 기능4 : 수정, 이름을 입력받아서 전화번호 입력수정\n",
    "* 기능5 : 삭제, 이름 입력받아서 삭제\n",
    "* 기능6 : 프로그램 종료"
   ]
  },
  {
   "cell_type": "markdown",
   "metadata": {},
   "source": [
    "## 1트"
   ]
  },
  {
   "cell_type": "code",
   "execution_count": 1,
   "metadata": {},
   "outputs": [
    {
     "ename": "NameError",
     "evalue": "name 'name' is not defined",
     "output_type": "error",
     "traceback": [
      "\u001b[1;31m---------------------------------------------------------------------------\u001b[0m",
      "\u001b[1;31mNameError\u001b[0m                                 Traceback (most recent call last)",
      "Cell \u001b[1;32mIn[1], line 1\u001b[0m\n\u001b[1;32m----> 1\u001b[0m dic \u001b[38;5;241m=\u001b[39m {name : phone}\n\u001b[0;32m      2\u001b[0m name \u001b[38;5;241m=\u001b[39m \u001b[38;5;28minput\u001b[39m(\u001b[38;5;124m\"\u001b[39m\u001b[38;5;124m이름\u001b[39m\u001b[38;5;124m\"\u001b[39m)\n\u001b[0;32m      3\u001b[0m phone \u001b[38;5;241m=\u001b[39m \u001b[38;5;28minput\u001b[39m(\u001b[38;5;124m\"\u001b[39m\u001b[38;5;124m전화번호\u001b[39m\u001b[38;5;124m\"\u001b[39m)\n",
      "\u001b[1;31mNameError\u001b[0m: name 'name' is not defined"
     ]
    }
   ],
   "source": [
    "dic = {name : phone}\n",
    "name = input(\"이름\")\n",
    "phone = input(\"전화번호\")\n",
    "dic[name]=phone\n",
    "print(dic)"
   ]
  },
  {
   "cell_type": "code",
   "execution_count": null,
   "metadata": {},
   "outputs": [],
   "source": [
    "user = input(\"이름검색: \")\n",
    "if user in dic:\n",
    "    print(\"전화번호: \", dic[user])"
   ]
  },
  {
   "cell_type": "code",
   "execution_count": null,
   "metadata": {},
   "outputs": [],
   "source": [
    "user = input(\"이름검색: \")\n",
    "if user in dic:\n",
    "    edit = input(\"수정할 전화번호: \")\n",
    "    dic[user] = edit\n",
    "    print(\"이름\",user,\"수정한 전화번호: \",dic[user])"
   ]
  },
  {
   "cell_type": "code",
   "execution_count": null,
   "metadata": {},
   "outputs": [],
   "source": []
  },
  {
   "cell_type": "markdown",
   "metadata": {},
   "source": [
    "## 복습"
   ]
  },
  {
   "cell_type": "markdown",
   "metadata": {},
   "source": [
    "요구사항정의서 전화번호부만들기\n",
    "데이터 타입 : in/out , 딕셔너리 k:v\n",
    "프로그램-> while true\n",
    "사용자 입력 -> 이름, 전화번호\n",
    "추가 dict[key]=value\n",
    "조회 print\n",
    "검색 print(dict[key])\n",
    "수정 new value\n",
    "삭제 del\n",
    "종료 break \n",
    "\n"
   ]
  },
  {
   "cell_type": "code",
   "execution_count": null,
   "metadata": {},
   "outputs": [],
   "source": [
    "contact = {}\n",
    "name = \"\"\n",
    "tel = \"\"\n",
    "\n",
    "while True:\n",
    "    print('''\n",
    "    ==========전화번호부=========\n",
    "    1. 추가\n",
    "    2. 조회\n",
    "    3. 검색\n",
    "    4. 수정\n",
    "    5. 삭제\n",
    "    0. 종료\n",
    "    =============================\\n\\n''')\n",
    "    menu = int(input(\"원하시는 항목을 입력하세요.(숫자only)\"))\n",
    "    \n",
    "    if menu == 1:\n",
    "        print('''====전화번호를 추가합니다====''')\n",
    "        name = input(\"이름: \")\n",
    "        tel = input(\"전화번호: \")\n",
    "        contact[name]=tel\n",
    "        print(name,':',tel)\n",
    "        contact.setdefault(name, tel)\n",
    "    \n",
    "    elif menu == 2:\n",
    "        print('''====전화번호를 조회합니다====''') \n",
    "        print(contact)\n",
    "    \n",
    "    elif menu == 3:\n",
    "        print('''====전화번호를 검색합니다====''')\n",
    "        search_name = input(\"이름: \")\n",
    "        for name, tel in contact.items():\n",
    "            print(name, ':', tel)\n",
    "        \n",
    "    elif menu == 4:\n",
    "        print('''====전화번호를 수정합니다====''') \n",
    "        \n",
    "    elif menu == 5:\n",
    "        print('''====전화번호를 삭제합니다====''')\n",
    "        \n",
    "    elif menu == 0:\n",
    "        print('''====전화번호부를 종료합니다====''')\n",
    "\n",
    "        \n",
    "    break\n",
    "\n",
    "        \n",
    "    else:\n",
    "        print(\"잘못입력하였습니다.\")"
   ]
  },
  {
   "cell_type": "code",
   "execution_count": null,
   "metadata": {},
   "outputs": [],
   "source": []
  },
  {
   "cell_type": "code",
   "execution_count": null,
   "metadata": {},
   "outputs": [],
   "source": []
  },
  {
   "cell_type": "code",
   "execution_count": null,
   "metadata": {},
   "outputs": [],
   "source": []
  },
  {
   "cell_type": "code",
   "execution_count": null,
   "metadata": {},
   "outputs": [],
   "source": []
  },
  {
   "cell_type": "markdown",
   "metadata": {},
   "source": [
    "## 요구사항 분석 및 설계\n",
    "1. I/O, 데이터 : 문자열, 딕셔너리 k:v\n",
    "2. 데이터 : 사용자 입력 input()\n",
    "3. 구조 : 프로그램 = while 반복문, 기능 if문\n",
    "4. 기능설계 + 인터페이스 정책\n",
    "   1. 연락처 추가 : dict[key]=value\n",
    "   2. 연락처 전체보기 : print\n",
    "   3. 검색 기능 : get메서드, dict[key]\n",
    "   4. 수정 : update, dict[key]=value\n",
    "   5. 삭제 : del\n",
    "   6. 종료 : break "
   ]
  },
  {
   "cell_type": "code",
   "execution_count": null,
   "metadata": {},
   "outputs": [],
   "source": [
    "contact = {}\n",
    "\n",
    "while True:\n",
    "    print('----------전화번호부---------')\n",
    "    print('1.추가 2.보기 3.검색 4.수정 5.삭제 9.종료')\n",
    "    menu = int(input('메뉴를 선택해주세요.(숫자only):'))\n",
    "\n",
    "    if menu == 1:\n",
    "        print('연락처를 \"추가\"합니다.')\n",
    "        new_name = input('이름: ')\n",
    "        new_tel = input('전화번호: ')\n",
    "        contact[new_name]=new_tel\n",
    "        contact.setdefault(new_name, new_tel) #setdefault = 덮어쓰기 금지\n",
    "\n",
    "    \n",
    "    elif menu == 2:\n",
    "        print('연락처를 \"조회\"합니다.')\n",
    "        print(contact)\n",
    "    \n",
    "        for name, tel in contact.items(): #item = key value 모두 빼올 수 있어\n",
    "            print (name, ':' , tel)\n",
    "            \n",
    "        \n",
    "    elif menu == 3:\n",
    "        print('연락처를 \"검색\"합니다.')\n",
    "        search_name = input ('이름: ')\n",
    "        #print(contact[search_name])\n",
    "        print(contact.get(search_name, '없는 이름입니다.'))\n",
    "    \n",
    "    elif menu == 4:\n",
    "        print('연락처를 \"수정\"합니다.')\n",
    "        mod_name = input('수정할 이름: ')\n",
    "\n",
    "        if mod_name in contact:\n",
    "            mod_tel = input('새로운 전화번호: ')\n",
    "            contact[mod_name]=mod_tel\n",
    "        else:\n",
    "            print('등록되지 않은 이름입니다.')\n",
    "        \n",
    "    elif menu == 5:\n",
    "        print('연락처를 \"삭제\"합니다.')\n",
    "        del_name = input('삭제할 이름: ')\n",
    "\n",
    "        if del_name in contact:\n",
    "            del contact[del_name]\n",
    "        else:\n",
    "            print('등록되지 않은 이름입니다.')\n",
    "        \n",
    "    elif menu == 9:\n",
    "        print('연락처를 \"종료\"합니다.')\n",
    "        break\n",
    "    \n",
    "    else:\n",
    "        print('잘못된 입력입니다')\n",
    "\n",
    "\n",
    "\n",
    "\n",
    "\n",
    "\n"
   ]
  },
  {
   "cell_type": "code",
   "execution_count": null,
   "metadata": {},
   "outputs": [],
   "source": [
    "contact = {}\n",
    "\n",
    "while True:\n",
    "    print('----------전화번호부---------')\n",
    "    print('1.추가 2.보기 3.검색 4.수정 5.삭제 9.종료')\n",
    "    menu = int(input('메뉴를 선택해주세요.(숫자only):'))\n",
    "\n",
    "    if menu == 1:\n",
    "        print('연락처를 \"추가\"합니다.')\n",
    "        new_name = input('이름: ')\n",
    "        new_tel = input('전화번호: ')\n",
    "        contact[new_name]=new_tel\n",
    "        contact.setdefault(new_name, new_tel) #setdefault = 덮어쓰기 금지\n",
    "\n",
    "    \n",
    "    elif menu == 2:\n",
    "        print('연락처를 \"조회\"합니다.')\n",
    "        print(contact)\n",
    "    \n",
    "        for name, tel in contact.items(): #item = key value 모두 빼올 수 있어\n",
    "            print (name, ':' , tel)\n",
    "            \n",
    "        \n",
    "    elif menu == 3:\n",
    "        print('연락처를 \"검색\"합니다.')\n",
    "        search_name = input ('이름: ')\n",
    "        #print(contact[search_name])\n",
    "        print(contact.get(search_name, '없는 이름입니다.'))\n",
    "    \n",
    "    elif menu == 4:\n",
    "        print('연락처를 \"수정\"합니다.')\n",
    "        mod_name = input('수정할 이름: ')\n",
    "\n",
    "        if mod_name in contact:\n",
    "            mod_tel = input('새로운 전화번호: ')\n",
    "            contact[mod_name]=mod_tel\n",
    "        else:\n",
    "            print('등록되지 않은 이름입니다.')\n",
    "        \n",
    "    elif menu == 5:\n",
    "        print('연락처를 \"삭제\"합니다.')\n",
    "        del_name = input('삭제할 이름: ')\n",
    "\n",
    "        if del_name in contact:\n",
    "            del contact[del_name]\n",
    "        else:\n",
    "            print('등록되지 않은 이름입니다.')\n",
    "        \n",
    "    elif menu == 9:\n",
    "        print('연락처를 \"종료\"합니다.')\n",
    "        break\n",
    "    \n",
    "    else:\n",
    "        print('잘못된 입력입니다')\n",
    "\n",
    "\n",
    "\n",
    "\n",
    "\n",
    "\n"
   ]
  },
  {
   "cell_type": "code",
   "execution_count": null,
   "metadata": {},
   "outputs": [],
   "source": []
  },
  {
   "cell_type": "code",
   "execution_count": null,
   "metadata": {},
   "outputs": [],
   "source": []
  },
  {
   "cell_type": "code",
   "execution_count": null,
   "metadata": {},
   "outputs": [],
   "source": []
  },
  {
   "cell_type": "code",
   "execution_count": null,
   "metadata": {},
   "outputs": [],
   "source": []
  }
 ],
 "metadata": {
  "kernelspec": {
   "display_name": "Python 3 (ipykernel)",
   "language": "python",
   "name": "python3"
  },
  "language_info": {
   "codemirror_mode": {
    "name": "ipython",
    "version": 3
   },
   "file_extension": ".py",
   "mimetype": "text/x-python",
   "name": "python",
   "nbconvert_exporter": "python",
   "pygments_lexer": "ipython3",
   "version": "3.11.7"
  },
  "toc": {
   "base_numbering": 1,
   "nav_menu": {},
   "number_sections": true,
   "sideBar": true,
   "skip_h1_title": false,
   "title_cell": "Table of Contents",
   "title_sidebar": "Contents",
   "toc_cell": false,
   "toc_position": {},
   "toc_section_display": true,
   "toc_window_display": false
  },
  "varInspector": {
   "cols": {
    "lenName": 16,
    "lenType": 16,
    "lenVar": 40
   },
   "kernels_config": {
    "python": {
     "delete_cmd_postfix": "",
     "delete_cmd_prefix": "del ",
     "library": "var_list.py",
     "varRefreshCmd": "print(var_dic_list())"
    },
    "r": {
     "delete_cmd_postfix": ") ",
     "delete_cmd_prefix": "rm(",
     "library": "var_list.r",
     "varRefreshCmd": "cat(var_dic_list()) "
    }
   },
   "types_to_exclude": [
    "module",
    "function",
    "builtin_function_or_method",
    "instance",
    "_Feature"
   ],
   "window_display": false
  }
 },
 "nbformat": 4,
 "nbformat_minor": 4
}
