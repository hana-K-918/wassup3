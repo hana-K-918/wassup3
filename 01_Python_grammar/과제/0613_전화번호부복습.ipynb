{
 "cells": [
  {
   "cell_type": "code",
   "execution_count": 32,
   "id": "9f3b0385-b818-4f8b-b44b-9f54541b9c8e",
   "metadata": {},
   "outputs": [
    {
     "name": "stdout",
     "output_type": "stream",
     "text": [
      "\n",
      "    =====전화번호부===\n",
      "    1.추가\n",
      "    2.조회\n",
      "    3.검색\n",
      "    4.수정\n",
      "    5.삭제\n",
      "    0.종료\n",
      "    =================\n",
      "\n"
     ]
    },
    {
     "name": "stdin",
     "output_type": "stream",
     "text": [
      "메뉴선택 1\n"
     ]
    },
    {
     "name": "stdout",
     "output_type": "stream",
     "text": [
      "연락처추가\n",
      "\n"
     ]
    },
    {
     "name": "stdin",
     "output_type": "stream",
     "text": [
      "이름:  김하나\n",
      "연락처:  012-1234\n"
     ]
    },
    {
     "name": "stdout",
     "output_type": "stream",
     "text": [
      "김하나 012-1234\n",
      "\n",
      "    =====전화번호부===\n",
      "    1.추가\n",
      "    2.조회\n",
      "    3.검색\n",
      "    4.수정\n",
      "    5.삭제\n",
      "    0.종료\n",
      "    =================\n",
      "\n"
     ]
    },
    {
     "name": "stdin",
     "output_type": "stream",
     "text": [
      "메뉴선택 1\n"
     ]
    },
    {
     "name": "stdout",
     "output_type": "stream",
     "text": [
      "연락처추가\n",
      "\n"
     ]
    },
    {
     "name": "stdin",
     "output_type": "stream",
     "text": [
      "이름:  김두부\n",
      "연락처:  012-2345\n"
     ]
    },
    {
     "name": "stdout",
     "output_type": "stream",
     "text": [
      "김두부 012-2345\n",
      "\n",
      "    =====전화번호부===\n",
      "    1.추가\n",
      "    2.조회\n",
      "    3.검색\n",
      "    4.수정\n",
      "    5.삭제\n",
      "    0.종료\n",
      "    =================\n",
      "\n"
     ]
    },
    {
     "name": "stdin",
     "output_type": "stream",
     "text": [
      "메뉴선택 2\n"
     ]
    },
    {
     "name": "stdout",
     "output_type": "stream",
     "text": [
      "연락처보기\n",
      "\n",
      "김하나 : 012-1234\n",
      "김두부 : 012-2345\n",
      "\n",
      "    =====전화번호부===\n",
      "    1.추가\n",
      "    2.조회\n",
      "    3.검색\n",
      "    4.수정\n",
      "    5.삭제\n",
      "    0.종료\n",
      "    =================\n",
      "\n"
     ]
    },
    {
     "name": "stdin",
     "output_type": "stream",
     "text": [
      "메뉴선택 3\n"
     ]
    },
    {
     "name": "stdout",
     "output_type": "stream",
     "text": [
      "연락처검색\n",
      "\n"
     ]
    },
    {
     "name": "stdin",
     "output_type": "stream",
     "text": [
      "이름검색:  김두부\n"
     ]
    },
    {
     "name": "stdout",
     "output_type": "stream",
     "text": [
      "012-2345\n",
      "\n",
      "    =====전화번호부===\n",
      "    1.추가\n",
      "    2.조회\n",
      "    3.검색\n",
      "    4.수정\n",
      "    5.삭제\n",
      "    0.종료\n",
      "    =================\n",
      "\n"
     ]
    },
    {
     "name": "stdin",
     "output_type": "stream",
     "text": [
      "메뉴선택 3\n"
     ]
    },
    {
     "name": "stdout",
     "output_type": "stream",
     "text": [
      "연락처검색\n",
      "\n"
     ]
    },
    {
     "name": "stdin",
     "output_type": "stream",
     "text": [
      "이름검색:  이초코\n"
     ]
    },
    {
     "name": "stdout",
     "output_type": "stream",
     "text": [
      "없는 이름 입니다.\n",
      "\n",
      "    =====전화번호부===\n",
      "    1.추가\n",
      "    2.조회\n",
      "    3.검색\n",
      "    4.수정\n",
      "    5.삭제\n",
      "    0.종료\n",
      "    =================\n",
      "\n"
     ]
    },
    {
     "name": "stdin",
     "output_type": "stream",
     "text": [
      "메뉴선택 4\n"
     ]
    },
    {
     "name": "stdout",
     "output_type": "stream",
     "text": [
      "연락처수정\n",
      "\n"
     ]
    },
    {
     "name": "stdin",
     "output_type": "stream",
     "text": [
      "이름:  김하나\n",
      "새연락처:  098-0999\n"
     ]
    },
    {
     "name": "stdout",
     "output_type": "stream",
     "text": [
      "김하나 : 098-0999\n",
      "\n",
      "    =====전화번호부===\n",
      "    1.추가\n",
      "    2.조회\n",
      "    3.검색\n",
      "    4.수정\n",
      "    5.삭제\n",
      "    0.종료\n",
      "    =================\n",
      "\n"
     ]
    },
    {
     "name": "stdin",
     "output_type": "stream",
     "text": [
      "메뉴선택 2\n"
     ]
    },
    {
     "name": "stdout",
     "output_type": "stream",
     "text": [
      "연락처보기\n",
      "\n",
      "김하나 : 098-0999\n",
      "김두부 : 012-2345\n",
      "\n",
      "    =====전화번호부===\n",
      "    1.추가\n",
      "    2.조회\n",
      "    3.검색\n",
      "    4.수정\n",
      "    5.삭제\n",
      "    0.종료\n",
      "    =================\n",
      "\n"
     ]
    },
    {
     "name": "stdin",
     "output_type": "stream",
     "text": [
      "메뉴선택 5\n"
     ]
    },
    {
     "name": "stdout",
     "output_type": "stream",
     "text": [
      "연락처삭제\n",
      "\n"
     ]
    },
    {
     "name": "stdin",
     "output_type": "stream",
     "text": [
      "이름:  김하나\n"
     ]
    },
    {
     "name": "stdout",
     "output_type": "stream",
     "text": [
      "삭제완료\n",
      "\n",
      "    =====전화번호부===\n",
      "    1.추가\n",
      "    2.조회\n",
      "    3.검색\n",
      "    4.수정\n",
      "    5.삭제\n",
      "    0.종료\n",
      "    =================\n",
      "\n"
     ]
    },
    {
     "name": "stdin",
     "output_type": "stream",
     "text": [
      "메뉴선택 2\n"
     ]
    },
    {
     "name": "stdout",
     "output_type": "stream",
     "text": [
      "연락처보기\n",
      "\n",
      "김두부 : 012-2345\n",
      "\n",
      "    =====전화번호부===\n",
      "    1.추가\n",
      "    2.조회\n",
      "    3.검색\n",
      "    4.수정\n",
      "    5.삭제\n",
      "    0.종료\n",
      "    =================\n",
      "\n"
     ]
    },
    {
     "name": "stdin",
     "output_type": "stream",
     "text": [
      "메뉴선택 0\n"
     ]
    },
    {
     "name": "stdout",
     "output_type": "stream",
     "text": [
      "연락처종료\n",
      "\n"
     ]
    }
   ],
   "source": [
    "contact = {}\n",
    "\n",
    "while True:\n",
    "    print('''\n",
    "    =====전화번호부===\n",
    "    1.추가\n",
    "    2.조회\n",
    "    3.검색\n",
    "    4.수정\n",
    "    5.삭제\n",
    "    0.종료\n",
    "    =================\\n''')\n",
    "    menu = int(input('메뉴선택'))\n",
    "    \n",
    "    if menu == 1:\n",
    "        print('연락처추가\\n')\n",
    "        name = input('이름: ')\n",
    "        tel = input('연락처: ')\n",
    "        contact[name]=tel\n",
    "        print(name,tel)\n",
    "              \n",
    "    elif menu == 2:\n",
    "        print('연락처보기\\n')\n",
    "        for name, tel in contact.items():\n",
    "            print(name, ':', tel)\n",
    "        \n",
    "    elif menu == 3:\n",
    "        print('연락처검색\\n')\n",
    "        ser_name=input(\"이름검색: \")\n",
    "        print(contact.get(ser_name, '없는 이름 입니다.'))\n",
    "        #print(\"전화번호: \",contact[ser_name])\n",
    "      \n",
    "    elif menu == 4:\n",
    "        print('연락처수정\\n')\n",
    "        mod_name = input(\"이름: \")\n",
    "        mod_tel = input(\"새연락처: \")\n",
    "        contact[mod_name]=mod_tel\n",
    "        print(mod_name, \":\", mod_tel)\n",
    "        \n",
    "    elif menu == 5:\n",
    "        print('연락처삭제\\n')\n",
    "        del_name = input(\"이름: \")\n",
    "        del contact[del_name]\n",
    "        print('삭제완료')\n",
    "        \n",
    "    elif menu == 0:\n",
    "        print('연락처종료\\n')\n",
    "        break\n",
    "    else:\n",
    "        print('등록안됨\\n')\n",
    "        "
   ]
  },
  {
   "cell_type": "code",
   "execution_count": null,
   "id": "4adb7b7f-b9ca-4292-b0a0-a68b8503ffa2",
   "metadata": {},
   "outputs": [],
   "source": []
  },
  {
   "cell_type": "code",
   "execution_count": null,
   "id": "aa83a154-cbfb-4ab0-917d-84ba1b7b6539",
   "metadata": {},
   "outputs": [],
   "source": []
  },
  {
   "cell_type": "code",
   "execution_count": null,
   "id": "3617350d-59ab-4bbe-b03f-bdd1ffc3e954",
   "metadata": {},
   "outputs": [],
   "source": []
  },
  {
   "cell_type": "code",
   "execution_count": null,
   "id": "0a988e97-b9de-479b-b937-4b7c70c3f281",
   "metadata": {},
   "outputs": [],
   "source": []
  }
 ],
 "metadata": {
  "kernelspec": {
   "display_name": "Python 3 (ipykernel)",
   "language": "python",
   "name": "python3"
  },
  "language_info": {
   "codemirror_mode": {
    "name": "ipython",
    "version": 3
   },
   "file_extension": ".py",
   "mimetype": "text/x-python",
   "name": "python",
   "nbconvert_exporter": "python",
   "pygments_lexer": "ipython3",
   "version": "3.11.7"
  }
 },
 "nbformat": 4,
 "nbformat_minor": 5
}
