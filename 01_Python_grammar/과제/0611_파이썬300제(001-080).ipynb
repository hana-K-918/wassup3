{
 "cells": [
  {
   "cell_type": "code",
   "execution_count": 1,
   "id": "ce6c2aa4-854c-4393-8719-1207e923c585",
   "metadata": {},
   "outputs": [
    {
     "name": "stdout",
     "output_type": "stream",
     "text": [
      "Hello World\n"
     ]
    }
   ],
   "source": [
    "#001 \n",
    "print('Hello World')"
   ]
  },
  {
   "cell_type": "code",
   "execution_count": 4,
   "id": "366cfcf3-c0d0-4c4f-8407-9ce0f0d7fb10",
   "metadata": {},
   "outputs": [
    {
     "name": "stdout",
     "output_type": "stream",
     "text": [
      "Mary's cosmetics\n"
     ]
    }
   ],
   "source": [
    "#002\n",
    "print (\"Mary's cosmetics\")"
   ]
  },
  {
   "cell_type": "code",
   "execution_count": 5,
   "id": "92bc8893-5f4d-4112-962f-a689571e02d3",
   "metadata": {},
   "outputs": [
    {
     "name": "stdout",
     "output_type": "stream",
     "text": [
      "신씨가 소리질렀다. \"도둑이야\".\n"
     ]
    }
   ],
   "source": [
    "#003\n",
    "print('신씨가 소리질렀다. \"도둑이야\".')"
   ]
  },
  {
   "cell_type": "code",
   "execution_count": 6,
   "id": "7e7050c2-cbd4-4af3-80f8-ffb3443f3b01",
   "metadata": {},
   "outputs": [
    {
     "name": "stdout",
     "output_type": "stream",
     "text": [
      "C:\\windows\n"
     ]
    }
   ],
   "source": [
    "#004\n",
    "print('C:\\windows')"
   ]
  },
  {
   "cell_type": "code",
   "execution_count": 7,
   "id": "ecd81dff-8026-46d3-a8de-165614accc9f",
   "metadata": {},
   "outputs": [
    {
     "name": "stdout",
     "output_type": "stream",
     "text": [
      "안녕하세요. \n",
      "만나서\t\t반갑습니다.\n"
     ]
    }
   ],
   "source": [
    "#005\n",
    "print(\"안녕하세요. \\n만나서\\t\\t반갑습니다.\")\n",
    "\n",
    "#\\n은 줄바꿈, \\t는 탭"
   ]
  },
  {
   "cell_type": "code",
   "execution_count": 9,
   "id": "e3c0d776-373c-4338-8f0f-6a0b603d1bbd",
   "metadata": {},
   "outputs": [
    {
     "name": "stdout",
     "output_type": "stream",
     "text": [
      "오늘은 일요일\n"
     ]
    }
   ],
   "source": [
    "#006\n",
    "#예상결과 : 오늘은 일요일\n",
    "print (\"오늘은\",\"일요일\")"
   ]
  },
  {
   "cell_type": "code",
   "execution_count": 11,
   "id": "f6690b5e-bec7-4e96-a5ff-fff0ffd7151c",
   "metadata": {},
   "outputs": [
    {
     "name": "stdout",
     "output_type": "stream",
     "text": [
      "naver;kakao;sk;samsung\n"
     ]
    }
   ],
   "source": [
    "#007\n",
    "print('naver','kakao','sk','samsung', sep=';')"
   ]
  },
  {
   "cell_type": "code",
   "execution_count": 15,
   "id": "57cf3e6f-e7c2-4343-bfb1-9f31982766fd",
   "metadata": {},
   "outputs": [
    {
     "name": "stdout",
     "output_type": "stream",
     "text": [
      "naver/kakao/sk/samsung\n"
     ]
    }
   ],
   "source": [
    "#008\n",
    "print('naver','kakao','sk','samsung',sep='/')"
   ]
  },
  {
   "cell_type": "code",
   "execution_count": 21,
   "id": "2a5415d8-03db-4f1b-ac67-ea9278b650ef",
   "metadata": {},
   "outputs": [
    {
     "name": "stdout",
     "output_type": "stream",
     "text": [
      "firstsecond\n"
     ]
    }
   ],
   "source": [
    "#009\n",
    "print(\"first\",end=\"\");print(\"second\")"
   ]
  },
  {
   "cell_type": "code",
   "execution_count": 23,
   "id": "44822610-6de0-4df2-ae36-2b3304eb516c",
   "metadata": {},
   "outputs": [
    {
     "name": "stdout",
     "output_type": "stream",
     "text": [
      "1.6666666666666667\n"
     ]
    }
   ],
   "source": [
    "#010\n",
    "print(5/3)"
   ]
  },
  {
   "cell_type": "code",
   "execution_count": 26,
   "id": "4719e113-7fd4-49c0-84f4-9f17bd3eba63",
   "metadata": {},
   "outputs": [
    {
     "name": "stdout",
     "output_type": "stream",
     "text": [
      "500000\n"
     ]
    }
   ],
   "source": [
    "#011 \n",
    "삼성전자 = 50000\n",
    "총평가금액 = 삼성전자*10\n",
    "print(총평가금액)"
   ]
  },
  {
   "cell_type": "code",
   "execution_count": 35,
   "id": "68b9be32-bc80-40d7-9939-630a50abe758",
   "metadata": {},
   "outputs": [
    {
     "name": "stdout",
     "output_type": "stream",
     "text": [
      "2980000000000 <class 'int'>\n",
      "500000 <class 'int'>\n",
      "15.79 <class 'float'>\n"
     ]
    }
   ],
   "source": [
    "#012 ->처음에 문제이해못함\n",
    "시가총액 = 2980000000000\n",
    "현재가 = 500000\n",
    "PER = 15.79\n",
    "\n",
    "print (시가총액, type(시가총액))\n",
    "print (현재가, type(현재가))\n",
    "print (PER, type(PER))\n"
   ]
  },
  {
   "cell_type": "code",
   "execution_count": 38,
   "id": "9d512116-39c3-4d68-92d7-600ec0fa5922",
   "metadata": {},
   "outputs": [
    {
     "name": "stdout",
     "output_type": "stream",
     "text": [
      "hello! python\n"
     ]
    }
   ],
   "source": [
    "#013\n",
    "s = \"hello\"\n",
    "t = \"python\"\n",
    "print(s[:]+'! '+t[:])"
   ]
  },
  {
   "cell_type": "code",
   "execution_count": 39,
   "id": "f84e18c2-e499-4811-970c-2ecc425b39a5",
   "metadata": {},
   "outputs": [
    {
     "data": {
      "text/plain": [
       "8"
      ]
     },
     "execution_count": 39,
     "metadata": {},
     "output_type": "execute_result"
    }
   ],
   "source": [
    "#014\n",
    "#예상결과 = 8\n",
    "2+2*3"
   ]
  },
  {
   "cell_type": "code",
   "execution_count": 40,
   "id": "8d093d8c-ac39-4f6c-b9f0-e16259cc0111",
   "metadata": {},
   "outputs": [
    {
     "name": "stdout",
     "output_type": "stream",
     "text": [
      "132 <class 'str'>\n"
     ]
    }
   ],
   "source": [
    "#015\n",
    "a= \"132\"\n",
    "print (a, type(a))"
   ]
  },
  {
   "cell_type": "code",
   "execution_count": 43,
   "id": "f9e11b5c-8967-46ed-8fc2-f887cd82ac98",
   "metadata": {},
   "outputs": [
    {
     "name": "stdout",
     "output_type": "stream",
     "text": [
      "721 <class 'int'>\n"
     ]
    }
   ],
   "source": [
    "#016 -> 땡! \n",
    "num_str = \"720\"\n",
    "num_int = int(num_str)\n",
    "print(num_int+1, type(num_int))\n"
   ]
  },
  {
   "cell_type": "code",
   "execution_count": 47,
   "id": "b730ca04-a149-4344-875d-9ab2fa7f140e",
   "metadata": {},
   "outputs": [
    {
     "name": "stdout",
     "output_type": "stream",
     "text": [
      "100 <class 'str'>\n"
     ]
    }
   ],
   "source": [
    "#017\n",
    "num = 100\n",
    "num_str = str(num)\n",
    "print (num_str, type(num_str))"
   ]
  },
  {
   "cell_type": "code",
   "execution_count": 54,
   "id": "25d70d65-bf4f-4d46-a57f-975d9d2f2be0",
   "metadata": {},
   "outputs": [
    {
     "name": "stdout",
     "output_type": "stream",
     "text": [
      "15.79 <class 'float'>\n"
     ]
    }
   ],
   "source": [
    "#018\n",
    "a = \"15.79\"\n",
    "a_float = float(a)\n",
    "print (a_float, type(a_float))"
   ]
  },
  {
   "cell_type": "code",
   "execution_count": 58,
   "id": "727e4d4f-2f0e-426d-8de1-07d944dd8e07",
   "metadata": {},
   "outputs": [
    {
     "name": "stdout",
     "output_type": "stream",
     "text": [
      "2017 2018 2019\n"
     ]
    }
   ],
   "source": [
    "#019\n",
    "year = \"2020\"\n",
    "year_int = int(year)\n",
    "print(year_int-3, year_int-2, year_int-1)\n"
   ]
  },
  {
   "cell_type": "code",
   "execution_count": 61,
   "id": "12b512c9-4dea-4fb9-a3a2-9e76ef3cd6ef",
   "metadata": {},
   "outputs": [
    {
     "name": "stdout",
     "output_type": "stream",
     "text": [
      "1749024\n"
     ]
    }
   ],
   "source": [
    "#020\n",
    "월할부 = 48584\n",
    "총금액 = 월할부*36\n",
    "print(총금액)\n"
   ]
  },
  {
   "cell_type": "code",
   "execution_count": 64,
   "id": "235a388a-3d91-4960-b425-bebf5b981ede",
   "metadata": {},
   "outputs": [
    {
     "name": "stdout",
     "output_type": "stream",
     "text": [
      "p t\n"
     ]
    }
   ],
   "source": [
    "#021\n",
    "letters = 'python'\n",
    "print(letters[0],letters[2])"
   ]
  },
  {
   "cell_type": "code",
   "execution_count": 70,
   "id": "cb44da27-e193-46bb-bad5-c2f5bdf53994",
   "metadata": {},
   "outputs": [
    {
     "name": "stdout",
     "output_type": "stream",
     "text": [
      "2210\n"
     ]
    }
   ],
   "source": [
    "#022\n",
    "lp = \"24가2210\"\n",
    "print(lp[-4:])"
   ]
  },
  {
   "cell_type": "code",
   "execution_count": 71,
   "id": "382354a0-0a87-4cef-a3cf-0f48d0084559",
   "metadata": {},
   "outputs": [
    {
     "name": "stdout",
     "output_type": "stream",
     "text": [
      "홀홀홀\n"
     ]
    }
   ],
   "source": [
    "#023\n",
    "str = \"홀짝홀짝홀짝\"\n",
    "print(str[::2])"
   ]
  },
  {
   "cell_type": "code",
   "execution_count": 74,
   "id": "85c0601b-753d-4164-9646-84314fb881a9",
   "metadata": {},
   "outputs": [
    {
     "name": "stdout",
     "output_type": "stream",
     "text": [
      "NOHTYP\n"
     ]
    }
   ],
   "source": [
    "#024 -> 땡!\n",
    "str = \"PYTHON\"\n",
    "print(str[::-1])"
   ]
  },
  {
   "cell_type": "code",
   "execution_count": 77,
   "id": "e946a26a-6c6a-4568-ba86-8bb3bff81e81",
   "metadata": {},
   "outputs": [
    {
     "name": "stdout",
     "output_type": "stream",
     "text": [
      "010 1111 2222\n"
     ]
    }
   ],
   "source": [
    "#025 -> 공백도 \"\" 처리! \n",
    "pn = \"010-1111-2222\"\n",
    "print(pn.replace(\"-\",\" \"))"
   ]
  },
  {
   "cell_type": "code",
   "execution_count": 89,
   "id": "88c2b89f-d577-4804-a3f4-e97b7b1579fe",
   "metadata": {},
   "outputs": [
    {
     "name": "stdout",
     "output_type": "stream",
     "text": [
      "01011112222\n"
     ]
    }
   ],
   "source": [
    "#026\n",
    "pn1=pn.replace(\" \",\"\")\n",
    "print(pn1)"
   ]
  },
  {
   "cell_type": "code",
   "execution_count": 93,
   "id": "527e64ee-e342-4295-9874-0436df66c34a",
   "metadata": {},
   "outputs": [
    {
     "name": "stdout",
     "output_type": "stream",
     "text": [
      "kr\n"
     ]
    }
   ],
   "source": [
    "#027 \n",
    "url = \"http://sharebook.kr\"\n",
    "print(url[-2:])"
   ]
  },
  {
   "cell_type": "code",
   "execution_count": 95,
   "id": "81178ff7-b494-416d-9159-0295a2edb874",
   "metadata": {},
   "outputs": [
    {
     "name": "stdout",
     "output_type": "stream",
     "text": [
      "kr\n"
     ]
    }
   ],
   "source": [
    "#027-1 -> split 사용해야 하나..? \n",
    "url = \"http://sharebook.kr\"\n",
    "url_s=url.split('.')\n",
    "print(url_s[-1])"
   ]
  },
  {
   "cell_type": "code",
   "execution_count": 96,
   "id": "313ba37f-3e52-45d4-8c65-695d092e030c",
   "metadata": {},
   "outputs": [
    {
     "ename": "TypeError",
     "evalue": "'str' object does not support item assignment",
     "output_type": "error",
     "traceback": [
      "\u001b[1;31m---------------------------------------------------------------------------\u001b[0m",
      "\u001b[1;31mTypeError\u001b[0m                                 Traceback (most recent call last)",
      "Cell \u001b[1;32mIn[96], line 4\u001b[0m\n\u001b[0;32m      1\u001b[0m \u001b[38;5;66;03m#028\u001b[39;00m\n\u001b[0;32m      2\u001b[0m \u001b[38;5;66;03m#예상결과 : python\u001b[39;00m\n\u001b[0;32m      3\u001b[0m a \u001b[38;5;241m=\u001b[39m \u001b[38;5;124m'\u001b[39m\u001b[38;5;124mpython\u001b[39m\u001b[38;5;124m'\u001b[39m\n\u001b[1;32m----> 4\u001b[0m a[\u001b[38;5;241m0\u001b[39m] \u001b[38;5;241m=\u001b[39m\u001b[38;5;124m'\u001b[39m\u001b[38;5;124mP\u001b[39m\u001b[38;5;124m'\u001b[39m\n\u001b[0;32m      5\u001b[0m \u001b[38;5;28mprint\u001b[39m(lang)\n",
      "\u001b[1;31mTypeError\u001b[0m: 'str' object does not support item assignment"
     ]
    }
   ],
   "source": [
    "#028 -> 땡! (정답은 오류, 문자열은 immutable)\n",
    "#예상결과 : python \n",
    "a = 'python'\n",
    "a[0] ='P'\n",
    "print(lang)"
   ]
  },
  {
   "cell_type": "code",
   "execution_count": 98,
   "id": "57c69580-cb9c-47da-8f46-7b4338bc8b1e",
   "metadata": {},
   "outputs": [
    {
     "name": "stdout",
     "output_type": "stream",
     "text": [
      "Abcdfe2A354A32A\n"
     ]
    }
   ],
   "source": [
    "#029\n",
    "a = 'abcdfe2a354a32a'\n",
    "print(a.replace('a','A'))"
   ]
  },
  {
   "cell_type": "code",
   "execution_count": 104,
   "id": "5371b240-70ec-4f6c-affc-48a06b64fed8",
   "metadata": {},
   "outputs": [
    {
     "name": "stdout",
     "output_type": "stream",
     "text": [
      "abcd\n"
     ]
    }
   ],
   "source": [
    "#030 -> 땡! (문자열은 immutable!!!!)\n",
    "#예상결과 : aBcd\n",
    "string = 'abcd'\n",
    "string.replace('b', 'B')\n",
    "print(string)"
   ]
  },
  {
   "cell_type": "code",
   "execution_count": 106,
   "id": "14987ed9-3c01-4ed2-89fd-aac0b89d197f",
   "metadata": {},
   "outputs": [
    {
     "name": "stdout",
     "output_type": "stream",
     "text": [
      "34\n"
     ]
    }
   ],
   "source": [
    "#031\n",
    "#예상결과 : 34\n",
    "a = \"3\"\n",
    "b = \"4\"\n",
    "print(a + b)"
   ]
  },
  {
   "cell_type": "code",
   "execution_count": 107,
   "id": "746a8fd6-e092-4efc-a358-802d4eb23ba4",
   "metadata": {},
   "outputs": [
    {
     "name": "stdout",
     "output_type": "stream",
     "text": [
      "HiHiHi\n"
     ]
    }
   ],
   "source": [
    "#032\n",
    "#예상결과 : HiHiHi\n",
    "print(\"Hi\" * 3)"
   ]
  },
  {
   "cell_type": "code",
   "execution_count": 109,
   "id": "838774e7-ac0c-4ba2-89f0-2bb632dc28b2",
   "metadata": {},
   "outputs": [
    {
     "name": "stdout",
     "output_type": "stream",
     "text": [
      "--------------------------------------------------------------------------------\n"
     ]
    }
   ],
   "source": [
    "#033\n",
    "print('-'*80)"
   ]
  },
  {
   "cell_type": "code",
   "execution_count": 111,
   "id": "0e04b2e1-fb81-4edf-aed3-af13330f8774",
   "metadata": {},
   "outputs": [
    {
     "name": "stdout",
     "output_type": "stream",
     "text": [
      "python java python java python java python java \n"
     ]
    }
   ],
   "source": [
    "#034 -> 공백넣기!\n",
    "t1 = \"python\"\n",
    "t2 = \"java\"\n",
    "t3 = t1 + ' ' +t2 + ' '\n",
    "print (t3*4)"
   ]
  },
  {
   "cell_type": "code",
   "execution_count": 118,
   "id": "a1c7da89-2e22-48d2-8025-a6dd3621d5b9",
   "metadata": {},
   "outputs": [
    {
     "name": "stdout",
     "output_type": "stream",
     "text": [
      "이름: 김민수 나이: 10\n",
      "이름: 이철희 나이: 13\n"
     ]
    }
   ],
   "source": [
    "#035\n",
    "\n",
    "n1 = '김민수'\n",
    "a1 = 10\n",
    "n2 = '이철희'\n",
    "a2 = 13\n",
    "\n",
    "print('이름: %s 나이: %d' %(n1,a1))\n",
    "print('이름: %s 나이: %d' %(n2,a2))"
   ]
  },
  {
   "cell_type": "code",
   "execution_count": 117,
   "id": "2df4cd3f-52c6-4fda-8b24-79eb483d5187",
   "metadata": {},
   "outputs": [
    {
     "name": "stdout",
     "output_type": "stream",
     "text": [
      "이름: 김민수 나이: 10\n",
      "이름: 이철희 나이: 13\n"
     ]
    }
   ],
   "source": [
    "#036\n",
    "print('이름: {} 나이: {}'.format(n1,a1))\n",
    "print('이름: {} 나이: {}'.format(n2,a2))"
   ]
  },
  {
   "cell_type": "code",
   "execution_count": 120,
   "id": "6fb06e62-4a8f-4ee6-b686-9bece8afaa78",
   "metadata": {},
   "outputs": [
    {
     "name": "stdout",
     "output_type": "stream",
     "text": [
      "이름: 김민수 나이: 10\n",
      "이름: 이철희 나이: 13\n"
     ]
    }
   ],
   "source": [
    "#037\n",
    "print(f'이름: {n1} 나이: {a1}')\n",
    "print(f'이름: {n2} 나이: {a2}')"
   ]
  },
  {
   "cell_type": "code",
   "execution_count": 122,
   "id": "4413bc73-c1bb-45cb-b3f4-a8f22162c818",
   "metadata": {},
   "outputs": [
    {
     "name": "stdout",
     "output_type": "stream",
     "text": [
      "5969782550 <class 'int'>\n"
     ]
    }
   ],
   "source": [
    "#038\n",
    "a = \"5,969,782,550\"\n",
    "a1 = a.replace(',','')\n",
    "a1_int = int(a1)\n",
    "print(a1_int, type(a1_int))"
   ]
  },
  {
   "cell_type": "code",
   "execution_count": 123,
   "id": "757758de-ed6a-463e-bce2-137a84a8d6e7",
   "metadata": {},
   "outputs": [
    {
     "name": "stdout",
     "output_type": "stream",
     "text": [
      "2020/03\n"
     ]
    }
   ],
   "source": [
    "#039\n",
    "분기 = \"2020/03(E) (IFRS연결)\"\n",
    "print(분기 [:7])"
   ]
  },
  {
   "cell_type": "code",
   "execution_count": 125,
   "id": "c27a85e6-2910-428c-a7f2-8b4b071eb0dd",
   "metadata": {},
   "outputs": [
    {
     "name": "stdout",
     "output_type": "stream",
     "text": [
      "삼성전자\n"
     ]
    }
   ],
   "source": [
    "#040\n",
    "data = \"   삼성전자    \"\n",
    "print(data.strip())"
   ]
  },
  {
   "cell_type": "code",
   "execution_count": 126,
   "id": "10c04714-080a-4efc-aaea-c3d1bcdb6b95",
   "metadata": {},
   "outputs": [
    {
     "name": "stdout",
     "output_type": "stream",
     "text": [
      "BTC_KRW\n"
     ]
    }
   ],
   "source": [
    "#041\n",
    "ticker = \"btc_krw\"\n",
    "print(ticker.upper())"
   ]
  },
  {
   "cell_type": "code",
   "execution_count": 127,
   "id": "df59ec6b-a118-4d4d-b040-f2b5e8b98128",
   "metadata": {},
   "outputs": [
    {
     "name": "stdout",
     "output_type": "stream",
     "text": [
      "btc_krw\n"
     ]
    }
   ],
   "source": [
    "#042\n",
    "ticker = \"BTC_KRW\"\n",
    "print(ticker.lower())"
   ]
  },
  {
   "cell_type": "code",
   "execution_count": 130,
   "id": "c57a1ffc-c833-4fd6-b003-cae97d8569c7",
   "metadata": {},
   "outputs": [
    {
     "name": "stdout",
     "output_type": "stream",
     "text": [
      "Hello\n"
     ]
    }
   ],
   "source": [
    "#043\n",
    "a = 'hello'\n",
    "print(a.capitalize())"
   ]
  },
  {
   "cell_type": "code",
   "execution_count": 152,
   "id": "b5412eaf-5f88-4e3f-b3d0-f451705d75c0",
   "metadata": {},
   "outputs": [
    {
     "data": {
      "text/plain": [
       "True"
      ]
     },
     "execution_count": 152,
     "metadata": {},
     "output_type": "execute_result"
    }
   ],
   "source": [
    "#044\n",
    "file_name = \"보고서.xlsx\"\n",
    "file_name.endswith(\"xlsx\")"
   ]
  },
  {
   "cell_type": "code",
   "execution_count": 150,
   "id": "61b4e012-1970-4f77-87f3-49d65c7620be",
   "metadata": {},
   "outputs": [
    {
     "data": {
      "text/plain": [
       "True"
      ]
     },
     "execution_count": 150,
     "metadata": {},
     "output_type": "execute_result"
    }
   ],
   "source": [
    "#045 -> 떙! 괄호를 두번친다..? \n",
    "file_name = \"보고서.xlsx\"\n",
    "file_name.endswith(('xlsx', 'xls'))"
   ]
  },
  {
   "cell_type": "code",
   "execution_count": 153,
   "id": "9d49ac3e-6467-41ac-911b-2d1326198a5b",
   "metadata": {},
   "outputs": [
    {
     "data": {
      "text/plain": [
       "True"
      ]
     },
     "execution_count": 153,
     "metadata": {},
     "output_type": "execute_result"
    }
   ],
   "source": [
    "#046\n",
    "file_name = \"2020_보고서.xlsx\"\n",
    "file_name.startswith(\"2020\")"
   ]
  },
  {
   "cell_type": "code",
   "execution_count": 156,
   "id": "8f4c7033-0187-45df-98ac-734f88ab7efe",
   "metadata": {},
   "outputs": [
    {
     "data": {
      "text/plain": [
       "['hello', 'world']"
      ]
     },
     "execution_count": 156,
     "metadata": {},
     "output_type": "execute_result"
    }
   ],
   "source": [
    "#047\n",
    "a = \"hello world\"\n",
    "a.split(\" \")"
   ]
  },
  {
   "cell_type": "code",
   "execution_count": 158,
   "id": "ed8a5347-2e02-490c-8383-fe4c4ef0924f",
   "metadata": {},
   "outputs": [
    {
     "data": {
      "text/plain": [
       "['btc', 'krw']"
      ]
     },
     "execution_count": 158,
     "metadata": {},
     "output_type": "execute_result"
    }
   ],
   "source": [
    "#048\n",
    "ticker = \"btc_krw\"\n",
    "ticker.split('_')"
   ]
  },
  {
   "cell_type": "code",
   "execution_count": 160,
   "id": "07acc3d1-75b4-4a14-8f8f-6946b7672e96",
   "metadata": {},
   "outputs": [
    {
     "data": {
      "text/plain": [
       "['2020', '05', '01']"
      ]
     },
     "execution_count": 160,
     "metadata": {},
     "output_type": "execute_result"
    }
   ],
   "source": [
    "#049\n",
    "date = \"2020-05-01\"\n",
    "date.split('-')"
   ]
  },
  {
   "cell_type": "code",
   "execution_count": 161,
   "id": "4b7b205a-6745-4271-98e5-121c73e2f125",
   "metadata": {},
   "outputs": [
    {
     "data": {
      "text/plain": [
       "'2020-05-01'"
      ]
     },
     "execution_count": 161,
     "metadata": {},
     "output_type": "execute_result"
    }
   ],
   "source": [
    "#050\n",
    "data = \"039490     \"\n",
    "date.rstrip()"
   ]
  },
  {
   "cell_type": "code",
   "execution_count": 162,
   "id": "4514bedd-a3f3-4ee4-b1e9-3ffb6ce83c70",
   "metadata": {},
   "outputs": [],
   "source": [
    "#051\n",
    "movie_rank = ['닥터 스트레인지','스플릿','럭키']"
   ]
  },
  {
   "cell_type": "code",
   "execution_count": 164,
   "id": "b327902d-80d9-457e-bd9e-72d90064f341",
   "metadata": {},
   "outputs": [
    {
     "name": "stdout",
     "output_type": "stream",
     "text": [
      "['닥터 스트레인지', '스플릿', '럭키', '배트맨']\n"
     ]
    }
   ],
   "source": [
    "#052\n",
    "movie_rank = ['닥터 스트레인지','스플릿','럭키']\n",
    "movie_rank.append('배트맨')\n",
    "print(movie_rank)"
   ]
  },
  {
   "cell_type": "code",
   "execution_count": 166,
   "id": "b7c93056-3a32-463a-b1c5-8535df81cdcf",
   "metadata": {},
   "outputs": [
    {
     "name": "stdout",
     "output_type": "stream",
     "text": [
      "['닥터 스트레인지', '슈퍼맨', '스플릿', '럭키', '배트맨']\n"
     ]
    }
   ],
   "source": [
    "#053\n",
    "movie_rank = ['닥터 스트레인지', '스플릿', '럭키', '배트맨']\n",
    "movie_rank.insert(1,'슈퍼맨')\n",
    "print(movie_rank)"
   ]
  },
  {
   "cell_type": "code",
   "execution_count": 171,
   "id": "cad9d625-322a-413b-8839-022f622ba26d",
   "metadata": {},
   "outputs": [
    {
     "name": "stdout",
     "output_type": "stream",
     "text": [
      "['닥터 스트레인지', '슈퍼맨', '스플릿', '배트맨']\n"
     ]
    }
   ],
   "source": [
    "#054\n",
    "movie_rank = ['닥터 스트레인지', '슈퍼맨', '스플릿', '럭키', '배트맨']\n",
    "movie_rank.remove('럭키')\n",
    "print(movie_rank)"
   ]
  },
  {
   "cell_type": "code",
   "execution_count": 174,
   "id": "2ef0d36f-5494-4b24-a54b-65810c00c27e",
   "metadata": {},
   "outputs": [
    {
     "data": {
      "text/plain": [
       "['닥터 스트레인지', '슈퍼맨', '스플릿', '배트맨']"
      ]
     },
     "execution_count": 174,
     "metadata": {},
     "output_type": "execute_result"
    }
   ],
   "source": [
    "#054-1\n",
    "movie_rank = ['닥터 스트레인지', '슈퍼맨', '스플릿', '럭키', '배트맨']\n",
    "del movie_rank[3]\n",
    "movie_rank"
   ]
  },
  {
   "cell_type": "code",
   "execution_count": 175,
   "id": "20232b0a-2b3e-4de5-bdfd-0dc902e957e1",
   "metadata": {},
   "outputs": [
    {
     "name": "stdout",
     "output_type": "stream",
     "text": [
      "['닥터 스트레인지', '슈퍼맨', '럭키']\n"
     ]
    }
   ],
   "source": [
    "#055\n",
    "movie_rank = ['닥터 스트레인지', '슈퍼맨', '스플릿', '럭키', '배트맨']\n",
    "del movie_rank[2]\n",
    "del movie_rank[-1]\n",
    "print(movie_rank)"
   ]
  },
  {
   "cell_type": "code",
   "execution_count": 177,
   "id": "fd3869e8-4ea0-4d37-896c-c7e8f0acb958",
   "metadata": {},
   "outputs": [
    {
     "name": "stdout",
     "output_type": "stream",
     "text": [
      "['C', 'C++', 'JAVA', 'Python', 'Go', 'C#']\n"
     ]
    }
   ],
   "source": [
    "#056\n",
    "lang1 = [\"C\", \"C++\", \"JAVA\"]\n",
    "lang2 = [\"Python\", \"Go\", \"C#\"]\n",
    "lang3 = lang1 + lang2\n",
    "print(lang3)"
   ]
  },
  {
   "cell_type": "code",
   "execution_count": 180,
   "id": "41f15d2a-5cbb-4f44-a0cf-6dd02a5bae3a",
   "metadata": {},
   "outputs": [
    {
     "name": "stdout",
     "output_type": "stream",
     "text": [
      "max:  7\n",
      "min:  1\n"
     ]
    }
   ],
   "source": [
    "#057 -> 땡! 정답확인\n",
    "\n",
    "nums = [1, 2, 3, 4, 5, 6, 7]\n",
    "print (\"max: \", max(nums))\n",
    "print (\"min: \", min(nums))"
   ]
  },
  {
   "cell_type": "code",
   "execution_count": 182,
   "id": "6fdb7f44-efaf-470d-97db-579bdf7fb959",
   "metadata": {},
   "outputs": [
    {
     "name": "stdout",
     "output_type": "stream",
     "text": [
      "15\n"
     ]
    }
   ],
   "source": [
    "#058\n",
    "nums = [1, 2, 3, 4, 5]\n",
    "print (sum(nums))"
   ]
  },
  {
   "cell_type": "code",
   "execution_count": 184,
   "id": "b7a7c1dd-59b6-4b4c-9c14-93c8088a1a2f",
   "metadata": {},
   "outputs": [
    {
     "name": "stdout",
     "output_type": "stream",
     "text": [
      "12\n"
     ]
    }
   ],
   "source": [
    "#059\n",
    "cook = [\"피자\", \"김밥\", \"만두\", \"양념치킨\", \"족발\", \"피자\", \"김치만두\", \"쫄면\", \"소시지\", \"라면\", \"팥빙수\", \"김치전\"]\n",
    "print(len(cook))"
   ]
  },
  {
   "cell_type": "code",
   "execution_count": 187,
   "id": "c6a9436a-e34e-47ca-b94f-fcebab5107ca",
   "metadata": {},
   "outputs": [
    {
     "name": "stdout",
     "output_type": "stream",
     "text": [
      "3.0\n"
     ]
    }
   ],
   "source": [
    "#060 -> avg는 없었다.. 계산해야됨\n",
    "nums = [1, 2, 3, 4, 5]\n",
    "print(sum(nums)/len(nums))"
   ]
  },
  {
   "cell_type": "code",
   "execution_count": 189,
   "id": "c6d19ab0-2d4e-4533-9371-05201a689653",
   "metadata": {},
   "outputs": [
    {
     "name": "stdout",
     "output_type": "stream",
     "text": [
      "[100, 130, 140, 150, 160, 170]\n"
     ]
    }
   ],
   "source": [
    "#061\n",
    "price = ['20180728', 100, 130, 140, 150, 160, 170]\n",
    "print(price[1:])"
   ]
  },
  {
   "cell_type": "code",
   "execution_count": 191,
   "id": "296d1765-bd5f-448a-bb0f-ed4a85ae58cc",
   "metadata": {},
   "outputs": [
    {
     "name": "stdout",
     "output_type": "stream",
     "text": [
      "[1, 3, 5, 7, 9]\n"
     ]
    }
   ],
   "source": [
    "#062\n",
    "nums = [1, 2, 3, 4, 5, 6, 7, 8, 9, 10]\n",
    "print(nums[::2])"
   ]
  },
  {
   "cell_type": "code",
   "execution_count": 193,
   "id": "125720d9-2d44-43ba-9bf4-e631aa5f767f",
   "metadata": {},
   "outputs": [
    {
     "name": "stdout",
     "output_type": "stream",
     "text": [
      "[2, 4, 6, 8, 10]\n"
     ]
    }
   ],
   "source": [
    "#063\n",
    "nums = [1, 2, 3, 4, 5, 6, 7, 8, 9, 10]\n",
    "print(nums[1::2])"
   ]
  },
  {
   "cell_type": "code",
   "execution_count": 200,
   "id": "ff4a857b-b18b-4cab-a92e-7e58474ab0b6",
   "metadata": {},
   "outputs": [
    {
     "name": "stdout",
     "output_type": "stream",
     "text": [
      "[5, 4, 3, 2, 1]\n"
     ]
    }
   ],
   "source": [
    "#064\n",
    "nums = [1, 2, 3, 4, 5]\n",
    "nums.reverse()\n",
    "print(nums)"
   ]
  },
  {
   "cell_type": "code",
   "execution_count": 202,
   "id": "fee59a91-3630-4ee9-b39e-a6c8243fa6f8",
   "metadata": {},
   "outputs": [
    {
     "name": "stdout",
     "output_type": "stream",
     "text": [
      "[5, 4, 3, 2, 1]\n"
     ]
    }
   ],
   "source": [
    "#064-1\n",
    "nums = [1, 2, 3, 4, 5]\n",
    "print(nums[::-1])"
   ]
  },
  {
   "cell_type": "code",
   "execution_count": 205,
   "id": "bfa16cc7-1087-4e15-9d5f-6710d9540c02",
   "metadata": {},
   "outputs": [
    {
     "name": "stdout",
     "output_type": "stream",
     "text": [
      "삼성전자 Naver\n"
     ]
    }
   ],
   "source": [
    "#065 \n",
    "interest = ['삼성전자', 'LG전자', 'Naver']\n",
    "print(interest[0],interest[-1])"
   ]
  },
  {
   "cell_type": "code",
   "execution_count": 212,
   "id": "2ba59205-036e-47b3-9e90-3090d1fa5240",
   "metadata": {},
   "outputs": [
    {
     "name": "stdout",
     "output_type": "stream",
     "text": [
      "삼성전자 LG전자 Naver SK하이닉스 미래에셋대우\n"
     ]
    }
   ],
   "source": [
    "#066 ->정답확인\n",
    "interest = ['삼성전자', 'LG전자', 'Naver', 'SK하이닉스', '미래에셋대우']\n",
    "print(' '.join(interest))"
   ]
  },
  {
   "cell_type": "code",
   "execution_count": 213,
   "id": "49745507-f3a6-47ce-aaf2-57b77d4cbd6d",
   "metadata": {},
   "outputs": [
    {
     "name": "stdout",
     "output_type": "stream",
     "text": [
      "삼성전자/LG전자/Naver/SK하이닉스/미래에셋대우\n"
     ]
    }
   ],
   "source": [
    "#067\n",
    "interest = ['삼성전자', 'LG전자', 'Naver', 'SK하이닉스', '미래에셋대우']\n",
    "print('/'.join(interest))"
   ]
  },
  {
   "cell_type": "code",
   "execution_count": 214,
   "id": "925d9673-42e1-4357-a3c9-5b66daf0532d",
   "metadata": {},
   "outputs": [
    {
     "name": "stdout",
     "output_type": "stream",
     "text": [
      "삼성전자\n",
      "LG전자\n",
      "Naver\n",
      "SK하이닉스\n",
      "미래에셋대우\n"
     ]
    }
   ],
   "source": [
    "#068\n",
    "interest = ['삼성전자', 'LG전자', 'Naver', 'SK하이닉스', '미래에셋대우']\n",
    "print('\\n'.join(interest))"
   ]
  },
  {
   "cell_type": "code",
   "execution_count": 218,
   "id": "3a3d5aa4-8d02-4831-86e8-129f90d85099",
   "metadata": {},
   "outputs": [
    {
     "name": "stdout",
     "output_type": "stream",
     "text": [
      "['삼성전자', 'LG전자', 'Naver']\n"
     ]
    }
   ],
   "source": [
    "#069\n",
    "string = \"삼성전자/LG전자/Naver\"\n",
    "interest = string.split('/')\n",
    "print(interest)"
   ]
  },
  {
   "cell_type": "code",
   "execution_count": 221,
   "id": "a29cb438-82f7-4cf2-a213-687c89d17ba7",
   "metadata": {},
   "outputs": [
    {
     "name": "stdout",
     "output_type": "stream",
     "text": [
      "[1, 2, 3, 4, 5, 9, 10]\n"
     ]
    }
   ],
   "source": [
    "#070\n",
    "data = [2, 4, 3, 1, 5, 10, 9]\n",
    "data.sort()\n",
    "print(data)"
   ]
  },
  {
   "cell_type": "code",
   "execution_count": 225,
   "id": "e4f7f1f6-0711-4787-895f-acc12f30c447",
   "metadata": {},
   "outputs": [
    {
     "name": "stdout",
     "output_type": "stream",
     "text": [
      "<class 'tuple'>\n"
     ]
    }
   ],
   "source": [
    "#071\n",
    "my_variable= ()\n",
    "print(type(my_variable)) "
   ]
  },
  {
   "cell_type": "code",
   "execution_count": 226,
   "id": "27ce6ec3-5b3a-4e13-b1ca-a239cc03dccf",
   "metadata": {},
   "outputs": [
    {
     "data": {
      "text/plain": [
       "tuple"
      ]
     },
     "execution_count": 226,
     "metadata": {},
     "output_type": "execute_result"
    }
   ],
   "source": [
    "#072\n",
    "movie_rank = ('닥터 스트레인지','스플릿','럭키')\n",
    "type(movie_rank)"
   ]
  },
  {
   "cell_type": "code",
   "execution_count": 230,
   "id": "576623ab-ac3f-4de8-a772-3aceb784f3d9",
   "metadata": {},
   "outputs": [
    {
     "data": {
      "text/plain": [
       "tuple"
      ]
     },
     "execution_count": 230,
     "metadata": {},
     "output_type": "execute_result"
    }
   ],
   "source": [
    "#073 -> 땡! 튜플이 되려면 , 찍어서 값을 2개 이상 만들어야\n",
    "a = (1, )\n",
    "type(a)"
   ]
  },
  {
   "cell_type": "code",
   "execution_count": 232,
   "id": "9a4bb34a-fa9f-4331-8ced-b1651881f0e2",
   "metadata": {},
   "outputs": [
    {
     "ename": "TypeError",
     "evalue": "'tuple' object does not support item assignment",
     "output_type": "error",
     "traceback": [
      "\u001b[1;31m---------------------------------------------------------------------------\u001b[0m",
      "\u001b[1;31mTypeError\u001b[0m                                 Traceback (most recent call last)",
      "Cell \u001b[1;32mIn[232], line 3\u001b[0m\n\u001b[0;32m      1\u001b[0m \u001b[38;5;66;03m#074\u001b[39;00m\n\u001b[0;32m      2\u001b[0m t \u001b[38;5;241m=\u001b[39m (\u001b[38;5;241m1\u001b[39m, \u001b[38;5;241m2\u001b[39m, \u001b[38;5;241m3\u001b[39m)\n\u001b[1;32m----> 3\u001b[0m t[\u001b[38;5;241m0\u001b[39m] \u001b[38;5;241m=\u001b[39m \u001b[38;5;124m'\u001b[39m\u001b[38;5;124ma\u001b[39m\u001b[38;5;124m'\u001b[39m\n",
      "\u001b[1;31mTypeError\u001b[0m: 'tuple' object does not support item assignment"
     ]
    }
   ],
   "source": [
    "#074\n",
    "#튜플은 값을 변경할 수 없다! \n",
    "t = (1, 2, 3)\n",
    "t[0] = 'a'"
   ]
  },
  {
   "cell_type": "code",
   "execution_count": 233,
   "id": "e35277d6-ccb0-4786-9241-759c94c22316",
   "metadata": {},
   "outputs": [
    {
     "data": {
      "text/plain": [
       "tuple"
      ]
     },
     "execution_count": 233,
     "metadata": {},
     "output_type": "execute_result"
    }
   ],
   "source": [
    "#075\n",
    "t = 1, 2, 3, 4\n",
    "type(t)"
   ]
  },
  {
   "cell_type": "code",
   "execution_count": 235,
   "id": "e5b2ebce-b636-477f-89d4-27dc8e7480ea",
   "metadata": {},
   "outputs": [
    {
     "data": {
      "text/plain": [
       "tuple"
      ]
     },
     "execution_count": 235,
     "metadata": {},
     "output_type": "execute_result"
    }
   ],
   "source": [
    "#076\n",
    "t = ('A', 'B', 'C')\n",
    "type(t)"
   ]
  },
  {
   "cell_type": "code",
   "execution_count": 239,
   "id": "dbe5e4f2-00da-44a7-b9f2-8ab759983794",
   "metadata": {},
   "outputs": [
    {
     "name": "stdout",
     "output_type": "stream",
     "text": [
      "['삼성전자', 'LG전자', 'SK Hynix']\n"
     ]
    }
   ],
   "source": [
    "#077 ->정답확인\n",
    "interest = ('삼성전자', 'LG전자', 'SK Hynix')\n",
    "data = list(interest)\n",
    "print(data)"
   ]
  },
  {
   "cell_type": "code",
   "execution_count": 241,
   "id": "6ecac728-1271-41a2-9cdf-2b67da780e61",
   "metadata": {},
   "outputs": [
    {
     "name": "stdout",
     "output_type": "stream",
     "text": [
      "('삼성전자', 'LG전자', 'SK Hynix')\n"
     ]
    }
   ],
   "source": [
    "#078\n",
    "interest = ['삼성전자', 'LG전자', 'SK Hynix']\n",
    "data = tuple(interest)\n",
    "print(data)"
   ]
  },
  {
   "cell_type": "code",
   "execution_count": 242,
   "id": "28f70d47-a38e-439a-85f9-7601bf982932",
   "metadata": {},
   "outputs": [
    {
     "name": "stdout",
     "output_type": "stream",
     "text": [
      "apple banana cake\n"
     ]
    }
   ],
   "source": [
    "#079 \n",
    "temp = ('apple', 'banana', 'cake')\n",
    "a, b, c = temp\n",
    "print(a, b, c)"
   ]
  },
  {
   "cell_type": "code",
   "execution_count": 257,
   "id": "402a6f6a-7278-4982-8490-ffd8d84e05ca",
   "metadata": {},
   "outputs": [
    {
     "name": "stdout",
     "output_type": "stream",
     "text": [
      "(2, 4, 6, 8, 10, 12, 14, 16, 18, 20, 22, 24, 26, 28, 30, 32, 34, 36, 38, 40, 42, 44, 46, 48, 50, 52, 54, 56, 58, 60, 62, 64, 66, 68, 70, 72, 74, 76, 78, 80, 82, 84, 86, 88, 90, 92, 94, 96, 98)\n"
     ]
    }
   ],
   "source": [
    "#080\n",
    "a = tuple(range(1,100))\n",
    "b = tuple(a[1::2])\n",
    "print(b)"
   ]
  },
  {
   "cell_type": "markdown",
   "id": "052cff25-dad3-4596-b168-b04670ca71a7",
   "metadata": {},
   "source": [
    "## 끄으으으으으읕~!"
   ]
  }
 ],
 "metadata": {
  "kernelspec": {
   "display_name": "Python 3 (ipykernel)",
   "language": "python",
   "name": "python3"
  },
  "language_info": {
   "codemirror_mode": {
    "name": "ipython",
    "version": 3
   },
   "file_extension": ".py",
   "mimetype": "text/x-python",
   "name": "python",
   "nbconvert_exporter": "python",
   "pygments_lexer": "ipython3",
   "version": "3.11.7"
  }
 },
 "nbformat": 4,
 "nbformat_minor": 5
}
