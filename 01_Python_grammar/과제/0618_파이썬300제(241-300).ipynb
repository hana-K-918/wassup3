{
 "cells": [
  {
   "cell_type": "code",
   "execution_count": null,
   "id": "8e4593c2-8f06-4718-86e8-4e8ed6af57dd",
   "metadata": {},
   "outputs": [],
   "source": [
    "#241"
   ]
  },
  {
   "cell_type": "code",
   "execution_count": null,
   "id": "25b1ec64-512b-4184-8f42-184daddc766d",
   "metadata": {},
   "outputs": [],
   "source": [
    "#242"
   ]
  },
  {
   "cell_type": "code",
   "execution_count": null,
   "id": "0da6feb2-a7bb-4abc-9217-aba89590928d",
   "metadata": {},
   "outputs": [],
   "source": [
    "#243"
   ]
  },
  {
   "cell_type": "code",
   "execution_count": null,
   "id": "ea47ddb5-445c-4bd7-8834-0dd3146afa0c",
   "metadata": {},
   "outputs": [],
   "source": [
    "#244"
   ]
  },
  {
   "cell_type": "code",
   "execution_count": null,
   "id": "7f651eda-0fed-44cd-b9dc-4aeabd88bd23",
   "metadata": {},
   "outputs": [],
   "source": [
    "#245"
   ]
  },
  {
   "cell_type": "code",
   "execution_count": null,
   "id": "35c896e7-f890-48d0-83c6-1ba0fc2cca95",
   "metadata": {},
   "outputs": [],
   "source": [
    "#246"
   ]
  },
  {
   "cell_type": "code",
   "execution_count": null,
   "id": "b400c467-01ea-49b2-abc9-bc8be7a157fb",
   "metadata": {},
   "outputs": [],
   "source": [
    "#247"
   ]
  },
  {
   "cell_type": "code",
   "execution_count": null,
   "id": "a534ca76-6ae7-4774-8b96-404914322980",
   "metadata": {},
   "outputs": [],
   "source": [
    "#248"
   ]
  },
  {
   "cell_type": "code",
   "execution_count": null,
   "id": "f8ae6e05-af19-47d0-be97-6cd54fba8552",
   "metadata": {},
   "outputs": [],
   "source": [
    "#249"
   ]
  },
  {
   "cell_type": "code",
   "execution_count": null,
   "id": "3f135e6e-a7c7-419c-804d-ea15344fc23c",
   "metadata": {},
   "outputs": [],
   "source": [
    "#250"
   ]
  },
  {
   "cell_type": "code",
   "execution_count": 1,
   "id": "26c37db6-da13-42ca-beb9-5ef4ad471fb5",
   "metadata": {},
   "outputs": [],
   "source": [
    "#251\n",
    "#클래스 = 데이터와 함수를 한 곳에 정의\n",
    "#객체 = 클래스의 결과물"
   ]
  },
  {
   "cell_type": "code",
   "execution_count": 1,
   "id": "26327e6d-8f87-428f-b9be-eddfeee9ba0e",
   "metadata": {},
   "outputs": [],
   "source": [
    "#252\n",
    "class Human:\n",
    "    pass"
   ]
  },
  {
   "cell_type": "code",
   "execution_count": 2,
   "id": "26c836f9-7935-4eab-908d-dfffc813ded5",
   "metadata": {},
   "outputs": [],
   "source": [
    "#253\n",
    "areum = Human()"
   ]
  },
  {
   "cell_type": "code",
   "execution_count": null,
   "id": "3e3f4da8-1126-4d61-a428-7e1d24cb580d",
   "metadata": {},
   "outputs": [],
   "source": [
    "#254"
   ]
  },
  {
   "cell_type": "code",
   "execution_count": null,
   "id": "aacc4cdd-21f6-4b8b-96d4-f390d869aed3",
   "metadata": {},
   "outputs": [],
   "source": [
    "#255"
   ]
  },
  {
   "cell_type": "code",
   "execution_count": null,
   "id": "1d803cf5-08ea-4034-bc10-ee9b0c9a9fea",
   "metadata": {},
   "outputs": [],
   "source": [
    "#256"
   ]
  },
  {
   "cell_type": "code",
   "execution_count": null,
   "id": "b8bfa9a9-a74f-4096-9dce-a9d26aeb021c",
   "metadata": {},
   "outputs": [],
   "source": [
    "#257"
   ]
  },
  {
   "cell_type": "code",
   "execution_count": null,
   "id": "a9a2501b-e5a1-4adb-8882-9f7c9b540e93",
   "metadata": {},
   "outputs": [],
   "source": [
    "#258"
   ]
  },
  {
   "cell_type": "code",
   "execution_count": null,
   "id": "696c058a-b0ed-4a7a-8504-7f5e6986c9c5",
   "metadata": {},
   "outputs": [],
   "source": [
    "#259"
   ]
  },
  {
   "cell_type": "code",
   "execution_count": null,
   "id": "17afd215-9db4-48ca-88fa-e91c3e6656a8",
   "metadata": {},
   "outputs": [],
   "source": [
    "#260"
   ]
  },
  {
   "cell_type": "code",
   "execution_count": null,
   "id": "bf147516-3426-49f8-a289-2f9238b6491e",
   "metadata": {},
   "outputs": [],
   "source": [
    "#261"
   ]
  },
  {
   "cell_type": "code",
   "execution_count": null,
   "id": "bd64924d-d15d-4a04-8e2c-92df34ffae08",
   "metadata": {},
   "outputs": [],
   "source": [
    "#262"
   ]
  },
  {
   "cell_type": "code",
   "execution_count": null,
   "id": "f5c23012-d97e-4f2a-ad45-3e37e4e11279",
   "metadata": {},
   "outputs": [],
   "source": [
    "#263"
   ]
  },
  {
   "cell_type": "code",
   "execution_count": null,
   "id": "82579214-0f70-40ad-8f97-024045e0b662",
   "metadata": {},
   "outputs": [],
   "source": [
    "#264"
   ]
  },
  {
   "cell_type": "code",
   "execution_count": null,
   "id": "695bbc4e-44d0-4e70-bed5-3ae0ff1556e7",
   "metadata": {},
   "outputs": [],
   "source": [
    "#265"
   ]
  },
  {
   "cell_type": "code",
   "execution_count": null,
   "id": "4e8f1164-adfa-4995-93c1-5cb0806a5fe5",
   "metadata": {},
   "outputs": [],
   "source": [
    "#266"
   ]
  },
  {
   "cell_type": "code",
   "execution_count": null,
   "id": "5064e381-e2a4-4aa0-a333-c8c0b50423db",
   "metadata": {},
   "outputs": [],
   "source": [
    "#267"
   ]
  },
  {
   "cell_type": "code",
   "execution_count": null,
   "id": "359eccc3-c2bf-4f89-beb6-90545c855084",
   "metadata": {},
   "outputs": [],
   "source": [
    "#268"
   ]
  },
  {
   "cell_type": "code",
   "execution_count": null,
   "id": "8c3c2602-8616-4b1b-a9be-67acfc8a1236",
   "metadata": {},
   "outputs": [],
   "source": [
    "#269"
   ]
  },
  {
   "cell_type": "code",
   "execution_count": null,
   "id": "c4bc3798-b959-4a0c-899f-4b16010e1b8e",
   "metadata": {},
   "outputs": [],
   "source": [
    "#270"
   ]
  },
  {
   "cell_type": "code",
   "execution_count": null,
   "id": "cc6765da-ff13-491a-a118-0890be3aefd7",
   "metadata": {},
   "outputs": [],
   "source": [
    "#271"
   ]
  },
  {
   "cell_type": "code",
   "execution_count": null,
   "id": "6563197f-140d-4b06-b61e-70c1a60a9eec",
   "metadata": {},
   "outputs": [],
   "source": [
    "#272"
   ]
  },
  {
   "cell_type": "code",
   "execution_count": null,
   "id": "e04f31c5-eb1d-4555-95f5-a01e2050e27d",
   "metadata": {},
   "outputs": [],
   "source": [
    "#273"
   ]
  },
  {
   "cell_type": "code",
   "execution_count": null,
   "id": "3d82a175-4a33-44da-ba4d-ebcfae47deb2",
   "metadata": {},
   "outputs": [],
   "source": [
    "#274"
   ]
  },
  {
   "cell_type": "code",
   "execution_count": null,
   "id": "b48a80aa-1289-469f-a881-0f284ef09ee4",
   "metadata": {},
   "outputs": [],
   "source": [
    "#275"
   ]
  },
  {
   "cell_type": "code",
   "execution_count": null,
   "id": "b65399de-611f-46eb-beb7-a9649c61386e",
   "metadata": {},
   "outputs": [],
   "source": [
    "#276"
   ]
  },
  {
   "cell_type": "code",
   "execution_count": null,
   "id": "7963387f-459f-418c-9e8e-25efa7dd73a9",
   "metadata": {},
   "outputs": [],
   "source": [
    "#277"
   ]
  },
  {
   "cell_type": "code",
   "execution_count": null,
   "id": "b4c60da1-7e33-4567-ba39-0eae53f1d866",
   "metadata": {},
   "outputs": [],
   "source": [
    "#278"
   ]
  },
  {
   "cell_type": "code",
   "execution_count": null,
   "id": "5b455dfb-32c6-4a01-813b-1cd3c7b264c5",
   "metadata": {},
   "outputs": [],
   "source": [
    "#279"
   ]
  },
  {
   "cell_type": "code",
   "execution_count": null,
   "id": "e0a486fa-e5a3-45de-9807-d3cf8818843b",
   "metadata": {},
   "outputs": [],
   "source": [
    "#280"
   ]
  },
  {
   "cell_type": "code",
   "execution_count": null,
   "id": "7624847a-1322-4b15-9073-0f25ba0d7907",
   "metadata": {},
   "outputs": [],
   "source": [
    "#281"
   ]
  },
  {
   "cell_type": "code",
   "execution_count": null,
   "id": "14f66e0a-d1be-4f3d-8401-df6088528c0b",
   "metadata": {},
   "outputs": [],
   "source": [
    "#282"
   ]
  },
  {
   "cell_type": "code",
   "execution_count": null,
   "id": "b6cc0908-cf44-4b46-a5f6-ae4d4ceef96c",
   "metadata": {},
   "outputs": [],
   "source": [
    "#283"
   ]
  },
  {
   "cell_type": "code",
   "execution_count": null,
   "id": "6a8fd67c-db26-4cae-9a9f-505d443236e6",
   "metadata": {},
   "outputs": [],
   "source": [
    "#284"
   ]
  },
  {
   "cell_type": "code",
   "execution_count": null,
   "id": "c11756c9-bc64-487b-bd53-436460a6766f",
   "metadata": {},
   "outputs": [],
   "source": [
    "#285"
   ]
  },
  {
   "cell_type": "code",
   "execution_count": null,
   "id": "6bd07bc4-236c-4143-82ca-9fd805b24765",
   "metadata": {},
   "outputs": [],
   "source": [
    "#286"
   ]
  },
  {
   "cell_type": "code",
   "execution_count": null,
   "id": "037ffad7-c310-4852-8bf9-1b466112ab64",
   "metadata": {},
   "outputs": [],
   "source": [
    "#287"
   ]
  },
  {
   "cell_type": "code",
   "execution_count": null,
   "id": "6fdead64-9c02-415b-8eef-3449d20c8e49",
   "metadata": {},
   "outputs": [],
   "source": [
    "#288"
   ]
  },
  {
   "cell_type": "code",
   "execution_count": null,
   "id": "c08bf949-c86d-47df-a028-96746b7371bd",
   "metadata": {},
   "outputs": [],
   "source": [
    "#289"
   ]
  },
  {
   "cell_type": "code",
   "execution_count": null,
   "id": "57022931-7cab-4d9e-9381-83dcff537ab5",
   "metadata": {},
   "outputs": [],
   "source": [
    "#290"
   ]
  },
  {
   "cell_type": "code",
   "execution_count": null,
   "id": "9b0ce822-2379-4cd6-bef6-870ef398f3d1",
   "metadata": {},
   "outputs": [],
   "source": []
  },
  {
   "cell_type": "code",
   "execution_count": null,
   "id": "3019d990-628d-436b-b6b6-2ac42d421d4d",
   "metadata": {},
   "outputs": [],
   "source": []
  },
  {
   "cell_type": "code",
   "execution_count": null,
   "id": "51e7e187-d3a0-420c-af80-3ff13a021c68",
   "metadata": {},
   "outputs": [],
   "source": []
  }
 ],
 "metadata": {
  "kernelspec": {
   "display_name": "Python 3 (ipykernel)",
   "language": "python",
   "name": "python3"
  },
  "language_info": {
   "codemirror_mode": {
    "name": "ipython",
    "version": 3
   },
   "file_extension": ".py",
   "mimetype": "text/x-python",
   "name": "python",
   "nbconvert_exporter": "python",
   "pygments_lexer": "ipython3",
   "version": "3.11.7"
  }
 },
 "nbformat": 4,
 "nbformat_minor": 5
}
