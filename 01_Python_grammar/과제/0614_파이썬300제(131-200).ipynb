{
 "cells": [
  {
   "cell_type": "code",
   "execution_count": 1,
   "id": "51bf631a-4517-4687-8d39-7c2ed3268546",
   "metadata": {},
   "outputs": [
    {
     "name": "stdout",
     "output_type": "stream",
     "text": [
      "사과\n",
      "귤\n",
      "수박\n"
     ]
    }
   ],
   "source": [
    "#131\n",
    "#사과\n",
    "#귤\n",
    "#수박\n",
    "과일 = [\"사과\", \"귤\", \"수박\"]\n",
    "for 변수 in 과일:\n",
    "    print(변수)"
   ]
  },
  {
   "cell_type": "code",
   "execution_count": 3,
   "id": "df1846f8-d442-4cc3-a6f2-8b1f4d3379f1",
   "metadata": {},
   "outputs": [
    {
     "name": "stdout",
     "output_type": "stream",
     "text": [
      "#####\n",
      "#####\n",
      "#####\n"
     ]
    }
   ],
   "source": [
    "#132\n",
    "#아무것도 출력되지않음...? \n",
    "#\"들여쓰기된 코드가 자료구조에 저장된 데이터 개수만큼 반복된다\"\n",
    "\n",
    "과일 = [\"사과\", \"귤\", \"수박\"]\n",
    "for 변수 in 과일:\n",
    "  print(\"#####\")"
   ]
  },
  {
   "cell_type": "code",
   "execution_count": 5,
   "id": "085dd82f-23ba-4ddb-95c2-f7efb46fceae",
   "metadata": {},
   "outputs": [
    {
     "name": "stdout",
     "output_type": "stream",
     "text": [
      "A\n",
      "B\n",
      "c\n"
     ]
    }
   ],
   "source": [
    "#133\n",
    "a = 'A'\n",
    "print(a)\n",
    "b = 'B'\n",
    "print(b)\n",
    "c = 'c'\n",
    "print(c)"
   ]
  },
  {
   "cell_type": "code",
   "execution_count": 6,
   "id": "5d5aae60-1c52-4a48-a78a-922463cfe2a6",
   "metadata": {},
   "outputs": [
    {
     "name": "stdout",
     "output_type": "stream",
     "text": [
      "출력 A\n",
      "출력 B\n",
      "출력 C\n"
     ]
    }
   ],
   "source": [
    "#134\n",
    "p = '출력'\n",
    "a = 'A'\n",
    "print(p,a)\n",
    "b = 'B'\n",
    "print(p,b)\n",
    "c = 'C'\n",
    "print(p,c)"
   ]
  },
  {
   "cell_type": "code",
   "execution_count": 7,
   "id": "dfd69155-ec7a-45ca-be79-bfb619681d05",
   "metadata": {},
   "outputs": [
    {
     "name": "stdout",
     "output_type": "stream",
     "text": [
      "변환 a\n",
      "변환 b\n",
      "변환 c\n"
     ]
    }
   ],
   "source": [
    "#135\n",
    "p = '변환'\n",
    "a = 'A'\n",
    "print(p,a.lower())\n",
    "b = 'B'\n",
    "print(p,b.lower())\n",
    "c = 'C'\n",
    "print(p,c.lower())"
   ]
  },
  {
   "cell_type": "code",
   "execution_count": 8,
   "id": "9b2db788-9222-47dc-8f37-fe8238d27651",
   "metadata": {},
   "outputs": [
    {
     "name": "stdout",
     "output_type": "stream",
     "text": [
      "10\n",
      "20\n",
      "30\n"
     ]
    }
   ],
   "source": [
    "#136\n",
    "for a in [10,20,30]:\n",
    "    print(a)"
   ]
  },
  {
   "cell_type": "code",
   "execution_count": 10,
   "id": "568c609b-bb89-49dc-860d-97bdc6798169",
   "metadata": {},
   "outputs": [
    {
     "name": "stdout",
     "output_type": "stream",
     "text": [
      "10\n",
      "20\n",
      "30\n"
     ]
    }
   ],
   "source": [
    "#137\n",
    "for a in [10,20,30]:\n",
    "    print(a)"
   ]
  },
  {
   "cell_type": "code",
   "execution_count": 11,
   "id": "a777168f-8eae-4a05-88a1-c513c92dbebd",
   "metadata": {},
   "outputs": [
    {
     "name": "stdout",
     "output_type": "stream",
     "text": [
      "10\n",
      "-------\n",
      "20\n",
      "-------\n",
      "30\n",
      "-------\n"
     ]
    }
   ],
   "source": [
    "#138\n",
    "for a in [10,20,30]:\n",
    "    print(a)\n",
    "    print('-'*7)"
   ]
  },
  {
   "cell_type": "code",
   "execution_count": 12,
   "id": "2f2946be-c5b9-493d-a77a-ca8c7ccc39b0",
   "metadata": {},
   "outputs": [
    {
     "name": "stdout",
     "output_type": "stream",
     "text": [
      "++++\n",
      "10\n",
      "++++\n",
      "20\n",
      "++++\n",
      "30\n"
     ]
    }
   ],
   "source": [
    "#139\n",
    "for a in [10,20,30]:\n",
    "    print('+'*4)\n",
    "    print(a)\n",
    "    "
   ]
  },
  {
   "cell_type": "code",
   "execution_count": 13,
   "id": "548b22c0-e256-4ce3-99d0-f7e51d8d87ad",
   "metadata": {},
   "outputs": [
    {
     "name": "stdout",
     "output_type": "stream",
     "text": [
      "-------\n",
      "-------\n",
      "-------\n",
      "-------\n"
     ]
    }
   ],
   "source": [
    "#140\n",
    "for a in [10,20,30,40]:\n",
    "    print('-'*7)"
   ]
  },
  {
   "cell_type": "code",
   "execution_count": 15,
   "id": "f5a4a0bd-bb8c-49d8-b7b3-e6febfb22c68",
   "metadata": {},
   "outputs": [
    {
     "name": "stdout",
     "output_type": "stream",
     "text": [
      "110\n",
      "210\n",
      "310\n"
     ]
    }
   ],
   "source": [
    "#141\n",
    "list = [100, 200, 300]\n",
    "for a in list:\n",
    "    print(a+10)"
   ]
  },
  {
   "cell_type": "code",
   "execution_count": 16,
   "id": "4513af31-390e-467e-b818-62fba5638e53",
   "metadata": {},
   "outputs": [
    {
     "name": "stdout",
     "output_type": "stream",
     "text": [
      "오늘의 메뉴:  김밥\n",
      "오늘의 메뉴:  라면\n",
      "오늘의 메뉴:  튀김\n"
     ]
    }
   ],
   "source": [
    "#142\n",
    "list = [\"김밥\", \"라면\", \"튀김\"]\n",
    "for a in list:\n",
    "    print('오늘의 메뉴: ',a)"
   ]
  },
  {
   "cell_type": "code",
   "execution_count": 17,
   "id": "5d6e5a86-31c9-4b92-8c6a-42add01ce4b2",
   "metadata": {},
   "outputs": [
    {
     "name": "stdout",
     "output_type": "stream",
     "text": [
      "6\n",
      "4\n",
      "4\n"
     ]
    }
   ],
   "source": [
    "#143\n",
    "list = [\"SK하이닉스\", \"삼성전자\", \"LG전자\"]\n",
    "for a in list:\n",
    "    print(len(a))"
   ]
  },
  {
   "cell_type": "code",
   "execution_count": 18,
   "id": "7971dfd3-d361-4414-a383-e31eb0e5d44d",
   "metadata": {},
   "outputs": [
    {
     "name": "stdout",
     "output_type": "stream",
     "text": [
      "dog 3\n",
      "cat 3\n",
      "parrot 6\n"
     ]
    }
   ],
   "source": [
    "#144\n",
    "list = ['dog', 'cat', 'parrot']\n",
    "for a in list:\n",
    "    print(a,len(a))"
   ]
  },
  {
   "cell_type": "code",
   "execution_count": 19,
   "id": "cbfcb645-9311-41b8-904c-1d57294c70ba",
   "metadata": {},
   "outputs": [
    {
     "name": "stdout",
     "output_type": "stream",
     "text": [
      "d\n",
      "c\n",
      "p\n"
     ]
    }
   ],
   "source": [
    "#145\n",
    "for a in list:\n",
    "    print(a[0])"
   ]
  },
  {
   "cell_type": "code",
   "execution_count": 21,
   "id": "0489615c-d93f-4d65-8321-765de11cc6e0",
   "metadata": {},
   "outputs": [
    {
     "name": "stdout",
     "output_type": "stream",
     "text": [
      "3 X 1\n",
      "3 X 2\n",
      "3 X 3\n"
     ]
    }
   ],
   "source": [
    "#146\n",
    "list = [1, 2, 3]\n",
    "for a in list:\n",
    "    print(\"3 X\",a)"
   ]
  },
  {
   "cell_type": "code",
   "execution_count": 24,
   "id": "3be3384f-6130-4498-aa9e-9cf09d85877d",
   "metadata": {},
   "outputs": [
    {
     "name": "stdout",
     "output_type": "stream",
     "text": [
      "3 X 1 = 3\n",
      "3 X 2 = 6\n",
      "3 X 3 = 9\n"
     ]
    }
   ],
   "source": [
    "#147\n",
    "for a in list:\n",
    "    print(\"3 X\",a,'=',a*3)"
   ]
  },
  {
   "cell_type": "code",
   "execution_count": 25,
   "id": "8d0dd701-b58a-4f95-8453-1ebb32c5ee88",
   "metadata": {},
   "outputs": [
    {
     "name": "stdout",
     "output_type": "stream",
     "text": [
      "나\n",
      "다\n",
      "라\n"
     ]
    }
   ],
   "source": [
    "#148\n",
    "list = [\"가\", \"나\", \"다\", \"라\"]\n",
    "for a in list[1:]:\n",
    "    print(a)"
   ]
  },
  {
   "cell_type": "code",
   "execution_count": 27,
   "id": "0d196d70-1192-47d3-9a32-efedebdc3168",
   "metadata": {},
   "outputs": [
    {
     "name": "stdout",
     "output_type": "stream",
     "text": [
      "가\n",
      "다\n"
     ]
    }
   ],
   "source": [
    "#149\n",
    "for a in list[0],list[2]: #list[::2] 증감폭 2 \n",
    "    print(a)"
   ]
  },
  {
   "cell_type": "code",
   "execution_count": 31,
   "id": "34838e98-5dda-41c8-b0e2-87bd35bb6a0e",
   "metadata": {},
   "outputs": [
    {
     "name": "stdout",
     "output_type": "stream",
     "text": [
      "라\n",
      "다\n",
      "나\n",
      "가\n"
     ]
    }
   ],
   "source": [
    "#150\n",
    "for a in list[::-1]:\n",
    "    print(a)\n"
   ]
  },
  {
   "cell_type": "code",
   "execution_count": null,
   "id": "b061b2ad-fe9b-4b89-9642-5576b0be2c87",
   "metadata": {},
   "outputs": [],
   "source": [
    "#151"
   ]
  },
  {
   "cell_type": "code",
   "execution_count": 38,
   "id": "4a786994-c0f4-40af-9f0b-1ded3108425f",
   "metadata": {},
   "outputs": [
    {
     "name": "stdout",
     "output_type": "stream",
     "text": [
      "-20\n",
      "-3\n"
     ]
    }
   ],
   "source": [
    "list = [3, -20, -3, 44]\n",
    "for a in list[1:3]:\n",
    "    print(a)"
   ]
  },
  {
   "cell_type": "code",
   "execution_count": 42,
   "id": "3c5f7e3c-9c28-41c3-afcf-d8a3d1bcb230",
   "metadata": {},
   "outputs": [
    {
     "name": "stdout",
     "output_type": "stream",
     "text": [
      "3\n"
     ]
    }
   ],
   "source": [
    "#152\n",
    "list = [3, 100, 23, 44]\n",
    "for a in list:\n",
    "    if a % 3 == 0:\n",
    "        print(a)\n"
   ]
  },
  {
   "cell_type": "code",
   "execution_count": 43,
   "id": "ced26f84-f897-4704-848a-68ec15721ad7",
   "metadata": {},
   "outputs": [
    {
     "name": "stdout",
     "output_type": "stream",
     "text": [
      "12\n",
      "18\n"
     ]
    }
   ],
   "source": [
    "#153\n",
    "list = [13, 21, 12, 14, 30, 18]\n",
    "for a in list:\n",
    "    if a < 20 and a % 3 == 0:\n",
    "        print(a)"
   ]
  },
  {
   "cell_type": "code",
   "execution_count": 45,
   "id": "17e86614-38f9-40e8-8602-d976122d7c78",
   "metadata": {},
   "outputs": [
    {
     "name": "stdout",
     "output_type": "stream",
     "text": [
      "study\n",
      "python\n",
      "language\n"
     ]
    }
   ],
   "source": [
    "#154\n",
    "list = [\"I\", \"study\", \"python\", \"language\", \"!\"]\n",
    "for a in list:\n",
    "    if len(a) >= 3:\n",
    "        print(a)"
   ]
  },
  {
   "cell_type": "code",
   "execution_count": 47,
   "id": "355db39c-a027-41af-8eb4-9f75848fe033",
   "metadata": {},
   "outputs": [
    {
     "name": "stdout",
     "output_type": "stream",
     "text": [
      "A\n",
      "D\n"
     ]
    }
   ],
   "source": [
    "#155\n",
    "list = [\"A\", \"b\", \"c\", \"D\"]\n",
    "for a in list:\n",
    "    if a.isupper():\n",
    "        print(a)"
   ]
  },
  {
   "cell_type": "code",
   "execution_count": 48,
   "id": "85fccedd-032e-490d-8e8d-e9ac6634f28f",
   "metadata": {},
   "outputs": [
    {
     "name": "stdout",
     "output_type": "stream",
     "text": [
      "b\n",
      "c\n"
     ]
    }
   ],
   "source": [
    "#156\n",
    "list = [\"A\", \"b\", \"c\", \"D\"]\n",
    "for a in list:\n",
    "    if a.islower():\n",
    "        print(a)"
   ]
  },
  {
   "cell_type": "code",
   "execution_count": 5,
   "id": "f071784f-4bdb-48e3-ae96-a00a687ad3b4",
   "metadata": {},
   "outputs": [
    {
     "name": "stdout",
     "output_type": "stream",
     "text": [
      "Dog\n",
      "Cat\n",
      "Parrot\n"
     ]
    }
   ],
   "source": [
    "#157\n",
    "list = ['dog', 'cat', 'parrot']\n",
    "for a in list:\n",
    "    print(a[0].upper() + a[1:])\n"
   ]
  },
  {
   "cell_type": "code",
   "execution_count": 11,
   "id": "f4b4ba5c-106a-4e70-b603-f6a96104d93b",
   "metadata": {},
   "outputs": [
    {
     "name": "stdout",
     "output_type": "stream",
     "text": [
      "hello\n",
      "ex01\n",
      "intro\n"
     ]
    }
   ],
   "source": [
    "#158\n",
    "list = ['hello.py', 'ex01.py', 'intro.hwp']\n",
    "for a in list:\n",
    "    result = a.split('.')\n",
    "    print(result[0])"
   ]
  },
  {
   "cell_type": "code",
   "execution_count": 20,
   "id": "83c5c041-5b3c-4c19-a93a-ea2ea0c755ed",
   "metadata": {},
   "outputs": [
    {
     "name": "stdout",
     "output_type": "stream",
     "text": [
      "intra.h\n",
      "define.h\n"
     ]
    }
   ],
   "source": [
    "#159\n",
    "list = ['intra.h', 'intra.c', 'define.h', 'run.py']\n",
    "for a in list:\n",
    "    result = a.split('.')\n",
    "    if result[1] == 'h':\n",
    "        print(a)"
   ]
  },
  {
   "cell_type": "code",
   "execution_count": 23,
   "id": "da677fc8-8b54-470c-80be-63e7e8c84c8f",
   "metadata": {},
   "outputs": [
    {
     "name": "stdout",
     "output_type": "stream",
     "text": [
      "intra.h\n",
      "intra.c\n",
      "define.h\n"
     ]
    }
   ],
   "source": [
    "#160\n",
    "list = ['intra.h', 'intra.c', 'define.h', 'run.py']\n",
    "for a in list:\n",
    "    result = a.split('.')\n",
    "    if (result[1] == 'h')or(result[1] == 'c'):\n",
    "        print(a)"
   ]
  },
  {
   "cell_type": "code",
   "execution_count": 29,
   "id": "9b668861-8ed0-4703-a61b-eb1b99fc6b53",
   "metadata": {},
   "outputs": [
    {
     "name": "stdout",
     "output_type": "stream",
     "text": [
      "0\n",
      "1\n",
      "2\n",
      "3\n",
      "4\n",
      "5\n",
      "6\n",
      "7\n",
      "8\n",
      "9\n",
      "10\n",
      "11\n",
      "12\n",
      "13\n",
      "14\n",
      "15\n",
      "16\n",
      "17\n",
      "18\n",
      "19\n",
      "20\n",
      "21\n",
      "22\n",
      "23\n",
      "24\n",
      "25\n",
      "26\n",
      "27\n",
      "28\n",
      "29\n",
      "30\n",
      "31\n",
      "32\n",
      "33\n",
      "34\n",
      "35\n",
      "36\n",
      "37\n",
      "38\n",
      "39\n",
      "40\n",
      "41\n",
      "42\n",
      "43\n",
      "44\n",
      "45\n",
      "46\n",
      "47\n",
      "48\n",
      "49\n",
      "50\n",
      "51\n",
      "52\n",
      "53\n",
      "54\n",
      "55\n",
      "56\n",
      "57\n",
      "58\n",
      "59\n",
      "60\n",
      "61\n",
      "62\n",
      "63\n",
      "64\n",
      "65\n",
      "66\n",
      "67\n",
      "68\n",
      "69\n",
      "70\n",
      "71\n",
      "72\n",
      "73\n",
      "74\n",
      "75\n",
      "76\n",
      "77\n",
      "78\n",
      "79\n",
      "80\n",
      "81\n",
      "82\n",
      "83\n",
      "84\n",
      "85\n",
      "86\n",
      "87\n",
      "88\n",
      "89\n",
      "90\n",
      "91\n",
      "92\n",
      "93\n",
      "94\n",
      "95\n",
      "96\n",
      "97\n",
      "98\n",
      "99\n"
     ]
    }
   ],
   "source": [
    "#161\n",
    "a = 0\n",
    "for a in range(100):\n",
    "    print(a)"
   ]
  },
  {
   "cell_type": "code",
   "execution_count": 39,
   "id": "6621a843-cf10-404a-9710-55174c9455af",
   "metadata": {},
   "outputs": [
    {
     "name": "stdout",
     "output_type": "stream",
     "text": [
      "2002\n",
      "2006\n",
      "2010\n",
      "2014\n",
      "2018\n",
      "2022\n",
      "2026\n",
      "2030\n",
      "2034\n",
      "2038\n",
      "2042\n",
      "2046\n",
      "2050\n"
     ]
    }
   ],
   "source": [
    "#162\n",
    "a = 0\n",
    "for a in range(2002,2051,4):\n",
    "    print (a)"
   ]
  },
  {
   "cell_type": "code",
   "execution_count": 42,
   "id": "ebe60757-e54e-46a4-940d-6c802364a49f",
   "metadata": {},
   "outputs": [
    {
     "name": "stdout",
     "output_type": "stream",
     "text": [
      "3\n",
      "6\n",
      "9\n",
      "12\n",
      "15\n",
      "18\n",
      "21\n",
      "24\n",
      "27\n",
      "30\n"
     ]
    }
   ],
   "source": [
    "#163\n",
    "a = 0\n",
    "for a in range(3,31,3):\n",
    "    print(a)"
   ]
  },
  {
   "cell_type": "code",
   "execution_count": 43,
   "id": "7c9eab90-5a78-4376-88e7-dfecc934f799",
   "metadata": {},
   "outputs": [
    {
     "name": "stdout",
     "output_type": "stream",
     "text": [
      "99\n",
      "98\n",
      "97\n",
      "96\n",
      "95\n",
      "94\n",
      "93\n",
      "92\n",
      "91\n",
      "90\n",
      "89\n",
      "88\n",
      "87\n",
      "86\n",
      "85\n",
      "84\n",
      "83\n",
      "82\n",
      "81\n",
      "80\n",
      "79\n",
      "78\n",
      "77\n",
      "76\n",
      "75\n",
      "74\n",
      "73\n",
      "72\n",
      "71\n",
      "70\n",
      "69\n",
      "68\n",
      "67\n",
      "66\n",
      "65\n",
      "64\n",
      "63\n",
      "62\n",
      "61\n",
      "60\n",
      "59\n",
      "58\n",
      "57\n",
      "56\n",
      "55\n",
      "54\n",
      "53\n",
      "52\n",
      "51\n",
      "50\n",
      "49\n",
      "48\n",
      "47\n",
      "46\n",
      "45\n",
      "44\n",
      "43\n",
      "42\n",
      "41\n",
      "40\n",
      "39\n",
      "38\n",
      "37\n",
      "36\n",
      "35\n",
      "34\n",
      "33\n",
      "32\n",
      "31\n",
      "30\n",
      "29\n",
      "28\n",
      "27\n",
      "26\n",
      "25\n",
      "24\n",
      "23\n",
      "22\n",
      "21\n",
      "20\n",
      "19\n",
      "18\n",
      "17\n",
      "16\n",
      "15\n",
      "14\n",
      "13\n",
      "12\n",
      "11\n",
      "10\n",
      "9\n",
      "8\n",
      "7\n",
      "6\n",
      "5\n",
      "4\n",
      "3\n",
      "2\n",
      "1\n",
      "0\n"
     ]
    }
   ],
   "source": [
    "#164\n",
    "a = 0\n",
    "for a in range (100):\n",
    "    print(99 -a)"
   ]
  },
  {
   "cell_type": "code",
   "execution_count": 49,
   "id": "b545db23-d196-42d1-97ae-b34cbb846906",
   "metadata": {},
   "outputs": [
    {
     "name": "stdout",
     "output_type": "stream",
     "text": [
      "0.0\n",
      "0.1\n",
      "0.2\n",
      "0.3\n",
      "0.4\n",
      "0.5\n",
      "0.6\n",
      "0.7\n",
      "0.8\n",
      "0.9\n"
     ]
    }
   ],
   "source": [
    "#165\n",
    "a = 0\n",
    "for a in range(10):\n",
    "    print(a / 10)"
   ]
  },
  {
   "cell_type": "code",
   "execution_count": 52,
   "id": "48a82810-5a57-4742-9829-5a7f998278e0",
   "metadata": {},
   "outputs": [
    {
     "name": "stdout",
     "output_type": "stream",
     "text": [
      "3X 1 = 3\n",
      "3X 2 = 6\n",
      "3X 3 = 9\n",
      "3X 4 = 12\n",
      "3X 5 = 15\n",
      "3X 6 = 18\n",
      "3X 7 = 21\n",
      "3X 8 = 24\n",
      "3X 9 = 27\n"
     ]
    }
   ],
   "source": [
    "#166\n",
    "a = 0\n",
    "for a in range(1,10) :\n",
    "    print(\"3X\",a,'=',a*3)"
   ]
  },
  {
   "cell_type": "code",
   "execution_count": 56,
   "id": "f782424f-4a03-4ae8-b1e5-a36651c17f0e",
   "metadata": {},
   "outputs": [
    {
     "name": "stdout",
     "output_type": "stream",
     "text": [
      "3X 1 = 3\n",
      "3X 3 = 9\n",
      "3X 5 = 15\n",
      "3X 7 = 21\n",
      "3X 9 = 27\n"
     ]
    }
   ],
   "source": [
    "#167\n",
    "a = 0\n",
    "for a in range(1,10) :\n",
    "    if a % 2 == 1:\n",
    "        print(\"3X\",a,'=',a*3)"
   ]
  },
  {
   "cell_type": "code",
   "execution_count": 65,
   "id": "be8f66d6-af81-4e2c-9478-562a62b573df",
   "metadata": {},
   "outputs": [
    {
     "name": "stdout",
     "output_type": "stream",
     "text": [
      "55\n"
     ]
    }
   ],
   "source": [
    "#168\n",
    "a = 0\n",
    "result = 0\n",
    "for a in range(1,11):\n",
    "    result += a \n",
    "print(result)"
   ]
  },
  {
   "cell_type": "code",
   "execution_count": 69,
   "id": "3a201671-0b24-47cd-bed6-cc06bd757269",
   "metadata": {},
   "outputs": [
    {
     "name": "stdout",
     "output_type": "stream",
     "text": [
      "25\n"
     ]
    }
   ],
   "source": [
    "#169\n",
    "a = 0\n",
    "result = 0\n",
    "for a in range(1,11):\n",
    "    if a % 2 == 1:\n",
    "        result += a\n",
    "print(result)"
   ]
  },
  {
   "cell_type": "code",
   "execution_count": 70,
   "id": "3f5b1ac4-da7d-4cce-9e7b-63c6474bb488",
   "metadata": {},
   "outputs": [
    {
     "name": "stdout",
     "output_type": "stream",
     "text": [
      "25\n"
     ]
    }
   ],
   "source": [
    "#169-1\n",
    "a = 0\n",
    "result = 0\n",
    "for a in range(1,11,2):\n",
    "    result += a \n",
    "print(result)"
   ]
  },
  {
   "cell_type": "code",
   "execution_count": 76,
   "id": "bea22468-62f9-41c6-bd16-ee372dd9239c",
   "metadata": {},
   "outputs": [
    {
     "name": "stdout",
     "output_type": "stream",
     "text": [
      "3628800\n"
     ]
    }
   ],
   "source": [
    "#170\n",
    "a = 0\n",
    "result = 1\n",
    "for a in range(1,11):\n",
    "    result *= a \n",
    "print(result)"
   ]
  },
  {
   "cell_type": "code",
   "execution_count": 79,
   "id": "c0b75974-92a6-486f-9fa0-b2a03952dbb8",
   "metadata": {},
   "outputs": [
    {
     "name": "stdout",
     "output_type": "stream",
     "text": [
      "32100\n",
      "32150\n",
      "32000\n",
      "32500\n"
     ]
    }
   ],
   "source": [
    "#171\n",
    "price_list = [32100, 32150, 32000, 32500]\n",
    "for a in range(4):\n",
    "    print(price_list[a])"
   ]
  },
  {
   "cell_type": "code",
   "execution_count": 80,
   "id": "e29e2436-4762-4d6f-98f3-d67e048a238c",
   "metadata": {},
   "outputs": [
    {
     "name": "stdout",
     "output_type": "stream",
     "text": [
      "0 32100\n",
      "1 32150\n",
      "2 32000\n",
      "3 32500\n"
     ]
    }
   ],
   "source": [
    "#172\n",
    "price_list = [32100, 32150, 32000, 32500]\n",
    "for a in range(4):\n",
    "    print(a, price_list[a])"
   ]
  },
  {
   "cell_type": "code",
   "execution_count": 82,
   "id": "07339904-c7b1-40fb-b80b-19627c06c28e",
   "metadata": {},
   "outputs": [
    {
     "name": "stdout",
     "output_type": "stream",
     "text": [
      "3 32100\n",
      "2 32150\n",
      "1 32000\n",
      "0 32500\n"
     ]
    }
   ],
   "source": [
    "#173\n",
    "price_list = [32100, 32150, 32000, 32500]\n",
    "for a in range(4):\n",
    "    print(3-a, price_list[a])"
   ]
  },
  {
   "cell_type": "code",
   "execution_count": 85,
   "id": "0586821b-9a52-4e0a-b9b2-4de73d256c4a",
   "metadata": {},
   "outputs": [
    {
     "name": "stdout",
     "output_type": "stream",
     "text": [
      "100 32150\n",
      "110 32000\n",
      "120 32500\n"
     ]
    }
   ],
   "source": [
    "#174\n",
    "price_list = [32100, 32150, 32000, 32500]\n",
    "for a in range(1,4):\n",
    "    print(90+10*a, price_list[a])\n",
    "    "
   ]
  },
  {
   "cell_type": "code",
   "execution_count": 101,
   "id": "b29461c6-d5a5-4c50-b61a-5d817b2ed3b6",
   "metadata": {},
   "outputs": [
    {
     "name": "stdout",
     "output_type": "stream",
     "text": [
      "가 나\n",
      "나 다\n",
      "다 라\n"
     ]
    }
   ],
   "source": [
    "#175\n",
    "my_list = [\"가\", \"나\", \"다\", \"라\"]\n",
    "for a in range(0, 3):\n",
    "    print(my_list[a],my_list[a+1])"
   ]
  },
  {
   "cell_type": "code",
   "execution_count": 102,
   "id": "710ebe7a-dea3-47b8-9181-3c012b6d4f91",
   "metadata": {},
   "outputs": [
    {
     "name": "stdout",
     "output_type": "stream",
     "text": [
      "가 나 다\n",
      "나 다 라\n",
      "다 라 마\n"
     ]
    }
   ],
   "source": [
    "#176\n",
    "my_list = [\"가\", \"나\", \"다\", \"라\", \"마\"]\n",
    "for a in range(0, 3):\n",
    "    print(my_list[a], my_list[a+1], my_list[a+2])"
   ]
  },
  {
   "cell_type": "code",
   "execution_count": 110,
   "id": "397e10e9-b836-4fa7-9bea-94f03e89badf",
   "metadata": {},
   "outputs": [
    {
     "name": "stdout",
     "output_type": "stream",
     "text": [
      "라 다\n",
      "다 나\n",
      "나 가\n"
     ]
    }
   ],
   "source": [
    "#177\n",
    "my_list = [\"가\", \"나\", \"다\", \"라\"]\n",
    "for a in range(3, 0, -1):\n",
    "    print(my_list[a], my_list[a-1])"
   ]
  },
  {
   "cell_type": "code",
   "execution_count": 111,
   "id": "e2f73e76-ef1a-4cc9-ab03-aec04b9ced95",
   "metadata": {},
   "outputs": [
    {
     "name": "stdout",
     "output_type": "stream",
     "text": [
      "100\n",
      "200\n",
      "400\n"
     ]
    }
   ],
   "source": [
    "#178\n",
    "my_list = [100, 200, 400, 800]\n",
    "for a in range(0,3):\n",
    "    print(my_list[a+1]-my_list[a])"
   ]
  },
  {
   "cell_type": "code",
   "execution_count": 117,
   "id": "8b9b68a3-cffb-4901-b719-6143cdf1a626",
   "metadata": {},
   "outputs": [
    {
     "name": "stdout",
     "output_type": "stream",
     "text": [
      "233.33333333333334\n",
      "466.6666666666667\n",
      "733.3333333333334\n",
      "1033.3333333333333\n"
     ]
    }
   ],
   "source": [
    "#179\n",
    "my_list = [100, 200, 400, 800, 1000, 1300]\n",
    "for a in range(0,4):\n",
    "    sum = my_list[a] + my_list[a+1] + my_list[a+2]\n",
    "    print(sum/3)"
   ]
  },
  {
   "cell_type": "code",
   "execution_count": 125,
   "id": "3784c6ae-fb78-4e44-a828-44e3c4391b85",
   "metadata": {},
   "outputs": [
    {
     "name": "stdout",
     "output_type": "stream",
     "text": [
      "[50, 100, 30, 80, 0]\n"
     ]
    }
   ],
   "source": [
    "#180\n",
    "volatility=[]\n",
    "low_prices  = [100, 200, 400, 800, 1000]\n",
    "high_prices = [150, 300, 430, 880, 1000]\n",
    "for a in range(5):\n",
    "    diff = high_prices [a]-low_prices[a]\n",
    "    volatility.append(diff)\n",
    "print(volatility)"
   ]
  },
  {
   "cell_type": "code",
   "execution_count": 127,
   "id": "2fe1b515-6743-45f6-a527-6877ce512b07",
   "metadata": {},
   "outputs": [
    {
     "data": {
      "text/plain": [
       "['101호', '102호']"
      ]
     },
     "execution_count": 127,
     "metadata": {},
     "output_type": "execute_result"
    }
   ],
   "source": [
    "#181\n",
    "apart = [['101호','102호'],\n",
    "        ['201호','202호'],\n",
    "        ['301호','302호']]\n",
    "apart[0]"
   ]
  },
  {
   "cell_type": "code",
   "execution_count": 131,
   "id": "299a6036-57f2-4f4f-8fab-7208642d7c67",
   "metadata": {},
   "outputs": [
    {
     "data": {
      "text/plain": [
       "['시가', 100, 200, 300]"
      ]
     },
     "execution_count": 131,
     "metadata": {},
     "output_type": "execute_result"
    }
   ],
   "source": [
    "#182\n",
    "stock = [['시가',100,200,300],\n",
    "         ['종가',80,210,330]]\n",
    "stock[0]"
   ]
  },
  {
   "cell_type": "code",
   "execution_count": 133,
   "id": "14f295a3-77ec-4ca0-a744-57b4a0c38dc0",
   "metadata": {},
   "outputs": [
    {
     "data": {
      "text/plain": [
       "{'시가': [100, 200, 300], '종가': [80, 210, 330]}"
      ]
     },
     "execution_count": 133,
     "metadata": {},
     "output_type": "execute_result"
    }
   ],
   "source": [
    "#183\n",
    "stock = {'시가':[100,200,300],\n",
    "         '종가':[80,210,330]}\n",
    "stock"
   ]
  },
  {
   "cell_type": "code",
   "execution_count": 134,
   "id": "1eab7d3b-b16a-4cbd-9b9e-21b3a07aa7f3",
   "metadata": {},
   "outputs": [
    {
     "data": {
      "text/plain": [
       "{'10/10': [80, 110, 70, 90], '10/11': [210, 230, 190, 200]}"
      ]
     },
     "execution_count": 134,
     "metadata": {},
     "output_type": "execute_result"
    }
   ],
   "source": [
    "#184\n",
    "stock = {'10/10':[80,110,70,90],\n",
    "        '10/11':[210,230,190,200]}\n",
    "stock"
   ]
  },
  {
   "cell_type": "code",
   "execution_count": 139,
   "id": "e5c8f00c-2ffa-4d11-842f-870e5ac9a406",
   "metadata": {},
   "outputs": [
    {
     "name": "stdout",
     "output_type": "stream",
     "text": [
      "101 호\n",
      "102 호\n",
      "201 호\n",
      "202 호\n",
      "301 호\n",
      "302 호\n"
     ]
    }
   ],
   "source": [
    "#185\n",
    "apart = [ [101, 102], [201, 202], [301, 302] ]\n",
    "for a in apart:\n",
    "    for b in a:\n",
    "        print(b,'호')"
   ]
  },
  {
   "cell_type": "code",
   "execution_count": 141,
   "id": "bc061fda-1222-4a73-916c-518cfe09df46",
   "metadata": {},
   "outputs": [
    {
     "name": "stdout",
     "output_type": "stream",
     "text": [
      "301 호\n",
      "302 호\n",
      "201 호\n",
      "202 호\n",
      "101 호\n",
      "102 호\n"
     ]
    }
   ],
   "source": [
    "#186\n",
    "apart = [ [101, 102], [201, 202], [301, 302] ]\n",
    "for a in apart[::-1]:\n",
    "    for b in a:\n",
    "        print(b,'호')\n"
   ]
  },
  {
   "cell_type": "code",
   "execution_count": 143,
   "id": "5c2b551c-7b50-4f65-a3d0-d88fa7ad99f7",
   "metadata": {},
   "outputs": [
    {
     "name": "stdout",
     "output_type": "stream",
     "text": [
      "302 호\n",
      "301 호\n",
      "202 호\n",
      "201 호\n",
      "102 호\n",
      "101 호\n"
     ]
    }
   ],
   "source": [
    "#187\n",
    "apart = [ [101, 102], [201, 202], [301, 302] ]\n",
    "for a in apart[::-1]:\n",
    "    for b in a[::-1]:\n",
    "        print(b,'호')"
   ]
  },
  {
   "cell_type": "code",
   "execution_count": 154,
   "id": "6572c42d-0914-4299-9042-32f5e38be400",
   "metadata": {},
   "outputs": [
    {
     "name": "stdout",
     "output_type": "stream",
     "text": [
      "101 호\n",
      "-----\n",
      "102 호\n",
      "-----\n",
      "201 호\n",
      "-----\n",
      "202 호\n",
      "-----\n",
      "301 호\n",
      "-----\n",
      "302 호\n",
      "-----\n"
     ]
    }
   ],
   "source": [
    "#188\n",
    "apart = [ [101, 102], [201, 202], [301, 302] ]\n",
    "for a in apart:\n",
    "    for b in a:\n",
    "        print(b,'호')\n",
    "        print('-'*5)"
   ]
  },
  {
   "cell_type": "code",
   "execution_count": 155,
   "id": "e3d7c246-3a19-4c4e-807a-5331f9c59781",
   "metadata": {},
   "outputs": [
    {
     "name": "stdout",
     "output_type": "stream",
     "text": [
      "101 호\n",
      "102 호\n",
      "-----\n",
      "201 호\n",
      "202 호\n",
      "-----\n",
      "301 호\n",
      "302 호\n",
      "-----\n"
     ]
    }
   ],
   "source": [
    "#189\n",
    "apart = [ [101, 102], [201, 202], [301, 302] ]\n",
    "for a in apart:\n",
    "    for b in a:\n",
    "        print(b,'호')\n",
    "    print('-'*5)"
   ]
  },
  {
   "cell_type": "code",
   "execution_count": 156,
   "id": "2ee56087-15a5-467c-95c3-3dfe192589b3",
   "metadata": {},
   "outputs": [
    {
     "name": "stdout",
     "output_type": "stream",
     "text": [
      "101 호\n",
      "102 호\n",
      "201 호\n",
      "202 호\n",
      "301 호\n",
      "302 호\n",
      "-----\n"
     ]
    }
   ],
   "source": [
    "#190\n",
    "apart = [ [101, 102], [201, 202], [301, 302] ]\n",
    "for a in apart:\n",
    "    for b in a:\n",
    "        print(b,'호')\n",
    "print('-'*5)"
   ]
  },
  {
   "cell_type": "code",
   "execution_count": 158,
   "id": "d8c53188-ba72-4117-902f-283d700d84b1",
   "metadata": {},
   "outputs": [
    {
     "name": "stdout",
     "output_type": "stream",
     "text": [
      "2000.28\n",
      "3050.427\n",
      "2050.287\n",
      "1980.2772\n",
      "7501.05\n",
      "2050.287\n",
      "2050.287\n",
      "1980.2772\n",
      "15452.163\n",
      "15052.107\n",
      "15552.177\n",
      "14902.086\n"
     ]
    }
   ],
   "source": [
    "#191\n",
    "data = [\n",
    "    [ 2000,  3050,  2050,  1980],\n",
    "    [ 7500,  2050,  2050,  1980],\n",
    "    [15450, 15050, 15550, 14900]\n",
    "]\n",
    "for a in data:\n",
    "    for b in a:\n",
    "        print(b+b*0.00014)\n"
   ]
  },
  {
   "cell_type": "code",
   "execution_count": 159,
   "id": "8caab1d0-4a58-4139-bf53-9d3046cbe89c",
   "metadata": {},
   "outputs": [
    {
     "name": "stdout",
     "output_type": "stream",
     "text": [
      "2000.28\n",
      "3050.427\n",
      "2050.287\n",
      "1980.2772\n",
      "----\n",
      "7501.05\n",
      "2050.287\n",
      "2050.287\n",
      "1980.2772\n",
      "----\n",
      "15452.163\n",
      "15052.107\n",
      "15552.177\n",
      "14902.086\n",
      "----\n"
     ]
    }
   ],
   "source": [
    "#192\n",
    "data = [\n",
    "    [ 2000,  3050,  2050,  1980],\n",
    "    [ 7500,  2050,  2050,  1980],\n",
    "    [15450, 15050, 15550, 14900]\n",
    "]\n",
    "for a in data:\n",
    "    for b in a:\n",
    "        print(b+b*0.00014)\n",
    "    print('-'*4)"
   ]
  },
  {
   "cell_type": "code",
   "execution_count": 161,
   "id": "e071e0c1-4202-4dad-92a7-25dda705c4e4",
   "metadata": {},
   "outputs": [
    {
     "name": "stdout",
     "output_type": "stream",
     "text": [
      "[2000.28, 3050.427, 2050.287, 1980.2772, 7501.05, 2050.287, 2050.287, 1980.2772, 15452.163, 15052.107, 15552.177, 14902.086]\n"
     ]
    }
   ],
   "source": [
    "#193\n",
    "result=[]\n",
    "data = [\n",
    "    [ 2000,  3050,  2050,  1980],\n",
    "    [ 7500,  2050,  2050,  1980],\n",
    "    [15450, 15050, 15550, 14900]\n",
    "]\n",
    "for a in data:\n",
    "    for b in a:\n",
    "        result.append(b+b*0.00014)\n",
    "print(result)"
   ]
  },
  {
   "cell_type": "code",
   "execution_count": 164,
   "id": "268d3873-3aa3-4413-aa87-1a16255a6602",
   "metadata": {},
   "outputs": [
    {
     "name": "stdout",
     "output_type": "stream",
     "text": [
      "[[2000.28, 3050.427, 2050.287, 1980.2772, 7501.05, 2050.287, 2050.287, 1980.2772, 15452.163, 15052.107, 15552.177, 14902.086], [2000.28, 3050.427, 2050.287, 1980.2772, 7501.05, 2050.287, 2050.287, 1980.2772, 15452.163, 15052.107, 15552.177, 14902.086], [2000.28, 3050.427, 2050.287, 1980.2772, 7501.05, 2050.287, 2050.287, 1980.2772, 15452.163, 15052.107, 15552.177, 14902.086]]\n"
     ]
    }
   ],
   "source": [
    "#194\n",
    "result=[]\n",
    "sub=[]\n",
    "data = [\n",
    "    [ 2000,  3050,  2050,  1980],\n",
    "    [ 7500,  2050,  2050,  1980],\n",
    "    [15450, 15050, 15550, 14900]\n",
    "]\n",
    "for a in data:\n",
    "    for b in a:\n",
    "        sub.append(b+b*0.00014)\n",
    "    result.append(sub)\n",
    "print(result)"
   ]
  },
  {
   "cell_type": "code",
   "execution_count": 173,
   "id": "f63e95cc-d257-4615-b4f0-53109ac4a498",
   "metadata": {},
   "outputs": [
    {
     "name": "stdout",
     "output_type": "stream",
     "text": [
      "100\n",
      "190\n",
      "310\n"
     ]
    }
   ],
   "source": [
    "#195\n",
    "ohlc = [[\"open\", \"high\", \"low\", \"close\"],\n",
    "        [100, 110, 70, 100],\n",
    "        [200, 210, 180, 190],\n",
    "        [300, 310, 300, 310]]\n",
    "for a in ohlc[1:]:\n",
    "    print(a[3])"
   ]
  },
  {
   "cell_type": "code",
   "execution_count": 175,
   "id": "c9b3c7ef-cd07-42f8-a65b-5846e64eaf13",
   "metadata": {},
   "outputs": [
    {
     "name": "stdout",
     "output_type": "stream",
     "text": [
      "190\n",
      "310\n"
     ]
    }
   ],
   "source": [
    "#196\n",
    "ohlc = [[\"open\", \"high\", \"low\", \"close\"],\n",
    "        [100, 110, 70, 100],\n",
    "        [200, 210, 180, 190],\n",
    "        [300, 310, 300, 310]]\n",
    "for a in ohlc[1:]:\n",
    "    if a[3]>150:\n",
    "        print(a[3])"
   ]
  },
  {
   "cell_type": "code",
   "execution_count": 177,
   "id": "410f91d5-7ee7-4c36-be8f-48072685d3c4",
   "metadata": {},
   "outputs": [
    {
     "name": "stdout",
     "output_type": "stream",
     "text": [
      "100\n",
      "310\n"
     ]
    }
   ],
   "source": [
    "#197\n",
    "ohlc = [[\"open\", \"high\", \"low\", \"close\"],\n",
    "        [100, 110, 70, 100],\n",
    "        [200, 210, 180, 190],\n",
    "        [300, 310, 300, 310]]\n",
    "for a in ohlc[1:]:\n",
    "    if a[3] >= a[0]:\n",
    "        print(a[3])"
   ]
  },
  {
   "cell_type": "code",
   "execution_count": 180,
   "id": "9719638b-3eb2-4056-8046-2f8716133a13",
   "metadata": {},
   "outputs": [
    {
     "name": "stdout",
     "output_type": "stream",
     "text": [
      "[40, 30, 10]\n"
     ]
    }
   ],
   "source": [
    "#198\n",
    "vol = []\n",
    "ohlc = [[\"open\", \"high\", \"low\", \"close\"],\n",
    "        [100, 110, 70, 100],\n",
    "        [200, 210, 180, 190],\n",
    "        [300, 310, 300, 310]]\n",
    "for a in ohlc[1:]:\n",
    "    diff = a[1] - a[2]\n",
    "    vol.append(diff)\n",
    "print(vol)"
   ]
  },
  {
   "cell_type": "code",
   "execution_count": 184,
   "id": "76c92f49-7197-4418-ae31-f360fa510d62",
   "metadata": {},
   "outputs": [
    {
     "name": "stdout",
     "output_type": "stream",
     "text": [
      "10\n"
     ]
    }
   ],
   "source": [
    "#199\n",
    "ohlc = [[\"open\", \"high\", \"low\", \"close\"],\n",
    "        [100, 110, 70, 100],\n",
    "        [200, 210, 180, 190],\n",
    "        [300, 310, 300, 310]]\n",
    "for a in ohlc[1:]:\n",
    "    if a[3] > a[0]:\n",
    "        print(a[1]-a[2])"
   ]
  },
  {
   "cell_type": "code",
   "execution_count": 190,
   "id": "8d4ec17d-cfc0-4915-8458-5ab778d944f3",
   "metadata": {},
   "outputs": [
    {
     "name": "stdout",
     "output_type": "stream",
     "text": [
      "0\n"
     ]
    }
   ],
   "source": [
    "#200\n",
    "ohlc = [[\"open\", \"high\", \"low\", \"close\"],\n",
    "        [100, 110, 70, 100],\n",
    "        [200, 210, 180, 190],\n",
    "        [300, 310, 300, 310]]\n",
    "result = 0\n",
    "for a in ohlc[1:]:\n",
    "    result += (a[0]-a[3])\n",
    "print(result)"
   ]
  }
 ],
 "metadata": {
  "kernelspec": {
   "display_name": "Python 3 (ipykernel)",
   "language": "python",
   "name": "python3"
  },
  "language_info": {
   "codemirror_mode": {
    "name": "ipython",
    "version": 3
   },
   "file_extension": ".py",
   "mimetype": "text/x-python",
   "name": "python",
   "nbconvert_exporter": "python",
   "pygments_lexer": "ipython3",
   "version": "3.11.7"
  }
 },
 "nbformat": 4,
 "nbformat_minor": 5
}
