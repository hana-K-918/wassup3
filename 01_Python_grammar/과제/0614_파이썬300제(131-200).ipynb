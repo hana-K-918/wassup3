{
 "cells": [
  {
   "cell_type": "code",
   "execution_count": 1,
   "id": "51bf631a-4517-4687-8d39-7c2ed3268546",
   "metadata": {},
   "outputs": [
    {
     "name": "stdout",
     "output_type": "stream",
     "text": [
      "사과\n",
      "귤\n",
      "수박\n"
     ]
    }
   ],
   "source": [
    "#131\n",
    "#사과\n",
    "#귤\n",
    "#수박\n",
    "과일 = [\"사과\", \"귤\", \"수박\"]\n",
    "for 변수 in 과일:\n",
    "    print(변수)"
   ]
  },
  {
   "cell_type": "code",
   "execution_count": 3,
   "id": "df1846f8-d442-4cc3-a6f2-8b1f4d3379f1",
   "metadata": {},
   "outputs": [
    {
     "name": "stdout",
     "output_type": "stream",
     "text": [
      "#####\n",
      "#####\n",
      "#####\n"
     ]
    }
   ],
   "source": [
    "#132\n",
    "#아무것도 출력되지않음...? \n",
    "#\"들여쓰기된 코드가 자료구조에 저장된 데이터 개수만큼 반복된다\"\n",
    "\n",
    "과일 = [\"사과\", \"귤\", \"수박\"]\n",
    "for 변수 in 과일:\n",
    "  print(\"#####\")"
   ]
  },
  {
   "cell_type": "code",
   "execution_count": 5,
   "id": "085dd82f-23ba-4ddb-95c2-f7efb46fceae",
   "metadata": {},
   "outputs": [
    {
     "name": "stdout",
     "output_type": "stream",
     "text": [
      "A\n",
      "B\n",
      "c\n"
     ]
    }
   ],
   "source": [
    "#133\n",
    "a = 'A'\n",
    "print(a)\n",
    "b = 'B'\n",
    "print(b)\n",
    "c = 'c'\n",
    "print(c)"
   ]
  },
  {
   "cell_type": "code",
   "execution_count": 6,
   "id": "5d5aae60-1c52-4a48-a78a-922463cfe2a6",
   "metadata": {},
   "outputs": [
    {
     "name": "stdout",
     "output_type": "stream",
     "text": [
      "출력 A\n",
      "출력 B\n",
      "출력 C\n"
     ]
    }
   ],
   "source": [
    "#134\n",
    "p = '출력'\n",
    "a = 'A'\n",
    "print(p,a)\n",
    "b = 'B'\n",
    "print(p,b)\n",
    "c = 'C'\n",
    "print(p,c)"
   ]
  },
  {
   "cell_type": "code",
   "execution_count": 7,
   "id": "dfd69155-ec7a-45ca-be79-bfb619681d05",
   "metadata": {},
   "outputs": [
    {
     "name": "stdout",
     "output_type": "stream",
     "text": [
      "변환 a\n",
      "변환 b\n",
      "변환 c\n"
     ]
    }
   ],
   "source": [
    "#135\n",
    "p = '변환'\n",
    "a = 'A'\n",
    "print(p,a.lower())\n",
    "b = 'B'\n",
    "print(p,b.lower())\n",
    "c = 'C'\n",
    "print(p,c.lower())"
   ]
  },
  {
   "cell_type": "code",
   "execution_count": 8,
   "id": "9b2db788-9222-47dc-8f37-fe8238d27651",
   "metadata": {},
   "outputs": [
    {
     "name": "stdout",
     "output_type": "stream",
     "text": [
      "10\n",
      "20\n",
      "30\n"
     ]
    }
   ],
   "source": [
    "#136\n",
    "for a in [10,20,30]:\n",
    "    print(a)"
   ]
  },
  {
   "cell_type": "code",
   "execution_count": 10,
   "id": "568c609b-bb89-49dc-860d-97bdc6798169",
   "metadata": {},
   "outputs": [
    {
     "name": "stdout",
     "output_type": "stream",
     "text": [
      "10\n",
      "20\n",
      "30\n"
     ]
    }
   ],
   "source": [
    "#137\n",
    "for a in [10,20,30]:\n",
    "    print(a)"
   ]
  },
  {
   "cell_type": "code",
   "execution_count": 11,
   "id": "a777168f-8eae-4a05-88a1-c513c92dbebd",
   "metadata": {},
   "outputs": [
    {
     "name": "stdout",
     "output_type": "stream",
     "text": [
      "10\n",
      "-------\n",
      "20\n",
      "-------\n",
      "30\n",
      "-------\n"
     ]
    }
   ],
   "source": [
    "#138\n",
    "for a in [10,20,30]:\n",
    "    print(a)\n",
    "    print('-'*7)"
   ]
  },
  {
   "cell_type": "code",
   "execution_count": 12,
   "id": "2f2946be-c5b9-493d-a77a-ca8c7ccc39b0",
   "metadata": {},
   "outputs": [
    {
     "name": "stdout",
     "output_type": "stream",
     "text": [
      "++++\n",
      "10\n",
      "++++\n",
      "20\n",
      "++++\n",
      "30\n"
     ]
    }
   ],
   "source": [
    "#139\n",
    "for a in [10,20,30]:\n",
    "    print('+'*4)\n",
    "    print(a)\n",
    "    "
   ]
  },
  {
   "cell_type": "code",
   "execution_count": 13,
   "id": "548b22c0-e256-4ce3-99d0-f7e51d8d87ad",
   "metadata": {},
   "outputs": [
    {
     "name": "stdout",
     "output_type": "stream",
     "text": [
      "-------\n",
      "-------\n",
      "-------\n",
      "-------\n"
     ]
    }
   ],
   "source": [
    "#140\n",
    "for a in [10,20,30,40]:\n",
    "    print('-'*7)"
   ]
  },
  {
   "cell_type": "code",
   "execution_count": 15,
   "id": "f5a4a0bd-bb8c-49d8-b7b3-e6febfb22c68",
   "metadata": {},
   "outputs": [
    {
     "name": "stdout",
     "output_type": "stream",
     "text": [
      "110\n",
      "210\n",
      "310\n"
     ]
    }
   ],
   "source": [
    "#141\n",
    "list = [100, 200, 300]\n",
    "for a in list:\n",
    "    print(a+10)"
   ]
  },
  {
   "cell_type": "code",
   "execution_count": 16,
   "id": "4513af31-390e-467e-b818-62fba5638e53",
   "metadata": {},
   "outputs": [
    {
     "name": "stdout",
     "output_type": "stream",
     "text": [
      "오늘의 메뉴:  김밥\n",
      "오늘의 메뉴:  라면\n",
      "오늘의 메뉴:  튀김\n"
     ]
    }
   ],
   "source": [
    "#142\n",
    "list = [\"김밥\", \"라면\", \"튀김\"]\n",
    "for a in list:\n",
    "    print('오늘의 메뉴: ',a)"
   ]
  },
  {
   "cell_type": "code",
   "execution_count": 17,
   "id": "5d6e5a86-31c9-4b92-8c6a-42add01ce4b2",
   "metadata": {},
   "outputs": [
    {
     "name": "stdout",
     "output_type": "stream",
     "text": [
      "6\n",
      "4\n",
      "4\n"
     ]
    }
   ],
   "source": [
    "#143\n",
    "list = [\"SK하이닉스\", \"삼성전자\", \"LG전자\"]\n",
    "for a in list:\n",
    "    print(len(a))"
   ]
  },
  {
   "cell_type": "code",
   "execution_count": 18,
   "id": "7971dfd3-d361-4414-a383-e31eb0e5d44d",
   "metadata": {},
   "outputs": [
    {
     "name": "stdout",
     "output_type": "stream",
     "text": [
      "dog 3\n",
      "cat 3\n",
      "parrot 6\n"
     ]
    }
   ],
   "source": [
    "#144\n",
    "list = ['dog', 'cat', 'parrot']\n",
    "for a in list:\n",
    "    print(a,len(a))"
   ]
  },
  {
   "cell_type": "code",
   "execution_count": 19,
   "id": "cbfcb645-9311-41b8-904c-1d57294c70ba",
   "metadata": {},
   "outputs": [
    {
     "name": "stdout",
     "output_type": "stream",
     "text": [
      "d\n",
      "c\n",
      "p\n"
     ]
    }
   ],
   "source": [
    "#145\n",
    "for a in list:\n",
    "    print(a[0])"
   ]
  },
  {
   "cell_type": "code",
   "execution_count": 21,
   "id": "0489615c-d93f-4d65-8321-765de11cc6e0",
   "metadata": {},
   "outputs": [
    {
     "name": "stdout",
     "output_type": "stream",
     "text": [
      "3 X 1\n",
      "3 X 2\n",
      "3 X 3\n"
     ]
    }
   ],
   "source": [
    "#146\n",
    "list = [1, 2, 3]\n",
    "for a in list:\n",
    "    print(\"3 X\",a)"
   ]
  },
  {
   "cell_type": "code",
   "execution_count": 24,
   "id": "3be3384f-6130-4498-aa9e-9cf09d85877d",
   "metadata": {},
   "outputs": [
    {
     "name": "stdout",
     "output_type": "stream",
     "text": [
      "3 X 1 = 3\n",
      "3 X 2 = 6\n",
      "3 X 3 = 9\n"
     ]
    }
   ],
   "source": [
    "#147\n",
    "for a in list:\n",
    "    print(\"3 X\",a,'=',a*3)"
   ]
  },
  {
   "cell_type": "code",
   "execution_count": 25,
   "id": "8d0dd701-b58a-4f95-8453-1ebb32c5ee88",
   "metadata": {},
   "outputs": [
    {
     "name": "stdout",
     "output_type": "stream",
     "text": [
      "나\n",
      "다\n",
      "라\n"
     ]
    }
   ],
   "source": [
    "#148\n",
    "list = [\"가\", \"나\", \"다\", \"라\"]\n",
    "for a in list[1:]:\n",
    "    print(a)"
   ]
  },
  {
   "cell_type": "code",
   "execution_count": 27,
   "id": "0d196d70-1192-47d3-9a32-efedebdc3168",
   "metadata": {},
   "outputs": [
    {
     "name": "stdout",
     "output_type": "stream",
     "text": [
      "가\n",
      "다\n"
     ]
    }
   ],
   "source": [
    "#149\n",
    "for a in list[0],list[2]: #list[::2] 증감폭 2 \n",
    "    print(a)"
   ]
  },
  {
   "cell_type": "code",
   "execution_count": 31,
   "id": "34838e98-5dda-41c8-b0e2-87bd35bb6a0e",
   "metadata": {},
   "outputs": [
    {
     "name": "stdout",
     "output_type": "stream",
     "text": [
      "라\n",
      "다\n",
      "나\n",
      "가\n"
     ]
    }
   ],
   "source": [
    "#150\n",
    "for a in list[::-1]:\n",
    "    print(a)\n"
   ]
  },
  {
   "cell_type": "code",
   "execution_count": null,
   "id": "b061b2ad-fe9b-4b89-9642-5576b0be2c87",
   "metadata": {},
   "outputs": [],
   "source": [
    "#151"
   ]
  },
  {
   "cell_type": "code",
   "execution_count": 38,
   "id": "4a786994-c0f4-40af-9f0b-1ded3108425f",
   "metadata": {},
   "outputs": [
    {
     "name": "stdout",
     "output_type": "stream",
     "text": [
      "-20\n",
      "-3\n"
     ]
    }
   ],
   "source": [
    "list = [3, -20, -3, 44]\n",
    "for a in list[1:3]:\n",
    "    print(a)"
   ]
  },
  {
   "cell_type": "code",
   "execution_count": 42,
   "id": "3c5f7e3c-9c28-41c3-afcf-d8a3d1bcb230",
   "metadata": {},
   "outputs": [
    {
     "name": "stdout",
     "output_type": "stream",
     "text": [
      "3\n"
     ]
    }
   ],
   "source": [
    "#152\n",
    "list = [3, 100, 23, 44]\n",
    "for a in list:\n",
    "    if a % 3 == 0:\n",
    "        print(a)\n"
   ]
  },
  {
   "cell_type": "code",
   "execution_count": 43,
   "id": "ced26f84-f897-4704-848a-68ec15721ad7",
   "metadata": {},
   "outputs": [
    {
     "name": "stdout",
     "output_type": "stream",
     "text": [
      "12\n",
      "18\n"
     ]
    }
   ],
   "source": [
    "#153\n",
    "list = [13, 21, 12, 14, 30, 18]\n",
    "for a in list:\n",
    "    if a < 20 and a % 3 == 0:\n",
    "        print(a)"
   ]
  },
  {
   "cell_type": "code",
   "execution_count": 45,
   "id": "17e86614-38f9-40e8-8602-d976122d7c78",
   "metadata": {},
   "outputs": [
    {
     "name": "stdout",
     "output_type": "stream",
     "text": [
      "study\n",
      "python\n",
      "language\n"
     ]
    }
   ],
   "source": [
    "#154\n",
    "list = [\"I\", \"study\", \"python\", \"language\", \"!\"]\n",
    "for a in list:\n",
    "    if len(a) >= 3:\n",
    "        print(a)"
   ]
  },
  {
   "cell_type": "code",
   "execution_count": 47,
   "id": "355db39c-a027-41af-8eb4-9f75848fe033",
   "metadata": {},
   "outputs": [
    {
     "name": "stdout",
     "output_type": "stream",
     "text": [
      "A\n",
      "D\n"
     ]
    }
   ],
   "source": [
    "#155\n",
    "list = [\"A\", \"b\", \"c\", \"D\"]\n",
    "for a in list:\n",
    "    if a.isupper():\n",
    "        print(a)"
   ]
  },
  {
   "cell_type": "code",
   "execution_count": 48,
   "id": "85fccedd-032e-490d-8e8d-e9ac6634f28f",
   "metadata": {},
   "outputs": [
    {
     "name": "stdout",
     "output_type": "stream",
     "text": [
      "b\n",
      "c\n"
     ]
    }
   ],
   "source": [
    "#156\n",
    "list = [\"A\", \"b\", \"c\", \"D\"]\n",
    "for a in list:\n",
    "    if a.islower():\n",
    "        print(a)"
   ]
  },
  {
   "cell_type": "code",
   "execution_count": 50,
   "id": "f071784f-4bdb-48e3-ae96-a00a687ad3b4",
   "metadata": {},
   "outputs": [
    {
     "ename": "SyntaxError",
     "evalue": "incomplete input (2319849051.py, line 3)",
     "output_type": "error",
     "traceback": [
      "\u001b[1;36m  Cell \u001b[1;32mIn[50], line 3\u001b[1;36m\u001b[0m\n\u001b[1;33m    for a in list:\u001b[0m\n\u001b[1;37m                  ^\u001b[0m\n\u001b[1;31mSyntaxError\u001b[0m\u001b[1;31m:\u001b[0m incomplete input\n"
     ]
    }
   ],
   "source": [
    "#157\n",
    "list = ['dog', 'cat', 'parrot']\n",
    "for a in list:\n"
   ]
  },
  {
   "cell_type": "code",
   "execution_count": null,
   "id": "f4b4ba5c-106a-4e70-b603-f6a96104d93b",
   "metadata": {},
   "outputs": [],
   "source": []
  },
  {
   "cell_type": "code",
   "execution_count": null,
   "id": "83c5c041-5b3c-4c19-a93a-ea2ea0c755ed",
   "metadata": {},
   "outputs": [],
   "source": []
  },
  {
   "cell_type": "code",
   "execution_count": null,
   "id": "da677fc8-8b54-470c-80be-63e7e8c84c8f",
   "metadata": {},
   "outputs": [],
   "source": []
  }
 ],
 "metadata": {
  "kernelspec": {
   "display_name": "Python 3 (ipykernel)",
   "language": "python",
   "name": "python3"
  },
  "language_info": {
   "codemirror_mode": {
    "name": "ipython",
    "version": 3
   },
   "file_extension": ".py",
   "mimetype": "text/x-python",
   "name": "python",
   "nbconvert_exporter": "python",
   "pygments_lexer": "ipython3",
   "version": "3.11.7"
  }
 },
 "nbformat": 4,
 "nbformat_minor": 5
}
