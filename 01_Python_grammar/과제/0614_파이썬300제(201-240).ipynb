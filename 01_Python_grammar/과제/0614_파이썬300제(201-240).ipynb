{
 "cells": [
  {
   "cell_type": "code",
   "execution_count": 2,
   "id": "0cf231f0-093f-4054-a31f-629f22928360",
   "metadata": {},
   "outputs": [],
   "source": [
    "#201\n",
    "def print_coin():\n",
    "    print(\"비트코인\")"
   ]
  },
  {
   "cell_type": "code",
   "execution_count": 3,
   "id": "9e3cf7f8-422f-4e79-b49d-b713e66b3cb4",
   "metadata": {},
   "outputs": [
    {
     "name": "stdout",
     "output_type": "stream",
     "text": [
      "비트코인\n"
     ]
    }
   ],
   "source": [
    "#202\n",
    "print_coin()"
   ]
  },
  {
   "cell_type": "code",
   "execution_count": 4,
   "id": "76942993-4ee1-4a64-b5c3-d6e3585e2c69",
   "metadata": {},
   "outputs": [
    {
     "name": "stdout",
     "output_type": "stream",
     "text": [
      "비트코인\n",
      "비트코인\n",
      "비트코인\n",
      "비트코인\n",
      "비트코인\n",
      "비트코인\n",
      "비트코인\n",
      "비트코인\n",
      "비트코인\n",
      "비트코인\n",
      "비트코인\n",
      "비트코인\n",
      "비트코인\n",
      "비트코인\n",
      "비트코인\n",
      "비트코인\n",
      "비트코인\n",
      "비트코인\n",
      "비트코인\n",
      "비트코인\n",
      "비트코인\n",
      "비트코인\n",
      "비트코인\n",
      "비트코인\n",
      "비트코인\n",
      "비트코인\n",
      "비트코인\n",
      "비트코인\n",
      "비트코인\n",
      "비트코인\n",
      "비트코인\n",
      "비트코인\n",
      "비트코인\n",
      "비트코인\n",
      "비트코인\n",
      "비트코인\n",
      "비트코인\n",
      "비트코인\n",
      "비트코인\n",
      "비트코인\n",
      "비트코인\n",
      "비트코인\n",
      "비트코인\n",
      "비트코인\n",
      "비트코인\n",
      "비트코인\n",
      "비트코인\n",
      "비트코인\n",
      "비트코인\n",
      "비트코인\n",
      "비트코인\n",
      "비트코인\n",
      "비트코인\n",
      "비트코인\n",
      "비트코인\n",
      "비트코인\n",
      "비트코인\n",
      "비트코인\n",
      "비트코인\n",
      "비트코인\n",
      "비트코인\n",
      "비트코인\n",
      "비트코인\n",
      "비트코인\n",
      "비트코인\n",
      "비트코인\n",
      "비트코인\n",
      "비트코인\n",
      "비트코인\n",
      "비트코인\n",
      "비트코인\n",
      "비트코인\n",
      "비트코인\n",
      "비트코인\n",
      "비트코인\n",
      "비트코인\n",
      "비트코인\n",
      "비트코인\n",
      "비트코인\n",
      "비트코인\n",
      "비트코인\n",
      "비트코인\n",
      "비트코인\n",
      "비트코인\n",
      "비트코인\n",
      "비트코인\n",
      "비트코인\n",
      "비트코인\n",
      "비트코인\n",
      "비트코인\n",
      "비트코인\n",
      "비트코인\n",
      "비트코인\n",
      "비트코인\n",
      "비트코인\n",
      "비트코인\n",
      "비트코인\n",
      "비트코인\n",
      "비트코인\n",
      "비트코인\n"
     ]
    }
   ],
   "source": [
    "#203\n",
    "for i in range(100):\n",
    "    print_coin()"
   ]
  },
  {
   "cell_type": "code",
   "execution_count": 7,
   "id": "cbd0da68-5f74-4846-9d77-f5f77e6bc53c",
   "metadata": {},
   "outputs": [],
   "source": [
    "#204\n",
    "def print_coins():\n",
    "    for i in range(100):\n",
    "        print('비트코인')"
   ]
  },
  {
   "cell_type": "code",
   "execution_count": 8,
   "id": "b9bdb88b-a09b-4435-9055-fe7799d19f0b",
   "metadata": {},
   "outputs": [
    {
     "ename": "NameError",
     "evalue": "name 'hello' is not defined",
     "output_type": "error",
     "traceback": [
      "\u001b[1;31m---------------------------------------------------------------------------\u001b[0m",
      "\u001b[1;31mNameError\u001b[0m                                 Traceback (most recent call last)",
      "Cell \u001b[1;32mIn[8], line 2\u001b[0m\n\u001b[0;32m      1\u001b[0m \u001b[38;5;66;03m#205\u001b[39;00m\n\u001b[1;32m----> 2\u001b[0m hello()\n\u001b[0;32m      3\u001b[0m \u001b[38;5;28;01mdef\u001b[39;00m \u001b[38;5;21mhello\u001b[39m():\n\u001b[0;32m      4\u001b[0m     \u001b[38;5;28mprint\u001b[39m(\u001b[38;5;124m\"\u001b[39m\u001b[38;5;124mHi\u001b[39m\u001b[38;5;124m\"\u001b[39m)\n",
      "\u001b[1;31mNameError\u001b[0m: name 'hello' is not defined"
     ]
    }
   ],
   "source": [
    "#205\n",
    "#오류 이유 : 함수가 지정되기 전임\n",
    "hello()\n",
    "def hello():\n",
    "    print(\"Hi\")"
   ]
  },
  {
   "cell_type": "code",
   "execution_count": 9,
   "id": "37f2f6bf-4ba0-44b3-8033-cfd668ae819d",
   "metadata": {},
   "outputs": [
    {
     "name": "stdout",
     "output_type": "stream",
     "text": [
      "A\n",
      "B\n",
      "C\n",
      "A\n",
      "B\n"
     ]
    }
   ],
   "source": [
    "#206\n",
    "# ABCAB\n",
    "def message() :\n",
    "    print(\"A\")\n",
    "    print(\"B\")\n",
    "\n",
    "message()\n",
    "print(\"C\")\n",
    "message()"
   ]
  },
  {
   "cell_type": "code",
   "execution_count": 10,
   "id": "91025555-ca92-403a-8e2d-cfa741002714",
   "metadata": {},
   "outputs": [
    {
     "name": "stdout",
     "output_type": "stream",
     "text": [
      "A\n",
      "C\n",
      "B\n"
     ]
    }
   ],
   "source": [
    "#207\n",
    "#ACB\n",
    "print(\"A\")\n",
    "\n",
    "def message() :\n",
    "    print(\"B\")\n",
    "\n",
    "print(\"C\")\n",
    "message()"
   ]
  },
  {
   "cell_type": "code",
   "execution_count": 11,
   "id": "069ae1fd-fc04-481b-b84c-ee0b22cec7a9",
   "metadata": {},
   "outputs": [
    {
     "name": "stdout",
     "output_type": "stream",
     "text": [
      "A\n",
      "C\n",
      "B\n",
      "E\n",
      "D\n"
     ]
    }
   ],
   "source": [
    "#208\n",
    "#ACBED\n",
    "print(\"A\")\n",
    "def message1() :\n",
    "    print(\"B\")\n",
    "print(\"C\")\n",
    "def message2() :\n",
    "    print(\"D\")\n",
    "message1()\n",
    "print(\"E\")\n",
    "message2()"
   ]
  },
  {
   "cell_type": "code",
   "execution_count": 12,
   "id": "651fac38-7fa6-4b38-aa50-7a6935286dd7",
   "metadata": {},
   "outputs": [
    {
     "name": "stdout",
     "output_type": "stream",
     "text": [
      "B\n",
      "A\n"
     ]
    }
   ],
   "source": [
    "#209\n",
    "#BA\n",
    "def message1():\n",
    "    print(\"A\")\n",
    "\n",
    "def message2():\n",
    "    print(\"B\")\n",
    "    message1()\n",
    "\n",
    "message2()"
   ]
  },
  {
   "cell_type": "code",
   "execution_count": 13,
   "id": "b74f322a-362f-4623-9182-e28aa58b7bd8",
   "metadata": {},
   "outputs": [
    {
     "name": "stdout",
     "output_type": "stream",
     "text": [
      "B\n",
      "C\n",
      "B\n",
      "C\n",
      "B\n",
      "C\n",
      "A\n"
     ]
    }
   ],
   "source": [
    "#210\n",
    "#BCBCBCA\n",
    "def message1():\n",
    "    print(\"A\")\n",
    "\n",
    "def message2():\n",
    "    print(\"B\")\n",
    "\n",
    "def message3():\n",
    "    for i in range (3) :\n",
    "        message2()\n",
    "        print(\"C\")\n",
    "    message1()\n",
    "\n",
    "message3()"
   ]
  },
  {
   "cell_type": "code",
   "execution_count": 14,
   "id": "44e250ea-cf51-4fe8-8629-9e16c8e6c889",
   "metadata": {},
   "outputs": [
    {
     "name": "stdout",
     "output_type": "stream",
     "text": [
      "안녕\n",
      "Hi\n"
     ]
    }
   ],
   "source": [
    "#211\n",
    "#안녕Hi\n",
    "def 함수(문자열) :\n",
    "    print(문자열)\n",
    "\n",
    "함수(\"안녕\")\n",
    "함수(\"Hi\")"
   ]
  },
  {
   "cell_type": "code",
   "execution_count": 15,
   "id": "d1b2c292-3174-40d1-b8fc-c4a6aadde407",
   "metadata": {},
   "outputs": [
    {
     "name": "stdout",
     "output_type": "stream",
     "text": [
      "7\n",
      "15\n"
     ]
    }
   ],
   "source": [
    "#212\n",
    "#7 15\n",
    "def 함수(a, b) :\n",
    "    print(a + b)\n",
    "\n",
    "함수(3, 4)\n",
    "함수(7, 8)\n"
   ]
  },
  {
   "cell_type": "code",
   "execution_count": 18,
   "id": "341f3c17-3a1c-4a8a-9363-1717820ed75f",
   "metadata": {},
   "outputs": [],
   "source": [
    "#213\n",
    "#오류이유 : 값을 지정안함\n",
    "\n",
    "def 함수(문자열) :\n",
    "    print(문자열)\n"
   ]
  },
  {
   "cell_type": "code",
   "execution_count": 19,
   "id": "ece928c9-0274-42ae-8caf-08684d3132bc",
   "metadata": {},
   "outputs": [
    {
     "ename": "TypeError",
     "evalue": "can only concatenate str (not \"int\") to str",
     "output_type": "error",
     "traceback": [
      "\u001b[1;31m---------------------------------------------------------------------------\u001b[0m",
      "\u001b[1;31mTypeError\u001b[0m                                 Traceback (most recent call last)",
      "Cell \u001b[1;32mIn[19], line 5\u001b[0m\n\u001b[0;32m      2\u001b[0m \u001b[38;5;28;01mdef\u001b[39;00m \u001b[38;5;21m함수\u001b[39m(a, b) :\n\u001b[0;32m      3\u001b[0m     \u001b[38;5;28mprint\u001b[39m(a \u001b[38;5;241m+\u001b[39m b)\n\u001b[1;32m----> 5\u001b[0m 함수(\u001b[38;5;124m\"\u001b[39m\u001b[38;5;124m안녕\u001b[39m\u001b[38;5;124m\"\u001b[39m, \u001b[38;5;241m3\u001b[39m)\n",
      "Cell \u001b[1;32mIn[19], line 3\u001b[0m, in \u001b[0;36m함수\u001b[1;34m(a, b)\u001b[0m\n\u001b[0;32m      2\u001b[0m \u001b[38;5;28;01mdef\u001b[39;00m \u001b[38;5;21m함수\u001b[39m(a, b) :\n\u001b[1;32m----> 3\u001b[0m     \u001b[38;5;28mprint\u001b[39m(a \u001b[38;5;241m+\u001b[39m b)\n",
      "\u001b[1;31mTypeError\u001b[0m: can only concatenate str (not \"int\") to str"
     ]
    }
   ],
   "source": [
    "#214\n",
    "#오류이유 : 문자열과 숫자는 더할수 없다\n",
    "def 함수(a, b) :\n",
    "    print(a + b)\n",
    "\n",
    "함수(\"안녕\", 3)"
   ]
  },
  {
   "cell_type": "code",
   "execution_count": 20,
   "id": "c9d1c476-7be9-47eb-b9ca-a25541e1e7b3",
   "metadata": {},
   "outputs": [],
   "source": [
    "#215\n",
    "def print_with_smile(string):\n",
    "    print(string ,\":D\")"
   ]
  },
  {
   "cell_type": "code",
   "execution_count": 21,
   "id": "a86b75de-ef4b-49ce-85a4-241391046807",
   "metadata": {},
   "outputs": [
    {
     "name": "stdout",
     "output_type": "stream",
     "text": [
      "안녕하세요 :D\n"
     ]
    }
   ],
   "source": [
    "#216\n",
    "print_with_smile('안녕하세요')"
   ]
  },
  {
   "cell_type": "code",
   "execution_count": 23,
   "id": "aef03e60-d83d-4d86-b4d3-b2cc27cabf2e",
   "metadata": {},
   "outputs": [],
   "source": [
    "#217\n",
    "def print_upper_price(num):\n",
    "    print(num*1.3)"
   ]
  },
  {
   "cell_type": "code",
   "execution_count": 24,
   "id": "6f8fde30-ec64-4381-93c6-619f3c22d0d3",
   "metadata": {},
   "outputs": [],
   "source": [
    "#218\n",
    "def print_sum(a,b):\n",
    "    print(a+b)"
   ]
  },
  {
   "cell_type": "code",
   "execution_count": 31,
   "id": "249dbded-9620-4ba9-ac4c-549e086344bb",
   "metadata": {},
   "outputs": [],
   "source": [
    "#219\n",
    "def print_arithmetic_operation(a,b):\n",
    "    print(a,'+',b,'=',a+b)\n",
    "    print(a,'-',b,'=',a-b)\n",
    "    print(a,'*',b,'=',a*b)\n",
    "    print(a,'/',b,'=',a/b)\n",
    "    "
   ]
  },
  {
   "cell_type": "code",
   "execution_count": 32,
   "id": "795d989a-1e2d-4eb5-845b-051d1bf91399",
   "metadata": {},
   "outputs": [
    {
     "name": "stdout",
     "output_type": "stream",
     "text": [
      "3 + 4 = 7\n",
      "3 - 4 = -1\n",
      "3 * 4 = 12\n",
      "3 / 4 = 0.75\n"
     ]
    }
   ],
   "source": [
    "print_arithmetic_operation(3,4)"
   ]
  },
  {
   "cell_type": "code",
   "execution_count": 33,
   "id": "ee6fc5e0-ba2e-499b-b59d-d547ce022948",
   "metadata": {},
   "outputs": [],
   "source": [
    "#220\n",
    "def print_max(a,b,c):\n",
    "    max = 0\n",
    "    if a > max :\n",
    "        max = a\n",
    "        if b > max:\n",
    "            max = b\n",
    "            if c > max :\n",
    "                max = c\n",
    "                print(max)"
   ]
  },
  {
   "cell_type": "code",
   "execution_count": 37,
   "id": "5925d412-772e-482c-afd3-6e5defa40e0b",
   "metadata": {},
   "outputs": [],
   "source": [
    "#221\n",
    "def print_reverse(string):\n",
    "    print(string[::-1])"
   ]
  },
  {
   "cell_type": "code",
   "execution_count": 38,
   "id": "0382d388-555b-4117-a121-5f715befb352",
   "metadata": {},
   "outputs": [
    {
     "name": "stdout",
     "output_type": "stream",
     "text": [
      "nohtyp\n"
     ]
    }
   ],
   "source": [
    "print_reverse(\"python\")"
   ]
  },
  {
   "cell_type": "code",
   "execution_count": 41,
   "id": "ad7746e1-7901-4e0c-a845-ad50b9944b34",
   "metadata": {},
   "outputs": [],
   "source": [
    "#222\n",
    "def print_scort(score):\n",
    "    print(sum(score)/len(score))"
   ]
  },
  {
   "cell_type": "code",
   "execution_count": 42,
   "id": "cd307435-80fb-4fd4-805a-c3ad2fba829a",
   "metadata": {},
   "outputs": [],
   "source": [
    "#223\n",
    "def print_even(num_list):\n",
    "    for a in num_list:\n",
    "        if a % 2 == 0:\n",
    "            print(a)"
   ]
  },
  {
   "cell_type": "code",
   "execution_count": 43,
   "id": "80052744-fcf5-4243-a42b-d0509396c48c",
   "metadata": {},
   "outputs": [
    {
     "name": "stdout",
     "output_type": "stream",
     "text": [
      "2\n",
      "10\n",
      "12\n"
     ]
    }
   ],
   "source": [
    "print_even ([1, 3, 2, 10, 12, 11, 15])"
   ]
  },
  {
   "cell_type": "code",
   "execution_count": 60,
   "id": "b19090d9-56ac-4a02-811c-77d4fb161381",
   "metadata": {},
   "outputs": [],
   "source": [
    "#224\n",
    "def print_keys(dict):\n",
    "    for a in dict.keys():\n",
    "        print(a)\n",
    "    "
   ]
  },
  {
   "cell_type": "code",
   "execution_count": 47,
   "id": "e1380d4d-2484-4199-b143-128dc66c2ecc",
   "metadata": {},
   "outputs": [
    {
     "name": "stdout",
     "output_type": "stream",
     "text": [
      "이름\n",
      "나이\n",
      "성별\n"
     ]
    }
   ],
   "source": [
    "print_keys ({\"이름\":\"김말똥\", \"나이\":30, \"성별\":0})"
   ]
  },
  {
   "cell_type": "code",
   "execution_count": 63,
   "id": "93c3138d-c0b0-47e2-8ffc-a9c748fa9722",
   "metadata": {},
   "outputs": [],
   "source": [
    "#225\n",
    "my_dict = {\"10/26\" : [100, 130, 100, 100],\n",
    "           \"10/27\" : [10, 12, 10, 11]}\n",
    "def print_value_by_key(my_dict,key):\n",
    "    print(my_dict[key])"
   ]
  },
  {
   "cell_type": "code",
   "execution_count": 64,
   "id": "4815f411-8c80-42a8-a829-38671bb283da",
   "metadata": {},
   "outputs": [
    {
     "name": "stdout",
     "output_type": "stream",
     "text": [
      "[100, 130, 100, 100]\n"
     ]
    }
   ],
   "source": [
    "print_value_by_key(my_dict, \"10/26\")"
   ]
  },
  {
   "cell_type": "code",
   "execution_count": 73,
   "id": "b6577636-a611-4e93-b229-659efea0f0a1",
   "metadata": {},
   "outputs": [],
   "source": [
    "#226\n",
    "def print_5xn(string):\n",
    "    a = int(len(string) / 5)\n",
    "    for i in range(a + 1) :\n",
    "        print(string[i * 5: i * 5 + 5])"
   ]
  },
  {
   "cell_type": "code",
   "execution_count": 74,
   "id": "a4fc9075-b858-4a30-a672-0995026af8a2",
   "metadata": {},
   "outputs": [
    {
     "name": "stdout",
     "output_type": "stream",
     "text": [
      "아이엠어보\n",
      "이유알어걸\n",
      "\n"
     ]
    }
   ],
   "source": [
    "print_5xn(\"아이엠어보이유알어걸\")"
   ]
  },
  {
   "cell_type": "code",
   "execution_count": 77,
   "id": "9eafe149-688a-489c-a9c1-ec6609ccadbd",
   "metadata": {},
   "outputs": [],
   "source": [
    "#227\n",
    "def print_mxn(string,num):\n",
    "    a = int(len(string)/num)\n",
    "    for i in range(a+1):\n",
    "        print(string[i*num:i*num+num])"
   ]
  },
  {
   "cell_type": "code",
   "execution_count": 79,
   "id": "0961c4bc-d29b-4cc8-bd0d-c1b5cb011613",
   "metadata": {},
   "outputs": [
    {
     "name": "stdout",
     "output_type": "stream",
     "text": [
      "아이엠\n",
      "어보이\n",
      "유알어\n",
      "걸\n"
     ]
    }
   ],
   "source": [
    "print_mxn(\"아이엠어보이유알어걸\", 3)"
   ]
  },
  {
   "cell_type": "code",
   "execution_count": 80,
   "id": "d11f3105-4d72-4930-8289-c35fff645911",
   "metadata": {},
   "outputs": [],
   "source": [
    "#228\n",
    "def calc_monthly_salary(annual_sal):\n",
    "    sal = int(annual_sal / 12)\n",
    "    print(sal)"
   ]
  },
  {
   "cell_type": "code",
   "execution_count": 81,
   "id": "52452aa0-6864-4377-b709-db85ae197b8e",
   "metadata": {},
   "outputs": [
    {
     "name": "stdout",
     "output_type": "stream",
     "text": [
      "1000000\n"
     ]
    }
   ],
   "source": [
    "calc_monthly_salary(12000000)"
   ]
  },
  {
   "cell_type": "code",
   "execution_count": 82,
   "id": "071388f2-b91c-4a4b-abea-b4ff1ab140e2",
   "metadata": {},
   "outputs": [],
   "source": [
    "#229\n",
    "#왼쪽:100 오른쪽:200\n",
    "def my_print (a, b) :\n",
    "    print(\"왼쪽:\", a)\n",
    "    print(\"오른쪽:\", b)"
   ]
  },
  {
   "cell_type": "code",
   "execution_count": 83,
   "id": "56fb808c-08a1-42f4-b2af-ecd217f4e8d3",
   "metadata": {},
   "outputs": [
    {
     "name": "stdout",
     "output_type": "stream",
     "text": [
      "왼쪽: 100\n",
      "오른쪽: 200\n"
     ]
    }
   ],
   "source": [
    "my_print(a=100, b=200)"
   ]
  },
  {
   "cell_type": "code",
   "execution_count": 84,
   "id": "6965936b-36aa-47b4-8284-b0aae9b0081c",
   "metadata": {},
   "outputs": [],
   "source": [
    "#230\n",
    "#왼쪽:200 오른쪽:100\n",
    "def my_print (a, b) :\n",
    "    print(\"왼쪽:\", a)\n",
    "    print(\"오른쪽:\", b)"
   ]
  },
  {
   "cell_type": "code",
   "execution_count": 85,
   "id": "8fa38daf-f48a-4ec8-b0db-af250e16a729",
   "metadata": {},
   "outputs": [
    {
     "name": "stdout",
     "output_type": "stream",
     "text": [
      "왼쪽: 200\n",
      "오른쪽: 100\n"
     ]
    }
   ],
   "source": [
    "my_print(b=100, a=200)"
   ]
  },
  {
   "cell_type": "code",
   "execution_count": 86,
   "id": "75f029f4-784c-4508-871a-c7f02723f37c",
   "metadata": {},
   "outputs": [
    {
     "ename": "NameError",
     "evalue": "name 'result' is not defined",
     "output_type": "error",
     "traceback": [
      "\u001b[1;31m---------------------------------------------------------------------------\u001b[0m",
      "\u001b[1;31mNameError\u001b[0m                                 Traceback (most recent call last)",
      "Cell \u001b[1;32mIn[86], line 7\u001b[0m\n\u001b[0;32m      4\u001b[0m     result \u001b[38;5;241m=\u001b[39m n \u001b[38;5;241m+\u001b[39m \u001b[38;5;241m1\u001b[39m\n\u001b[0;32m      6\u001b[0m n_plus_1(\u001b[38;5;241m3\u001b[39m)\n\u001b[1;32m----> 7\u001b[0m \u001b[38;5;28mprint\u001b[39m (result)\n",
      "\u001b[1;31mNameError\u001b[0m: name 'result' is not defined"
     ]
    }
   ],
   "source": [
    "#231\n",
    "#4.... -> return이 없어서 오류\n",
    "def n_plus_1 (n) :\n",
    "    result = n + 1\n",
    "\n",
    "n_plus_1(3)\n",
    "print (result)"
   ]
  },
  {
   "cell_type": "code",
   "execution_count": 89,
   "id": "f4da1860-2d08-4790-93dc-de53261a5787",
   "metadata": {},
   "outputs": [],
   "source": [
    "#232\n",
    "def make_url(string):\n",
    "    return \"www.\"+string+\".com\""
   ]
  },
  {
   "cell_type": "code",
   "execution_count": 90,
   "id": "7034438c-9534-4957-99ee-b2c41f620995",
   "metadata": {},
   "outputs": [
    {
     "data": {
      "text/plain": [
       "'www.naver.com'"
      ]
     },
     "execution_count": 90,
     "metadata": {},
     "output_type": "execute_result"
    }
   ],
   "source": [
    "make_url(\"naver\")"
   ]
  },
  {
   "cell_type": "code",
   "execution_count": 95,
   "id": "751bdd96-cb70-49b7-a5bd-33646a92aba4",
   "metadata": {},
   "outputs": [],
   "source": [
    "#233\n",
    "def pickup_even(list):\n",
    "    result=[]\n",
    "    for a in list:\n",
    "        if a % 2 == 0:\n",
    "            result.append(a)\n",
    "    return(result)"
   ]
  },
  {
   "cell_type": "code",
   "execution_count": 96,
   "id": "f9c832a2-91d1-4e0b-8a7b-72378fd16a44",
   "metadata": {},
   "outputs": [
    {
     "data": {
      "text/plain": [
       "[4, 6, 8]"
      ]
     },
     "execution_count": 96,
     "metadata": {},
     "output_type": "execute_result"
    }
   ],
   "source": [
    "pickup_even([3, 4, 5, 6, 7, 8])"
   ]
  },
  {
   "cell_type": "code",
   "execution_count": 103,
   "id": "fbf1e285-83d2-41e3-970f-384fa677c009",
   "metadata": {},
   "outputs": [],
   "source": [
    "#234\n",
    "def convert_int(string):\n",
    "    return int(string.replace(',',''))"
   ]
  },
  {
   "cell_type": "code",
   "execution_count": 104,
   "id": "f22eb334-28a0-475f-932c-4a96c7040807",
   "metadata": {},
   "outputs": [
    {
     "data": {
      "text/plain": [
       "1234567"
      ]
     },
     "execution_count": 104,
     "metadata": {},
     "output_type": "execute_result"
    }
   ],
   "source": [
    "convert_int(\"1,234,567\")"
   ]
  },
  {
   "cell_type": "code",
   "execution_count": 114,
   "id": "e8e6e1b6-d6e1-49c6-afd4-11e47ab0689f",
   "metadata": {},
   "outputs": [
    {
     "name": "stdout",
     "output_type": "stream",
     "text": [
      "22\n"
     ]
    }
   ],
   "source": [
    "#235\n",
    "#22\n",
    "def 함수(num) :\n",
    "    return num + 4\n",
    "\n",
    "a = 함수(10)\n",
    "b = 함수(a)\n",
    "c = 함수(b)\n",
    "print(c)"
   ]
  },
  {
   "cell_type": "code",
   "execution_count": 113,
   "id": "5749ac01-33f2-4ba3-9134-488569b828ce",
   "metadata": {},
   "outputs": [
    {
     "name": "stdout",
     "output_type": "stream",
     "text": [
      "22\n"
     ]
    }
   ],
   "source": [
    "#236\n",
    "#22\n",
    "def 함수(num) :\n",
    "    return num + 4\n",
    "\n",
    "c = 함수(함수(함수(10)))\n",
    "print(c)"
   ]
  },
  {
   "cell_type": "code",
   "execution_count": 112,
   "id": "e669de54-70d8-4f77-838b-fc49f989675f",
   "metadata": {},
   "outputs": [
    {
     "name": "stdout",
     "output_type": "stream",
     "text": [
      "140\n"
     ]
    }
   ],
   "source": [
    "#237\n",
    "#140\n",
    "def 함수1(num) :\n",
    "    return num + 4\n",
    "\n",
    "def 함수2(num) :\n",
    "    return num * 10\n",
    "\n",
    "a = 함수1(10)\n",
    "c = 함수2(a)\n",
    "print(c)"
   ]
  },
  {
   "cell_type": "code",
   "execution_count": 111,
   "id": "aec691db-4bf9-4297-bf7f-b669bc9a757d",
   "metadata": {},
   "outputs": [
    {
     "name": "stdout",
     "output_type": "stream",
     "text": [
      "16\n"
     ]
    }
   ],
   "source": [
    "#238\n",
    "#16\n",
    "def 함수1(num) :\n",
    "    return num + 4\n",
    "\n",
    "def 함수2(num) :\n",
    "    num = num + 2\n",
    "    return 함수1(num)\n",
    "\n",
    "c = 함수2(10)\n",
    "print(c)"
   ]
  },
  {
   "cell_type": "code",
   "execution_count": 118,
   "id": "bf337107-d3ad-4999-8d8d-3eece1e8aba6",
   "metadata": {},
   "outputs": [
    {
     "name": "stdout",
     "output_type": "stream",
     "text": [
      "16\n"
     ]
    }
   ],
   "source": [
    "#239\n",
    "#16\n",
    "def 함수1(num) :\n",
    "    return num + 4\n",
    "\n",
    "def 함수2(num) :\n",
    "    num = num + 2\n",
    "    return 함수1(num)\n",
    "\n",
    "c = 함수2(10)\n",
    "print(c)"
   ]
  },
  {
   "cell_type": "code",
   "execution_count": 117,
   "id": "f640ace3-2e24-4c03-8543-3a1dd9d1e800",
   "metadata": {},
   "outputs": [
    {
     "name": "stdout",
     "output_type": "stream",
     "text": [
      "28\n"
     ]
    }
   ],
   "source": [
    "#240\n",
    "#28\n",
    "def 함수0(num) :\n",
    "    return num * 2\n",
    "\n",
    "def 함수1(num) :\n",
    "    return 함수0(num + 2)\n",
    "\n",
    "def 함수2(num) :\n",
    "    num = num + 10\n",
    "    return 함수1(num)\n",
    "\n",
    "c = 함수2(2)\n",
    "print(c)"
   ]
  },
  {
   "cell_type": "markdown",
   "id": "ebc01a32-5bff-43a7-92c1-e2c02a7aa966",
   "metadata": {},
   "source": [
    "## 끄으으으으으으읕!"
   ]
  }
 ],
 "metadata": {
  "kernelspec": {
   "display_name": "Python 3 (ipykernel)",
   "language": "python",
   "name": "python3"
  },
  "language_info": {
   "codemirror_mode": {
    "name": "ipython",
    "version": 3
   },
   "file_extension": ".py",
   "mimetype": "text/x-python",
   "name": "python",
   "nbconvert_exporter": "python",
   "pygments_lexer": "ipython3",
   "version": "3.11.7"
  }
 },
 "nbformat": 4,
 "nbformat_minor": 5
}
