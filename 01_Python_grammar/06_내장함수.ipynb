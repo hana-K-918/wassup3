{
 "cells": [
  {
   "cell_type": "markdown",
   "id": "cd005e81-9ecc-4162-9af9-7478f86ca3df",
   "metadata": {},
   "source": [
    "# 내장함수"
   ]
  },
  {
   "cell_type": "markdown",
   "id": "fc8e24fc-8fd3-4aa3-b00d-0e8244c72953",
   "metadata": {},
   "source": [
    "## abs - 숫자의 절대값 리턴"
   ]
  },
  {
   "cell_type": "code",
   "execution_count": 1,
   "id": "9161765e-d36b-49c9-b488-49c45561fe43",
   "metadata": {},
   "outputs": [
    {
     "data": {
      "text/plain": [
       "3"
      ]
     },
     "execution_count": 1,
     "metadata": {},
     "output_type": "execute_result"
    }
   ],
   "source": [
    "abs(3)"
   ]
  },
  {
   "cell_type": "code",
   "execution_count": 2,
   "id": "ec96768b-4028-4c3d-8d0c-2578c7a63967",
   "metadata": {},
   "outputs": [
    {
     "data": {
      "text/plain": [
       "3"
      ]
     },
     "execution_count": 2,
     "metadata": {},
     "output_type": "execute_result"
    }
   ],
   "source": [
    "abs(-3)"
   ]
  },
  {
   "cell_type": "code",
   "execution_count": 4,
   "id": "fba5d72c-d4ca-4ae4-a1ba-4e425b3a389e",
   "metadata": {},
   "outputs": [
    {
     "data": {
      "text/plain": [
       "1.2"
      ]
     },
     "execution_count": 4,
     "metadata": {},
     "output_type": "execute_result"
    }
   ],
   "source": [
    "abs(-1.2)"
   ]
  },
  {
   "cell_type": "markdown",
   "id": "9287e580-421e-47b5-96da-a04d1ec61fc9",
   "metadata": {},
   "source": [
    "## all"
   ]
  },
  {
   "cell_type": "code",
   "execution_count": 5,
   "id": "cb726c78-a0ad-4502-90e9-4a29b3a9e477",
   "metadata": {},
   "outputs": [
    {
     "data": {
      "text/plain": [
       "True"
      ]
     },
     "execution_count": 5,
     "metadata": {},
     "output_type": "execute_result"
    }
   ],
   "source": [
    "all([1,2,3])"
   ]
  },
  {
   "cell_type": "code",
   "execution_count": 6,
   "id": "6e136ea3-c630-48bc-8353-d7ce84c33c26",
   "metadata": {},
   "outputs": [
    {
     "data": {
      "text/plain": [
       "False"
      ]
     },
     "execution_count": 6,
     "metadata": {},
     "output_type": "execute_result"
    }
   ],
   "source": [
    "all([1,2,3,0]) #요소의 0은 거짓으로 판단"
   ]
  },
  {
   "cell_type": "code",
   "execution_count": 7,
   "id": "0d1803aa-7563-4fee-ae20-97814e0a5d64",
   "metadata": {},
   "outputs": [
    {
     "data": {
      "text/plain": [
       "True"
      ]
     },
     "execution_count": 7,
     "metadata": {},
     "output_type": "execute_result"
    }
   ],
   "source": [
    "all([]) #인수가 빈값은 참"
   ]
  },
  {
   "cell_type": "markdown",
   "id": "55940866-07d2-402f-81ec-75ecfce95b8f",
   "metadata": {},
   "source": [
    "## any"
   ]
  },
  {
   "cell_type": "code",
   "execution_count": 8,
   "id": "6681fb8d-5d8b-4299-9a6a-81ba38c0aa34",
   "metadata": {},
   "outputs": [
    {
     "data": {
      "text/plain": [
       "True"
      ]
     },
     "execution_count": 8,
     "metadata": {},
     "output_type": "execute_result"
    }
   ],
   "source": [
    "any([1,2,3,0])"
   ]
  },
  {
   "cell_type": "code",
   "execution_count": 9,
   "id": "e5180b2e-a1f7-4c77-af86-f528e2f0ced3",
   "metadata": {},
   "outputs": [
    {
     "data": {
      "text/plain": [
       "False"
      ]
     },
     "execution_count": 9,
     "metadata": {},
     "output_type": "execute_result"
    }
   ],
   "source": [
    "any([0,'']) #모두 거짓"
   ]
  },
  {
   "cell_type": "code",
   "execution_count": 10,
   "id": "95ba7f4d-465d-40e1-8206-a839ebdb1859",
   "metadata": {},
   "outputs": [
    {
     "data": {
      "text/plain": [
       "False"
      ]
     },
     "execution_count": 10,
     "metadata": {},
     "output_type": "execute_result"
    }
   ],
   "source": [
    "any([])"
   ]
  },
  {
   "cell_type": "markdown",
   "id": "26abd523-82c9-4d4b-8761-1fe0b3b0b5eb",
   "metadata": {},
   "source": [
    "## chr - 유니코드"
   ]
  },
  {
   "cell_type": "code",
   "execution_count": 14,
   "id": "cc1cb6e8-7cbd-4a26-b5ae-0467e8d63135",
   "metadata": {},
   "outputs": [
    {
     "data": {
      "text/plain": [
       "'a'"
      ]
     },
     "execution_count": 14,
     "metadata": {},
     "output_type": "execute_result"
    }
   ],
   "source": [
    "chr(97)"
   ]
  },
  {
   "cell_type": "code",
   "execution_count": 15,
   "id": "f5e6325c-1563-4ea1-b9fa-cb0b029e8fc0",
   "metadata": {},
   "outputs": [
    {
     "data": {
      "text/plain": [
       "'가'"
      ]
     },
     "execution_count": 15,
     "metadata": {},
     "output_type": "execute_result"
    }
   ],
   "source": [
    "chr(44032)"
   ]
  },
  {
   "cell_type": "markdown",
   "id": "a6fb847b-17ee-4758-af4a-6ae2710cbbf9",
   "metadata": {},
   "source": [
    "## dir - 객체가 지닌 변수나 함수를 보여줌"
   ]
  },
  {
   "cell_type": "code",
   "execution_count": 16,
   "id": "140d6390-bf8f-45c6-a9ff-55ed331573ca",
   "metadata": {},
   "outputs": [
    {
     "data": {
      "text/plain": [
       "['__add__',\n",
       " '__class__',\n",
       " '__class_getitem__',\n",
       " '__contains__',\n",
       " '__delattr__',\n",
       " '__delitem__',\n",
       " '__dir__',\n",
       " '__doc__',\n",
       " '__eq__',\n",
       " '__format__',\n",
       " '__ge__',\n",
       " '__getattribute__',\n",
       " '__getitem__',\n",
       " '__getstate__',\n",
       " '__gt__',\n",
       " '__hash__',\n",
       " '__iadd__',\n",
       " '__imul__',\n",
       " '__init__',\n",
       " '__init_subclass__',\n",
       " '__iter__',\n",
       " '__le__',\n",
       " '__len__',\n",
       " '__lt__',\n",
       " '__mul__',\n",
       " '__ne__',\n",
       " '__new__',\n",
       " '__reduce__',\n",
       " '__reduce_ex__',\n",
       " '__repr__',\n",
       " '__reversed__',\n",
       " '__rmul__',\n",
       " '__setattr__',\n",
       " '__setitem__',\n",
       " '__sizeof__',\n",
       " '__str__',\n",
       " '__subclasshook__',\n",
       " 'append',\n",
       " 'clear',\n",
       " 'copy',\n",
       " 'count',\n",
       " 'extend',\n",
       " 'index',\n",
       " 'insert',\n",
       " 'pop',\n",
       " 'remove',\n",
       " 'reverse',\n",
       " 'sort']"
      ]
     },
     "execution_count": 16,
     "metadata": {},
     "output_type": "execute_result"
    }
   ],
   "source": [
    "dir([1,2,3])"
   ]
  },
  {
   "cell_type": "code",
   "execution_count": 17,
   "id": "b74aa3d9-ab46-4f5f-b312-1a187c496481",
   "metadata": {},
   "outputs": [
    {
     "data": {
      "text/plain": [
       "['__class__',\n",
       " '__class_getitem__',\n",
       " '__contains__',\n",
       " '__delattr__',\n",
       " '__delitem__',\n",
       " '__dir__',\n",
       " '__doc__',\n",
       " '__eq__',\n",
       " '__format__',\n",
       " '__ge__',\n",
       " '__getattribute__',\n",
       " '__getitem__',\n",
       " '__getstate__',\n",
       " '__gt__',\n",
       " '__hash__',\n",
       " '__init__',\n",
       " '__init_subclass__',\n",
       " '__ior__',\n",
       " '__iter__',\n",
       " '__le__',\n",
       " '__len__',\n",
       " '__lt__',\n",
       " '__ne__',\n",
       " '__new__',\n",
       " '__or__',\n",
       " '__reduce__',\n",
       " '__reduce_ex__',\n",
       " '__repr__',\n",
       " '__reversed__',\n",
       " '__ror__',\n",
       " '__setattr__',\n",
       " '__setitem__',\n",
       " '__sizeof__',\n",
       " '__str__',\n",
       " '__subclasshook__',\n",
       " 'clear',\n",
       " 'copy',\n",
       " 'fromkeys',\n",
       " 'get',\n",
       " 'items',\n",
       " 'keys',\n",
       " 'pop',\n",
       " 'popitem',\n",
       " 'setdefault',\n",
       " 'update',\n",
       " 'values']"
      ]
     },
     "execution_count": 17,
     "metadata": {},
     "output_type": "execute_result"
    }
   ],
   "source": [
    "dir({1:'a'})"
   ]
  },
  {
   "cell_type": "markdown",
   "id": "53f01490-6708-4e3a-bf8d-7f736704970f",
   "metadata": {},
   "source": [
    "## divmod - 두 숫자의 몫과 나머지를 튜플로!"
   ]
  },
  {
   "cell_type": "code",
   "execution_count": 18,
   "id": "4a364d70-683a-4e87-8f78-3b2c5306b57f",
   "metadata": {},
   "outputs": [
    {
     "data": {
      "text/plain": [
       "(2, 1)"
      ]
     },
     "execution_count": 18,
     "metadata": {},
     "output_type": "execute_result"
    }
   ],
   "source": [
    "divmod(7,3)"
   ]
  },
  {
   "cell_type": "code",
   "execution_count": 20,
   "id": "4e5c1597-44d7-4587-bd52-f9f7218acf58",
   "metadata": {},
   "outputs": [
    {
     "data": {
      "text/plain": [
       "(2, 1)"
      ]
     },
     "execution_count": 20,
     "metadata": {},
     "output_type": "execute_result"
    }
   ],
   "source": [
    "7//3, 7%3"
   ]
  },
  {
   "cell_type": "markdown",
   "id": "11ca50c4-84d2-49aa-9a4b-57730845b307",
   "metadata": {},
   "source": [
    "## enumerate (중요!) -인덱스와 객체를 한번에!"
   ]
  },
  {
   "cell_type": "code",
   "execution_count": 21,
   "id": "8fcc6dce-24b6-44e4-a441-c2c674243197",
   "metadata": {},
   "outputs": [
    {
     "name": "stdout",
     "output_type": "stream",
     "text": [
      "0 body\n",
      "1 foo\n",
      "2 bar\n"
     ]
    }
   ],
   "source": [
    "for i, name in enumerate(['body','foo','bar']):\n",
    "    print(i,name)"
   ]
  },
  {
   "cell_type": "markdown",
   "id": "76794377-c2ce-44f8-a78c-3760bdcfb8f0",
   "metadata": {},
   "source": [
    "## eval"
   ]
  },
  {
   "cell_type": "code",
   "execution_count": 24,
   "id": "750b1fa9-adf0-4980-af42-3b8244c92175",
   "metadata": {},
   "outputs": [
    {
     "data": {
      "text/plain": [
       "3"
      ]
     },
     "execution_count": 24,
     "metadata": {},
     "output_type": "execute_result"
    }
   ],
   "source": [
    ">>> eval('1+2')"
   ]
  },
  {
   "cell_type": "code",
   "execution_count": 25,
   "id": "18290e2e-aec2-4eb0-b80f-e77dfd88bd8a",
   "metadata": {},
   "outputs": [
    {
     "data": {
      "text/plain": [
       "'hia'"
      ]
     },
     "execution_count": 25,
     "metadata": {},
     "output_type": "execute_result"
    }
   ],
   "source": [
    ">>> eval(\"'hi' + 'a'\")"
   ]
  },
  {
   "cell_type": "code",
   "execution_count": 26,
   "id": "30027770-5885-4fd1-ac15-6184d98545e3",
   "metadata": {},
   "outputs": [
    {
     "data": {
      "text/plain": [
       "(1, 1)"
      ]
     },
     "execution_count": 26,
     "metadata": {},
     "output_type": "execute_result"
    }
   ],
   "source": [
    ">>> eval('divmod(4, 3)')"
   ]
  },
  {
   "cell_type": "markdown",
   "id": "ef8c39aa-ecd0-4150-a21e-47472bdd3c23",
   "metadata": {},
   "source": [
    "## filter (중요!!) "
   ]
  },
  {
   "cell_type": "code",
   "execution_count": 27,
   "id": "197f2979-ba96-4763-a59c-11f76e5a3d1c",
   "metadata": {},
   "outputs": [
    {
     "name": "stdout",
     "output_type": "stream",
     "text": [
      "[1, 2, 6]\n"
     ]
    }
   ],
   "source": [
    "def positive(l): \n",
    "    result = [] \n",
    "    for i in l: \n",
    "        if i > 0: \n",
    "            result.append(i) \n",
    "    return result\n",
    "\n",
    "print(positive([1,-3,2,0,-5,6]))"
   ]
  },
  {
   "cell_type": "code",
   "execution_count": 28,
   "id": "4c6d97d1-4830-4acd-9255-e01451a561b2",
   "metadata": {},
   "outputs": [],
   "source": [
    "def positive(x):\n",
    "    return x > 0"
   ]
  },
  {
   "cell_type": "code",
   "execution_count": 29,
   "id": "7489bdc2-cbf0-440b-9077-5ddf8f9f5ba8",
   "metadata": {},
   "outputs": [
    {
     "data": {
      "text/plain": [
       "<filter at 0x1d8f4ea17e0>"
      ]
     },
     "execution_count": 29,
     "metadata": {},
     "output_type": "execute_result"
    }
   ],
   "source": [
    "filter(positive,[1,-3,2,0,-5,6])"
   ]
  },
  {
   "cell_type": "code",
   "execution_count": 30,
   "id": "c36e7b02-14b5-406c-b948-05de69490fb3",
   "metadata": {},
   "outputs": [
    {
     "data": {
      "text/plain": [
       "[1, 2, 6]"
      ]
     },
     "execution_count": 30,
     "metadata": {},
     "output_type": "execute_result"
    }
   ],
   "source": [
    "list(filter(positive,[1,-3,2,0,-5,6]))"
   ]
  },
  {
   "cell_type": "code",
   "execution_count": 31,
   "id": "61330ffc-9c81-4de3-8d0c-8d8040c3fc11",
   "metadata": {},
   "outputs": [
    {
     "data": {
      "text/plain": [
       "[1, 2, 6]"
      ]
     },
     "execution_count": 31,
     "metadata": {},
     "output_type": "execute_result"
    }
   ],
   "source": [
    "list(filter(lambda x: x>0, [1,-3,2,0,-5,6]))"
   ]
  },
  {
   "cell_type": "markdown",
   "id": "972990fd-48b5-4e77-9ac6-ce469e375839",
   "metadata": {},
   "source": [
    "## int - 정수로 리턴"
   ]
  },
  {
   "cell_type": "code",
   "execution_count": 32,
   "id": "d3d4834e-5ae3-47bd-a46a-acb794484b63",
   "metadata": {},
   "outputs": [
    {
     "data": {
      "text/plain": [
       "3"
      ]
     },
     "execution_count": 32,
     "metadata": {},
     "output_type": "execute_result"
    }
   ],
   "source": [
    "int('3')"
   ]
  },
  {
   "cell_type": "code",
   "execution_count": 34,
   "id": "91bb6bed-e055-48d0-8f70-38cde53bd479",
   "metadata": {},
   "outputs": [
    {
     "data": {
      "text/plain": [
       "3"
      ]
     },
     "execution_count": 34,
     "metadata": {},
     "output_type": "execute_result"
    }
   ],
   "source": [
    "int(3.4)"
   ]
  },
  {
   "cell_type": "code",
   "execution_count": 35,
   "id": "6ec10866-47b9-43de-8e74-ead4937c5c2c",
   "metadata": {},
   "outputs": [
    {
     "data": {
      "text/plain": [
       "\u001b[1;31mInit signature:\u001b[0m \u001b[0mint\u001b[0m\u001b[1;33m(\u001b[0m\u001b[0mself\u001b[0m\u001b[1;33m,\u001b[0m \u001b[1;33m/\u001b[0m\u001b[1;33m,\u001b[0m \u001b[1;33m*\u001b[0m\u001b[0margs\u001b[0m\u001b[1;33m,\u001b[0m \u001b[1;33m**\u001b[0m\u001b[0mkwargs\u001b[0m\u001b[1;33m)\u001b[0m\u001b[1;33m\u001b[0m\u001b[1;33m\u001b[0m\u001b[0m\n",
       "\u001b[1;31mDocstring:\u001b[0m     \n",
       "int([x]) -> integer\n",
       "int(x, base=10) -> integer\n",
       "\n",
       "Convert a number or string to an integer, or return 0 if no arguments\n",
       "are given.  If x is a number, return x.__int__().  For floating point\n",
       "numbers, this truncates towards zero.\n",
       "\n",
       "If x is not a number or if base is given, then x must be a string,\n",
       "bytes, or bytearray instance representing an integer literal in the\n",
       "given base.  The literal can be preceded by '+' or '-' and be surrounded\n",
       "by whitespace.  The base defaults to 10.  Valid bases are 0 and 2-36.\n",
       "Base 0 means to interpret the base from the string as an integer literal.\n",
       ">>> int('0b100', base=0)\n",
       "4\n",
       "\u001b[1;31mType:\u001b[0m           type\n",
       "\u001b[1;31mSubclasses:\u001b[0m     bool, IntEnum, IntFlag, _NamedIntConstant, Handle"
      ]
     },
     "metadata": {},
     "output_type": "display_data"
    }
   ],
   "source": [
    "int?"
   ]
  },
  {
   "cell_type": "code",
   "execution_count": 36,
   "id": "95136370-7c09-4912-a586-6599e1432909",
   "metadata": {},
   "outputs": [
    {
     "data": {
      "text/plain": [
       "3"
      ]
     },
     "execution_count": 36,
     "metadata": {},
     "output_type": "execute_result"
    }
   ],
   "source": [
    "int('11',2) # 11 -> 2진수로"
   ]
  },
  {
   "cell_type": "code",
   "execution_count": 37,
   "id": "3f64431c-e0ff-4114-8de3-74391a3fb728",
   "metadata": {},
   "outputs": [
    {
     "data": {
      "text/plain": [
       "26"
      ]
     },
     "execution_count": 37,
     "metadata": {},
     "output_type": "execute_result"
    }
   ],
   "source": [
    "int('1A',16) # ->16진수로"
   ]
  },
  {
   "cell_type": "markdown",
   "id": "5710a6db-03a9-4968-afcb-3ddfe12d876a",
   "metadata": {},
   "source": [
    "## isinstance - 그 클래스의 인스턴스인지를 판단"
   ]
  },
  {
   "cell_type": "code",
   "execution_count": 38,
   "id": "24e5e717-76e6-4f1e-bf58-c6ea35bde0d5",
   "metadata": {},
   "outputs": [],
   "source": [
    "class person : pass"
   ]
  },
  {
   "cell_type": "code",
   "execution_count": 39,
   "id": "363b28f2-1c73-49b4-a2a9-0c9fa540533e",
   "metadata": {},
   "outputs": [
    {
     "data": {
      "text/plain": [
       "<__main__.person at 0x1d8f5ff7b90>"
      ]
     },
     "execution_count": 39,
     "metadata": {},
     "output_type": "execute_result"
    }
   ],
   "source": [
    "a = person()\n",
    "a"
   ]
  },
  {
   "cell_type": "code",
   "execution_count": 40,
   "id": "d1a02919-74e2-456f-b1c9-f2d08d6cf826",
   "metadata": {},
   "outputs": [
    {
     "data": {
      "text/plain": [
       "True"
      ]
     },
     "execution_count": 40,
     "metadata": {},
     "output_type": "execute_result"
    }
   ],
   "source": [
    "isinstance(a,person)"
   ]
  },
  {
   "cell_type": "markdown",
   "id": "830960ea-c109-4b11-b0a6-466e13503e61",
   "metadata": {},
   "source": [
    "## list"
   ]
  },
  {
   "cell_type": "code",
   "execution_count": 41,
   "id": "a949ec48-af26-4173-9151-658281034a90",
   "metadata": {},
   "outputs": [
    {
     "data": {
      "text/plain": [
       "['p', 'y', 't', 'h', 'o', 'n']"
      ]
     },
     "execution_count": 41,
     "metadata": {},
     "output_type": "execute_result"
    }
   ],
   "source": [
    "list('python')"
   ]
  },
  {
   "cell_type": "code",
   "execution_count": 43,
   "id": "8d614e0a-53f2-464d-979e-15438b8df2ef",
   "metadata": {},
   "outputs": [
    {
     "data": {
      "text/plain": [
       "[1, 2, 3]"
      ]
     },
     "execution_count": 43,
     "metadata": {},
     "output_type": "execute_result"
    }
   ],
   "source": [
    "list((1,2,3))"
   ]
  },
  {
   "cell_type": "markdown",
   "id": "1bfaa78e-6e8a-4eca-9001-85710db3112e",
   "metadata": {},
   "source": [
    "## map (중요!!) - 파생변수만들때! "
   ]
  },
  {
   "cell_type": "code",
   "execution_count": 44,
   "id": "2ae92fc6-b49c-4c15-9a4f-edd4b1ca8491",
   "metadata": {},
   "outputs": [
    {
     "name": "stdout",
     "output_type": "stream",
     "text": [
      "[2, 4, 6, 8]\n"
     ]
    }
   ],
   "source": [
    "def two_times(numberList):\n",
    "    result = []\n",
    "    for number in numberList:\n",
    "        result.append(number*2)\n",
    "    return result\n",
    "\n",
    "result = two_times([1, 2, 3, 4])\n",
    "print(result)"
   ]
  },
  {
   "cell_type": "code",
   "execution_count": 47,
   "id": "2629e0c5-a5ad-491d-ab0d-0455c4a78ba4",
   "metadata": {},
   "outputs": [
    {
     "data": {
      "text/plain": [
       "[2, 4, 6, 8]"
      ]
     },
     "execution_count": 47,
     "metadata": {},
     "output_type": "execute_result"
    }
   ],
   "source": [
    "def two_times(x): \n",
    "     return x*2\n",
    "\n",
    "list(map(two_times, [1, 2, 3, 4]))\n",
    "[2, 4, 6, 8]"
   ]
  },
  {
   "cell_type": "code",
   "execution_count": 48,
   "id": "11068cf7-5ad9-4853-8fa9-a0300966a4d7",
   "metadata": {},
   "outputs": [
    {
     "data": {
      "text/plain": [
       "[2, 4, 6, 8]"
      ]
     },
     "execution_count": 48,
     "metadata": {},
     "output_type": "execute_result"
    }
   ],
   "source": [
    "list(map(lambda a: a*2, [1, 2, 3, 4]))\n",
    "[2, 4, 6, 8]"
   ]
  },
  {
   "cell_type": "markdown",
   "id": "f3dc6662-4ee8-4601-b1f7-02974158af9d",
   "metadata": {},
   "source": [
    "## max "
   ]
  },
  {
   "cell_type": "code",
   "execution_count": 51,
   "id": "586a3782-d7df-421b-91a2-f5559909a2c8",
   "metadata": {},
   "outputs": [
    {
     "data": {
      "text/plain": [
       "3"
      ]
     },
     "execution_count": 51,
     "metadata": {},
     "output_type": "execute_result"
    }
   ],
   "source": [
    "max([1,2,3])"
   ]
  },
  {
   "cell_type": "markdown",
   "id": "3cbc2f0b-25c5-4df0-a498-2efe264e4117",
   "metadata": {},
   "source": [
    "## min"
   ]
  },
  {
   "cell_type": "code",
   "execution_count": 53,
   "id": "23b196ce-6392-4ca5-b21e-eec9b241d8ca",
   "metadata": {},
   "outputs": [
    {
     "data": {
      "text/plain": [
       "1"
      ]
     },
     "execution_count": 53,
     "metadata": {},
     "output_type": "execute_result"
    }
   ],
   "source": [
    "min([1,2,3])"
   ]
  },
  {
   "cell_type": "markdown",
   "id": "995cb991-2c2f-4309-8f57-9ed6bba13e60",
   "metadata": {},
   "source": [
    "## ord"
   ]
  },
  {
   "cell_type": "code",
   "execution_count": 54,
   "id": "94fb252f-ca1e-428b-9c9e-7728ea5ebc74",
   "metadata": {},
   "outputs": [
    {
     "data": {
      "text/plain": [
       "97"
      ]
     },
     "execution_count": 54,
     "metadata": {},
     "output_type": "execute_result"
    }
   ],
   "source": [
    "ord('a')"
   ]
  },
  {
   "cell_type": "markdown",
   "id": "ceefa20e-2843-45a3-af39-863274d497aa",
   "metadata": {},
   "source": [
    "## range"
   ]
  },
  {
   "cell_type": "code",
   "execution_count": 57,
   "id": "98cf82cb-0527-4308-a48e-e1c054c981b9",
   "metadata": {},
   "outputs": [
    {
     "data": {
      "text/plain": [
       "[5, 7, 9]"
      ]
     },
     "execution_count": 57,
     "metadata": {},
     "output_type": "execute_result"
    }
   ],
   "source": [
    "list(range(5,10,2))  #start, end, step"
   ]
  },
  {
   "cell_type": "markdown",
   "id": "a9679ba3-1dcd-4d03-9bb8-8b66fc2c961f",
   "metadata": {},
   "source": [
    "## round - 반올림"
   ]
  },
  {
   "cell_type": "code",
   "execution_count": 59,
   "id": "3dfb0eed-590f-4368-ac1a-f736819e37e5",
   "metadata": {},
   "outputs": [
    {
     "data": {
      "text/plain": [
       "4"
      ]
     },
     "execution_count": 59,
     "metadata": {},
     "output_type": "execute_result"
    }
   ],
   "source": [
    "round(4.5)"
   ]
  },
  {
   "cell_type": "code",
   "execution_count": 60,
   "id": "04fdbd44-7e63-42fc-96db-eb0b710a125a",
   "metadata": {},
   "outputs": [
    {
     "data": {
      "text/plain": [
       "5.237"
      ]
     },
     "execution_count": 60,
     "metadata": {},
     "output_type": "execute_result"
    }
   ],
   "source": [
    "round(5.2365,3)"
   ]
  },
  {
   "cell_type": "markdown",
   "id": "c137a4f8-18f2-4f9f-9a4d-7d8ab265c7db",
   "metadata": {},
   "source": [
    "## sorted -리스트로 리턴"
   ]
  },
  {
   "cell_type": "code",
   "execution_count": 62,
   "id": "1ae0eb7b-228e-44ec-b877-69b9fecce2b0",
   "metadata": {},
   "outputs": [
    {
     "data": {
      "text/plain": [
       "[1, 2, 3]"
      ]
     },
     "execution_count": 62,
     "metadata": {},
     "output_type": "execute_result"
    }
   ],
   "source": [
    "sorted([3,1,2])"
   ]
  },
  {
   "cell_type": "markdown",
   "id": "d7c8e533-ccac-4aad-9cd5-5253996c2c78",
   "metadata": {},
   "source": [
    "## zip (중요!!!) -동일한 개수로 이루어진 데이터들 묶어서 리턴"
   ]
  },
  {
   "cell_type": "code",
   "execution_count": 64,
   "id": "3ca5c07c-171b-444a-9d29-dfa00322fe3a",
   "metadata": {},
   "outputs": [
    {
     "data": {
      "text/plain": [
       "[(1, 4), (2, 5), (3, 6)]"
      ]
     },
     "execution_count": 64,
     "metadata": {},
     "output_type": "execute_result"
    }
   ],
   "source": [
    "list(zip([1,2,3],[4,5,6]))  #인텍스 순서에 맞춰서 반환"
   ]
  },
  {
   "cell_type": "markdown",
   "id": "1e93da2d-9092-4af2-8947-4cf4381a4b78",
   "metadata": {},
   "source": [
    "# 표준라이브러리"
   ]
  },
  {
   "cell_type": "markdown",
   "id": "03214f85-a2db-4ba8-9853-a7f98086bcae",
   "metadata": {},
   "source": [
    "## datetime.date"
   ]
  },
  {
   "cell_type": "code",
   "execution_count": 67,
   "id": "351db5c7-ee09-4827-a0c2-a8cf52de2b00",
   "metadata": {},
   "outputs": [],
   "source": [
    "import datetime\n",
    "day1 = datetime.date(2024, 5, 2)\n",
    "day2 = datetime.date(2024, 6, 18)"
   ]
  },
  {
   "cell_type": "code",
   "execution_count": 68,
   "id": "779a98c9-b0ad-4bec-8525-ee174acc19ce",
   "metadata": {},
   "outputs": [
    {
     "data": {
      "text/plain": [
       "(datetime.date(2024, 5, 2), datetime.date(2024, 6, 18))"
      ]
     },
     "execution_count": 68,
     "metadata": {},
     "output_type": "execute_result"
    }
   ],
   "source": [
    "day1, day2"
   ]
  },
  {
   "cell_type": "code",
   "execution_count": 69,
   "id": "460a35f7-aa6b-471c-9bfa-85a0738c110c",
   "metadata": {},
   "outputs": [
    {
     "data": {
      "text/plain": [
       "47"
      ]
     },
     "execution_count": 69,
     "metadata": {},
     "output_type": "execute_result"
    }
   ],
   "source": [
    "diff = day2 - day1\n",
    "diff.days"
   ]
  },
  {
   "cell_type": "code",
   "execution_count": 70,
   "id": "73de355f-298e-421d-9a2b-12e63c6931fa",
   "metadata": {},
   "outputs": [
    {
     "data": {
      "text/plain": [
       "1"
      ]
     },
     "execution_count": 70,
     "metadata": {},
     "output_type": "execute_result"
    }
   ],
   "source": [
    "day = datetime.date(2024,6,18)\n",
    "day.weekday()"
   ]
  },
  {
   "cell_type": "code",
   "execution_count": 71,
   "id": "1a9453c4-9708-4a9f-924f-ab00fc92bd86",
   "metadata": {},
   "outputs": [
    {
     "data": {
      "text/plain": [
       "2"
      ]
     },
     "execution_count": 71,
     "metadata": {},
     "output_type": "execute_result"
    }
   ],
   "source": [
    "day.isoweekday()"
   ]
  },
  {
   "cell_type": "markdown",
   "id": "f625d85b-4202-4891-809b-257b6917f055",
   "metadata": {},
   "source": [
    "# time"
   ]
  },
  {
   "cell_type": "code",
   "execution_count": 72,
   "id": "7e5a747f-f915-49ad-a400-52656ab0974e",
   "metadata": {},
   "outputs": [
    {
     "data": {
      "text/plain": [
       "1718691056.486127"
      ]
     },
     "execution_count": 72,
     "metadata": {},
     "output_type": "execute_result"
    }
   ],
   "source": [
    "import time\n",
    "time.time()"
   ]
  },
  {
   "cell_type": "code",
   "execution_count": 74,
   "id": "f42f932f-0749-4915-a560-b2af06272273",
   "metadata": {},
   "outputs": [
    {
     "data": {
      "text/plain": [
       "time.struct_time(tm_year=2024, tm_mon=6, tm_mday=18, tm_hour=15, tm_min=11, tm_sec=32, tm_wday=1, tm_yday=170, tm_isdst=0)"
      ]
     },
     "execution_count": 74,
     "metadata": {},
     "output_type": "execute_result"
    }
   ],
   "source": [
    "time.localtime(time.time())"
   ]
  },
  {
   "cell_type": "code",
   "execution_count": 75,
   "id": "8316d5ff-d784-422b-9828-963ce8170e94",
   "metadata": {},
   "outputs": [
    {
     "data": {
      "text/plain": [
       "'Tue Jun 18 15:12:03 2024'"
      ]
     },
     "execution_count": 75,
     "metadata": {},
     "output_type": "execute_result"
    }
   ],
   "source": [
    "time.asctime(time.localtime(time.time()))"
   ]
  },
  {
   "cell_type": "code",
   "execution_count": 76,
   "id": "f13f96b4-2d43-4b45-a32e-f6959817f24d",
   "metadata": {},
   "outputs": [
    {
     "data": {
      "text/plain": [
       "'Tue Jun 18 15:12:25 2024'"
      ]
     },
     "execution_count": 76,
     "metadata": {},
     "output_type": "execute_result"
    }
   ],
   "source": [
    "time.ctime()"
   ]
  },
  {
   "cell_type": "code",
   "execution_count": 77,
   "id": "56619237-da35-4b7d-b0c9-d981756e8d9a",
   "metadata": {},
   "outputs": [
    {
     "data": {
      "text/plain": [
       "'06/18/24'"
      ]
     },
     "execution_count": 77,
     "metadata": {},
     "output_type": "execute_result"
    }
   ],
   "source": [
    "time.strftime( '%x' , time.localtime(time.time()))"
   ]
  },
  {
   "cell_type": "code",
   "execution_count": 78,
   "id": "7f86e9df-dadb-46e9-baf8-ba962b25ec12",
   "metadata": {},
   "outputs": [
    {
     "data": {
      "text/plain": [
       "'Tue Jun 18 15:14:34 2024'"
      ]
     },
     "execution_count": 78,
     "metadata": {},
     "output_type": "execute_result"
    }
   ],
   "source": [
    "time.strftime( '%c' , time.localtime(time.time()))"
   ]
  },
  {
   "cell_type": "code",
   "execution_count": 79,
   "id": "fd8b5233-338c-46b0-b272-9cbfdd8993b4",
   "metadata": {},
   "outputs": [
    {
     "name": "stdout",
     "output_type": "stream",
     "text": [
      "0\n",
      "1\n",
      "2\n",
      "3\n",
      "4\n",
      "5\n",
      "6\n",
      "7\n",
      "8\n",
      "9\n"
     ]
    }
   ],
   "source": [
    "for i in range(10):\n",
    "    print(i)\n",
    "    time.sleep(1)"
   ]
  },
  {
   "cell_type": "markdown",
   "id": "e0f089c9-d465-4726-906f-cfd669513ae5",
   "metadata": {},
   "source": [
    "## random"
   ]
  },
  {
   "cell_type": "code",
   "execution_count": 80,
   "id": "c39c53c5-e31d-4256-b5e4-d3e0db6565c1",
   "metadata": {},
   "outputs": [
    {
     "data": {
      "text/plain": [
       "0.42625381861736567"
      ]
     },
     "execution_count": 80,
     "metadata": {},
     "output_type": "execute_result"
    }
   ],
   "source": [
    "import random\n",
    "random.random()"
   ]
  },
  {
   "cell_type": "code",
   "execution_count": 82,
   "id": "f2d6be56-ba4c-44b8-9b3a-73b42a07781d",
   "metadata": {},
   "outputs": [
    {
     "data": {
      "text/plain": [
       "2"
      ]
     },
     "execution_count": 82,
     "metadata": {},
     "output_type": "execute_result"
    }
   ],
   "source": [
    "random.randint(1,10)"
   ]
  },
  {
   "cell_type": "code",
   "execution_count": 103,
   "id": "765a65fc-98a5-4011-ab02-3508d4898d84",
   "metadata": {},
   "outputs": [
    {
     "name": "stdout",
     "output_type": "stream",
     "text": [
      "42\n",
      "32\n",
      "27\n",
      "38\n",
      "5\n",
      "34\n"
     ]
    }
   ],
   "source": [
    "for a in range(6):\n",
    "    a = random.randint(1,45)\n",
    "    print(a)"
   ]
  },
  {
   "cell_type": "code",
   "execution_count": 106,
   "id": "675afc40-79a9-4fe7-b3ad-6796cb6b04e9",
   "metadata": {},
   "outputs": [
    {
     "data": {
      "text/plain": [
       "\u001b[1;31mSignature:\u001b[0m \u001b[0mrandom\u001b[0m\u001b[1;33m.\u001b[0m\u001b[0mchoice\u001b[0m\u001b[1;33m(\u001b[0m\u001b[0mseq\u001b[0m\u001b[1;33m)\u001b[0m\u001b[1;33m\u001b[0m\u001b[1;33m\u001b[0m\u001b[0m\n",
       "\u001b[1;31mDocstring:\u001b[0m Choose a random element from a non-empty sequence.\n",
       "\u001b[1;31mFile:\u001b[0m      c:\\users\\yoosj\\anaconda3\\lib\\random.py\n",
       "\u001b[1;31mType:\u001b[0m      method"
      ]
     },
     "metadata": {},
     "output_type": "display_data"
    }
   ],
   "source": [
    "random.choice?"
   ]
  },
  {
   "cell_type": "code",
   "execution_count": 107,
   "id": "5029ae70-999a-4bcb-829a-de81b099aa5d",
   "metadata": {},
   "outputs": [
    {
     "data": {
      "text/plain": [
       "\u001b[1;31mSignature:\u001b[0m \u001b[0mrandom\u001b[0m\u001b[1;33m.\u001b[0m\u001b[0msample\u001b[0m\u001b[1;33m(\u001b[0m\u001b[0mpopulation\u001b[0m\u001b[1;33m,\u001b[0m \u001b[0mk\u001b[0m\u001b[1;33m,\u001b[0m \u001b[1;33m*\u001b[0m\u001b[1;33m,\u001b[0m \u001b[0mcounts\u001b[0m\u001b[1;33m=\u001b[0m\u001b[1;32mNone\u001b[0m\u001b[1;33m)\u001b[0m\u001b[1;33m\u001b[0m\u001b[1;33m\u001b[0m\u001b[0m\n",
       "\u001b[1;31mDocstring:\u001b[0m\n",
       "Chooses k unique random elements from a population sequence.\n",
       "\n",
       "Returns a new list containing elements from the population while\n",
       "leaving the original population unchanged.  The resulting list is\n",
       "in selection order so that all sub-slices will also be valid random\n",
       "samples.  This allows raffle winners (the sample) to be partitioned\n",
       "into grand prize and second place winners (the subslices).\n",
       "\n",
       "Members of the population need not be hashable or unique.  If the\n",
       "population contains repeats, then each occurrence is a possible\n",
       "selection in the sample.\n",
       "\n",
       "Repeated elements can be specified one at a time or with the optional\n",
       "counts parameter.  For example:\n",
       "\n",
       "    sample(['red', 'blue'], counts=[4, 2], k=5)\n",
       "\n",
       "is equivalent to:\n",
       "\n",
       "    sample(['red', 'red', 'red', 'red', 'blue', 'blue'], k=5)\n",
       "\n",
       "To choose a sample from a range of integers, use range() for the\n",
       "population argument.  This is especially fast and space efficient\n",
       "for sampling from a large population:\n",
       "\n",
       "    sample(range(10000000), 60)\n",
       "\u001b[1;31mFile:\u001b[0m      c:\\users\\yoosj\\anaconda3\\lib\\random.py\n",
       "\u001b[1;31mType:\u001b[0m      method"
      ]
     },
     "metadata": {},
     "output_type": "display_data"
    }
   ],
   "source": [
    "random.sample?"
   ]
  },
  {
   "cell_type": "code",
   "execution_count": 115,
   "id": "63d6303c-5a24-4cca-a592-3c4b962332e7",
   "metadata": {},
   "outputs": [],
   "source": [
    "import random\n",
    "\n",
    "def lotto():\n",
    "    num = list(range(1,46))\n",
    "    lotto_nums = random.sample(num, 6)\n",
    "    return lotto_nums"
   ]
  },
  {
   "cell_type": "code",
   "execution_count": null,
   "id": "e0721ff3-bda9-4c4d-b632-f1ec090d6283",
   "metadata": {},
   "outputs": [],
   "source": [
    "lotto"
   ]
  },
  {
   "cell_type": "markdown",
   "id": "14c214e0-3980-409d-87c0-b41f0d9cd69e",
   "metadata": {},
   "source": [
    "## glob"
   ]
  },
  {
   "cell_type": "code",
   "execution_count": 119,
   "id": "9b0ab8fc-4942-4c76-bed5-916725f0d2b7",
   "metadata": {},
   "outputs": [
    {
     "data": {
      "text/plain": [
       "['C://workspace/wassup3/01_Python_grammar\\\\01_자료형과 변수.ipynb',\n",
       " 'C://workspace/wassup3/01_Python_grammar\\\\02_제어문.ipynb',\n",
       " 'C://workspace/wassup3/01_Python_grammar\\\\03_Coding_Practice_PhoneBookProgram.ipynb',\n",
       " 'C://workspace/wassup3/01_Python_grammar\\\\04_함수와입출력.ipynb',\n",
       " 'C://workspace/wassup3/01_Python_grammar\\\\05_클래스와예외처리.ipynb',\n",
       " 'C://workspace/wassup3/01_Python_grammar\\\\06_내장함수.ipynb']"
      ]
     },
     "execution_count": 119,
     "metadata": {},
     "output_type": "execute_result"
    }
   ],
   "source": [
    "import glob\n",
    "glob.glob('C://workspace/wassup3/01_Python_grammar/*.ipynb')"
   ]
  },
  {
   "cell_type": "code",
   "execution_count": 135,
   "id": "534d4b76-718a-48d3-9779-c8b23d486b65",
   "metadata": {},
   "outputs": [
    {
     "name": "stdout",
     "output_type": "stream",
     "text": [
      "01_자료형과 변수\n",
      "02_제어문\n",
      "03_Coding_Practice_PhoneBookProgram\n",
      "04_함수와입출력\n",
      "05_클래스와예외처리\n",
      "06_내장함수\n"
     ]
    }
   ],
   "source": [
    "import glob\n",
    "filepath = glob.glob('C://workspace/wassup3/01_Python_grammar/*.ipynb')\n",
    "for file in filepath:\n",
    "    print(file.split('\\\\')[-1][:-6])"
   ]
  },
  {
   "cell_type": "markdown",
   "id": "3b99e52a-cfd7-4f75-84ce-1f692bee26fe",
   "metadata": {},
   "source": [
    "## os"
   ]
  },
  {
   "cell_type": "code",
   "execution_count": 138,
   "id": "c33f83f0-6960-48c0-a101-2f26f27a7a3b",
   "metadata": {},
   "outputs": [
    {
     "data": {
      "text/plain": [
       "'C:\\\\Users\\\\yoosj\\\\anaconda3;C:\\\\Users\\\\yoosj\\\\anaconda3\\\\Library\\\\mingw-w64\\\\bin;C:\\\\Users\\\\yoosj\\\\anaconda3\\\\Library\\\\usr\\\\bin;C:\\\\Users\\\\yoosj\\\\anaconda3\\\\Library\\\\bin;C:\\\\Users\\\\yoosj\\\\anaconda3\\\\Scripts;C:\\\\Program Files\\\\MySQL\\\\MySQL Server 8.0\\\\bin;C:\\\\Windows\\\\system32;C:\\\\Windows;C:\\\\Windows\\\\System32\\\\Wbem;C:\\\\Windows\\\\System32\\\\WindowsPowerShell\\\\v1.0\\\\;C:\\\\Windows\\\\System32\\\\OpenSSH\\\\;C:\\\\Program Files (x86)\\\\NVIDIA Corporation\\\\PhysX\\\\Common;C:\\\\Program Files\\\\NVIDIA Corporation\\\\NVIDIA NvDLISR;C:\\\\WINDOWS\\\\system32;C:\\\\WINDOWS;C:\\\\WINDOWS\\\\System32\\\\Wbem;C:\\\\WINDOWS\\\\System32\\\\WindowsPowerShell\\\\v1.0\\\\;C:\\\\WINDOWS\\\\System32\\\\OpenSSH\\\\;C:\\\\Program Files\\\\Git\\\\cmd;C:\\\\Users\\\\yoosj\\\\anaconda3;C:\\\\Users\\\\yoosj\\\\anaconda3\\\\Library\\\\mingw-w64\\\\bin;C:\\\\Users\\\\yoosj\\\\anaconda3\\\\Library\\\\usr\\\\bin;C:\\\\Users\\\\yoosj\\\\anaconda3\\\\Library\\\\bin;C:\\\\Users\\\\yoosj\\\\anaconda3\\\\Scripts;C:\\\\Users\\\\yoosj\\\\AppData\\\\Local\\\\Microsoft\\\\WindowsApps'"
      ]
     },
     "execution_count": 138,
     "metadata": {},
     "output_type": "execute_result"
    }
   ],
   "source": [
    "import os\n",
    "os.environ['PATH']"
   ]
  },
  {
   "cell_type": "code",
   "execution_count": 139,
   "id": "674fce59-32f0-484b-8597-93b3913a9922",
   "metadata": {},
   "outputs": [
    {
     "data": {
      "text/plain": [
       "'C:\\\\workspace\\\\wassup3\\\\01_Python_grammar'"
      ]
     },
     "execution_count": 139,
     "metadata": {},
     "output_type": "execute_result"
    }
   ],
   "source": [
    "os.getcwd()"
   ]
  },
  {
   "cell_type": "code",
   "execution_count": 140,
   "id": "63e8538f-b1a6-415d-9e19-34840504d404",
   "metadata": {},
   "outputs": [],
   "source": [
    "os.chdir('c:\\windows')"
   ]
  },
  {
   "cell_type": "code",
   "execution_count": 141,
   "id": "1abc86ae-b680-480a-a9a8-2ad9ad62ebe3",
   "metadata": {},
   "outputs": [
    {
     "data": {
      "text/plain": [
       "'c:\\\\windows'"
      ]
     },
     "execution_count": 141,
     "metadata": {},
     "output_type": "execute_result"
    }
   ],
   "source": [
    "os.getcwd()"
   ]
  },
  {
   "cell_type": "code",
   "execution_count": 142,
   "id": "0e837da6-da24-4963-b511-5a106304cf4a",
   "metadata": {},
   "outputs": [
    {
     "data": {
      "text/plain": [
       "0"
      ]
     },
     "execution_count": 142,
     "metadata": {},
     "output_type": "execute_result"
    }
   ],
   "source": [
    "os.system('dir')"
   ]
  },
  {
   "cell_type": "code",
   "execution_count": 143,
   "id": "c45e5b38-1f9d-4215-83fe-705ab89b16a9",
   "metadata": {},
   "outputs": [],
   "source": [
    "os.chdir('C:\\\\workspace\\\\wassup3\\\\01_Python_grammar')"
   ]
  },
  {
   "cell_type": "markdown",
   "id": "302341a5-0254-4dc6-a238-61b253c0ca58",
   "metadata": {},
   "source": [
    "## json - dict를 파일로 만든 확장자"
   ]
  },
  {
   "cell_type": "code",
   "execution_count": 144,
   "id": "c86f1b96-2d20-4fb8-bb8b-6c1467d80ee9",
   "metadata": {},
   "outputs": [],
   "source": [
    "myinfo = {\n",
    "    \"name\": \"홍길동\",\n",
    "    \"birth\": \"0525\",\n",
    "    \"age\": 30\n",
    "}"
   ]
  },
  {
   "cell_type": "code",
   "execution_count": 147,
   "id": "053a810e-0f16-4186-b5f2-74959d64242c",
   "metadata": {},
   "outputs": [],
   "source": [
    "import json\n",
    "data = {'name': '홍길동', 'birth': '0525', 'age': 30}\n",
    "with open('output/myinfo.json','w') as f:\n",
    "    json.dump(data,f, ensure_ascii=False) #한글안깨지게 저장! "
   ]
  },
  {
   "cell_type": "code",
   "execution_count": 151,
   "id": "ee2dc6c0-2c38-4eef-8d94-34b0e83bd64f",
   "metadata": {},
   "outputs": [
    {
     "name": "stdout",
     "output_type": "stream",
     "text": [
      "{\n",
      "  \"name\": \"홍길동\",\n",
      "  \"birth\": \"0525\",\n",
      "  \"age\": 30\n",
      "}\n"
     ]
    },
    {
     "data": {
      "text/plain": [
       "{'name': '홍길동', 'birth': '0525', 'age': 30}"
      ]
     },
     "execution_count": 151,
     "metadata": {},
     "output_type": "execute_result"
    }
   ],
   "source": [
    ">>> d = {\"name\":\"홍길동\", \"birth\":\"0525\", \"age\": 30}\n",
    ">>> print(json.dumps(d, indent=2, ensure_ascii=False))\n",
    "{\n",
    "  \"name\": \"홍길동\",\n",
    "  \"birth\": \"0525\",\n",
    "  \"age\": 30\n",
    "}\n"
   ]
  },
  {
   "cell_type": "markdown",
   "id": "b19f2ddc-9a5c-4e0f-9734-951474077524",
   "metadata": {},
   "source": [
    "## urllib"
   ]
  },
  {
   "cell_type": "code",
   "execution_count": 156,
   "id": "8067c28c-d927-442b-a4fa-efc640874696",
   "metadata": {},
   "outputs": [],
   "source": [
    "# urllib_test.py\n",
    "import urllib.request\n",
    "\n",
    "def get_wikidocs(page):\n",
    "    resource = 'https://wikidocs.net/{}'.format(page)\n",
    "    with urllib.request.urlopen(resource) as s:\n",
    "        with open('wikidocs_%s.html' % page, 'wb') as f:\n",
    "            f.write(s.read())\n",
    "\n"
   ]
  },
  {
   "cell_type": "code",
   "execution_count": 157,
   "id": "7b8465c4-bdf0-45b3-b5c4-242cd638b379",
   "metadata": {},
   "outputs": [],
   "source": [
    "get_wikidocs(33)"
   ]
  },
  {
   "cell_type": "markdown",
   "id": "51643881-74a7-468d-a91e-bd016e0c68a3",
   "metadata": {},
   "source": [
    "## webbrowser"
   ]
  },
  {
   "cell_type": "code",
   "execution_count": 155,
   "id": "4a334566-8e9c-4092-b4e6-6e9a7d6fa4ab",
   "metadata": {},
   "outputs": [
    {
     "data": {
      "text/plain": [
       "True"
      ]
     },
     "execution_count": 155,
     "metadata": {},
     "output_type": "execute_result"
    }
   ],
   "source": [
    "# webbrowser_test.py\n",
    "import webbrowser\n",
    "\n",
    "webbrowser.open_new('http://python.org')\n"
   ]
  },
  {
   "cell_type": "code",
   "execution_count": null,
   "id": "dbd5aa78-aa2a-43ab-b782-860ec9e1e9ff",
   "metadata": {},
   "outputs": [],
   "source": []
  },
  {
   "cell_type": "code",
   "execution_count": null,
   "id": "8b19fcaa-9117-4b98-9011-ff2d326dd329",
   "metadata": {},
   "outputs": [],
   "source": []
  },
  {
   "cell_type": "markdown",
   "id": "b576279d-e0a9-426d-a1d5-9347cb29ecb8",
   "metadata": {},
   "source": [
    "# 외부 라이브러리"
   ]
  },
  {
   "cell_type": "code",
   "execution_count": 158,
   "id": "1dc245dd-0171-49d8-a1cc-40719c2db9f9",
   "metadata": {},
   "outputs": [
    {
     "name": "stdout",
     "output_type": "stream",
     "text": [
      "Package                           Version\n",
      "--------------------------------- ------------\n",
      "aiobotocore                       2.7.0\n",
      "aiohttp                           3.9.3\n",
      "aioitertools                      0.7.1\n",
      "aiosignal                         1.2.0\n",
      "alabaster                         0.7.12\n",
      "altair                            5.0.1\n",
      "anaconda-anon-usage               0.4.3\n",
      "anaconda-catalogs                 0.2.0\n",
      "anaconda-client                   1.12.3\n",
      "anaconda-cloud-auth               0.1.4\n",
      "anaconda-navigator                2.5.2\n",
      "anaconda-project                  0.11.1\n",
      "anyio                             4.2.0\n",
      "appdirs                           1.4.4\n",
      "archspec                          0.2.1\n",
      "argon2-cffi                       21.3.0\n",
      "argon2-cffi-bindings              21.2.0\n",
      "arrow                             1.2.3\n",
      "astroid                           2.14.2\n",
      "astropy                           5.3.4\n",
      "asttokens                         2.0.5\n",
      "async-lru                         2.0.4\n",
      "atomicwrites                      1.4.0\n",
      "attrs                             23.1.0\n",
      "Automat                           20.2.0\n",
      "autopep8                          1.6.0\n",
      "Babel                             2.11.0\n",
      "backports.functools-lru-cache     1.6.4\n",
      "backports.tempfile                1.0\n",
      "backports.weakref                 1.0.post1\n",
      "bcrypt                            3.2.0\n",
      "beautifulsoup4                    4.12.2\n",
      "binaryornot                       0.4.4\n",
      "black                             23.11.0\n",
      "bleach                            4.1.0\n",
      "blinker                           1.6.2\n",
      "bokeh                             3.3.4\n",
      "boltons                           23.0.0\n",
      "botocore                          1.31.64\n",
      "Bottleneck                        1.3.7\n",
      "Brotli                            1.0.9\n",
      "cachetools                        4.2.2\n",
      "certifi                           2024.2.2\n",
      "cffi                              1.16.0\n",
      "chardet                           4.0.0\n",
      "charset-normalizer                2.0.4\n",
      "click                             8.1.7\n",
      "cloudpickle                       2.2.1\n",
      "clyent                            1.2.2\n",
      "colorama                          0.4.6\n",
      "colorcet                          3.0.1\n",
      "comm                              0.1.2\n",
      "conda                             24.1.2\n",
      "conda-build                       24.1.2\n",
      "conda-content-trust               0.2.0\n",
      "conda_index                       0.4.0\n",
      "conda-libmamba-solver             24.1.0\n",
      "conda-pack                        0.6.0\n",
      "conda-package-handling            2.2.0\n",
      "conda_package_streaming           0.9.0\n",
      "conda-repo-cli                    1.0.75\n",
      "conda-token                       0.4.0\n",
      "conda-verify                      3.4.2\n",
      "constantly                        23.10.4\n",
      "contourpy                         1.2.0\n",
      "cookiecutter                      2.5.0\n",
      "cryptography                      42.0.2\n",
      "cssselect                         1.2.0\n",
      "cycler                            0.11.0\n",
      "cytoolz                           0.12.2\n",
      "dask                              2023.11.0\n",
      "datashader                        0.16.0\n",
      "debugpy                           1.6.7\n",
      "decorator                         5.1.1\n",
      "defusedxml                        0.7.1\n",
      "diff-match-patch                  20200713\n",
      "dill                              0.3.7\n",
      "distributed                       2023.11.0\n",
      "distro                            1.8.0\n",
      "docstring-to-markdown             0.11\n",
      "docutils                          0.18.1\n",
      "entrypoints                       0.4\n",
      "et-xmlfile                        1.1.0\n",
      "executing                         0.8.3\n",
      "fastjsonschema                    2.16.2\n",
      "filelock                          3.13.1\n",
      "flake8                            6.0.0\n",
      "Flask                             2.2.5\n",
      "fonttools                         4.25.0\n",
      "fqdn                              1.5.1\n",
      "frozenlist                        1.4.0\n",
      "fsspec                            2023.10.0\n",
      "future                            0.18.3\n",
      "gensim                            4.3.0\n",
      "gitdb                             4.0.7\n",
      "GitPython                         3.1.37\n",
      "gmpy2                             2.1.2\n",
      "greenlet                          3.0.1\n",
      "h5py                              3.9.0\n",
      "HeapDict                          1.0.1\n",
      "holoviews                         1.18.3\n",
      "hvplot                            0.9.2\n",
      "hyperlink                         21.0.0\n",
      "idna                              3.4\n",
      "imagecodecs                       2023.1.23\n",
      "imageio                           2.33.1\n",
      "imagesize                         1.4.1\n",
      "imbalanced-learn                  0.11.0\n",
      "importlib-metadata                7.0.1\n",
      "incremental                       22.10.0\n",
      "inflection                        0.5.1\n",
      "iniconfig                         1.1.1\n",
      "intake                            0.6.8\n",
      "intervaltree                      3.1.0\n",
      "ipykernel                         6.28.0\n",
      "ipython                           8.20.0\n",
      "ipython-genutils                  0.2.0\n",
      "ipywidgets                        7.6.5\n",
      "isoduration                       20.11.0\n",
      "isort                             5.9.3\n",
      "itemadapter                       0.3.0\n",
      "itemloaders                       1.1.0\n",
      "itsdangerous                      2.0.1\n",
      "jaraco.classes                    3.2.1\n",
      "jedi                              0.18.1\n",
      "jellyfish                         1.0.1\n",
      "Jinja2                            3.1.3\n",
      "jmespath                          1.0.1\n",
      "joblib                            1.2.0\n",
      "json5                             0.9.6\n",
      "jsonpatch                         1.32\n",
      "jsonpointer                       2.1\n",
      "jsonschema                        4.19.2\n",
      "jsonschema-specifications         2023.7.1\n",
      "jupyter                           1.0.0\n",
      "jupyter_client                    8.6.0\n",
      "jupyter-console                   6.6.3\n",
      "jupyter-contrib-core              0.4.2\n",
      "jupyter-contrib-nbextensions      0.7.0\n",
      "jupyter_core                      5.5.0\n",
      "jupyter-events                    0.8.0\n",
      "jupyter-highlight-selected-word   0.2.0\n",
      "jupyter-lsp                       2.2.0\n",
      "jupyter-nbextensions-configurator 0.6.3\n",
      "jupyter_server                    2.10.0\n",
      "jupyter_server_terminals          0.4.4\n",
      "jupyterlab                        4.0.11\n",
      "jupyterlab-pygments               0.1.2\n",
      "jupyterlab_server                 2.25.1\n",
      "jupyterlab-widgets                3.0.9\n",
      "keyring                           23.13.1\n",
      "kiwisolver                        1.4.4\n",
      "lazy_loader                       0.3\n",
      "lazy-object-proxy                 1.6.0\n",
      "lckr_jupyterlab_variableinspector 3.1.0\n",
      "libarchive-c                      2.9\n",
      "libmambapy                        1.5.6\n",
      "linkify-it-py                     2.0.0\n",
      "llvmlite                          0.42.0\n",
      "lmdb                              1.4.1\n",
      "locket                            1.0.0\n",
      "lxml                              4.9.3\n",
      "lz4                               4.3.2\n",
      "Markdown                          3.4.1\n",
      "markdown-it-py                    2.2.0\n",
      "MarkupSafe                        2.1.3\n",
      "matplotlib                        3.8.0\n",
      "matplotlib-inline                 0.1.6\n",
      "mccabe                            0.7.0\n",
      "mdit-py-plugins                   0.3.0\n",
      "mdurl                             0.1.0\n",
      "menuinst                          2.0.2\n",
      "mistune                           2.0.4\n",
      "mkl-fft                           1.3.8\n",
      "mkl-random                        1.2.4\n",
      "mkl-service                       2.4.0\n",
      "more-itertools                    10.1.0\n",
      "mpmath                            1.3.0\n",
      "msgpack                           1.0.3\n",
      "multidict                         6.0.4\n",
      "multipledispatch                  0.6.0\n",
      "munkres                           1.1.4\n",
      "mypy                              1.8.0\n",
      "mypy-extensions                   1.0.0\n",
      "navigator-updater                 0.4.0\n",
      "nbclient                          0.8.0\n",
      "nbconvert                         7.10.0\n",
      "nbformat                          5.9.2\n",
      "nest-asyncio                      1.6.0\n",
      "networkx                          3.1\n",
      "nltk                              3.8.1\n",
      "notebook                          7.0.8\n",
      "notebook_shim                     0.2.3\n",
      "numba                             0.59.0\n",
      "numexpr                           2.8.7\n",
      "numpy                             1.26.4\n",
      "numpydoc                          1.5.0\n",
      "openpyxl                          3.0.10\n",
      "overrides                         7.4.0\n",
      "packaging                         23.1\n",
      "pandas                            2.1.4\n",
      "pandocfilters                     1.5.0\n",
      "panel                             1.3.8\n",
      "param                             2.0.2\n",
      "paramiko                          2.8.1\n",
      "parsel                            1.8.1\n",
      "parso                             0.8.3\n",
      "partd                             1.4.1\n",
      "pathlib                           1.0.1\n",
      "pathspec                          0.10.3\n",
      "patsy                             0.5.3\n",
      "pexpect                           4.8.0\n",
      "pickleshare                       0.7.5\n",
      "pillow                            10.2.0\n",
      "pip                               23.3.1\n",
      "pkce                              1.0.3\n",
      "pkginfo                           1.9.6\n",
      "platformdirs                      3.10.0\n",
      "plotly                            5.9.0\n",
      "pluggy                            1.0.0\n",
      "ply                               3.11\n",
      "prometheus-client                 0.14.1\n",
      "prompt-toolkit                    3.0.43\n",
      "Protego                           0.1.16\n",
      "protobuf                          3.20.3\n",
      "psutil                            5.9.0\n",
      "ptyprocess                        0.7.0\n",
      "pure-eval                         0.2.2\n",
      "py-cpuinfo                        9.0.0\n",
      "pyarrow                           14.0.2\n",
      "pyasn1                            0.4.8\n",
      "pyasn1-modules                    0.2.8\n",
      "pycodestyle                       2.10.0\n",
      "pycosat                           0.6.6\n",
      "pycparser                         2.21\n",
      "pyct                              0.5.0\n",
      "pycurl                            7.45.2\n",
      "pydantic                          1.10.12\n",
      "pydeck                            0.8.0\n",
      "PyDispatcher                      2.0.5\n",
      "pydocstyle                        6.3.0\n",
      "pyerfa                            2.0.0\n",
      "pyflakes                          3.0.1\n",
      "Pygments                          2.15.1\n",
      "PyJWT                             2.4.0\n",
      "pylint                            2.16.2\n",
      "pylint-venv                       2.3.0\n",
      "pyls-spyder                       0.4.0\n",
      "PyNaCl                            1.5.0\n",
      "pyodbc                            5.0.1\n",
      "pyOpenSSL                         24.0.0\n",
      "pyparsing                         3.0.9\n",
      "PyQt5                             5.15.10\n",
      "PyQt5-sip                         12.13.0\n",
      "PyQtWebEngine                     5.15.6\n",
      "PySocks                           1.7.1\n",
      "pytest                            7.4.0\n",
      "python-dateutil                   2.8.2\n",
      "python-dotenv                     0.21.0\n",
      "python-json-logger                2.0.7\n",
      "python-lsp-black                  1.2.1\n",
      "python-lsp-jsonrpc                1.0.0\n",
      "python-lsp-server                 1.7.2\n",
      "python-slugify                    5.0.2\n",
      "python-snappy                     0.6.1\n",
      "pytoolconfig                      1.2.6\n",
      "pytz                              2023.3.post1\n",
      "pyviz_comms                       3.0.0\n",
      "pywavelets                        1.5.0\n",
      "pywin32                           305.1\n",
      "pywin32-ctypes                    0.2.0\n",
      "pywinpty                          2.0.10\n",
      "PyYAML                            6.0.1\n",
      "pyzmq                             25.1.2\n",
      "QDarkStyle                        3.0.2\n",
      "qstylizer                         0.2.2\n",
      "QtAwesome                         1.2.2\n",
      "qtconsole                         5.4.2\n",
      "QtPy                              2.4.1\n",
      "queuelib                          1.6.2\n",
      "referencing                       0.30.2\n",
      "regex                             2023.10.3\n",
      "requests                          2.31.0\n",
      "requests-file                     1.5.1\n",
      "requests-toolbelt                 1.0.0\n",
      "rfc3339-validator                 0.1.4\n",
      "rfc3986-validator                 0.1.1\n",
      "rich                              13.3.5\n",
      "rope                              1.7.0\n",
      "rpds-py                           0.10.6\n",
      "Rtree                             1.0.1\n",
      "ruamel.yaml                       0.17.21\n",
      "ruamel-yaml-conda                 0.17.21\n",
      "s3fs                              2023.10.0\n",
      "scikit-image                      0.22.0\n",
      "scikit-learn                      1.2.2\n",
      "scipy                             1.11.4\n",
      "Scrapy                            2.8.0\n",
      "seaborn                           0.12.2\n",
      "semver                            2.13.0\n",
      "Send2Trash                        1.8.2\n",
      "service-identity                  18.1.0\n",
      "setuptools                        68.2.2\n",
      "sip                               6.7.12\n",
      "six                               1.16.0\n",
      "smart-open                        5.2.1\n",
      "smmap                             4.0.0\n",
      "sniffio                           1.3.0\n",
      "snowballstemmer                   2.2.0\n",
      "sortedcontainers                  2.4.0\n",
      "soupsieve                         2.5\n",
      "Sphinx                            5.0.2\n",
      "sphinxcontrib-applehelp           1.0.2\n",
      "sphinxcontrib-devhelp             1.0.2\n",
      "sphinxcontrib-htmlhelp            2.0.0\n",
      "sphinxcontrib-jsmath              1.0.1\n",
      "sphinxcontrib-qthelp              1.0.3\n",
      "sphinxcontrib-serializinghtml     1.1.5\n",
      "spyder                            5.4.3\n",
      "spyder-kernels                    2.4.4\n",
      "SQLAlchemy                        2.0.25\n",
      "stack-data                        0.2.0\n",
      "statsmodels                       0.14.0\n",
      "streamlit                         1.30.0\n",
      "sympy                             1.12\n",
      "tables                            3.9.2\n",
      "tabulate                          0.9.0\n",
      "tblib                             1.7.0\n",
      "tenacity                          8.2.2\n",
      "terminado                         0.17.1\n",
      "text-unidecode                    1.3\n",
      "textdistance                      4.2.1\n",
      "threadpoolctl                     2.2.0\n",
      "three-merge                       0.1.1\n",
      "tifffile                          2023.4.12\n",
      "tinycss2                          1.2.1\n",
      "tldextract                        3.2.0\n",
      "toml                              0.10.2\n",
      "tomlkit                           0.11.1\n",
      "toolz                             0.12.0\n",
      "tornado                           6.3.3\n",
      "tqdm                              4.65.0\n",
      "traitlets                         5.7.1\n",
      "truststore                        0.8.0\n",
      "Twisted                           23.10.0\n",
      "twisted-iocpsupport               1.0.2\n",
      "typing_extensions                 4.9.0\n",
      "tzdata                            2023.3\n",
      "tzlocal                           2.1\n",
      "uc-micro-py                       1.0.1\n",
      "ujson                             5.4.0\n",
      "Unidecode                         1.2.0\n",
      "uri-template                      1.3.0\n",
      "urllib3                           2.0.7\n",
      "validators                        0.18.2\n",
      "w3lib                             2.1.2\n",
      "watchdog                          2.1.6\n",
      "wcwidth                           0.2.5\n",
      "webcolors                         1.13\n",
      "webencodings                      0.5.1\n",
      "websocket-client                  0.58.0\n",
      "Werkzeug                          2.2.3\n",
      "whatthepatch                      1.0.2\n",
      "wheel                             0.41.2\n",
      "widgetsnbextension                3.5.2\n",
      "win-inet-pton                     1.1.0\n",
      "wrapt                             1.14.1\n",
      "xarray                            2023.6.0\n",
      "xlwings                           0.29.1\n",
      "xyzservices                       2022.9.0\n",
      "yapf                              0.31.0\n",
      "yarl                              1.9.3\n",
      "zict                              3.0.0\n",
      "zipp                              3.17.0\n",
      "zope.interface                    5.4.0\n",
      "zstandard                         0.19.0\n",
      "Note: you may need to restart the kernel to use updated packages.\n"
     ]
    }
   ],
   "source": [
    "pip list"
   ]
  },
  {
   "cell_type": "markdown",
   "id": "f7b037b0-bf2e-411d-9e2d-1a27728b19e9",
   "metadata": {},
   "source": [
    "## Faker"
   ]
  },
  {
   "cell_type": "code",
   "execution_count": 159,
   "id": "23bf4f40-1f43-4e4b-99d0-cac96069651a",
   "metadata": {},
   "outputs": [
    {
     "name": "stdout",
     "output_type": "stream",
     "text": [
      "Collecting Faker\n",
      "  Downloading Faker-25.8.0-py3-none-any.whl.metadata (15 kB)\n",
      "Requirement already satisfied: python-dateutil>=2.4 in c:\\users\\yoosj\\anaconda3\\lib\\site-packages (from Faker) (2.8.2)\n",
      "Requirement already satisfied: six>=1.5 in c:\\users\\yoosj\\anaconda3\\lib\\site-packages (from python-dateutil>=2.4->Faker) (1.16.0)\n",
      "Downloading Faker-25.8.0-py3-none-any.whl (1.8 MB)\n",
      "   ---------------------------------------- 0.0/1.8 MB ? eta -:--:--\n",
      "   ---------------------------------------- 0.0/1.8 MB ? eta -:--:--\n",
      "   ---- ----------------------------------- 0.2/1.8 MB 2.9 MB/s eta 0:00:01\n",
      "   -------------- ------------------------- 0.7/1.8 MB 6.9 MB/s eta 0:00:01\n",
      "   ----------------------------- ---------- 1.3/1.8 MB 9.2 MB/s eta 0:00:01\n",
      "   ---------------------------------------  1.8/1.8 MB 9.5 MB/s eta 0:00:01\n",
      "   ---------------------------------------- 1.8/1.8 MB 8.8 MB/s eta 0:00:00\n",
      "Installing collected packages: Faker\n",
      "Successfully installed Faker-25.8.0\n",
      "Note: you may need to restart the kernel to use updated packages.\n"
     ]
    }
   ],
   "source": [
    "pip install Faker"
   ]
  },
  {
   "cell_type": "code",
   "execution_count": 160,
   "id": "b40da364-b8b1-4924-b9db-925cd56a6903",
   "metadata": {},
   "outputs": [
    {
     "data": {
      "text/plain": [
       "(faker.proxy.Faker, <faker.proxy.Faker at 0x1d8f5bbead0>)"
      ]
     },
     "execution_count": 160,
     "metadata": {},
     "output_type": "execute_result"
    }
   ],
   "source": [
    "from faker import Faker\n",
    "fake = Faker()\n",
    "type(fake),fake"
   ]
  },
  {
   "cell_type": "code",
   "execution_count": 163,
   "id": "ba87e3ae-ae1f-451b-814f-09714961f9a0",
   "metadata": {},
   "outputs": [
    {
     "data": {
      "text/plain": [
       "'Jennifer Smith'"
      ]
     },
     "execution_count": 163,
     "metadata": {},
     "output_type": "execute_result"
    }
   ],
   "source": [
    "fake.name()"
   ]
  },
  {
   "cell_type": "code",
   "execution_count": 168,
   "id": "2c9a3ead-e10b-4160-bc69-fd0449580894",
   "metadata": {},
   "outputs": [
    {
     "data": {
      "text/plain": [
       "'최성호'"
      ]
     },
     "execution_count": 168,
     "metadata": {},
     "output_type": "execute_result"
    }
   ],
   "source": [
    "fake = Faker('ko-KR')\n",
    "fake.name()"
   ]
  },
  {
   "cell_type": "code",
   "execution_count": 170,
   "id": "0bd97d50-fb5b-442e-93e4-7a325d5f1850",
   "metadata": {},
   "outputs": [
    {
     "data": {
      "text/plain": [
       "'경기도 양양군 봉은사거리'"
      ]
     },
     "execution_count": 170,
     "metadata": {},
     "output_type": "execute_result"
    }
   ],
   "source": [
    "fake.address()"
   ]
  },
  {
   "cell_type": "code",
   "execution_count": 174,
   "id": "e394d253-1cf4-48f2-b2b1-a30381891d8d",
   "metadata": {},
   "outputs": [
    {
     "data": {
      "text/plain": [
       "[('전현주', '대구광역시 은평구 반포대257로'),\n",
       " ('김종수', '대구광역시 송파구 서초중앙2길 (보람김마을)'),\n",
       " ('지예원', '충청남도 수원시 권선구 영동대8가 (영순박면)'),\n",
       " ('한준호', '울산광역시 성북구 봉은사가'),\n",
       " ('김병철', '전라북도 계룡시 석촌호수3거리'),\n",
       " ('최예지', '대전광역시 남구 강남대7가'),\n",
       " ('문은경', '서울특별시 강동구 테헤란90거리 (재호박면)'),\n",
       " ('강미정', '부산광역시 강서구 석촌호수49거리 (지민박홍리)'),\n",
       " ('김영미', '경기도 증평군 봉은사11가'),\n",
       " ('이성호', '울산광역시 양천구 선릉3가'),\n",
       " ('박민지', '부산광역시 종로구 테헤란길'),\n",
       " ('민춘자', '대전광역시 송파구 오금63거리 (민재양김리)'),\n",
       " ('김재현', '서울특별시 동작구 논현65가 (정순박마을)'),\n",
       " ('김민준', '울산광역시 남구 학동6로 (경수강동)'),\n",
       " ('홍건우', '세종특별자치시 용산구 서초대80길'),\n",
       " ('김종수', '대전광역시 북구 언주67가'),\n",
       " ('박지훈', '세종특별자치시 서초구 양재천416거리 (미정신홍리)'),\n",
       " ('고성진', '인천광역시 서초구 봉은사724로'),\n",
       " ('문경숙', '경상북도 포천시 압구정877가'),\n",
       " ('박성호', '충청북도 태백시 오금776로 (상훈김동)'),\n",
       " ('김지아', '세종특별자치시 동대문구 삼성가'),\n",
       " ('심정호', '서울특별시 송파구 서초중앙거리'),\n",
       " ('조영철', '전라남도 안산시 언주가 (재호이홍면)'),\n",
       " ('최미정', '제주특별자치도 고양시 일산서구 학동로 (현우유동)'),\n",
       " ('이민석', '대구광역시 성북구 반포대로'),\n",
       " ('유민재', '울산광역시 북구 논현가'),\n",
       " ('윤현정', '부산광역시 중구 언주4로'),\n",
       " ('강영미', '충청남도 천안시 서북구 잠실거리 (현숙박김면)'),\n",
       " ('황은경', '전라남도 제천시 가락길 (옥자성마을)'),\n",
       " ('이수진', '대전광역시 서대문구 오금거리')]"
      ]
     },
     "execution_count": 174,
     "metadata": {},
     "output_type": "execute_result"
    }
   ],
   "source": [
    "test_data = [(fake.name(), fake.address()) for i in range(30)]\n",
    "test_data"
   ]
  },
  {
   "cell_type": "code",
   "execution_count": 175,
   "id": "bba9f649-e946-4723-b5c2-4c5f4f4bdfb8",
   "metadata": {},
   "outputs": [
    {
     "data": {
      "text/plain": [
       "'Deserunt non nobis. Dignissimos facilis maiores accusamus facere tenetur dolor.'"
      ]
     },
     "execution_count": 175,
     "metadata": {},
     "output_type": "execute_result"
    }
   ],
   "source": [
    "fake.text()"
   ]
  },
  {
   "cell_type": "code",
   "execution_count": 190,
   "id": "4d394278-e61e-4e56-9524-e24ca38caa17",
   "metadata": {},
   "outputs": [
    {
     "data": {
      "text/plain": [
       "'가상 24시간 인트라넷'"
      ]
     },
     "execution_count": 190,
     "metadata": {},
     "output_type": "execute_result"
    }
   ],
   "source": [
    "fake.catch_phrase()"
   ]
  },
  {
   "cell_type": "code",
   "execution_count": null,
   "id": "c1b75416-59a6-430b-b005-d2b00986b1ff",
   "metadata": {},
   "outputs": [],
   "source": []
  },
  {
   "cell_type": "code",
   "execution_count": null,
   "id": "7ad0e338-7a8a-4002-a8c4-744a86977028",
   "metadata": {},
   "outputs": [],
   "source": []
  },
  {
   "cell_type": "code",
   "execution_count": null,
   "id": "cbfac0d5-a032-43a3-bda5-2a02e1915319",
   "metadata": {},
   "outputs": [],
   "source": []
  }
 ],
 "metadata": {
  "kernelspec": {
   "display_name": "Python 3 (ipykernel)",
   "language": "python",
   "name": "python3"
  },
  "language_info": {
   "codemirror_mode": {
    "name": "ipython",
    "version": 3
   },
   "file_extension": ".py",
   "mimetype": "text/x-python",
   "name": "python",
   "nbconvert_exporter": "python",
   "pygments_lexer": "ipython3",
   "version": "3.11.7"
  }
 },
 "nbformat": 4,
 "nbformat_minor": 5
}
