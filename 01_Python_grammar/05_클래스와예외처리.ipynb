{
 "cells": [
  {
   "cell_type": "markdown",
   "id": "973d1d6c-9b28-4085-b642-4975baad7a2c",
   "metadata": {},
   "source": [
    "# 클래스 (class)"
   ]
  },
  {
   "cell_type": "code",
   "execution_count": 1,
   "id": "544c6318-6e86-42b3-baab-f4b3b4c5e0e9",
   "metadata": {},
   "outputs": [
    {
     "name": "stdout",
     "output_type": "stream",
     "text": [
      "3\n",
      "7\n"
     ]
    }
   ],
   "source": [
    "# 더하기\n",
    "result = 0\n",
    "\n",
    "def add(num):\n",
    "    global result  # global 전역변수 \n",
    "    result += num  # 결괏값(result)에 입력값(num) 더하기\n",
    "    return result  # 결괏값 리턴\n",
    "\n",
    "print(add(3))\n",
    "print(add(4))"
   ]
  },
  {
   "cell_type": "code",
   "execution_count": 2,
   "id": "9c7cf12e-204f-40fd-bf4f-b2f3d4447a69",
   "metadata": {},
   "outputs": [
    {
     "name": "stdout",
     "output_type": "stream",
     "text": [
      "3\n",
      "7\n",
      "3\n",
      "10\n"
     ]
    }
   ],
   "source": [
    "#각각 입력값이 다르니 다른 함수로\n",
    "result1 = 0\n",
    "result2 = 0\n",
    "\n",
    "def add1(num):  # 계산기1\n",
    "    global result1\n",
    "    result1 += num\n",
    "    return result1\n",
    "\n",
    "def add2(num):  # 계산기2\n",
    "    global result2\n",
    "    result2 += num\n",
    "    return result2\n",
    "\n",
    "print(add1(3))\n",
    "print(add1(4))\n",
    "print(add2(3))\n",
    "print(add2(7))"
   ]
  },
  {
   "cell_type": "code",
   "execution_count": 3,
   "id": "b4cfa761-2637-4a88-a78e-158e56d4344f",
   "metadata": {},
   "outputs": [
    {
     "name": "stdout",
     "output_type": "stream",
     "text": [
      "3\n",
      "7\n",
      "3\n",
      "10\n"
     ]
    }
   ],
   "source": [
    "class Calculator:\n",
    "    def __init__(self):\n",
    "        self.result = 0\n",
    "\n",
    "    def add(self, num):\n",
    "        self.result += num\n",
    "        return self.result    #추상화해서 모든 사람을 위한 함수\n",
    "\n",
    "cal1 = Calculator()  # 사람1을 위한 인스턴스를 만들어냈다\n",
    "cal2 = Calculator()  # 사람2를 위한 \n",
    "\n",
    "print(cal1.add(3))\n",
    "print(cal1.add(4))\n",
    "print(cal2.add(3))\n",
    "print(cal2.add(7))"
   ]
  },
  {
   "cell_type": "code",
   "execution_count": null,
   "id": "8edd2e32-8fbe-4c57-95c7-754d6b65655c",
   "metadata": {},
   "outputs": [],
   "source": []
  },
  {
   "cell_type": "markdown",
   "id": "2765431d-cb4a-4497-adc1-bfcfa147d02e",
   "metadata": {},
   "source": [
    "## 클래스와 객체"
   ]
  },
  {
   "cell_type": "code",
   "execution_count": 4,
   "id": "603249b5-cc44-45d2-9175-74d8ac8305dc",
   "metadata": {},
   "outputs": [],
   "source": [
    "class Cookie: #클래스는 변수와 구별하기위해 첫글자는 대문자!!! \n",
    "    pass"
   ]
  },
  {
   "cell_type": "code",
   "execution_count": 7,
   "id": "3961d6b2-ed04-4024-851f-a4828eceeaa2",
   "metadata": {},
   "outputs": [
    {
     "data": {
      "text/plain": [
       "__main__.Cookie"
      ]
     },
     "execution_count": 7,
     "metadata": {},
     "output_type": "execute_result"
    }
   ],
   "source": [
    "type(Cookie())"
   ]
  },
  {
   "cell_type": "code",
   "execution_count": 8,
   "id": "c56a5578-b1d0-4fd2-a919-b6d5c9a03366",
   "metadata": {},
   "outputs": [
    {
     "name": "stdout",
     "output_type": "stream",
     "text": [
      "<__main__.Cookie object at 0x000001ADD598D350> <class '__main__.Cookie'>\n"
     ]
    }
   ],
   "source": [
    "a = Cookie() # a = 객체, a객체는 Cookie의 인스턴스\n",
    "print(a, type(a))\n",
    "#클래스로 만든 객체를 인스턴스라고 한다 "
   ]
  },
  {
   "cell_type": "markdown",
   "id": "6870503a-1d1f-4a64-9800-76030135a958",
   "metadata": {},
   "source": [
    "## 사칙연산클래스 \n"
   ]
  },
  {
   "cell_type": "code",
   "execution_count": 9,
   "id": "51ac4334-3f88-4d78-b5a0-b601fda4a50c",
   "metadata": {},
   "outputs": [],
   "source": [
    "class FourCal:\n",
    "    pass"
   ]
  },
  {
   "cell_type": "code",
   "execution_count": 19,
   "id": "9be15937-da0b-48fc-9d3d-1c2fa66e3256",
   "metadata": {},
   "outputs": [],
   "source": [
    "# 객체에 연산할 숫자를 지정하자\n",
    "# 기능 구조에 순서가 있다! \n",
    "# 값을 받아오는게 1번\n",
    "\n",
    "class FourCal:\n",
    "    def setdata(self, first, second): #method(=funtion)매개변수\n",
    "        self.first = first #클래스에 포함되어있는 함수 = 매서드\n",
    "        self.second = second"
   ]
  },
  {
   "cell_type": "code",
   "execution_count": 20,
   "id": "425f94b2-8e1c-4ef0-a39d-15691ce6aa4e",
   "metadata": {},
   "outputs": [],
   "source": [
    "#funtion\n",
    "def setdata(self, first, second): #a = self \n",
    "    self.first = first #a만을 위한 first야 \n",
    "    self.second = second"
   ]
  },
  {
   "cell_type": "code",
   "execution_count": 21,
   "id": "a45e7432-ba38-46f5-95b0-75d403f98718",
   "metadata": {},
   "outputs": [],
   "source": [
    "a = FourCal()\n",
    "a.setdata(4,2)\n",
    "#a = self, 4 = first, 2 = second "
   ]
  },
  {
   "cell_type": "code",
   "execution_count": 23,
   "id": "803a5f8b-6cc0-46fe-8396-fe4ee77918ad",
   "metadata": {},
   "outputs": [],
   "source": [
    "# 매서드를 호출하는 또다른 방법\n",
    "a = FourCal()\n",
    "FourCal.setdata(a,4,2)"
   ]
  },
  {
   "cell_type": "markdown",
   "id": "00ec41f3-32a9-4b09-9eae-c6114105fa69",
   "metadata": {},
   "source": [
    "## setdata 매서드의 수행문"
   ]
  },
  {
   "cell_type": "code",
   "execution_count": 24,
   "id": "05ad978c-f203-4054-b322-4bc0b8bba7e5",
   "metadata": {},
   "outputs": [
    {
     "data": {
      "text/plain": [
       "4"
      ]
     },
     "execution_count": 24,
     "metadata": {},
     "output_type": "execute_result"
    }
   ],
   "source": [
    "a.first  #객체변수"
   ]
  },
  {
   "cell_type": "code",
   "execution_count": 25,
   "id": "7bf67ef7-e5aa-41c7-be2f-54af2ff75e3b",
   "metadata": {},
   "outputs": [
    {
     "data": {
      "text/plain": [
       "2"
      ]
     },
     "execution_count": 25,
     "metadata": {},
     "output_type": "execute_result"
    }
   ],
   "source": [
    "a.second #객체변수"
   ]
  },
  {
   "cell_type": "code",
   "execution_count": 26,
   "id": "7c8b2f93-c774-4eef-af6b-74e1bc7c125e",
   "metadata": {},
   "outputs": [
    {
     "data": {
      "text/plain": [
       "<bound method FourCal.setdata of <__main__.FourCal object at 0x000001ADD6653C90>>"
      ]
     },
     "execution_count": 26,
     "metadata": {},
     "output_type": "execute_result"
    }
   ],
   "source": [
    "a.setdata #함수"
   ]
  },
  {
   "cell_type": "code",
   "execution_count": 27,
   "id": "3549bdca-9a2f-4fcd-9d13-b95a296c71e3",
   "metadata": {},
   "outputs": [],
   "source": [
    "a = FourCal()\n",
    "b = FourCal()"
   ]
  },
  {
   "cell_type": "code",
   "execution_count": 28,
   "id": "93cab854-fafc-4a56-98e5-2e1770d42e27",
   "metadata": {},
   "outputs": [
    {
     "data": {
      "text/plain": [
       "4"
      ]
     },
     "execution_count": 28,
     "metadata": {},
     "output_type": "execute_result"
    }
   ],
   "source": [
    "a.setdata(4,2)\n",
    "a.first"
   ]
  },
  {
   "cell_type": "code",
   "execution_count": 29,
   "id": "0467e9fb-e148-4eec-abbf-d93391f22f7c",
   "metadata": {},
   "outputs": [
    {
     "data": {
      "text/plain": [
       "3"
      ]
     },
     "execution_count": 29,
     "metadata": {},
     "output_type": "execute_result"
    }
   ],
   "source": [
    "b.setdata(3,7)\n",
    "b.first"
   ]
  },
  {
   "cell_type": "markdown",
   "id": "11d0d0db-5143-436e-9655-0d87bdb9d71c",
   "metadata": {},
   "source": [
    "## 더하기 기능 만들기"
   ]
  },
  {
   "cell_type": "code",
   "execution_count": 37,
   "id": "067a9005-d2fc-476e-a277-d4ba1c836a79",
   "metadata": {},
   "outputs": [],
   "source": [
    "class FourCal:\n",
    "    def setdata(self, first, second):\n",
    "        self.first = first\n",
    "        self.second = second\n",
    "\n",
    "    def add(self):\n",
    "        result = self.first + self.second\n",
    "        return result"
   ]
  },
  {
   "cell_type": "code",
   "execution_count": 38,
   "id": "3801fc0b-90f7-4195-a23c-9f100d55cb7c",
   "metadata": {},
   "outputs": [],
   "source": [
    "a = FourCal()\n",
    "a.setdata(4,2)"
   ]
  },
  {
   "cell_type": "code",
   "execution_count": 39,
   "id": "9f7b27b2-6569-4505-8b3a-2290bae1f524",
   "metadata": {},
   "outputs": [
    {
     "data": {
      "text/plain": [
       "6"
      ]
     },
     "execution_count": 39,
     "metadata": {},
     "output_type": "execute_result"
    }
   ],
   "source": [
    "a.add()"
   ]
  },
  {
   "cell_type": "code",
   "execution_count": null,
   "id": "f06111fa-a7b6-4c15-a216-935526867d45",
   "metadata": {},
   "outputs": [],
   "source": [
    "##"
   ]
  },
  {
   "cell_type": "code",
   "execution_count": 50,
   "id": "3a6c18ba-fc39-4b6f-92e1-f818fb3bb63e",
   "metadata": {},
   "outputs": [],
   "source": [
    "class FourCal:\n",
    "    def setdata(self, first, second):\n",
    "        self.first = first\n",
    "        self.second = second\n",
    "        \n",
    "    def add(self):\n",
    "        result = self.first + self.second\n",
    "        return result\n",
    "    \n",
    "    def sub(self):\n",
    "        result = self.first - self.second\n",
    "        return result\n",
    "\n",
    "    def mul(self):\n",
    "        result = self.first * self.second\n",
    "        return result\n",
    "\n",
    "    def div(self):\n",
    "        result = self.first / self.second\n",
    "        return result"
   ]
  },
  {
   "cell_type": "code",
   "execution_count": 56,
   "id": "f6c152d3-2f14-43c1-a316-7109e798ccd4",
   "metadata": {},
   "outputs": [
    {
     "name": "stdout",
     "output_type": "stream",
     "text": [
      "6 8 2 2.0\n",
      "8 15 2 1.6666666666666667\n"
     ]
    }
   ],
   "source": [
    "a = FourCal()\n",
    "b = FourCal()\n",
    "a.setdata(4,2)\n",
    "b.setdata(5,3)\n",
    "print(a.add(), a.mul(), a.sub(), a.div())\n",
    "print(b.add(), b.mul(), b.sub(), b.div())\n"
   ]
  },
  {
   "cell_type": "code",
   "execution_count": null,
   "id": "c616571d-3fb0-431a-9ca1-6232dea4ee23",
   "metadata": {},
   "outputs": [],
   "source": []
  },
  {
   "cell_type": "code",
   "execution_count": 63,
   "id": "fd11488a",
   "metadata": {},
   "outputs": [],
   "source": [
    "class FourCal1:\n",
    "    def __init__(self,first,second): #매직메서드 (규칙처럼 이미 정해진 메서드)\n",
    "        self.first = first\n",
    "        self.second = second\n",
    "        \n",
    "    # def setdata(self, first, second):\n",
    "    #     self.first = first\n",
    "    #     self.second = second\n",
    "        \n",
    "    def add(self):\n",
    "        result = self.first + self.second\n",
    "        return result\n",
    "    \n",
    "    def sub(self):\n",
    "        result = self.first - self.second\n",
    "        return result\n",
    "\n",
    "    def mul(self):\n",
    "        result = self.first * self.second\n",
    "        return result\n",
    "\n",
    "    def div(self):\n",
    "        result = self.first / self.second\n",
    "        return result"
   ]
  },
  {
   "cell_type": "code",
   "execution_count": 64,
   "id": "dfc167ce-90bd-4df7-a481-8a9b8c0d4a5b",
   "metadata": {},
   "outputs": [],
   "source": [
    "a = FourCal1"
   ]
  },
  {
   "cell_type": "code",
   "execution_count": 66,
   "id": "230ad3f8-f688-4557-b0df-7c970fc3d01f",
   "metadata": {},
   "outputs": [],
   "source": [
    "a = FourCal1(4,2)"
   ]
  },
  {
   "cell_type": "code",
   "execution_count": 67,
   "id": "5588f5cd-576e-490b-a58a-ca65d9e8675e",
   "metadata": {},
   "outputs": [
    {
     "data": {
      "text/plain": [
       "6"
      ]
     },
     "execution_count": 67,
     "metadata": {},
     "output_type": "execute_result"
    }
   ],
   "source": [
    "a.add()"
   ]
  },
  {
   "cell_type": "code",
   "execution_count": 68,
   "id": "aa4aad8a-d414-4488-be1e-1147414fec79",
   "metadata": {},
   "outputs": [
    {
     "data": {
      "text/plain": [
       "2.0"
      ]
     },
     "execution_count": 68,
     "metadata": {},
     "output_type": "execute_result"
    }
   ],
   "source": [
    "a.div()"
   ]
  },
  {
   "cell_type": "code",
   "execution_count": null,
   "id": "c418c951-2f0b-450d-aa6f-414da9358d6d",
   "metadata": {},
   "outputs": [],
   "source": []
  },
  {
   "cell_type": "markdown",
   "id": "e6be0f71-9f53-4b3a-ad7f-6112ea807d76",
   "metadata": {},
   "source": [
    "## 클래스의 상속"
   ]
  },
  {
   "cell_type": "code",
   "execution_count": 69,
   "id": "aacedc25-6452-4e18-ae4c-1b23123d9deb",
   "metadata": {},
   "outputs": [],
   "source": [
    "class MoreFourCal(FourCal):  #클래스속에 클래스 \n",
    "    pass"
   ]
  },
  {
   "cell_type": "code",
   "execution_count": 70,
   "id": "7533a46f-b13b-4c79-904d-198afc350f79",
   "metadata": {},
   "outputs": [
    {
     "data": {
      "text/plain": [
       "<__main__.MoreFourCal at 0x1add6a01490>"
      ]
     },
     "execution_count": 70,
     "metadata": {},
     "output_type": "execute_result"
    }
   ],
   "source": [
    "a = MoreFourCal(4,2)\n",
    "a"
   ]
  },
  {
   "cell_type": "code",
   "execution_count": 71,
   "id": "839ade02-0e7c-4c67-9849-b05c508bea70",
   "metadata": {},
   "outputs": [
    {
     "data": {
      "text/plain": [
       "(6, 8, 2.0, 2)"
      ]
     },
     "execution_count": 71,
     "metadata": {},
     "output_type": "execute_result"
    }
   ],
   "source": [
    "a.add(),a.mul(),a.div(),a.sub()"
   ]
  },
  {
   "cell_type": "code",
   "execution_count": 72,
   "id": "1ba92b91-18da-40ee-b33e-08faa4d592e0",
   "metadata": {},
   "outputs": [],
   "source": [
    "class MoreFourCal(FourCal):\n",
    "    def pow(self):\n",
    "        result = self.first ** self.second\n",
    "        return result"
   ]
  },
  {
   "cell_type": "code",
   "execution_count": 73,
   "id": "ab04b0fb-96c3-4b06-91f2-fee601458cc4",
   "metadata": {},
   "outputs": [
    {
     "data": {
      "text/plain": [
       "(6, 8, 2.0, 2, 16)"
      ]
     },
     "execution_count": 73,
     "metadata": {},
     "output_type": "execute_result"
    }
   ],
   "source": [
    "a = MoreFourCal(4,2)\n",
    "a.add(),a.mul(),a.div(),a.sub(),a.pow()"
   ]
  },
  {
   "cell_type": "markdown",
   "id": "422ded17-bfdb-4951-aa85-63abad41f220",
   "metadata": {},
   "source": [
    "## 메서드 오버라이딩"
   ]
  },
  {
   "cell_type": "code",
   "execution_count": 74,
   "id": "0c9c1bf3-ee87-4f67-9f8a-10a637f1e029",
   "metadata": {},
   "outputs": [
    {
     "ename": "ZeroDivisionError",
     "evalue": "division by zero",
     "output_type": "error",
     "traceback": [
      "\u001b[1;31m---------------------------------------------------------------------------\u001b[0m",
      "\u001b[1;31mZeroDivisionError\u001b[0m                         Traceback (most recent call last)",
      "Cell \u001b[1;32mIn[74], line 2\u001b[0m\n\u001b[0;32m      1\u001b[0m a \u001b[38;5;241m=\u001b[39m FourCal(\u001b[38;5;241m4\u001b[39m,\u001b[38;5;241m0\u001b[39m)\n\u001b[1;32m----> 2\u001b[0m a\u001b[38;5;241m.\u001b[39mdiv()\n",
      "Cell \u001b[1;32mIn[59], line 23\u001b[0m, in \u001b[0;36mFourCal.div\u001b[1;34m(self)\u001b[0m\n\u001b[0;32m     22\u001b[0m \u001b[38;5;28;01mdef\u001b[39;00m \u001b[38;5;21mdiv\u001b[39m(\u001b[38;5;28mself\u001b[39m):\n\u001b[1;32m---> 23\u001b[0m     result \u001b[38;5;241m=\u001b[39m \u001b[38;5;28mself\u001b[39m\u001b[38;5;241m.\u001b[39mfirst \u001b[38;5;241m/\u001b[39m \u001b[38;5;28mself\u001b[39m\u001b[38;5;241m.\u001b[39msecond\n\u001b[0;32m     24\u001b[0m     \u001b[38;5;28;01mreturn\u001b[39;00m result\n",
      "\u001b[1;31mZeroDivisionError\u001b[0m: division by zero"
     ]
    }
   ],
   "source": [
    "#상속받은 메서드 덮어씌우기 \n",
    "a = FourCal(4,0) \n",
    "a.div()"
   ]
  },
  {
   "cell_type": "code",
   "execution_count": 76,
   "id": "cff607f3-ba81-43fd-9efb-256699ae30ae",
   "metadata": {},
   "outputs": [],
   "source": [
    ">>> class SafeFourCal(FourCal):\n",
    "...     def div(self):\n",
    "...         if self.second == 0:  # 나누는 값이 0인 경우 0을 리턴하도록 수정\n",
    "...             return 0\n",
    "...         else:\n",
    "...             return self.first / self.second"
   ]
  },
  {
   "cell_type": "code",
   "execution_count": 77,
   "id": "2f8b0835-83f6-4f29-814a-45f1b464832b",
   "metadata": {},
   "outputs": [
    {
     "data": {
      "text/plain": [
       "0"
      ]
     },
     "execution_count": 77,
     "metadata": {},
     "output_type": "execute_result"
    }
   ],
   "source": [
    "a = SafeFourCal(4,0) \n",
    "a.div()"
   ]
  },
  {
   "cell_type": "markdown",
   "id": "b6f474e9-cffb-491c-863a-432f4343871d",
   "metadata": {},
   "source": [
    "## 클래스 변수"
   ]
  },
  {
   "cell_type": "code",
   "execution_count": 78,
   "id": "4b47d07f-75de-487d-ba2b-8fc0ce9766f1",
   "metadata": {},
   "outputs": [],
   "source": [
    "class Family:\n",
    "    lastname = '김'"
   ]
  },
  {
   "cell_type": "code",
   "execution_count": 79,
   "id": "92d67354-20b0-4934-aaa9-ce7561710498",
   "metadata": {},
   "outputs": [
    {
     "data": {
      "text/plain": [
       "'김'"
      ]
     },
     "execution_count": 79,
     "metadata": {},
     "output_type": "execute_result"
    }
   ],
   "source": [
    "Family.lastname #해당클래스의 변수 리턴"
   ]
  },
  {
   "cell_type": "code",
   "execution_count": 81,
   "id": "0474aedb-824d-43e9-89f9-bdc8a0786c6c",
   "metadata": {},
   "outputs": [
    {
     "data": {
      "text/plain": [
       "('김', '김')"
      ]
     },
     "execution_count": 81,
     "metadata": {},
     "output_type": "execute_result"
    }
   ],
   "source": [
    "a = Family()\n",
    "b = Family()\n",
    "a.lastname, b.lastname"
   ]
  },
  {
   "cell_type": "code",
   "execution_count": 82,
   "id": "69335d8d-edb5-4f5c-a995-e98e81cdd3a5",
   "metadata": {},
   "outputs": [
    {
     "data": {
      "text/plain": [
       "'박'"
      ]
     },
     "execution_count": 82,
     "metadata": {},
     "output_type": "execute_result"
    }
   ],
   "source": [
    "Family.lastname = '박'\n",
    "a.lastname"
   ]
  },
  {
   "cell_type": "code",
   "execution_count": 83,
   "id": "ddb936f9-3ff2-48f3-9f11-5264cada488a",
   "metadata": {},
   "outputs": [
    {
     "data": {
      "text/plain": [
       "'박'"
      ]
     },
     "execution_count": 83,
     "metadata": {},
     "output_type": "execute_result"
    }
   ],
   "source": [
    "b.lastname #똑같이 바뀜 "
   ]
  },
  {
   "cell_type": "code",
   "execution_count": 84,
   "id": "e8444a28-ae97-49a5-8beb-fe47f8ac07a1",
   "metadata": {},
   "outputs": [
    {
     "data": {
      "text/plain": [
       "'최'"
      ]
     },
     "execution_count": 84,
     "metadata": {},
     "output_type": "execute_result"
    }
   ],
   "source": [
    "a.lastname = '최' #인스턴스의 값을 바꾼것 \n",
    "a.lastname"
   ]
  },
  {
   "cell_type": "code",
   "execution_count": 85,
   "id": "206c2365-6dd6-4f64-833f-24180f89c6d6",
   "metadata": {},
   "outputs": [
    {
     "data": {
      "text/plain": [
       "'박'"
      ]
     },
     "execution_count": 85,
     "metadata": {},
     "output_type": "execute_result"
    }
   ],
   "source": [
    "b.lastname"
   ]
  },
  {
   "cell_type": "code",
   "execution_count": null,
   "id": "1916724d-5f5b-4c57-9f84-d9843b9ec2cf",
   "metadata": {},
   "outputs": [],
   "source": []
  },
  {
   "cell_type": "markdown",
   "id": "18ee3dcf-44a4-40fa-b852-b41e920da38a",
   "metadata": {},
   "source": [
    "# 예외처리"
   ]
  },
  {
   "cell_type": "code",
   "execution_count": 86,
   "id": "575fea89-ec29-4842-9fe2-fa84056f47c3",
   "metadata": {},
   "outputs": [
    {
     "ename": "FileNotFoundError",
     "evalue": "[Errno 2] No such file or directory: '없는 파일'",
     "output_type": "error",
     "traceback": [
      "\u001b[1;31m---------------------------------------------------------------------------\u001b[0m",
      "\u001b[1;31mFileNotFoundError\u001b[0m                         Traceback (most recent call last)",
      "Cell \u001b[1;32mIn[86], line 2\u001b[0m\n\u001b[0;32m      1\u001b[0m \u001b[38;5;66;03m#존재하지 않는 파일을 사용하려고 시도했을 때\u001b[39;00m\n\u001b[1;32m----> 2\u001b[0m f \u001b[38;5;241m=\u001b[39m \u001b[38;5;28mopen\u001b[39m(\u001b[38;5;124m'\u001b[39m\u001b[38;5;124m없는 파일\u001b[39m\u001b[38;5;124m'\u001b[39m,\u001b[38;5;124m'\u001b[39m\u001b[38;5;124mr\u001b[39m\u001b[38;5;124m'\u001b[39m)\n",
      "File \u001b[1;32m~\\anaconda3\\Lib\\site-packages\\IPython\\core\\interactiveshell.py:310\u001b[0m, in \u001b[0;36m_modified_open\u001b[1;34m(file, *args, **kwargs)\u001b[0m\n\u001b[0;32m    303\u001b[0m \u001b[38;5;28;01mif\u001b[39;00m file \u001b[38;5;129;01min\u001b[39;00m {\u001b[38;5;241m0\u001b[39m, \u001b[38;5;241m1\u001b[39m, \u001b[38;5;241m2\u001b[39m}:\n\u001b[0;32m    304\u001b[0m     \u001b[38;5;28;01mraise\u001b[39;00m \u001b[38;5;167;01mValueError\u001b[39;00m(\n\u001b[0;32m    305\u001b[0m         \u001b[38;5;124mf\u001b[39m\u001b[38;5;124m\"\u001b[39m\u001b[38;5;124mIPython won\u001b[39m\u001b[38;5;124m'\u001b[39m\u001b[38;5;124mt let you open fd=\u001b[39m\u001b[38;5;132;01m{\u001b[39;00mfile\u001b[38;5;132;01m}\u001b[39;00m\u001b[38;5;124m by default \u001b[39m\u001b[38;5;124m\"\u001b[39m\n\u001b[0;32m    306\u001b[0m         \u001b[38;5;124m\"\u001b[39m\u001b[38;5;124mas it is likely to crash IPython. If you know what you are doing, \u001b[39m\u001b[38;5;124m\"\u001b[39m\n\u001b[0;32m    307\u001b[0m         \u001b[38;5;124m\"\u001b[39m\u001b[38;5;124myou can use builtins\u001b[39m\u001b[38;5;124m'\u001b[39m\u001b[38;5;124m open.\u001b[39m\u001b[38;5;124m\"\u001b[39m\n\u001b[0;32m    308\u001b[0m     )\n\u001b[1;32m--> 310\u001b[0m \u001b[38;5;28;01mreturn\u001b[39;00m io_open(file, \u001b[38;5;241m*\u001b[39margs, \u001b[38;5;241m*\u001b[39m\u001b[38;5;241m*\u001b[39mkwargs)\n",
      "\u001b[1;31mFileNotFoundError\u001b[0m: [Errno 2] No such file or directory: '없는 파일'"
     ]
    }
   ],
   "source": [
    "#존재하지 않는 파일을 사용하려고 시도했을 때\n",
    "f = open('없는 파일','r')"
   ]
  },
  {
   "cell_type": "code",
   "execution_count": 88,
   "id": "7c012e28-6f14-49f4-afb7-0e2e55a088a8",
   "metadata": {},
   "outputs": [
    {
     "ename": "ZeroDivisionError",
     "evalue": "division by zero",
     "output_type": "error",
     "traceback": [
      "\u001b[1;31m---------------------------------------------------------------------------\u001b[0m",
      "\u001b[1;31mZeroDivisionError\u001b[0m                         Traceback (most recent call last)",
      "Cell \u001b[1;32mIn[88], line 2\u001b[0m\n\u001b[0;32m      1\u001b[0m \u001b[38;5;66;03m# 0으로 나누려고 시도\u001b[39;00m\n\u001b[1;32m----> 2\u001b[0m \u001b[38;5;241m3\u001b[39m\u001b[38;5;241m/\u001b[39m \u001b[38;5;241m0\u001b[39m\n",
      "\u001b[1;31mZeroDivisionError\u001b[0m: division by zero"
     ]
    }
   ],
   "source": [
    "# 0으로 나누려고 시도\n",
    "3/ 0"
   ]
  },
  {
   "cell_type": "code",
   "execution_count": 89,
   "id": "fa90827b-c65f-44cc-ad1e-943459123440",
   "metadata": {},
   "outputs": [
    {
     "ename": "IndexError",
     "evalue": "list index out of range",
     "output_type": "error",
     "traceback": [
      "\u001b[1;31m---------------------------------------------------------------------------\u001b[0m",
      "\u001b[1;31mIndexError\u001b[0m                                Traceback (most recent call last)",
      "Cell \u001b[1;32mIn[89], line 3\u001b[0m\n\u001b[0;32m      1\u001b[0m \u001b[38;5;66;03m# 인덱스 요소가 없을 때\u001b[39;00m\n\u001b[0;32m      2\u001b[0m a\u001b[38;5;241m=\u001b[39m [\u001b[38;5;241m1\u001b[39m,\u001b[38;5;241m2\u001b[39m,\u001b[38;5;241m3\u001b[39m]\n\u001b[1;32m----> 3\u001b[0m a[\u001b[38;5;241m3\u001b[39m]\n",
      "\u001b[1;31mIndexError\u001b[0m: list index out of range"
     ]
    }
   ],
   "source": [
    "# 인덱스 요소가 없을 때\n",
    "a= [1,2,3]\n",
    "a[3]"
   ]
  },
  {
   "cell_type": "markdown",
   "id": "b323bb21-a316-4517-9b04-2da2785cf799",
   "metadata": {},
   "source": [
    "## 오류 예외 처리 기법"
   ]
  },
  {
   "cell_type": "code",
   "execution_count": 93,
   "id": "ccd5afe6-cdd9-4440-9a30-c5f81d4b0276",
   "metadata": {},
   "outputs": [
    {
     "name": "stdout",
     "output_type": "stream",
     "text": [
      "0\n"
     ]
    }
   ],
   "source": [
    "# 1. Try-except만 쓰는 방법 -> 어떤 오류가 나오든 except리턴\n",
    "try:\n",
    "    4/0\n",
    "except:\n",
    "    print(0)"
   ]
  },
  {
   "cell_type": "code",
   "execution_count": 94,
   "id": "c3d3ee44-026b-4f32-a5bc-7abe85235504",
   "metadata": {},
   "outputs": [
    {
     "name": "stdout",
     "output_type": "stream",
     "text": [
      "0\n"
     ]
    }
   ],
   "source": [
    "try:\n",
    "    f = open('없는 파일','r')\n",
    "except:\n",
    "    print(0)"
   ]
  },
  {
   "cell_type": "code",
   "execution_count": 97,
   "id": "cdbc9b9a-0fad-4dcc-a72f-2a4d35858f60",
   "metadata": {},
   "outputs": [
    {
     "name": "stdout",
     "output_type": "stream",
     "text": [
      "0\n"
     ]
    }
   ],
   "source": [
    "# 2. 미리 정해 놓은 오류만 except리턴\n",
    "try:\n",
    "    4/0\n",
    "except ZeroDivisionError:\n",
    "    print(0)"
   ]
  },
  {
   "cell_type": "code",
   "execution_count": 100,
   "id": "5bcdd6c2-1645-45d4-b5cb-23e46db6dc49",
   "metadata": {},
   "outputs": [
    {
     "ename": "ZeroDivisionError",
     "evalue": "division by zero",
     "output_type": "error",
     "traceback": [
      "\u001b[1;31m---------------------------------------------------------------------------\u001b[0m",
      "\u001b[1;31mZeroDivisionError\u001b[0m                         Traceback (most recent call last)",
      "Cell \u001b[1;32mIn[100], line 2\u001b[0m\n\u001b[0;32m      1\u001b[0m \u001b[38;5;28;01mtry\u001b[39;00m:\n\u001b[1;32m----> 2\u001b[0m     \u001b[38;5;241m4\u001b[39m\u001b[38;5;241m/\u001b[39m\u001b[38;5;241m0\u001b[39m\n\u001b[0;32m      3\u001b[0m \u001b[38;5;28;01mexcept\u001b[39;00m \u001b[38;5;167;01mFileNotFoundError\u001b[39;00m:\n\u001b[0;32m      4\u001b[0m     \u001b[38;5;28mprint\u001b[39m(\u001b[38;5;241m0\u001b[39m)\n",
      "\u001b[1;31mZeroDivisionError\u001b[0m: division by zero"
     ]
    }
   ],
   "source": [
    "try:\n",
    "    4/0\n",
    "except FileNotFoundError:\n",
    "    print(0)"
   ]
  },
  {
   "cell_type": "code",
   "execution_count": 102,
   "id": "b3c1ff11-e2c1-4f64-ba27-45acbea15ff2",
   "metadata": {},
   "outputs": [
    {
     "name": "stdout",
     "output_type": "stream",
     "text": [
      "division by zero\n"
     ]
    }
   ],
   "source": [
    "# 3. 발생오류와 오류변수까지 포함한 except문\n",
    "try: \n",
    "    4/0\n",
    "except ZeroDivisionError as e : #에러메세지만 띄우고 프로그램은 계속 동작\n",
    "    print(e)"
   ]
  },
  {
   "cell_type": "markdown",
   "id": "b9420d86-4407-4950-9996-b9c9b4762fe6",
   "metadata": {},
   "source": [
    "## try-finally문 (안전장치)"
   ]
  },
  {
   "cell_type": "code",
   "execution_count": null,
   "id": "15e1569b-6de0-4766-9b73-a2b3eb9890a0",
   "metadata": {},
   "outputs": [],
   "source": [
    "try:\n",
    "    f = open('foo.txt', 'w')\n",
    "    # 무언가를 수행한다.\n",
    "\n",
    "    (... 생략 ...)\n",
    "\n",
    "finally:\n",
    "    f.close()  # 중간에 오류가 발생하더라도 무조건 실행된다."
   ]
  },
  {
   "cell_type": "markdown",
   "id": "5a89b6a6-9eb2-4f54-b60a-be136886f3b7",
   "metadata": {},
   "source": [
    "## 여러개 오류 처리하기"
   ]
  },
  {
   "cell_type": "code",
   "execution_count": 103,
   "id": "26dedc50-4489-4280-8f48-269fbe68d3eb",
   "metadata": {},
   "outputs": [
    {
     "name": "stdout",
     "output_type": "stream",
     "text": [
      "인덱싱 할 수 없습니다.\n"
     ]
    }
   ],
   "source": [
    "# many_error.py\n",
    "try:\n",
    "    a = [1,2]\n",
    "    print(a[3])\n",
    "    4/0\n",
    "except ZeroDivisionError:\n",
    "    print(\"0으로 나눌 수 없습니다.\")\n",
    "except IndexError:\n",
    "    print(\"인덱싱 할 수 없습니다.\")\n"
   ]
  },
  {
   "cell_type": "markdown",
   "id": "e2287a4e-8800-4e84-8a90-8023c3d1f1b7",
   "metadata": {},
   "source": [
    "## try-else문\n"
   ]
  },
  {
   "cell_type": "code",
   "execution_count": 106,
   "id": "8dfb04f8-9a4f-4846-8279-0530ff989bdb",
   "metadata": {},
   "outputs": [
    {
     "name": "stdin",
     "output_type": "stream",
     "text": [
      "나이를 입력하세요:  25\n"
     ]
    },
    {
     "name": "stdout",
     "output_type": "stream",
     "text": [
      "환영합니다.\n"
     ]
    }
   ],
   "source": [
    "# try_else.py\n",
    "try:\n",
    "    age=int(input('나이를 입력하세요: '))\n",
    "except:\n",
    "    print('입력이 정확하지 않습니다.')\n",
    "else:\n",
    "    if age <= 18:\n",
    "        print('미성년자는 출입금지입니다.')\n",
    "    else:\n",
    "        print('환영합니다.')\n"
   ]
  },
  {
   "cell_type": "markdown",
   "id": "d3bfe129-46df-4887-aa96-8d90d4397f51",
   "metadata": {},
   "source": [
    "## 오류회피하기(사소한 오류에) - pass"
   ]
  },
  {
   "cell_type": "code",
   "execution_count": null,
   "id": "1a8e2ded-a409-48cf-9d3a-46d61f848da7",
   "metadata": {},
   "outputs": [],
   "source": [
    "try: \n",
    "    f = open(\"나없는파일\", 'r')\n",
    "except FileNotFoundError:\n",
    "    pass"
   ]
  },
  {
   "cell_type": "markdown",
   "id": "7c2a1296-efaa-4bd3-8175-00f705f4568d",
   "metadata": {},
   "source": [
    "## 오류 일부러 발생시키기 - raise"
   ]
  },
  {
   "cell_type": "code",
   "execution_count": 108,
   "id": "850bc0be-a1da-4836-8bbc-77301fbd3c28",
   "metadata": {},
   "outputs": [],
   "source": [
    "# error_raise.py\n",
    "class Bird:\n",
    "    def fly(self):\n",
    "        raise NotImplementedError"
   ]
  },
  {
   "cell_type": "markdown",
   "id": "17772cb1-cc40-4146-99f1-531cf6895952",
   "metadata": {},
   "source": [
    "## 예외 만들기 - raise"
   ]
  },
  {
   "cell_type": "code",
   "execution_count": 109,
   "id": "6cee6f16-d607-42c1-8966-38a159d07aa1",
   "metadata": {},
   "outputs": [],
   "source": [
    "class Myerror(Exception):\n",
    "    pass"
   ]
  },
  {
   "cell_type": "code",
   "execution_count": 110,
   "id": "76f90d7e-21de-463a-8802-7c35d2c7dacd",
   "metadata": {},
   "outputs": [],
   "source": [
    "def say_nick(nick):\n",
    "    if nick == '바보':\n",
    "        raise Myerror()\n",
    "    print(nick)"
   ]
  },
  {
   "cell_type": "code",
   "execution_count": 111,
   "id": "5dbb4441-51d8-47f3-aa9b-326ec9ca66dd",
   "metadata": {},
   "outputs": [
    {
     "name": "stdout",
     "output_type": "stream",
     "text": [
      "천사\n"
     ]
    }
   ],
   "source": [
    "say_nick('천사')"
   ]
  },
  {
   "cell_type": "code",
   "execution_count": 112,
   "id": "bcc246e9-71d7-4adb-8617-a7e01445f5b3",
   "metadata": {},
   "outputs": [
    {
     "ename": "Myerror",
     "evalue": "",
     "output_type": "error",
     "traceback": [
      "\u001b[1;31m---------------------------------------------------------------------------\u001b[0m",
      "\u001b[1;31mMyerror\u001b[0m                                   Traceback (most recent call last)",
      "Cell \u001b[1;32mIn[112], line 1\u001b[0m\n\u001b[1;32m----> 1\u001b[0m say_nick(\u001b[38;5;124m'\u001b[39m\u001b[38;5;124m바보\u001b[39m\u001b[38;5;124m'\u001b[39m)\n",
      "Cell \u001b[1;32mIn[110], line 3\u001b[0m, in \u001b[0;36msay_nick\u001b[1;34m(nick)\u001b[0m\n\u001b[0;32m      1\u001b[0m \u001b[38;5;28;01mdef\u001b[39;00m \u001b[38;5;21msay_nick\u001b[39m(nick):\n\u001b[0;32m      2\u001b[0m     \u001b[38;5;28;01mif\u001b[39;00m nick \u001b[38;5;241m==\u001b[39m \u001b[38;5;124m'\u001b[39m\u001b[38;5;124m바보\u001b[39m\u001b[38;5;124m'\u001b[39m:\n\u001b[1;32m----> 3\u001b[0m         \u001b[38;5;28;01mraise\u001b[39;00m Myerror()\n\u001b[0;32m      4\u001b[0m     \u001b[38;5;28mprint\u001b[39m(nick)\n",
      "\u001b[1;31mMyerror\u001b[0m: "
     ]
    }
   ],
   "source": [
    "say_nick('바보')"
   ]
  },
  {
   "cell_type": "code",
   "execution_count": 114,
   "id": "569a92c6-bbc1-4e0d-8949-21840c0713c7",
   "metadata": {},
   "outputs": [
    {
     "name": "stdout",
     "output_type": "stream",
     "text": [
      "천사\n",
      "허용되지 않는 별명입니다.\n"
     ]
    }
   ],
   "source": [
    "try:\n",
    "    say_nick(\"천사\")\n",
    "    say_nick(\"바보\")\n",
    "except Myerror:\n",
    "    print(\"허용되지 않는 별명입니다.\")"
   ]
  },
  {
   "cell_type": "code",
   "execution_count": null,
   "id": "6acf2786-c60e-4826-a0ba-dbbff118f712",
   "metadata": {},
   "outputs": [],
   "source": []
  },
  {
   "cell_type": "code",
   "execution_count": null,
   "id": "738999d5-152a-43a1-8afd-2370858844ec",
   "metadata": {},
   "outputs": [],
   "source": []
  },
  {
   "cell_type": "code",
   "execution_count": null,
   "id": "beafe244-79f7-4556-ade7-139449625e42",
   "metadata": {},
   "outputs": [],
   "source": []
  },
  {
   "cell_type": "code",
   "execution_count": null,
   "id": "09c2aacf-8218-466f-94db-f01f8944ca9d",
   "metadata": {},
   "outputs": [],
   "source": []
  },
  {
   "cell_type": "code",
   "execution_count": null,
   "id": "766339b9-84f9-4625-8bd9-4a71965b3dd8",
   "metadata": {},
   "outputs": [],
   "source": []
  }
 ],
 "metadata": {
  "kernelspec": {
   "display_name": "Python 3 (ipykernel)",
   "language": "python",
   "name": "python3"
  },
  "language_info": {
   "codemirror_mode": {
    "name": "ipython",
    "version": 3
   },
   "file_extension": ".py",
   "mimetype": "text/x-python",
   "name": "python",
   "nbconvert_exporter": "python",
   "pygments_lexer": "ipython3",
   "version": "3.11.7"
  }
 },
 "nbformat": 4,
 "nbformat_minor": 5
}
