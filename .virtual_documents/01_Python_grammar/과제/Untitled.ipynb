#001 
print('Hello World')


#002
print ("Mary's cosmetics")


#003
print('신씨가 소리질렀다. "도둑이야".')


#004
print('C:\windows')


#005
print("안녕하세요. \n만나서\t\t반갑습니다.")

#\n은 줄바꿈, \t는 탭


#006
#예상결과 : 오늘은 일요일
print ("오늘은","일요일")


#007
print('naver','kakao','sk','samsung', sep=';')


#008
print('naver','kakao','sk','samsung',sep='/')


#009
print("first",end="");print("second")


#010
print(5/3)


#011 
삼성전자 = 50000
총평가금액 = 삼성전자*10
print(총평가금액)


#012 ->처음에 문제이해못함
시가총액 = 2980000000000
현재가 = 500000
PER = 15.79

print (시가총액, type(시가총액))
print (현재가, type(현재가))
print (PER, type(PER))



#013
s = "hello"
t = "python"
print(s[:]+'! '+t[:])


#014
#예상결과 = 8
2+2*3


#015
a= "132"
print (a, type(a))


#016 -> 땡! 
num_str = "720"
num_int = int(num_str)
print(num_int+1, type(num_int))



#017
num = 100
num_str = str(num)
print (num_str, type(num_str))


#018
a = "15.79"
a_float = float(a)
print (a_float, type(a_float))


#019
year = "2020"
year_int = int(year)
print(year_int-3, year_int-2, year_int-1)



#020
월할부 = 48584
총금액 = 월할부*36
print(총금액)



#021
letters = 'python'
print(letters[0],letters[2])


#022
lp = "24가2210"
print(lp[-4:])


#023
str = "홀짝홀짝홀짝"
print(str[::2])


#024 -> 땡!
str = "PYTHON"
print(str[::-1])


#025 -> 공백도 "" 처리! 
pn = "010-1111-2222"
print(pn.replace("-"," "))


#026
pn1=pn.replace(" ","")
print(pn1)


#027 
url = "http://sharebook.kr"
print(url[-2:])


#027-1 -> split 사용해야 하나..? 
url = "http://sharebook.kr"
url_s=url.split('.')
print(url_s[-1])


#028 -> 땡! (정답은 오류, 문자열은 immutable)
#예상결과 : python 
a = 'python'
a[0] ='P'
print(lang)


#029
a = 'abcdfe2a354a32a'
print(a.replace('a','A'))


#030 -> 땡! (문자열은 immutable!!!!)
#예상결과 : aBcd
string = 'abcd'
string.replace('b', 'B')
print(string)


#031
#예상결과 : 34
a = "3"
b = "4"
print(a + b)


#032
#예상결과 : HiHiHi
print("Hi" * 3)


#033
print('-'*80)


#034 -> 공백넣기!
t1 = "python"
t2 = "java"
t3 = t1 + ' ' +t2 + ' '
print (t3*4)


#035

n1 = '김민수'
a1 = 10
n2 = '이철희'
a2 = 13

print('이름: %s 나이: %d' %(n1,a1))
print('이름: %s 나이: %d' %(n2,a2))


#036
print('이름: {} 나이: {}'.format(n1,a1))
print('이름: {} 나이: {}'.format(n2,a2))


#037
print(f'이름: {n1} 나이: {a1}')
print(f'이름: {n2} 나이: {a2}')


#038
a = "5,969,782,550"
a1 = a.replace(',','')
a1_int = int(a1)
print(a1_int, type(a1_int))


#039
분기 = "2020/03(E) (IFRS연결)"
print(분기 [:7])


#040
data = "   삼성전자    "
print(data.strip())


#041
ticker = "btc_krw"
print(ticker.upper())


#042
ticker = "BTC_KRW"
print(ticker.lower())


#043
a = 'hello'
















