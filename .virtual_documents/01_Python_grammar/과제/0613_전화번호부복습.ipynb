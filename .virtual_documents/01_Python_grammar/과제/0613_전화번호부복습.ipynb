contact = {}

while True:
    print('''
    =====전화번호부===
    1.추가
    2.조회
    3.검색
    4.수정
    5.삭제
    0.종료
    =================\n''')
    menu = int(input('메뉴선택'))
    
    if menu == 1:
        print('연락처추가\n')
        name = input('이름: ')
        tel = input('연락처: ')
        contact[name]=tel
        print(name,tel)
              
    elif menu == 2:
        print('연락처보기\n')
        for name, tel in contact.items():
            print(name, ':', tel)
        
    elif menu == 3:
        print('연락처검색\n')
        ser_name=input("이름검색: ")
        print(contact.get(ser_name, '없는 이름 입니다.'))
        #print("전화번호: ",contact[ser_name])
      
    elif menu == 4:
        print('연락처수정\n')
        mod_name = input("이름: ")
        mod_tel = input("새연락처: ")
        contact[mod_name]=mod_tel
        print(mod_name, ":", mod_tel)
        
    elif menu == 5:
        print('연락처삭제\n')
        del_name = input("이름: ")
        del contact[del_name]
        print('삭제완료')
        
    elif menu == 0:
        print('연락처종료\n')
        break
    else:
        print('등록안됨\n')
        












