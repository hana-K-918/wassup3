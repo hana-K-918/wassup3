


# shirt, need 라고 예상했지만... shirt에서 True이기 때문에 안넘어가고 종료.
a = 'Life is too short, you need python'
if 'wife' in a: print('wife')
elif 'python' in a and 'you' not in a : print('python')
elif 'shirt' not in a : print('shirt')
elif 'need' in a: print('need')
else: print('none')





result = 0
i = 1
while i <= 1000:
    if i % 3 == 0:
        result += i
    i += 1
print(result) 





a = 0
while a<5:
    a=a+1
    print(a*'*')





for i in range(1,101):
    print(i, end=" ")





A = [70, 60, 55, 75, 95, 90, 80, 80, 85, 100]
total = 0
for score in A:
    total += score
    average = total / len(A)
print(average) 





numbers = [1, 2, 3, 4, 5]
result = [n*2 for n in numbers if n%2==1]
print(result)









