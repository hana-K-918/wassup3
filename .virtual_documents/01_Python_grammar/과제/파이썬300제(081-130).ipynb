#081 -> 문제이해불가
scores = [8.8, 8.9, 8.7, 9.2, 9.3, 9.7, 9.9, 9.5, 7.8, 9.4]
*valid_score, _, _= scores
print(valid_score)


#082 
scores = [8.8, 8.9, 8.7, 9.2, 9.3, 9.7, 9.9, 9.5, 7.8, 9.4]
a, b, *valid_score = scores
print(valid_score)


#083
scores = [8.8, 8.9, 8.7, 9.2, 9.3, 9.7, 9.9, 9.5, 7.8, 9.4]
a, *valid_score, b = scores
print(valid_score)


#084
temp = {}


#085
a = {'메로나':1000, '폴라포':1200, '빵빠레':1800}
print(a)


#086
a['죠스바']=1200
a['월드콘']=1500
print(a)


#087
print(a['메로나'])


#088
a['메로나']=1300
print(a)


#089
ice = {'메로나': 1000,
       '폴로포': 1200,
       '빵빠레': 1800,
       '죠스바': 1200,
       '월드콘': 1500}
del ice['메로나']
print(ice)


#090
#누가바가 없으니까!! 
icecream = {'폴라포': 1200, '빵빠레': 1800, '월드콘': 1500, '메로나': 1000}
icecream['누가바']


#091
inventory = {'메로나':(300,20),
             '비비빅':(400,3),
             '죠스바':(250,100)}
print(inventory)


#092
print(inventory['메로나'][0],'원')


#093
print(inventory['메로나'][1],'개')


#094
inventory['월드콘']=(500,7)
print(inventory)


#095 ->list변형!
icecream = {'탱크보이': 1200, '폴라포': 1200, '빵빠레': 1800, '월드콘': 1500, '메로나': 1000}
a = list(icecream.keys())
print(a)



#096
icecream = {'탱크보이': 1200, '폴라포': 1200, '빵빠레': 1800, '월드콘': 1500, '메로나': 1000}
a = list(icecream.values())
print(a)


#097
icecream = {'탱크보이': 1200, '폴라포': 1200, '빵빠레': 1800, '월드콘': 1500, '메로나': 1000}
print(sum(icecream.values()))


#098
icecream = {'탱크보이': 1200, '폴라포': 1200, '빵빠레': 1800, '월드콘': 1500, '메로나': 1000}
icecream ['팥빙수'] =2700 
icecream ['아맛나'] =1000 
print(icecream)


#098-1
icecream = {'탱크보이': 1200, '폴라포': 1200, '빵빠레': 1800, '월드콘': 1500, '메로나': 1000}
new_product = {'팥빙수':2700, '아맛나':1000}
icecream.update(new_product)
print(icecream)


#099
keys = ("apple", "pear", "peach")
vals = (300, 250, 400)
result = dict(zip(keys,vals))
print(result)


#100
date = ['09/05', '09/06', '09/07', '09/08', '09/09']
close_price = [10500, 10300, 10100, 10800, 11000]
close_table = dict(zip(date,close_price))
print(close_table)


#101
#boolean


#102
#False
print(3 == 5)


#103
#True
print(3 < 5)


#104
#True
x = 4
print(1 < x < 5)


#105
#True
print ((3 == 3) and (4 != 3))


#106
#연산자가 잘못됨
print(3 => 4)


#107
#아무것도 안나옴
if 4 < 3:
    print("Hello World")


#108
#Hi, there.
if 4 < 3:
    print("Hello World.")
else:
    print("Hi, there.")


#109
#1 2 4 
if True :
    print ("1")
    print ("2")
else :
    print("3")
print("4")


#110
#3 5
if True :
    if False:
        print("1")
        print("2")
    else:
        print("3")
else :
    print("4")
print("5")


#111
user = input("입력:")
print(user*2)


#112 -> int는 print user에? input에?
user = int(input("숫자를 입력하세요: "))
print(user+10)


#113
user = int(input("숫자를 입력하세요: "))
if (user % 2) == 1:
    print ("홀수")
else:
    print("짝수")


#114
user = int(input("숫자를 입력하세요: "))
if (user + 20) < 255:
    print (user+20)
else:
    print(255)


#115
user = int(input("숫자를 입력하세요: "))
num = user - 20
if num < 0:
    print (0)
elif 0 < num < 255:
    print(num)
else:
    print(255)


#116

user = (input("현재시간: "))
if user[-2:] == "00" :
    print("정각입니다.")
else:
    print("정각이 아닙니다.")


#117
fruit = ["사과", "포도", "홍시"]
user = input("이게뭘까요?: ")
if user in fruit:
    print("정답입니다.")
else:
    print("오답입니다.")


#118
list = ["Microsoft", "Google", "Naver", "Kakao", "SAMSUNG", "LG"]
user = input("종목명: ")
if user in list:
    print("투자 경고 종목입니다.")
else:
    print("투자 경고 종목이 아닙니다.")


#119 
fruit = {"봄" : "딸기", "여름" : "토마토", "가을" : "사과"}
answer = fruit.keys()
user = input("무엇일까요?")
if user in fruit:
    print("정답입니다.")
else:
    print("오답입니다.")


#120
fruit = {"봄" : "딸기", "여름" : "토마토", "가을" : "사과"}
user = input("무엇일까요?")
answer = fruit.values()
if user in answer:
    print("정답입니다.")
else:
    print("오답입니다.")


#121 -> 차근차근 단순히 
user = input("")
if user.islower():
    print(user.upper())
else:
    print(user.lower())


#122
user = int(input("score: "))
if 81<= user <=100:
    print('A')
elif 61<= user <= 80:
    print('B')
elif 41<= user <= 60:
    print('C')
elif 21<= user <= 40:
    print('D')
else:
    print('E')


#123 -> 어렵다.....
cur ={'달러':1167,
      '엔':1.096,
      '유로':1268,
      '위안':171}
user = input("입력")
num, currency = user.split()


#124
a = int(input ("No.1"))
b = int(input ("No.2"))
c = int(input ("No.3"))

if a >= b and a>=c:
    print(a)
elif b >= a and b >=c:
    print(b)
else:
    print(c)


#125 ->읭????????????
user = input("번호입력")
if user[:3] == '011':
    com='SKT'
elif user[:3] == '016':
    com='KT'
elif user[:3] == '019':
    com='LGU'
else:
    com ='알수없음'
    print(f'당신은{com}사용자입니다.')


#126
user = (input("우편번호"))
if user[2] in ['0','1','2']:
    print('강북구')
elif user[2] in ['3','4','5']:
    print('도봉구')
else:
    print('노원구')


#127
pin = input("주민등록번호")
pin = pin.split("-")[1]
if pin[0] in ['1','3']:
    print('남자')
else:
    print('여자')


#128
pin = input("주민등록번호")
pin = pin.split("-")[1]
if pin[1:3] in ['00','01','02','03','04','05','06','07','08']:
    print("서울입니다.")
else:
    print("서울이 아닙니다.")


#129....->읭????????????
pin = input("주민등록번호")
pin = 


#130
import requests
btc = requests.get("https://api.bithumb.com/public/ticker/").json()['data']
gap = int(btc['max_price']) - int(btc['min_price'])
if int(btc['opening_price'])+gap > int(btc['max_price']):
    print('상승장')
else:
    print('하락장')



