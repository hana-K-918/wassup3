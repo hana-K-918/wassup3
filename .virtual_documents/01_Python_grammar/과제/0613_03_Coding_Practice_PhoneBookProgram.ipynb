





dic = {name : phone}
name = input("이름")
phone = input("전화번호")
dic[name]=phone
print(dic)


user = input("이름검색: ")
if user in dic:
    print("전화번호: ", dic[user])


user = input("이름검색: ")
if user in dic:
    edit = input("수정할 전화번호: ")
    dic[user] = edit
    print("이름",user,"수정한 전화번호: ",dic[user])











contact = {}
name = ""
tel = ""

while True:
    print('''
    ==========전화번호부=========
    1. 추가
    2. 조회
    3. 검색
    4. 수정
    5. 삭제
    0. 종료
    =============================\n\n''')
    menu = int(input("원하시는 항목을 입력하세요.(숫자only)"))
    
    if menu == 1:
        print('''====전화번호를 추가합니다====''')
        name = input("이름: ")
        tel = input("전화번호: ")
        contact[name]=tel
        print(name,':',tel)
        contact.setdefault(name, tel)
    
    elif menu == 2:
        print('''====전화번호를 조회합니다====''') 
        print(contact)
    
    elif menu == 3:
        print('''====전화번호를 검색합니다====''')
        search_name = input("이름: ")
        for name, tel in contact.items():
            print(name, ':', tel)
        
    elif menu == 4:
        print('''====전화번호를 수정합니다====''') 
        
    elif menu == 5:
        print('''====전화번호를 삭제합니다====''')
        
    elif menu == 0:
        print('''====전화번호부를 종료합니다====''')

        
    break


















contact = {}

while True:
    print('----------전화번호부---------')
    print('1.추가 2.보기 3.검색 4.수정 5.삭제 9.종료')
    menu = int(input('메뉴를 선택해주세요.(숫자only):'))

    if menu == 1:
        print('연락처를 "추가"합니다.')
        new_name = input('이름: ')
        new_tel = input('전화번호: ')
        contact[new_name]=new_tel
        contact.setdefault(new_name, new_tel) #setdefault = 덮어쓰기 금지

    
    elif menu == 2:
        print('연락처를 "조회"합니다.')
        print(contact)
    
        for name, tel in contact.items(): #item = key value 모두 빼올 수 있어
            print (name, ':' , tel)
            
        
    elif menu == 3:
        print('연락처를 "검색"합니다.')
        search_name = input ('이름: ')
        #print(contact[search_name])
        print(contact.get(search_name, '없는 이름입니다.'))
    
    elif menu == 4:
        print('연락처를 "수정"합니다.')
        mod_name = input('수정할 이름: ')

        if mod_name in contact:
            mod_tel = input('새로운 전화번호: ')
            contact[mod_name]=mod_tel
        else:
            print('등록되지 않은 이름입니다.')
        
    elif menu == 5:
        print('연락처를 "삭제"합니다.')
        del_name = input('삭제할 이름: ')

        if del_name in contact:
            del contact[del_name]
        else:
            print('등록되지 않은 이름입니다.')
        
    elif menu == 9:
        print('연락처를 "종료"합니다.')
        break
    
    else:
        print('잘못된 입력입니다')









contact = {}

while True:
    print('----------전화번호부---------')
    print('1.추가 2.보기 3.검색 4.수정 5.삭제 9.종료')
    menu = int(input('메뉴를 선택해주세요.(숫자only):'))

    if menu == 1:
        print('연락처를 "추가"합니다.')
        new_name = input('이름: ')
        new_tel = input('전화번호: ')
        contact[new_name]=new_tel
        contact.setdefault(new_name, new_tel) #setdefault = 덮어쓰기 금지

    
    elif menu == 2:
        print('연락처를 "조회"합니다.')
        print(contact)
    
        for name, tel in contact.items(): #item = key value 모두 빼올 수 있어
            print (name, ':' , tel)
            
        
    elif menu == 3:
        print('연락처를 "검색"합니다.')
        search_name = input ('이름: ')
        #print(contact[search_name])
        print(contact.get(search_name, '없는 이름입니다.'))
    
    elif menu == 4:
        print('연락처를 "수정"합니다.')
        mod_name = input('수정할 이름: ')

        if mod_name in contact:
            mod_tel = input('새로운 전화번호: ')
            contact[mod_name]=mod_tel
        else:
            print('등록되지 않은 이름입니다.')
        
    elif menu == 5:
        print('연락처를 "삭제"합니다.')
        del_name = input('삭제할 이름: ')

        if del_name in contact:
            del contact[del_name]
        else:
            print('등록되지 않은 이름입니다.')
        
    elif menu == 9:
        print('연락처를 "종료"합니다.')
        break
    
    else:
        print('잘못된 입력입니다')



















