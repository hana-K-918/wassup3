


a = 123 


a


a = -178
a


a = 0


a = -4.2395
a


a = 4.23E10
a


a = 4.23E-10
a





a = 0o177
a


a = 0x8ff
b = 0xABC
a, b





a = 3
b = 4
a + b 


a-b


a*b


a/b





a ** b 





7 % 3 


3 % 7 





7 // 4


7/4





"hello world"


""" HELLO WORLD """


'''
HELLO WORLD
'''





Python's favorite food is perl


'Python's favorite food is perl'


"Python's favorite food is perl"


"Python is very easy." he says.


'"Python is very easy." he says.'


'Python\'s favorite food is perl'


"Life is too short You need python"


"Life is too short \n You need python"


multiline = "Life is too short \n You need python"
multiline


print(multiline)


multiline = '''
Life is too short
You need python
'''


multiline='첫문장을 쓰고\n다음문장을 쓰면'
print(multiline)


multiline="""
어쩌고
저쩌고
블라블라
"""
print(multiline)


a = "shine muscat juice"
a[7:-3]


b = '20240610python'
date = b[:7]
name = b[7:] 
date, name


c = 'banaba'
c[:4]+'n'+c[5:]


multiline


print (multiline)





head = "Python"
tail = " is fun!"
head + tail


a = 'Python'
a *5


print('='*50)


a = "Life is too short"
len(a)





a = "Life is too short, You need Python"


len (a) #문자의 갯수 


a[3]  #파이선은 0부터 시작! 


a[13]


a[-1] #맨뒤에서 출발할때는 -1


a[-7]





a


a[0]+a[1]+a[2]+a[3]


a[0:4] #변수명[start#:end#] 범위지정 *end#은 -1 됨


a[-15:]


a[:] #전부다나옴


a[19:-7]





a = "20240610sunny"
date = a[:8]
weather = a[8:]
date, weather


year = a[:4]
month = a[4:6]
day = a[6:8]
year, month, day, weather


a = "pithon"
a[1] = 'y'


b = a [0] + 'y' + a[2:]
b





# 숫자 바로 대입 방식
"I eat %d apples"%3


# 문자열 바로 대입 방식
"I eat %s apples" %"five"


"I eat %s apples" %5


"I eat %d apples" %"삼"


# 숫자 값을 나타내는 변수로 대입
num = 3
"I eat %d apples" %num


num = 3
'I have %d oranges'%num


# 2개 이상 값 넣기
num = 10 
day = "three"
"I eat %d apples. so I was sick for %s days."%(num, day)


num = 3
day = 'ten'
'I have %d oranges for %s days' %(num, day)


"I eat %d apples. so I was sick for %s days."%(day, num)  #자료형 달라서 안돼


"I have %s apples"%3


"rate is %s" %4.326


"오늘의 습도는 %d%%입니다"%70 #%두개 넣어서 문자열임을 알려주기





"%0.2f"%3.14159268


"%0.4f"%3.14159268





"I eat {} apples". format(3)


"I eat {} apples". format('five')


num=10
"I eat {} apples". format(num)


# 2개 이상 값 넣기
num = 10 
day = "three"
"I eat {} apples. so I was sick for {} days.". format(num, day)


"I eat {0} apples. so I was sick for {1} days.". format(num, day)


"I eat {num} apples. so I was sick for {day} days.". format(num=10, day=3)


"I eat {num} apples. so I was sick for {day} days.". format(day=3, num=10) #순서를 바꿔도 라벨을 찾아감


"I eat {} apples. so I was sick for {day} days.". format(day=3,10) #라벨이 없으면 순서대로 들어가는데, 두번째는 이미 라벨이 있어서 오류남





y = 3.1293873762
"{0:0.4f}". format(y)





name = '홍길동'
age = 30
f'나의 이름은 {name}입니다. 나이는 {age}입니다.'


f'나는 내년이면 {age+1}살이 됩니다.'


d = {'name' : '홍길동', 'age':30}
f'나의 이름은 {d["name"]}입니다. 나이는 {d["age"]}입니다.' #' 와 " 구분해주기 다른 계층 ! 








# 문자 개수 세기 count
a = 'hobby'
a.count('b')


#위치 알려주기 find 
a= "Python is the best choice"
a.find ('b')      #인덱스 반환


a.find('k')   #find= 없는 데이터는 -1로 반환 (유보) 시스템적으로 critical하지 않다면 ! 


# 위치를 알려주기 index
a = 'Life is too short'
a.index ('t')


a.index('k')    #index= 없는 데이터는 오류 반환


#문자열 삽입 join
a = 'abcd'
a


','.join(a)


a = ['a', 'b', 'c', 'd']
':'.join(a)





a = 'hi'
a.upper()


a


a = 'HI'
a.lower()


print?


help(print())


# 왼쪽 공백 지우기 lstrip
a ="    hi    "
a. lstrip()


a. rstrip()


a.strip()





a = 'life is too short'
a.replace?


a.replace ('life','Your leg')


a    #원본데이터는 바뀌지않음, 변경된 값을 리턴할 뿐


a = a.replace ('life','Your leg')    #덮어쓰면 됨
a





a. split()


b = 'a : b : c : d'
b. split(sep=':')





a = 1
a, type(a)   #type=내장함수


b = 'hello'
b, type(b)


c = [1,2,3]
c, type(c)


id(a)    #id = 메모리주소아이디


#복사

a = [1,2,3]
b = a   #메모리를 줄이기 위한 참조! b에게 새로 할당되는게 아닌 a가 어디있다고 알려주는 것 
id(a), id(b)      


a is b


a == b


a = [1,2,3]
b = a  
id(a), id(b)    


a[1] = 4
a


b


a = [1,2,3]
b = a [:]
id(a), id(b)   





from copy import copy


a = [1,2,3]     #깊은 복사(값을 복사하고 새로운 메모리를 할당)
b = copy(a)
id (a), id(b)


a,b


b is a  # 변수 그 자체를 비


b == a  # 값을 비교





a = 'python'
b = 'life'
a,b


a,b = ('python','life')
a,b


[a,b] = ['python','life']
a


a=3
b=5
a,b


a,b = b,a 
a,b





#리스트 = [요소,요소,요소,요소] mutable, 다양한 요소 
odd = [1,3,5,7,9]               #cf. 문자열(str) = immutable, 1요소


type(odd)


a=[]
b=[1,2,3]
c=['Life', 'is', 'too', 'short']
d=[1,2, 'life', 'is']
e=[1,2, ['life', 'is']]
print(a, type(a))
print(b, type(b))
print(c, type(c))
print(d, type(d))
print(e, type(e))





#인덱스가 존재하면 번호를 부여받고 추출가능 


a = [1,2,3]
a


a[0]


a[0]+a[2]


a = [1,2,3,['a','b','c']]
len(a)  #[a,b,c]는 한개!


a[3]


a[3][1]  #인덱싱에 인덱싱 -> 파고들어가기! 


# 삼중 리스트 인덱싱
a = [1,2, ['a','b', ['Life','is']]]
    #0 1  2
           #0 1 2
                     #0 1 
a[2][2][0]





a = [1,2,3,4,5]
a[2:4]


a[::2]  #step


a[1::2] #1부터 시작 2씩 끝까지





a = [1,2,3, ['a', 'b', 'c'], 4,5]
a[2:5]


a[3][:-1]





a = [1,2,3]
del a[1]  #원본에 반영됨!!!  


a


a = [1,2,3,4,5]
del a[2:]
a





#리스트 요소 추가 append  (맨뒤에 추가)
a = [1,2,3]
a.append(4)
a


# 리스트 정렬 sort
a= [1,3,5,2,4]
a. sort()
a


a. sort(reverse = True)


a


#리스트 뒤집기 reverse
a = ['a', 'b', 'c', 'e']
a.reverse()
a


# 인덱스 반환 index
a= [1,2,3]
a.index (3)


a.index (0)





a.sort?


# 리스트 요소 삽입 insert (위치지정가능)
a = [1,2,3]
a.insert(0,4)
a


#remove 
a= [1,2,3,1,2,3]
a.remove(3)  #가장 처음 만나는 요소(3) 삭제
a


# pop
a =[1,2,3]
a.pop()


a


b.pop?


# count
a = [1,2,3,1]
a.count(1)


#extend         #iterable한 (반복가능한) 개체 추가 가능
a = [1,2,3]
a. extend([4,5])
a


b =[6,7]
a.extend(b)
a





a =1
a= a+2
a


a +=3
a


a = [1,2,3]
a += [4,5]
a


a + = 9


a += [9]
a





t1 = ()
t2 = (1, )  #뒤가 없어도
t3 = (1,2,3)
t4 = 1,2,3 #괄호가 없어도 
t5 = ('a','b',('ab','cd'))
print(t1, type(t1))
print(t2, type(t2))
print(t3, type(t3))
print(t4, type(t4))
print(t5, type(t5))


t1, t2


type((1)), type((1,)) #똑같이 괄호로 있어도 안에 요소가 1개 이상(1,)이어야 튜플


t1 = (1,2,'a','b')
del t1[0]


t1[0] = 'c'





#인덱싱
t1 = (1,2,'a','b')
t1[1:]





#튜플더하기    -> 여러 자료형이 들어갈수있어서 연산안됨
t1 = (1,2,'a','b')
t2 = (3,4)
t3= t1+t2
t3


t3 = t2*3
t3





len(t1)








#딕셔너리는 순서가 없다. 키와 밸류로 이루어져있다


dic = {'name': 'pey', 'phone': '010-9999-1234', 'birth': '1118'}
type(dic)


a = {1 : 'hi'}
a, type(a)


a = {'a': [1,2,3]}   
a, type(a)





a = {1 : 'a'}


a[2] = 'b' #없는 키를 입력하면서 조회 가능 
a


a['name'] = 'pay'
a


a[3] = [1,2,3]
a


del a[2]
a





# Key를 사용해서 value얻기
grade = {'pey': 10, 'julliet' :99}
grade


grade['pey']





#리스트를 키로 넣을 수 없다
a = {[1,2,3] : 2}





#key 리스트 만들기 = keys
a = {'name': 'pey', 'phone': '010-9999-1234', 'birth': '1118'}
a.keys()


for k in a. keys():   #a라는 변수에 들어있는 키들을 모두 뽑아줘
    print(k)


a = {'name': 'pey', 'phone': '010-9999-1234', 'birth': '1118'}
list(a.keys())


#values 리스트 만들기 - values
a.values()


# k, v 쌍 얻기 - items
a.items()  #튜플로나옴


# k,v 쌍 모두 지우기 - clear
a.clear()
a


#key로 value얻기 -get
a = {'name': 'pey', 'phone': '010-9999-1234', 'birth': '1118'}
a.get('name')


a.get('nokey','꽝')  #오류상황대비가능 메서드 쵝오! 


##해당 키가 딕셔너리 안에 있는지 조사하기
'name' in a


'email' in a





s1 = set ([1,2,3])
s1,type(s1)


s2 = set('Hello')
s2


l1 = list(s1)
l1


l1[0]


s1[0]





s1 = set ([1,2,3,4,5,6])
s2 = set ([4,5,6,7,8,9])
#교집합 구하기
s1.intersection(s2)


#합집합 구하기
s1.union(s2)


s1 | s2   # | =or


#차집합 구하기
s1 - s2


s1.difference(s2)





# 값 1개 추가하기 - add
s1 = set ([1,2,3])
s1.add(4)
s1


# ㄴ> 순서없음


#값 여러개 추가하기 - update
s1.update ([4,5,6])
s1


#ㄴ> 중복제거


# 특정 값 제거하기 - remove
s1.remove(2)
s1





a = True
b = False
type(a), type(b)


1 == 1


2 > 1


2 < 1





a = [1,2,3,4]
while a:  #코드블럭 안에 있는 걸 계속 실행시켜줘! 
    print(a.pop())


if[]:
    print('참')
else :
    print('거짓')


if[1,2,3]:
    print('참')
else :
    print('거짓')





bool?


bool ('python')


bool(' ')


bool(0)


bool(3)


True + False


True + True





















