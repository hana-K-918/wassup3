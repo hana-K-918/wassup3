


a = 123 


a


a = -178
a


a = 0


a = -4.2395
a


a = 4.23E10
a


a = 4.23E-10
a





a = 0o177
a


a = 0x8ff
b = 0xABC
a, b





a = 3
b = 4
a + b 


a-b


a*b


a/b





a ** b 





7 % 3 


3 % 7 





7 // 4


7/4





"hello world"


""" HELLO WORLD """


'''
HELLO WORLD
'''





Python's favorite food is perl


'Python's favorite food is perl'


"Python's favorite food is perl"


"Python is very easy." he says.


'"Python is very easy." he says.'


'Python\'s favorite food is perl'


"Life is too short You need python"


"Life is too short \n You need python"


multiline = "Life is too short \n You need python"
multiline


print(multiline)


multiline = '''
Life is too short
You need python
'''


multiline


print (multiline)





head = "Python"
tail = " is fun!"
head + tail


a = 'Python'
a *5


print('='*50)


a = "Life is too short"
len(a)





a = "Life is too short, You need Python"


len (a) #문자의 갯수 


a[3]  #파이선은 0부터 시작! 


a[13]


a[-1] #맨뒤에서 출발할때는 -1


a[-7]





a


a[0]+a[1]+a[2]+a[3]


a[0:4] #변수명[start#:end#] 범위지정 *end#은 -1 됨


a[-15:]


a[:] #전부다나옴


a[19:-7]





a = "20240610sunny"
date = a[:8]
weather = a[8:]
date, weather


year = a[:4]
month = a[4:6]
day = a[6:8]
year, month, day, weather


a = "pithon"
a[1] = 'y'


b = a [0] + 'y' + a[2:]
b





# 숫자 바로 대입 방식
"I eat %d apples"%3


# 문자열 바로 대입 방식
"I eat %s apples" %"five"


"I eat %s apples" %5


"I eat %d apples" %"삼"


# 숫자 값을 나타내는 변수로 대입
num = 3
"I eat %d apples" %num


# 2개 이상 값 넣기
num = 10 
day = "three"
"I eat %d apples. so I was sick for %s days."%(num, day)


"I eat %d apples. so I was sick for %s days."%(day, num)  #자료형 달라서 안돼


"I have %s apples"%3


"rate is %s" %4.326


"오늘의 습도는 %d%%입니다"%70 #%두개 넣어서 문자열임을 알려주기





"%0.2f"%3.14159268


"%0.4f"%3.14159268





"I eat {} apples". format(3)


"I eat {} apples". format('five')


num=10
"I eat {} apples". format(num)


# 2개 이상 값 넣기
num = 10 
day = "three"
"I eat {} apples. so I was sick for {} days.". format(num, day)


"I eat {0} apples. so I was sick for {1} days.". format(num, day)


"I eat {num} apples. so I was sick for {day} days.". format(num=10, day=3)


"I eat {num} apples. so I was sick for {day} days.". format(day=3, num=10) #순서를 바꿔도 라벨을 찾아감


"I eat {} apples. so I was sick for {day} days.". format(day=3,10) #라벨이 없으면 순서대로 들어가는데, 두번째는 이미 라벨이 있어서 오류남





y = 3.1293873762
"{0:0.4f}". format(y)





name = '홍길동'
age = 30
f'나의 이름은 {name}입니다. 나이는 {age}입니다.'


f'나는 내년이면 {age+1}살이 됩니다.'


d = {'name' : '홍길동', 'age':30}
f'나의 이름은 {d["name"]}입니다. 나이는 {d["age"]}입니다.' #' 와 " 구분해주기 다른 계층 ! 



























