contact = {}

while True:
    print('전화번호부')
    print('1.추가 2.보기 3.검색 4.수정 5.삭제 0.종료')
    menu = int(input('메뉴선택'))
    
    if menu == 1:
        print('연락처추가')
        name = input('이름: ')
        tel = input('연락처: ')
        contact[name]=tel
        print(name,tel)
              
    elif menu == 2:
        print('연락처보기')
        print(contact)
        
    elif menu == 3:
        print('연락처검색')
        ser_name=input("이름검색: ")
        print(contact[ser_name])
      
    elif menu == 4:
        print('연락처수정')
        mod_name = input("이름: ")
        mod_tel = input("새연락처: ")
        print(contact[mod_name])
    elif menu == 5:
        print('연락처삭제')
        break
    else:
        print('등록안됨')
        












