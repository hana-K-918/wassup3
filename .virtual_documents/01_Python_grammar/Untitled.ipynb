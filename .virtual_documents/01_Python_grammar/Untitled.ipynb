





abs(3)


abs(-3)


abs(-1.2)





all([1,2,3])


all([1,2,3,0]) #요소의 0은 거짓으로 판단


all([]) #인수가 빈값은 참





any([1,2,3,0])


any([0,'']) #모두 거짓


any([])





chr(97)


chr(44032)





dir([1,2,3])


dir({1:'a'})





divmod(7,3)


7//3, 7%3





for i, name in enumerate(['body','foo','bar']):
    print(i,name)





>>> eval('1+2')


>>> eval("'hi' + 'a'")


>>> eval('divmod(4, 3)')





def positive(l): 
    result = [] 
    for i in l: 
        if i > 0: 
            result.append(i) 
    return result

print(positive([1,-3,2,0,-5,6]))


def positive(x):
    return x > 0


filter(positive,[1,-3,2,0,-5,6])


list(filter(positive,[1,-3,2,0,-5,6]))


list(filter(lambda x: x>0, [1,-3,2,0,-5,6]))





int('3')


int(3.4)


int?


int('11',2) # 11 -> 2진수로


int('1A',16) # ->16진수로





class person : pass


a = person()
a


isinstance(a,person)





list('python')


list((1,2,3))





def two_times(numberList):
    result = []
    for number in numberList:
        result.append(number*2)
    return result

result = two_times([1, 2, 3, 4])
print(result)


def two_times(x): 
     return x*2

list(map(two_times, [1, 2, 3, 4]))
[2, 4, 6, 8]


list(map(lambda a: a*2, [1, 2, 3, 4]))
[2, 4, 6, 8]





max([1,2,3])





min([1,2,3])





ord('a')





list(range(5,10,2))  #start, end, step





round(4.5)


round(5.2365,3)





sorted([3,1,2])





list(zip([1,2,3],[4,5,6]))  #인텍스 순서에 맞춰서 반환








import datetime
day1 = datetime.date(2024, 5, 2)
day2 = datetime.date(2024, 6, 18)


day1, day2


diff = day2 - day1
diff.days


day = datetime.date(2024,6,18)
day.weekday()


day.isoweekday()





import time
time.time()


time.localtime(time.time())


time.asctime(time.localtime(time.time()))


time.ctime()


time.strftime( '%x' , time.localtime(time.time()))


time.strftime( '%c' , time.localtime(time.time()))


for i in range(10):
    print(i)
    time.sleep(1)





import random
random.random()


random.randint(1,10)


for a in range(6):
    a = random.randint(1,45)
    print(a)


random.choice?


random.sample?


import random

def lotto():
    num = list(range(1,46))
    lotto_nums = random.sample(num, 6)
    return lotto_nums


lotto





import glob
glob.glob('C://workspace/wassup3/01_Python_grammar/*.ipynb')


import glob
filepath = glob.glob('C://workspace/wassup3/01_Python_grammar/*.ipynb')
for file in filepath:
    print(file.split('\\')[-1][:-6])





import os
os.environ['PATH']


os.getcwd()


os.chdir('c:\windows')


os.getcwd()


os.system('dir')


os.chdir('C:\\workspace\\wassup3\\01_Python_grammar')





myinfo = {
    "name": "홍길동",
    "birth": "0525",
    "age": 30
}


import json
data = {'name': '홍길동', 'birth': '0525', 'age': 30}
with open('output/myinfo.json','w') as f:
    json.dump(data,f, ensure_ascii=False) #한글안깨지게 저장! 


>>> d = {"name":"홍길동", "birth":"0525", "age": 30}
>>> print(json.dumps(d, indent=2, ensure_ascii=False))
{
  "name": "홍길동",
  "birth": "0525",
  "age": 30
}






# urllib_test.py
import urllib.request

def get_wikidocs(page):
    resource = 'https://wikidocs.net/{}'.format(page)
    with urllib.request.urlopen(resource) as s:
        with open('wikidocs_%s.html' % page, 'wb') as f:
            f.write(s.read())




get_wikidocs(33)





# webbrowser_test.py
import webbrowser

webbrowser.open_new('http://python.org')












pip list





pip install Faker


from faker import Faker
fake = Faker()
type(fake),fake


fake.name()


fake = Faker('ko-KR')
fake.name()


fake.address()


test_data = [(fake.name(), fake.address()) for i in range(30)]
test_data


fake.text()


fake.catch_phrase()









