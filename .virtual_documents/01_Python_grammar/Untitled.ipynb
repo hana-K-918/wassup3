a=0
while True:
    print('1','2','3')
    a = input("mmm")
    if a == 1:
        print('ooo')
    elif a == 2:
        print ('ddd')


break






















