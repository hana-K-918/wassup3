


# 더하기
result = 0

def add(num):
    global result  # global 전역변수 
    result += num  # 결괏값(result)에 입력값(num) 더하기
    return result  # 결괏값 리턴

print(add(3))
print(add(4))


#각각 입력값이 다르니 다른 함수로
result1 = 0
result2 = 0

def add1(num):  # 계산기1
    global result1
    result1 += num
    return result1

def add2(num):  # 계산기2
    global result2
    result2 += num
    return result2

print(add1(3))
print(add1(4))
print(add2(3))
print(add2(7))


class Calculator:
    def __init__(self):
        self.result = 0

    def add(self, num):
        self.result += num
        return self.result    #추상화해서 모든 사람을 위한 함수

cal1 = Calculator()  # 사람1을 위한 인스턴스를 만들어냈다
cal2 = Calculator()  # 사람2를 위한 

print(cal1.add(3))
print(cal1.add(4))
print(cal2.add(3))
print(cal2.add(7))








class Cookie: #클래스는 변수와 구별하기위해 첫글자는 대문자!!! 
    pass


type(Cookie())


a = Cookie() # a = 객체, a객체는 Cookie의 인스턴스
print(a, type(a))
#클래스로 만든 객체를 인스턴스라고 한다 





class FourCal:
    pass


# 객체에 연산할 숫자를 지정하자
# 기능 구조에 순서가 있다! 
# 값을 받아오는게 1번

class FourCal:
    def setdata(self, first, second): #method(=funtion)매개변수
        self.first = first #클래스에 포함되어있는 함수 = 매서드
        self.second = second


#funtion
def setdata(self, first, second): #a = self 
    self.first = first #a만을 위한 first야 
    self.second = second


a = FourCal()
a.setdata(4,2)
#a = self, 4 = first, 2 = second 


# 매서드를 호출하는 또다른 방법
a = FourCal()
FourCal.setdata(a,4,2)





a.first  #객체변수


a.second #객체변수


a.setdata #함수


a = FourCal()
b = FourCal()


a.setdata(4,2)
a.first


b.setdata(3,7)
b.first





class FourCal:
    def setdata(self, first, second):
        self.first = first
        self.second = second

    def add(self):
        result = self.first + self.second
        return result


a = FourCal()
a.setdata(4,2)


a.add()


##


class FourCal:
    def setdata(self, first, second):
        self.first = first
        self.second = second
        
    def add(self):
        result = self.first + self.second
        return result
    
    def sub(self):
        result = self.first - self.second
        return result

    def mul(self):
        result = self.first * self.second
        return result

    def div(self):
        result = self.first / self.second
        return result


a = FourCal()
b = FourCal()
a.setdata(4,2)
b.setdata(5,3)
print(a.add(), a.mul(), a.sub(), a.div())
print(b.add(), b.mul(), b.sub(), b.div())






class FourCal1:
    def __init__(self,first,second): #매직메서드 (규칙처럼 이미 정해진 메서드)
        self.first = first
        self.second = second
        
    # def setdata(self, first, second):
    #     self.first = first
    #     self.second = second
        
    def add(self):
        result = self.first + self.second
        return result
    
    def sub(self):
        result = self.first - self.second
        return result

    def mul(self):
        result = self.first * self.second
        return result

    def div(self):
        result = self.first / self.second
        return result


a = FourCal1


a = FourCal1(4,2)


a.add()


a.div()





class MoreFourCal(FourCal):  #클래스속에 클래스 
    pass


a = MoreFourCal(4,2)
a


a.add(),a.mul(),a.div(),a.sub()


class MoreFourCal(FourCal):
    def pow(self):
        result = self.first ** self.second
        return result


a = MoreFourCal(4,2)
a.add(),a.mul(),a.div(),a.sub(),a.pow()





#상속받은 메서드 덮어씌우기 
a = FourCal(4,0) 
a.div()


>>> class SafeFourCal(FourCal):
...     def div(self):
...         if self.second == 0:  # 나누는 값이 0인 경우 0을 리턴하도록 수정
...             return 0
...         else:
...             return self.first / self.second


a = SafeFourCal(4,0) 
a.div()





class Family:
    lastname = '김'


Family.lastname #해당클래스의 변수 리턴


a = Family()
b = Family()
a.lastname, b.lastname


Family.lastname = '박'
a.lastname


b.lastname #똑같이 바뀜 


a.lastname = '최' #인스턴스의 값을 바꾼것 
a.lastname


b.lastname








#존재하지 않는 파일을 사용하려고 시도했을 때
f = open('없는 파일','r')


# 0으로 나누려고 시도
3/ 0


# 인덱스 요소가 없을 때
a= [1,2,3]
a[3]





# 1. Try-except만 쓰는 방법 -> 어떤 오류가 나오든 except리턴
Try:

except:


# 2. 미리 정해 놓은 오류만 except리턴



