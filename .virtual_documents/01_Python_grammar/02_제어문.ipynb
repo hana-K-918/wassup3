


#‘돈이 있으면 택시를 타고 가고, 돈이 없으면 걸어간다.’


 money = True         #계층 주의! ':'주의! 
if money:
     print("택시를 타고 가라")
else:
     print("걸어 가라")





# 비교연산자
x = 3
y = 2
x>y


x<y


x != y


x == y


#‘3000원 이상 돈이 있으면 택시를 타고 가고, 돈이 없으면 걸어간다.’

money = 2500
if money >= 3000 :
    print ('택시를 타고 가라')
else:
    print ('걸어가라')


# and, or, not
#‘3000원 이상 돈이 있거나 카드가 있다면 택시를 타고 가고, 아니면 걸어가라.’

money = 2500
card = True
if money >= 3000 or card :
    print ('택시를 타고 가라')
else:
    print ('걸어가라')





1 in [1,2,3]


1 not in [1,2,3]


'a' in ('a','b','c')


'j' not in 'python'


#주머니에 돈이 있으면 택시를 타고 가고, 없으면 걸어가라

pocket = ['money', 'cellphone', 'key']
if 'money' in pocket:
    print('택시타')
else:
    print('걸어가')


#주머니에 돈이 있으면 가만히 있고, 없으면 걸어가라

pocket = ['money', 'cellphone', 'key']
if 'money' in pocket:
    pass
else:
    print('걸어가')





p = ['phone' , 'key', 'card']

if 'money' in p:
    print('택시')
else:
    if 'card' in p:
        print ('택시')
    else:
        print('걸어가')


p = ['phone' , 'key']
card = False
if 'money' in p:
    print('택시')
elif card:      #elif 개수제약없어
    print ('택시')
else:
    print('걸어가')





score = 88
if score >= 60:
    message = "success"
    print(message)
else:
    message = "failure"
    print(message)


message = "success" if score >= 60 else "failure"
print(message)





treeHit = 0
while treeHit < 10:
    treeHit = treeHit +1
    print("나무를 %d번 찍었습니다." % treeHit)
    if treeHit == 10:
        print("나무 넘어갑니다.")





prompt = """
1. Add
2. Del
3. List
4. Quit

Enter number: """


print(prompt)


number = 0
while number != 4:
     print(prompt)
     number = int(input())





coffee = 10
money = 300
while money:
     print("돈을 받았으니 커피를 줍니다.")
     coffee = coffee -1
     print(f'남은 커피의 양은 {coffee}개입니다.')
     if coffee == 0:
         print("커피가 다 떨어졌습니다. 판매를 중지합니다.")
         break


coffee = 10
money = 300

while True :
    money = int(input("돈을 주세요"))
    if money == 300:
        print('돈을 받았으니 커피를 줍니다.')
        coffee = coffee -1
    elif money > 300:
        print(f"거스름돈 {money -300}를 주고 커피를 줍니다.")
        coffee = coffee - 1
    elif money < 300:
        print('돈을 더 주세요')
        coffee = coffee
    print(f'남은 커피의 양은 {coffee}입니다.')
    if coffee == 0:
        print('커피가 다 떨어져서 판매를 중지합니다.')
        break





coffee = 5

while True:
    money = int(input('돈을 넣어주세요'))

    if money == 300:
        print('300원을 받았습니다. 커피를 줍니다.')
        coffee = coffee -1
        print(f'남은 커피수량은 {coffee}입니다')
    elif money > 300:
        print(f'거스름돈 {money-300}원을 주고 커피를 줍니다.')
        coffee = coffee -1
        print(f'남은 커피수량은 {coffee}입니다')
    else: # money<300 
        print('돈이 부족합니다.')

    if coffee == 0:
        print('커피가 다 떨어졌습니다')
        break








#전형적인 for 문
test_list = ['one', 'two', 'three'] 
for i in test_list: 
     print(i)


a = [(1,2),(3,4),(5,6)]
for (first,last) in a:
    print(first + last)





marks = [90, 25, 67, 45, 80]   # 학생들의 시험 점수 리스트

number = 0   # 학생에게 붙여 줄 번호
for mark in marks:   # 90, 25, 67, 45, 80을 순서대로 mark에 대입
    number = number +1 
    if mark >= 60: 
        print("%d번 학생은 합격입니다." % number)
    else: 
        print("%d번 학생은 불합격입니다." % number)





marks = [90, 25, 67, 45, 80]
number = 0
for mark in marks :
    number = number +1
    if mark < 60:
        continue
    print ('%d번학생 축하합니다! 합격!' %number)


#contine는 처음으로 다시 돌아온다. 하위코드 실행 안됨
#pass 아무런 일도 하지 않게 설정 

















range(10)
for i in range(0,9):
    print(i)


sum = 0 #별도 저장소 (temp변수)
for i in range(1,11):
    sum += i    # += 증감 연산자 a = a+1 
    print(sum)





marks = [90, 25, 67, 45, 80]
for number in range(len(marks)):  #= range(5) 0 1 2 3 4 
    if marks[number] < 60:  #marks [인덱스번호] 
        continue
    print("%d번 학생 축하합니다. 합격입니다." % (number+1))


marks = [90, 30, 94, 40, 78]
for i in range(len(marks)):
    if marks[i] < 60:
        continue
    print ('%d 번 학생 축합격' % (i+1))





for i in range (2,10):
    print('='*20)
    print('x=',i)
    print('='*20)
    for j in range (1,10):
        print(f'{i}*{j}={i*j}')





a = [1,2,3,4]
result = []
for num in a:
    result.append(num*3)
print(result)


a = [1,2,3,4]
result = [num * 3 for num in a if num % 2 == 0]
print(result)


result = [x*y for x in range(2,10)
              for y in range(1,10)]
print(result)


#시간 측정을 위한 코드, 2배넘게 차이남
import time

start = time.time() 
numbers = [i for i in range(1000000)] 
end = time.time() 
print('List Comprehension Time:', end-start)

start = time.time() 
numbers = []
for i in range(1000000):
    numbers.append(i)
end = time.time() 
print('For loop Time:', end-start)
























