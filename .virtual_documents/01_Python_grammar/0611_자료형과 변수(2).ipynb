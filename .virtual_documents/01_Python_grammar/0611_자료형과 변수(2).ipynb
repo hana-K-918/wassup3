


# 문자 개수 세기 count
a = 'hobby'
a.count('b')


#위치 알려주기 find 
a= "Python is the best choice"
a.find ('b')      #인덱스 반환


a.find('k')   #find= 없는 데이터는 -1로 반환 (유보) 시스템적으로 critical하지 않다면 ! 


# 위치를 알려주기 index
a = 'Life is too short'
a.index ('t')


a.index('k')    #index= 없는 데이터는 오류 반환


#문자열 삽입 join
a = 'abcd'
a


','.join(a)


a = ['a', 'b', 'c', 'd']
':'.join(a)





a = 'hi'
a.upper()


a


a = 'HI'
a.lower()


print?


help(print())


# 왼쪽 공백 지우기 lstrip
a ="    hi    "
a. lstrip()


a. rstrip()


a.strip()





a = 'life is too short'
a.replace?


a.replace ('life','Your leg')


a    #원본데이터는 바뀌지않음, 변경된 값을 리턴할 뿐


a = a.replace ('life','Your leg')    #덮어쓰면 됨
a





a. split()


b = 'a : b : c : d'
b. split(sep=':')





a = 1
a, type(a)   #type=내장함수


b = 'hello'
b, type(b)


c = [1,2,3]
c, type(c)


id(a)    #id = 메모리주소아이디


#복사

a = [1,2,3]
b = a   #메모리를 줄이기 위한 참조! b에게 새로 할당되는게 아닌 a가 어디있다고 알려주는 것 
id(a), id(b)      


a is b


a == b


a = [1,2,3]
b = a  
id(a), id(b)    


a[1] = 4
a


b


a = [1,2,3]
b = a [:]
id(a), id(b)   





from copy import copy


a = [1,2,3]     #깊은 복사(값을 복사하고 새로운 메모리를 할당)
b = copy(a)
id (a), id(b)


a,b


b is a  # 변수 그 자체를 비


b == a  # 값을 비교





a = 'python'
b = 'life'
a,b


a,b = ('python','life')
a,b


[a,b] = ['python','life']
a


a=3
b=5
a,b


a,b = b,a 
a,b





#리스트 = [요소,요소,요소,요소] mutable, 다양한 요소 
odd = [1,3,5,7,9]               #cf. 문자열(str) = immutable, 1요소


type(odd)


a=[]
b=[1,2,3]
c=['Life', 'is', 'too', 'short']
d=[1,2, 'life', 'is']
e=[1,2, ['life', 'is']]
print(a, type(a))
print(b, type(b))
print(c, type(c))
print(d, type(d))
print(e, type(e))





#인덱스가 존재하면 번호를 부여받고 추출가능 


a = [1,2,3]
a


a[0]


a[0]+a[2]


a = [1,2,3,['a','b','c']]
len(a)  #[a,b,c]는 한개!


a[3]


a[3][1]  #인덱싱에 인덱싱 -> 파고들어가기! 


# 삼중 리스트 인덱싱
a = [1,2, ['a','b', ['Life','is']]]
    #0 1  2
           #0 1 2
                     #0 1 
a[2][2][0]





a = [1,2,3,4,5]
a[2:4]


a[::2]  #step


a[1::2] #1부터 시작 2씩 끝까지





a = [1,2,3, ['a', 'b', 'c'], 4,5]
a[2:5]


a[3][:-1]





a = [1,2,3]
del a[1]  #원본에 반영됨!!!  


a


a = [1,2,3,4,5]
del a[2:]
a





#리스트 요소 추가 append  (맨뒤에 추가)
a = [1,2,3]
a.append(4)
a


# 리스트 정렬 sort
a= [1,3,5,2,4]
a. sort()
a


a. sort(reverse = True)


a


#리스트 뒤집기 reverse
a = ['a', 'b', 'c', 'e']
a.reverse()
a


# 인덱스 반환 index
a= [1,2,3]
a.index (3)


a.index (0)





a.sort?


# 리스트 요소 삽입 insert (위치지정가능)
a = [1,2,3]
a.insert(0,4)
a


#remove 
a= [1,2,3,1,2,3]
a.remove(3)  #가장 처음 만나는 요소(3) 삭제
a


# pop
a =[1,2,3]
a.pop()


a


b.pop?


# count
a = [1,2,3,1]
a.count(1)


#extend         #iterable한 (반복가능한) 개체 추가 가능
a = [1,2,3]
a. extend([4,5])
a


b =[6,7]
a.extend(b)
a





a =1
a= a+2
a


a +=3
a


a = [1,2,3]
a += [4,5]
a


a + = 9


a += [9]
a





t1 = ()
t2 = (1, )  #뒤가 없어도
t3 = (1,2,3)
t4 = 1,2,3 #괄호가 없어도 
t5 = ('a','b',('ab','cd'))
print(t1, type(t1))
print(t2, type(t2))
print(t3, type(t3))
print(t4, type(t4))
print(t5, type(t5))


t1, t2


type((1)), type((1,)) #똑같이 괄호로 있어도 안에 요소가 1개 이상(1,)이어야 튜플


t1 = (1,2,'a','b')
del t1[0]


t1[0] = 'c'





#인덱싱
t1 = (1,2,'a','b')
t1[1:]





#튜플더하기    -> 여러 자료형이 들어갈수있어서 연산안됨
t1 = (1,2,'a','b')
t2 = (3,4)
t3= t1+t2
t3


t3 = t2*3
t3





len(t1)












