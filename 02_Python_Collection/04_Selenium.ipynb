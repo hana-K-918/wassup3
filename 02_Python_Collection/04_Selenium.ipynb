{
 "cells": [
  {
   "cell_type": "markdown",
   "id": "5342f68a-e62b-4f50-bedd-7c605c226e9e",
   "metadata": {},
   "source": [
    "# Selenium 사용하기\n",
    "크롬 115이상 버전부터 부터 드라이버 설치 불필요\r\n",
    "셀레니움4 부터 문법 변경\r\n",
    "https://www.selenium.dev/documentation/\r\n",
    "셀레니움으로는 스크래핑하면 너무 느리므로, 동적 웹페이지 접속 및 이벤트 발생 역할 만 하고, 파싱은 BS4를 쓰는게 좋다."
   ]
  },
  {
   "cell_type": "code",
   "execution_count": 2,
   "id": "979f796d-e85f-4d7c-98d8-a8a1944bac3c",
   "metadata": {
    "collapsed": true,
    "jupyter": {
     "outputs_hidden": true
    }
   },
   "outputs": [
    {
     "name": "stdout",
     "output_type": "stream",
     "text": [
      "Collecting selenium\n",
      "  Downloading selenium-4.22.0-py3-none-any.whl.metadata (7.0 kB)\n",
      "Requirement already satisfied: urllib3<3,>=1.26 in c:\\users\\yoosj\\anaconda3\\lib\\site-packages (from urllib3[socks]<3,>=1.26->selenium) (2.0.7)\n",
      "Collecting trio~=0.17 (from selenium)\n",
      "  Downloading trio-0.25.1-py3-none-any.whl.metadata (8.7 kB)\n",
      "Collecting trio-websocket~=0.9 (from selenium)\n",
      "  Downloading trio_websocket-0.11.1-py3-none-any.whl.metadata (4.7 kB)\n",
      "Requirement already satisfied: certifi>=2021.10.8 in c:\\users\\yoosj\\anaconda3\\lib\\site-packages (from selenium) (2024.2.2)\n",
      "Requirement already satisfied: typing_extensions>=4.9.0 in c:\\users\\yoosj\\anaconda3\\lib\\site-packages (from selenium) (4.9.0)\n",
      "Collecting websocket-client>=1.8.0 (from selenium)\n",
      "  Downloading websocket_client-1.8.0-py3-none-any.whl.metadata (8.0 kB)\n",
      "Collecting attrs>=23.2.0 (from trio~=0.17->selenium)\n",
      "  Downloading attrs-23.2.0-py3-none-any.whl.metadata (9.5 kB)\n",
      "Requirement already satisfied: sortedcontainers in c:\\users\\yoosj\\anaconda3\\lib\\site-packages (from trio~=0.17->selenium) (2.4.0)\n",
      "Requirement already satisfied: idna in c:\\users\\yoosj\\anaconda3\\lib\\site-packages (from trio~=0.17->selenium) (3.4)\n",
      "Collecting outcome (from trio~=0.17->selenium)\n",
      "  Downloading outcome-1.3.0.post0-py2.py3-none-any.whl.metadata (2.6 kB)\n",
      "Requirement already satisfied: sniffio>=1.3.0 in c:\\users\\yoosj\\anaconda3\\lib\\site-packages (from trio~=0.17->selenium) (1.3.0)\n",
      "Requirement already satisfied: cffi>=1.14 in c:\\users\\yoosj\\anaconda3\\lib\\site-packages (from trio~=0.17->selenium) (1.16.0)\n",
      "Collecting wsproto>=0.14 (from trio-websocket~=0.9->selenium)\n",
      "  Downloading wsproto-1.2.0-py3-none-any.whl.metadata (5.6 kB)\n",
      "Requirement already satisfied: pysocks!=1.5.7,<2.0,>=1.5.6 in c:\\users\\yoosj\\anaconda3\\lib\\site-packages (from urllib3[socks]<3,>=1.26->selenium) (1.7.1)\n",
      "Requirement already satisfied: pycparser in c:\\users\\yoosj\\anaconda3\\lib\\site-packages (from cffi>=1.14->trio~=0.17->selenium) (2.21)\n",
      "Collecting h11<1,>=0.9.0 (from wsproto>=0.14->trio-websocket~=0.9->selenium)\n",
      "  Downloading h11-0.14.0-py3-none-any.whl.metadata (8.2 kB)\n",
      "Downloading selenium-4.22.0-py3-none-any.whl (9.4 MB)\n",
      "   ---------------------------------------- 0.0/9.4 MB ? eta -:--:--\n",
      "   - -------------------------------------- 0.4/9.4 MB 13.9 MB/s eta 0:00:01\n",
      "   ---- ----------------------------------- 1.1/9.4 MB 14.0 MB/s eta 0:00:01\n",
      "   ------- -------------------------------- 1.8/9.4 MB 14.1 MB/s eta 0:00:01\n",
      "   ------------ --------------------------- 2.9/9.4 MB 16.6 MB/s eta 0:00:01\n",
      "   ------------- -------------------------- 3.1/9.4 MB 16.7 MB/s eta 0:00:01\n",
      "   ------------- -------------------------- 3.1/9.4 MB 16.7 MB/s eta 0:00:01\n",
      "   ----------------- ---------------------- 4.0/9.4 MB 12.8 MB/s eta 0:00:01\n",
      "   --------------------- ------------------ 5.1/9.4 MB 14.2 MB/s eta 0:00:01\n",
      "   -------------------------- ------------- 6.3/9.4 MB 16.1 MB/s eta 0:00:01\n",
      "   -------------------------- ------------- 6.3/9.4 MB 16.1 MB/s eta 0:00:01\n",
      "   --------------------------- ------------ 6.5/9.4 MB 13.1 MB/s eta 0:00:01\n",
      "   ------------------------------- -------- 7.3/9.4 MB 14.2 MB/s eta 0:00:01\n",
      "   ------------------------------------ --- 8.6/9.4 MB 14.8 MB/s eta 0:00:01\n",
      "   ---------------------------------------- 9.4/9.4 MB 15.1 MB/s eta 0:00:00\n",
      "Downloading trio-0.25.1-py3-none-any.whl (467 kB)\n",
      "   ---------------------------------------- 0.0/467.7 kB ? eta -:--:--\n",
      "   --------------------------------------- 467.7/467.7 kB 30.5 MB/s eta 0:00:00\n",
      "Downloading trio_websocket-0.11.1-py3-none-any.whl (17 kB)\n",
      "Downloading websocket_client-1.8.0-py3-none-any.whl (58 kB)\n",
      "   ---------------------------------------- 0.0/58.8 kB ? eta -:--:--\n",
      "   ---------------------------------------- 58.8/58.8 kB ? eta 0:00:00\n",
      "Downloading attrs-23.2.0-py3-none-any.whl (60 kB)\n",
      "   ---------------------------------------- 0.0/60.8 kB ? eta -:--:--\n",
      "   ---------------------------------------- 60.8/60.8 kB 3.2 MB/s eta 0:00:00\n",
      "Downloading wsproto-1.2.0-py3-none-any.whl (24 kB)\n",
      "Downloading outcome-1.3.0.post0-py2.py3-none-any.whl (10 kB)\n",
      "Downloading h11-0.14.0-py3-none-any.whl (58 kB)\n",
      "   ---------------------------------------- 0.0/58.3 kB ? eta -:--:--\n",
      "   ---------------------------------------- 58.3/58.3 kB ? eta 0:00:00\n",
      "Installing collected packages: websocket-client, h11, attrs, wsproto, outcome, trio, trio-websocket, selenium\n",
      "  Attempting uninstall: websocket-client\n",
      "    Found existing installation: websocket-client 0.58.0\n",
      "    Uninstalling websocket-client-0.58.0:\n",
      "      Successfully uninstalled websocket-client-0.58.0\n",
      "  Attempting uninstall: attrs\n",
      "    Found existing installation: attrs 23.1.0\n",
      "    Uninstalling attrs-23.1.0:\n",
      "      Successfully uninstalled attrs-23.1.0\n",
      "Successfully installed attrs-23.2.0 h11-0.14.0 outcome-1.3.0.post0 selenium-4.22.0 trio-0.25.1 trio-websocket-0.11.1 websocket-client-1.8.0 wsproto-1.2.0\n"
     ]
    }
   ],
   "source": [
    "# 셀레니움 라이브러리 설치\n",
    "!pip install selenium"
   ]
  },
  {
   "cell_type": "code",
   "execution_count": 8,
   "id": "08660b08-c591-40f2-8339-43f453c9b645",
   "metadata": {},
   "outputs": [
    {
     "data": {
      "text/plain": [
       "<selenium.webdriver.chrome.options.Options at 0x262b1c79d90>"
      ]
     },
     "execution_count": 8,
     "metadata": {},
     "output_type": "execute_result"
    }
   ],
   "source": [
    "from selenium import webdriver\n",
    "from selenium.webdriver.common.by import By\n",
    "from selenium.webdriver.chrome.options import Options\n",
    "import time\n",
    "\n",
    "options = Options()\n",
    "options"
   ]
  },
  {
   "cell_type": "code",
   "execution_count": 9,
   "id": "129ed759-aa23-4db9-8e46-bd0a58a3b6ee",
   "metadata": {},
   "outputs": [],
   "source": [
    "#특정함수안에서  드라이버 생성시 함수종료될 때 브라우저 같이 종료되는 문제 대응\n",
    "options.add_experimental_option('detach',True)"
   ]
  },
  {
   "cell_type": "markdown",
   "id": "41ba220f-f0eb-4b95-9c37-272bc82f284c",
   "metadata": {},
   "source": [
    "## 브라우저 실행 및 페이지 접속"
   ]
  },
  {
   "cell_type": "code",
   "execution_count": 75,
   "id": "a383c89f-863d-497a-869b-93f924d391ce",
   "metadata": {},
   "outputs": [],
   "source": [
    "url = 'https://naver.com'\n",
    "driver = webdriver.Chrome(options=options)  #객체생성"
   ]
  },
  {
   "cell_type": "code",
   "execution_count": 76,
   "id": "fa47bbd3-7b69-4826-9abe-d86b299bd0e7",
   "metadata": {},
   "outputs": [],
   "source": [
    "driver.get(url) #실행\n",
    "time.sleep(2)"
   ]
  },
  {
   "cell_type": "markdown",
   "id": "ef79b5c3-46d8-422c-86c6-e6578a31ed03",
   "metadata": {},
   "source": [
    "## 상호작용"
   ]
  },
  {
   "cell_type": "code",
   "execution_count": 18,
   "id": "c8ee5343-3244-46e5-8510-ddd3ee61bfc2",
   "metadata": {},
   "outputs": [],
   "source": [
    "driver.forward()"
   ]
  },
  {
   "cell_type": "code",
   "execution_count": 19,
   "id": "0dda5748-5d66-40cc-b94f-9fbccab221d4",
   "metadata": {},
   "outputs": [],
   "source": [
    "driver.back()"
   ]
  },
  {
   "cell_type": "code",
   "execution_count": 20,
   "id": "d70e8e6b-4321-428e-aea2-af1492ddda85",
   "metadata": {},
   "outputs": [],
   "source": [
    "driver.refresh()"
   ]
  },
  {
   "cell_type": "markdown",
   "id": "5499bc29-1b85-4863-85f0-daba0576c97a",
   "metadata": {},
   "source": [
    "## 페이지 정보 가져오기"
   ]
  },
  {
   "cell_type": "code",
   "execution_count": 21,
   "id": "46af51cd-55c1-4742-b1e9-068a3f2814cb",
   "metadata": {},
   "outputs": [
    {
     "name": "stdout",
     "output_type": "stream",
     "text": [
      "NAVER https://www.naver.com/ B43AB741B480C062F539066B7BC02A0E\n"
     ]
    }
   ],
   "source": [
    "title = driver.title #탭 이름\n",
    "url = driver.current_url\n",
    "handle = driver.current_window_handle #윈도우창의 ID -> 동시에 여러개를 핸들링할수있음\n",
    "print(title, url, handle)"
   ]
  },
  {
   "cell_type": "markdown",
   "id": "a8110382-adc1-4fd1-b199-d54c7d6ec519",
   "metadata": {},
   "source": [
    "## HTML 요소 찾기\n",
    "네이버 검색창을 핸드링 해보자! \n",
    "\n",
    "    <input id=\"query\" name=\"query\" type=\"search\" title=\"검색어를 입력해 주세요.\" placeholder=\"검색어를 입력해 주세요.\" maxlength=\"255\" autocomplete=\"off\" class=\"search_input\" data-atcmp-element=\"\">"
   ]
  },
  {
   "cell_type": "code",
   "execution_count": 22,
   "id": "9db81707-902b-4d7e-88de-1a2bb145e567",
   "metadata": {},
   "outputs": [
    {
     "data": {
      "text/plain": [
       "\u001b[1;31mSignature:\u001b[0m \u001b[0mdriver\u001b[0m\u001b[1;33m.\u001b[0m\u001b[0mfind_element\u001b[0m\u001b[1;33m(\u001b[0m\u001b[0mby\u001b[0m\u001b[1;33m=\u001b[0m\u001b[1;34m'id'\u001b[0m\u001b[1;33m,\u001b[0m \u001b[0mvalue\u001b[0m\u001b[1;33m:\u001b[0m \u001b[0mOptional\u001b[0m\u001b[1;33m[\u001b[0m\u001b[0mstr\u001b[0m\u001b[1;33m]\u001b[0m \u001b[1;33m=\u001b[0m \u001b[1;32mNone\u001b[0m\u001b[1;33m)\u001b[0m \u001b[1;33m->\u001b[0m \u001b[0mselenium\u001b[0m\u001b[1;33m.\u001b[0m\u001b[0mwebdriver\u001b[0m\u001b[1;33m.\u001b[0m\u001b[0mremote\u001b[0m\u001b[1;33m.\u001b[0m\u001b[0mwebelement\u001b[0m\u001b[1;33m.\u001b[0m\u001b[0mWebElement\u001b[0m\u001b[1;33m\u001b[0m\u001b[1;33m\u001b[0m\u001b[0m\n",
       "\u001b[1;31mDocstring:\u001b[0m\n",
       "Find an element given a By strategy and locator.\n",
       "\n",
       ":Usage:\n",
       "    ::\n",
       "\n",
       "        element = driver.find_element(By.ID, 'foo')\n",
       "\n",
       ":rtype: WebElement\n",
       "\u001b[1;31mFile:\u001b[0m      c:\\users\\yoosj\\anaconda3\\lib\\site-packages\\selenium\\webdriver\\remote\\webdriver.py\n",
       "\u001b[1;31mType:\u001b[0m      method"
      ]
     },
     "metadata": {},
     "output_type": "display_data"
    }
   ],
   "source": [
    "driver.find_element?"
   ]
  },
  {
   "cell_type": "code",
   "execution_count": 23,
   "id": "3542ebed-9374-409b-97f3-36d85eb5373c",
   "metadata": {},
   "outputs": [
    {
     "data": {
      "text/plain": [
       "<selenium.webdriver.remote.webelement.WebElement (session=\"d64a61b9089a763a63243311bf676f77\", element=\"f.B43AB741B480C062F539066B7BC02A0E.d.F09BB29CD7C9160F6ED1F9E99E0F6180.e.361\")>"
      ]
     },
     "execution_count": 23,
     "metadata": {},
     "output_type": "execute_result"
    }
   ],
   "source": [
    "driver.find_element(By.ID, 'query')"
   ]
  },
  {
   "cell_type": "code",
   "execution_count": 72,
   "id": "44c1d501-2da9-466c-b32b-3b4c4aa90c88",
   "metadata": {},
   "outputs": [],
   "source": [
    "#키입력\n",
    "driver.find_element(By.ID, 'query').send_keys('뉴진스')"
   ]
  },
  {
   "cell_type": "code",
   "execution_count": 25,
   "id": "1f07f40a-a58b-4827-996a-586e8afea22d",
   "metadata": {},
   "outputs": [],
   "source": [
    "driver.find_element(By.CLASS_NAME, 'search_input').send_keys('블랙핑크')"
   ]
  },
  {
   "cell_type": "code",
   "execution_count": 26,
   "id": "ef510318-c3ec-45db-b942-61ec9f10c416",
   "metadata": {},
   "outputs": [],
   "source": [
    "driver.find_element(By.NAME, 'query').send_keys('르세라핌')"
   ]
  },
  {
   "cell_type": "code",
   "execution_count": 27,
   "id": "8c5b11bc-dc50-4ef0-8a3d-5774812b79b9",
   "metadata": {},
   "outputs": [],
   "source": [
    "driver.find_element(By.CSS_SELECTOR, '#query').send_keys('에스파')"
   ]
  },
  {
   "cell_type": "code",
   "execution_count": 28,
   "id": "9f3e9cb6-4c7a-4815-9d63-ca075246ab7b",
   "metadata": {},
   "outputs": [],
   "source": [
    "driver.find_element(By.CSS_SELECTOR, '.search_input').send_keys('세븐틴')"
   ]
  },
  {
   "cell_type": "code",
   "execution_count": 29,
   "id": "7045331e-4c6d-4892-8be2-f3b4796d67ed",
   "metadata": {},
   "outputs": [],
   "source": [
    "driver.find_element(By.CSS_SELECTOR, '[title=\"검색어를 입력해 주세요.\"]').send_keys('트와이스')"
   ]
  },
  {
   "cell_type": "code",
   "execution_count": 74,
   "id": "b41490ca-fc80-4f4b-881c-d6cfa1c46542",
   "metadata": {},
   "outputs": [],
   "source": [
    "driver.find_element(By.XPATH, '//*[@id=\"query\"]').send_keys('BTS')"
   ]
  },
  {
   "cell_type": "markdown",
   "id": "f619761f-63eb-4b20-ab48-dd75c31baf52",
   "metadata": {},
   "source": [
    "## Click\n",
    "네이버 쇼핑 메뉴를 클릭해보자."
   ]
  },
  {
   "cell_type": "code",
   "execution_count": 77,
   "id": "7486dbbb-a712-4fdd-8e24-c172525c82da",
   "metadata": {},
   "outputs": [
    {
     "data": {
      "text/plain": [
       "<selenium.webdriver.remote.webelement.WebElement (session=\"eddd3ef41b0fef913ad1cabdb983050d\", element=\"f.55AA7EADC6AE4D6D2C59F74010D940A0.d.27DAE41D95CC6CE4E48739EA61DD23A4.e.102\")>"
      ]
     },
     "execution_count": 77,
     "metadata": {},
     "output_type": "execute_result"
    }
   ],
   "source": [
    "driver.find_element(By.LINK_TEXT, '쇼핑') #link_text -> 해당텍스트가 있는 링크를 찾아줘"
   ]
  },
  {
   "cell_type": "code",
   "execution_count": 78,
   "id": "052705de-2700-4fd7-85b7-4b5a18e5095e",
   "metadata": {},
   "outputs": [],
   "source": [
    "driver.find_element(By.LINK_TEXT, '쇼핑').click()"
   ]
  },
  {
   "cell_type": "code",
   "execution_count": 80,
   "id": "3749ce19-ead0-4794-81f1-f8380c5c6dcd",
   "metadata": {},
   "outputs": [],
   "source": [
    "#일부매칭\n",
    "driver.find_element(By.PARTIAL_LINK_TEXT, '증').click()"
   ]
  },
  {
   "cell_type": "code",
   "execution_count": 35,
   "id": "60f97e89-4d95-47d2-a950-084e2bd333d3",
   "metadata": {},
   "outputs": [
    {
     "data": {
      "text/plain": [
       "<selenium.webdriver.remote.webelement.WebElement (session=\"d64a61b9089a763a63243311bf676f77\", element=\"f.B43AB741B480C062F539066B7BC02A0E.d.F09BB29CD7C9160F6ED1F9E99E0F6180.e.915\")>"
      ]
     },
     "execution_count": 35,
     "metadata": {},
     "output_type": "execute_result"
    }
   ],
   "source": [
    "# 태그로 찾기\n",
    "# 태그는 요소가 너무 많아서 정확하게 대상을 찾기가 힘듦\n",
    "driver.find_element(By.TAG_NAME, 'div')"
   ]
  },
  {
   "cell_type": "code",
   "execution_count": null,
   "id": "d9904ed8-578c-4e4e-b785-9c3c0bae81ca",
   "metadata": {},
   "outputs": [],
   "source": [
    "# 여러개의 요소를 찾을 때 \n",
    "# 관계지향 css select"
   ]
  },
  {
   "cell_type": "code",
   "execution_count": 79,
   "id": "b025870e-ccef-491e-84f2-e31eecffaf6f",
   "metadata": {},
   "outputs": [
    {
     "data": {
      "text/plain": [
       "[<selenium.webdriver.remote.webelement.WebElement (session=\"eddd3ef41b0fef913ad1cabdb983050d\", element=\"f.55AA7EADC6AE4D6D2C59F74010D940A0.d.27DAE41D95CC6CE4E48739EA61DD23A4.e.87\")>,\n",
       " <selenium.webdriver.remote.webelement.WebElement (session=\"eddd3ef41b0fef913ad1cabdb983050d\", element=\"f.55AA7EADC6AE4D6D2C59F74010D940A0.d.27DAE41D95CC6CE4E48739EA61DD23A4.e.92\")>,\n",
       " <selenium.webdriver.remote.webelement.WebElement (session=\"eddd3ef41b0fef913ad1cabdb983050d\", element=\"f.55AA7EADC6AE4D6D2C59F74010D940A0.d.27DAE41D95CC6CE4E48739EA61DD23A4.e.97\")>,\n",
       " <selenium.webdriver.remote.webelement.WebElement (session=\"eddd3ef41b0fef913ad1cabdb983050d\", element=\"f.55AA7EADC6AE4D6D2C59F74010D940A0.d.27DAE41D95CC6CE4E48739EA61DD23A4.e.102\")>,\n",
       " <selenium.webdriver.remote.webelement.WebElement (session=\"eddd3ef41b0fef913ad1cabdb983050d\", element=\"f.55AA7EADC6AE4D6D2C59F74010D940A0.d.27DAE41D95CC6CE4E48739EA61DD23A4.e.107\")>,\n",
       " <selenium.webdriver.remote.webelement.WebElement (session=\"eddd3ef41b0fef913ad1cabdb983050d\", element=\"f.55AA7EADC6AE4D6D2C59F74010D940A0.d.27DAE41D95CC6CE4E48739EA61DD23A4.e.112\")>,\n",
       " <selenium.webdriver.remote.webelement.WebElement (session=\"eddd3ef41b0fef913ad1cabdb983050d\", element=\"f.55AA7EADC6AE4D6D2C59F74010D940A0.d.27DAE41D95CC6CE4E48739EA61DD23A4.e.117\")>,\n",
       " <selenium.webdriver.remote.webelement.WebElement (session=\"eddd3ef41b0fef913ad1cabdb983050d\", element=\"f.55AA7EADC6AE4D6D2C59F74010D940A0.d.27DAE41D95CC6CE4E48739EA61DD23A4.e.122\")>,\n",
       " <selenium.webdriver.remote.webelement.WebElement (session=\"eddd3ef41b0fef913ad1cabdb983050d\", element=\"f.55AA7EADC6AE4D6D2C59F74010D940A0.d.27DAE41D95CC6CE4E48739EA61DD23A4.e.127\")>,\n",
       " <selenium.webdriver.remote.webelement.WebElement (session=\"eddd3ef41b0fef913ad1cabdb983050d\", element=\"f.55AA7EADC6AE4D6D2C59F74010D940A0.d.27DAE41D95CC6CE4E48739EA61DD23A4.e.132\")>,\n",
       " <selenium.webdriver.remote.webelement.WebElement (session=\"eddd3ef41b0fef913ad1cabdb983050d\", element=\"f.55AA7EADC6AE4D6D2C59F74010D940A0.d.27DAE41D95CC6CE4E48739EA61DD23A4.e.137\")>,\n",
       " <selenium.webdriver.remote.webelement.WebElement (session=\"eddd3ef41b0fef913ad1cabdb983050d\", element=\"f.55AA7EADC6AE4D6D2C59F74010D940A0.d.27DAE41D95CC6CE4E48739EA61DD23A4.e.142\")>]"
      ]
     },
     "execution_count": 79,
     "metadata": {},
     "output_type": "execute_result"
    }
   ],
   "source": [
    "driver.find_elements(By.CSS_SELECTOR, '.link_service')"
   ]
  },
  {
   "cell_type": "code",
   "execution_count": 81,
   "id": "7862c525-f972-45fd-a0dc-5ac2e7e390fd",
   "metadata": {
    "scrolled": true
   },
   "outputs": [
    {
     "data": {
      "text/plain": [
       "'https://mail.naver.com/'"
      ]
     },
     "execution_count": 81,
     "metadata": {},
     "output_type": "execute_result"
    }
   ],
   "source": [
    "#엘리먼트요소(태그요소)\n",
    "driver.find_elements(By.CSS_SELECTOR, '.link_service')[0].get_attribute('href')"
   ]
  },
  {
   "cell_type": "code",
   "execution_count": 83,
   "id": "7fad7f5e-8606-47b4-9d33-448560472b1b",
   "metadata": {},
   "outputs": [
    {
     "name": "stdout",
     "output_type": "stream",
     "text": [
      "https://mail.naver.com/\n",
      "\n",
      "https://cafe.naver.com/\n",
      "\n",
      "https://blog.naver.com/\n",
      "\n",
      "https://shopping.naver.com/home\n",
      "\n",
      "https://news.naver.com/\n",
      "\n",
      "https://finance.naver.com/\n",
      "\n",
      "https://land.naver.com/\n",
      "\n",
      "https://map.naver.com/\n",
      "\n",
      "https://comic.naver.com/\n",
      "\n",
      "https://chzzk.naver.com/\n",
      "\n",
      "https://www.naver.com/#\n",
      "\n",
      "https://siape.veta.naver.com/rd?rk=csNjD36e5T3sEJ0zHWeoeA&eltts=eAR6YKrHPhQD7SFgVf8hsA%3D%3D&elu=5BA297C9C3C09BC2A363AD20A2AF2280AA600BB0F1224856B1E3B0CD8C7D5F6341BB3F4A77A5F39CD5816E901BFB74C92B046500D36C473274A2DF28B9D9C604F0D8675FDAF22A996AAEFDEE92BA1FCD697E5F7ECC82BD74C279AA95D9F31FA9106C54B228F25590EF823CA4768D6219CE38D6604E0A5B1E37F2638BC6781F9C11558072D11F35C32974B5BB046BA45A07622F9BABB7473FC14AA7FD36BB50D4C307E017657B6DA136AEBAC7EC891C9F5A5055A972A333181061B1E2DFE2FFA222D84ADDACB9E6F9A16E1D652D3EB8C135B6437DC7CF883F1EC60C9651D1C4C8275A98C850A13EBB65F5FD32FB60BCB30C5AAF736F12400C4367DD0044542B197217E62475235BEA68AE097A170AD5A51C9BA44515B9413323BB5209DB9989423CBE869AF6166CD217D8BCE67BD4C347A770EFF33A787CD5B717D9E0272BB73CAC78F645B2BFA01A917F4F9D04227106B8DDBDF0198AA39CF0630EE44B85EA2214A5DCF9756E8174E98321FF3E1C85C21BE32BC7EF47224CE9A8B79B0B4B1628&tr=ndp\n",
      "\n"
     ]
    }
   ],
   "source": [
    "links = driver.find_elements(By.CSS_SELECTOR, '.link_service')\n",
    "for link in links:\n",
    "    print(link.get_attribute('href'))\n",
    "    print()"
   ]
  },
  {
   "cell_type": "code",
   "execution_count": 87,
   "id": "7f7b3679-713d-423b-983d-b48ba1658d43",
   "metadata": {},
   "outputs": [],
   "source": [
    "url = 'file:///C:/workspace/wassup3/02_Python_Collection/sample/signin.html'\n",
    "driver = webdriver.Chrome(options=options)\n",
    "driver.get(url)\n",
    "time.sleep(2)"
   ]
  },
  {
   "cell_type": "code",
   "execution_count": 61,
   "id": "28206957-a0b0-4674-8575-c4eaf1a4e7d8",
   "metadata": {},
   "outputs": [],
   "source": [
    "username = driver.find_element(By.NAME, \"username\")\n",
    "username.send_keys('korea')"
   ]
  },
  {
   "cell_type": "code",
   "execution_count": 62,
   "id": "ec01eb67-ba85-440f-8c45-2820fc6758c7",
   "metadata": {},
   "outputs": [],
   "source": [
    "password = driver.find_element(By.NAME, \"password\")\n",
    "password.send_keys('1234')"
   ]
  },
  {
   "cell_type": "code",
   "execution_count": 56,
   "id": "8caad3c9-d65d-4e1e-82fb-3218f13a486c",
   "metadata": {},
   "outputs": [],
   "source": [
    "login = driver.find_element(By.XPATH,'//*[@id=\"loginForm\"]/input[3]')\n",
    "login.click()"
   ]
  },
  {
   "cell_type": "code",
   "execution_count": 60,
   "id": "5f863e86-7a90-4811-8dd1-d9a228427b41",
   "metadata": {},
   "outputs": [],
   "source": [
    "driver.back()"
   ]
  },
  {
   "cell_type": "code",
   "execution_count": 59,
   "id": "ecd7fedd-c7f3-407f-a0a4-58e63262051c",
   "metadata": {},
   "outputs": [],
   "source": [
    "login = driver.find_element(By.CSS_SELECTOR, '[value=Login]')\n",
    "login.click()"
   ]
  },
  {
   "cell_type": "code",
   "execution_count": 63,
   "id": "06a7f6f3-95ee-4bb7-9212-ee4f6f5e8433",
   "metadata": {},
   "outputs": [],
   "source": [
    "username.clear()"
   ]
  },
  {
   "cell_type": "code",
   "execution_count": 64,
   "id": "21f0b475-0057-4d48-ab6e-ad7ffc3404aa",
   "metadata": {},
   "outputs": [],
   "source": [
    "password.clear()"
   ]
  },
  {
   "cell_type": "code",
   "execution_count": null,
   "id": "8e63d847-7d14-4048-adaf-f2082aeb5f94",
   "metadata": {},
   "outputs": [],
   "source": [
    "username = driver.find_element(By.NAME, \"username\")\n",
    "username.send_keys('korea')\n",
    "password = driver.find_element(By.NAME, \"password\")\n",
    "password.send_keys('1234')"
   ]
  },
  {
   "cell_type": "code",
   "execution_count": 65,
   "id": "f03ea7b5-1d8d-4d60-a17d-64a358dad41a",
   "metadata": {},
   "outputs": [],
   "source": [
    "username.submit()"
   ]
  },
  {
   "cell_type": "code",
   "execution_count": 66,
   "id": "28cc3bd8-5a83-4239-b474-39a043e86a3e",
   "metadata": {},
   "outputs": [],
   "source": [
    "driver.back()"
   ]
  },
  {
   "cell_type": "code",
   "execution_count": 67,
   "id": "65a48172-86f9-42cd-a2b8-905bd23f5819",
   "metadata": {},
   "outputs": [
    {
     "data": {
      "text/plain": [
       "'Are you sure you want to do this?'"
      ]
     },
     "execution_count": 67,
     "metadata": {},
     "output_type": "execute_result"
    }
   ],
   "source": [
    "driver.find_element(By.TAG_NAME, 'p').text"
   ]
  },
  {
   "cell_type": "code",
   "execution_count": 88,
   "id": "a7dffd9e-b688-4839-a6d3-5121e50da675",
   "metadata": {},
   "outputs": [
    {
     "data": {
      "text/plain": [
       "'<html><head></head><body>\\n        <h1> Sign In </h1>\\n        <form action=\"moved.html\" id=\"loginForm\">\\n            ID : <input name=\"username\" type=\"text\"> <br>\\n            Password : <input name=\"password\" type=\"password\"> <br>\\n\\n            <input name=\"continue\" type=\"submit\" value=\"Login\">\\n            <input name=\"continue\" type=\"button\" value=\"Clear\">\\n        \\n        </form>\\n\\n        <p>Are you sure you want to do this?</p>\\n        <a href=\"continue.html\">Continue</a>\\n        <a href=\"cancel.html\">Cancel</a>\\n\\n        <h1>Welcome</h1>\\n        <p>Site content goes here.</p>\\n        <p class=\"content\">Site content goes here.</p>\\n    \\n</body></html>'"
      ]
     },
     "execution_count": 88,
     "metadata": {},
     "output_type": "execute_result"
    }
   ],
   "source": [
    "# html 소스 추출하기\n",
    "driver.page_source"
   ]
  },
  {
   "cell_type": "code",
   "execution_count": 89,
   "id": "d034e374-f680-41b6-ab46-43ffe1d7feaf",
   "metadata": {},
   "outputs": [],
   "source": [
    "driver.close()"
   ]
  },
  {
   "cell_type": "code",
   "execution_count": null,
   "id": "b9ea4afe-0e3b-4db6-a6d0-bc95fb554a2e",
   "metadata": {},
   "outputs": [],
   "source": []
  }
 ],
 "metadata": {
  "kernelspec": {
   "display_name": "Python 3 (ipykernel)",
   "language": "python",
   "name": "python3"
  },
  "language_info": {
   "codemirror_mode": {
    "name": "ipython",
    "version": 3
   },
   "file_extension": ".py",
   "mimetype": "text/x-python",
   "name": "python",
   "nbconvert_exporter": "python",
   "pygments_lexer": "ipython3",
   "version": "3.11.7"
  }
 },
 "nbformat": 4,
 "nbformat_minor": 5
}
