{
 "cells": [
  {
   "cell_type": "markdown",
   "metadata": {
    "id": "LjNX3EXPFc7u"
   },
   "source": [
    "# Boston_Housing - Regression Analysis\n",
    "\n",
    "## Import TensorFlow"
   ]
  },
  {
   "cell_type": "code",
   "execution_count": 1,
   "metadata": {
    "executionInfo": {
     "elapsed": 4,
     "status": "ok",
     "timestamp": 1673407781124,
     "user": {
      "displayName": "이정구",
      "userId": "17400242557229223804"
     },
     "user_tz": -540
    },
    "id": "RbPgODpVzdHI"
   },
   "outputs": [],
   "source": [
    "import warnings\n",
    "warnings.filterwarnings('ignore')"
   ]
  },
  {
   "cell_type": "markdown",
   "metadata": {
    "id": "fD0O7UxBn_Rt"
   },
   "source": [
    "* import TensorFlow"
   ]
  },
  {
   "cell_type": "code",
   "execution_count": 2,
   "metadata": {
    "colab": {
     "base_uri": "https://localhost:8080/",
     "height": 35
    },
    "executionInfo": {
     "elapsed": 3073,
     "status": "ok",
     "timestamp": 1673407784194,
     "user": {
      "displayName": "이정구",
      "userId": "17400242557229223804"
     },
     "user_tz": -540
    },
    "id": "VV43aTWAnK_k",
    "outputId": "9b0c9286-1dad-4907-ce06-34ad68d97a98"
   },
   "outputs": [
    {
     "data": {
      "text/plain": [
       "'2.16.2'"
      ]
     },
     "execution_count": 2,
     "metadata": {},
     "output_type": "execute_result"
    }
   ],
   "source": [
    "import tensorflow as tf\n",
    "\n",
    "tf.__version__"
   ]
  },
  {
   "cell_type": "markdown",
   "metadata": {
    "id": "Mu8aBYFDoG3w"
   },
   "source": [
    "* GPU 설정 OFF"
   ]
  },
  {
   "cell_type": "code",
   "execution_count": 3,
   "metadata": {
    "colab": {
     "base_uri": "https://localhost:8080/",
     "height": 35
    },
    "executionInfo": {
     "elapsed": 32,
     "status": "ok",
     "timestamp": 1673407784197,
     "user": {
      "displayName": "이정구",
      "userId": "17400242557229223804"
     },
     "user_tz": -540
    },
    "id": "68YMkQDDC8Bc",
    "outputId": "3f158acf-aff6-4301-bd95-db78c99878de"
   },
   "outputs": [
    {
     "data": {
      "text/plain": [
       "''"
      ]
     },
     "execution_count": 3,
     "metadata": {},
     "output_type": "execute_result"
    }
   ],
   "source": [
    "tf.test.gpu_device_name()"
   ]
  },
  {
   "cell_type": "markdown",
   "metadata": {
    "id": "Y7LxqxkVoPiM"
   },
   "source": [
    "# I. Boston_Housing Data_Set Load & Review"
   ]
  },
  {
   "cell_type": "markdown",
   "metadata": {
    "id": "1bgjwkhWb1fv"
   },
   "source": [
    "> ## 1) Load Boston_Housing Data_Set"
   ]
  },
  {
   "cell_type": "code",
   "execution_count": 4,
   "metadata": {
    "colab": {
     "base_uri": "https://localhost:8080/"
    },
    "executionInfo": {
     "elapsed": 30,
     "status": "ok",
     "timestamp": 1673407784198,
     "user": {
      "displayName": "이정구",
      "userId": "17400242557229223804"
     },
     "user_tz": -540
    },
    "id": "3cOeJPbMF6TU",
    "outputId": "43e9557c-6f25-490b-ec37-f89924be8a57"
   },
   "outputs": [],
   "source": [
    "from tensorflow.keras.datasets import boston_housing\n",
    "\n",
    "(X_train, y_train), (X_test, y_test) =  boston_housing.load_data()"
   ]
  },
  {
   "cell_type": "markdown",
   "metadata": {
    "id": "vb2uj53VDbak"
   },
   "source": [
    "> ## 2) Data_Set Information"
   ]
  },
  {
   "cell_type": "markdown",
   "metadata": {
    "id": "rC5x6nb_3vU0"
   },
   "source": [
    "* <font color = 'blue'>'boston.csv' (506 * 14)</font>\n",
    "\n",
    " - CRIM: 범죄 발생률\n",
    " - ZN: 25,000평방피트를 초과하는 거주 지역의 비율\n",
    " -  INDUS: 비소매 상업 지역 비율\n",
    " - CHAS: 찰스강 인접 여부(강주변 1, 아니면 0)\n",
    " - NOX: 일산화질소 농도\n",
    " - RM: 거주 목적 방 개수\n",
    " - AGE: 1940년 이전 건축된 주택 비율\n",
    " - DIS: 보스턴 5대 고용지역까지 거리\n",
    " - RAD: 고속도로 접근성\n",
    " - TAX: 10,000달러당 재산세율\n",
    " - PTRATIO: 교사와 학생 수 비율\n",
    " - B: 흑인 거주 비율\n",
    " - LSTAT: 하위 계층 비율\n",
    " - <font color = 'red'>PRICE: 주택 가격 -> 'y'"
   ]
  },
  {
   "cell_type": "code",
   "execution_count": 5,
   "metadata": {
    "colab": {
     "base_uri": "https://localhost:8080/"
    },
    "executionInfo": {
     "elapsed": 12,
     "status": "ok",
     "timestamp": 1673407784667,
     "user": {
      "displayName": "이정구",
      "userId": "17400242557229223804"
     },
     "user_tz": -540
    },
    "id": "ZOevNA5fGGgh",
    "outputId": "35d2f18b-cfcf-45a3-ec72-19387855874d"
   },
   "outputs": [
    {
     "name": "stdout",
     "output_type": "stream",
     "text": [
      "(404, 13)\n",
      "(102, 13)\n",
      "[15.2 42.3 50.  21.1 17.7 18.5 11.3 15.6 15.6 14.4]\n",
      "[ 7.2 18.8 19.  27.  22.2 24.5 31.2 22.9 20.5 23.2]\n"
     ]
    }
   ],
   "source": [
    "print(X_train.shape)\n",
    "print(X_test.shape)\n",
    "\n",
    "print(y_train[:10])\n",
    "print(y_test[:10])"
   ]
  },
  {
   "cell_type": "markdown",
   "metadata": {
    "id": "zGnHSb2LDurN"
   },
   "source": [
    "# II. Data Preprocessing"
   ]
  },
  {
   "cell_type": "markdown",
   "metadata": {
    "id": "oc3ICJk2odtO"
   },
   "source": [
    "> ## 1) Standardization\n",
    "\n",
    " * train_data & test_data"
   ]
  },
  {
   "cell_type": "code",
   "execution_count": 6,
   "metadata": {
    "executionInfo": {
     "elapsed": 8,
     "status": "ok",
     "timestamp": 1673407784667,
     "user": {
      "displayName": "이정구",
      "userId": "17400242557229223804"
     },
     "user_tz": -540
    },
    "id": "JErY3qRBGde_"
   },
   "outputs": [],
   "source": [
    "mean = X_train.mean(axis = 0)\n",
    "std = X_train.std(axis = 0)\n",
    "\n",
    "X_train = X_train - mean\n",
    "X_train = X_train / std\n",
    "\n",
    "X_test = X_test - mean\n",
    "X_test = X_test / std"
   ]
  },
  {
   "cell_type": "markdown",
   "metadata": {
    "id": "nhjflelxQzKL"
   },
   "source": [
    "> ## 2) Train & Validation Split"
   ]
  },
  {
   "cell_type": "code",
   "execution_count": 7,
   "metadata": {
    "colab": {
     "base_uri": "https://localhost:8080/"
    },
    "executionInfo": {
     "elapsed": 417,
     "status": "ok",
     "timestamp": 1673407785076,
     "user": {
      "displayName": "이정구",
      "userId": "17400242557229223804"
     },
     "user_tz": -540
    },
    "id": "d3XGRBzkQ11v",
    "outputId": "4dfad450-4f3c-4ce7-b0fa-a4dd96a75614"
   },
   "outputs": [
    {
     "data": {
      "text/plain": [
       "((323, 13), (81, 13), (323,), (81,))"
      ]
     },
     "execution_count": 7,
     "metadata": {},
     "output_type": "execute_result"
    }
   ],
   "source": [
    "from sklearn.model_selection import train_test_split\n",
    "\n",
    "X_train, X_valid, y_train, y_valid = train_test_split(X_train, y_train, \n",
    "                                                      test_size = 0.2, \n",
    "                                                      random_state = 2045) \n",
    "\n",
    "X_train.shape, X_valid.shape, y_train.shape, y_valid.shape"
   ]
  },
  {
   "cell_type": "markdown",
   "metadata": {
    "id": "-jEAyLdtD9aa"
   },
   "source": [
    "# III. Boston_Housing Keras Modeling"
   ]
  },
  {
   "cell_type": "markdown",
   "metadata": {
    "id": "4Ws01hC2opeC"
   },
   "source": [
    "> ## 1) Model Define"
   ]
  },
  {
   "cell_type": "code",
   "execution_count": 8,
   "metadata": {
    "executionInfo": {
     "elapsed": 571,
     "status": "ok",
     "timestamp": 1673407785645,
     "user": {
      "displayName": "이정구",
      "userId": "17400242557229223804"
     },
     "user_tz": -540
    },
    "id": "VPyXS9kzGhEX"
   },
   "outputs": [],
   "source": [
    "from tensorflow.keras import models\n",
    "from tensorflow.keras import layers\n",
    "\n",
    "boston = models.Sequential(name = 'Regression')\n",
    "boston.add(layers.Dense(64, activation = 'relu', input_shape = (13,)))\n",
    "boston.add(layers.Dense(64, activation = 'relu'))\n",
    "boston.add(layers.Dense(1))"
   ]
  },
  {
   "cell_type": "code",
   "execution_count": 9,
   "metadata": {
    "colab": {
     "base_uri": "https://localhost:8080/"
    },
    "executionInfo": {
     "elapsed": 13,
     "status": "ok",
     "timestamp": 1673407785647,
     "user": {
      "displayName": "이정구",
      "userId": "17400242557229223804"
     },
     "user_tz": -540
    },
    "id": "fF4M7J5WKtw9",
    "outputId": "791ffc46-6c7a-4f03-e365-f96b8220dd9f"
   },
   "outputs": [
    {
     "data": {
      "text/html": [
       "<pre style=\"white-space:pre;overflow-x:auto;line-height:normal;font-family:Menlo,'DejaVu Sans Mono',consolas,'Courier New',monospace\"><span style=\"font-weight: bold\">Model: \"Regression\"</span>\n",
       "</pre>\n"
      ],
      "text/plain": [
       "\u001b[1mModel: \"Regression\"\u001b[0m\n"
      ]
     },
     "metadata": {},
     "output_type": "display_data"
    },
    {
     "data": {
      "text/html": [
       "<pre style=\"white-space:pre;overflow-x:auto;line-height:normal;font-family:Menlo,'DejaVu Sans Mono',consolas,'Courier New',monospace\">┏━━━━━━━━━━━━━━━━━━━━━━━━━━━━━━━━━━━━━━┳━━━━━━━━━━━━━━━━━━━━━━━━━━━━━┳━━━━━━━━━━━━━━━━━┓\n",
       "┃<span style=\"font-weight: bold\"> Layer (type)                         </span>┃<span style=\"font-weight: bold\"> Output Shape                </span>┃<span style=\"font-weight: bold\">         Param # </span>┃\n",
       "┡━━━━━━━━━━━━━━━━━━━━━━━━━━━━━━━━━━━━━━╇━━━━━━━━━━━━━━━━━━━━━━━━━━━━━╇━━━━━━━━━━━━━━━━━┩\n",
       "│ dense (<span style=\"color: #0087ff; text-decoration-color: #0087ff\">Dense</span>)                        │ (<span style=\"color: #00d7ff; text-decoration-color: #00d7ff\">None</span>, <span style=\"color: #00af00; text-decoration-color: #00af00\">64</span>)                  │             <span style=\"color: #00af00; text-decoration-color: #00af00\">896</span> │\n",
       "├──────────────────────────────────────┼─────────────────────────────┼─────────────────┤\n",
       "│ dense_1 (<span style=\"color: #0087ff; text-decoration-color: #0087ff\">Dense</span>)                      │ (<span style=\"color: #00d7ff; text-decoration-color: #00d7ff\">None</span>, <span style=\"color: #00af00; text-decoration-color: #00af00\">64</span>)                  │           <span style=\"color: #00af00; text-decoration-color: #00af00\">4,160</span> │\n",
       "├──────────────────────────────────────┼─────────────────────────────┼─────────────────┤\n",
       "│ dense_2 (<span style=\"color: #0087ff; text-decoration-color: #0087ff\">Dense</span>)                      │ (<span style=\"color: #00d7ff; text-decoration-color: #00d7ff\">None</span>, <span style=\"color: #00af00; text-decoration-color: #00af00\">1</span>)                   │              <span style=\"color: #00af00; text-decoration-color: #00af00\">65</span> │\n",
       "└──────────────────────────────────────┴─────────────────────────────┴─────────────────┘\n",
       "</pre>\n"
      ],
      "text/plain": [
       "┏━━━━━━━━━━━━━━━━━━━━━━━━━━━━━━━━━━━━━━┳━━━━━━━━━━━━━━━━━━━━━━━━━━━━━┳━━━━━━━━━━━━━━━━━┓\n",
       "┃\u001b[1m \u001b[0m\u001b[1mLayer (type)                        \u001b[0m\u001b[1m \u001b[0m┃\u001b[1m \u001b[0m\u001b[1mOutput Shape               \u001b[0m\u001b[1m \u001b[0m┃\u001b[1m \u001b[0m\u001b[1m        Param #\u001b[0m\u001b[1m \u001b[0m┃\n",
       "┡━━━━━━━━━━━━━━━━━━━━━━━━━━━━━━━━━━━━━━╇━━━━━━━━━━━━━━━━━━━━━━━━━━━━━╇━━━━━━━━━━━━━━━━━┩\n",
       "│ dense (\u001b[38;5;33mDense\u001b[0m)                        │ (\u001b[38;5;45mNone\u001b[0m, \u001b[38;5;34m64\u001b[0m)                  │             \u001b[38;5;34m896\u001b[0m │\n",
       "├──────────────────────────────────────┼─────────────────────────────┼─────────────────┤\n",
       "│ dense_1 (\u001b[38;5;33mDense\u001b[0m)                      │ (\u001b[38;5;45mNone\u001b[0m, \u001b[38;5;34m64\u001b[0m)                  │           \u001b[38;5;34m4,160\u001b[0m │\n",
       "├──────────────────────────────────────┼─────────────────────────────┼─────────────────┤\n",
       "│ dense_2 (\u001b[38;5;33mDense\u001b[0m)                      │ (\u001b[38;5;45mNone\u001b[0m, \u001b[38;5;34m1\u001b[0m)                   │              \u001b[38;5;34m65\u001b[0m │\n",
       "└──────────────────────────────────────┴─────────────────────────────┴─────────────────┘\n"
      ]
     },
     "metadata": {},
     "output_type": "display_data"
    },
    {
     "data": {
      "text/html": [
       "<pre style=\"white-space:pre;overflow-x:auto;line-height:normal;font-family:Menlo,'DejaVu Sans Mono',consolas,'Courier New',monospace\"><span style=\"font-weight: bold\"> Total params: </span><span style=\"color: #00af00; text-decoration-color: #00af00\">5,121</span> (20.00 KB)\n",
       "</pre>\n"
      ],
      "text/plain": [
       "\u001b[1m Total params: \u001b[0m\u001b[38;5;34m5,121\u001b[0m (20.00 KB)\n"
      ]
     },
     "metadata": {},
     "output_type": "display_data"
    },
    {
     "data": {
      "text/html": [
       "<pre style=\"white-space:pre;overflow-x:auto;line-height:normal;font-family:Menlo,'DejaVu Sans Mono',consolas,'Courier New',monospace\"><span style=\"font-weight: bold\"> Trainable params: </span><span style=\"color: #00af00; text-decoration-color: #00af00\">5,121</span> (20.00 KB)\n",
       "</pre>\n"
      ],
      "text/plain": [
       "\u001b[1m Trainable params: \u001b[0m\u001b[38;5;34m5,121\u001b[0m (20.00 KB)\n"
      ]
     },
     "metadata": {},
     "output_type": "display_data"
    },
    {
     "data": {
      "text/html": [
       "<pre style=\"white-space:pre;overflow-x:auto;line-height:normal;font-family:Menlo,'DejaVu Sans Mono',consolas,'Courier New',monospace\"><span style=\"font-weight: bold\"> Non-trainable params: </span><span style=\"color: #00af00; text-decoration-color: #00af00\">0</span> (0.00 B)\n",
       "</pre>\n"
      ],
      "text/plain": [
       "\u001b[1m Non-trainable params: \u001b[0m\u001b[38;5;34m0\u001b[0m (0.00 B)\n"
      ]
     },
     "metadata": {},
     "output_type": "display_data"
    }
   ],
   "source": [
    "boston.summary()"
   ]
  },
  {
   "cell_type": "markdown",
   "metadata": {
    "id": "NKzJ_OtWcIph"
   },
   "source": [
    "> ## 2) Model Compile"
   ]
  },
  {
   "cell_type": "code",
   "execution_count": 10,
   "metadata": {
    "executionInfo": {
     "elapsed": 6,
     "status": "ok",
     "timestamp": 1673407785647,
     "user": {
      "displayName": "이정구",
      "userId": "17400242557229223804"
     },
     "user_tz": -540
    },
    "id": "pzkR29BwEK6c"
   },
   "outputs": [],
   "source": [
    "boston.compile(loss = 'mse',\n",
    "               optimizer = 'rmsprop',\n",
    "               metrics = ['mae'])"
   ]
  },
  {
   "cell_type": "markdown",
   "metadata": {
    "id": "2c2K8UOFcMJw"
   },
   "source": [
    "> ## 3) Model Fit\n",
    "\n",
    " * 약 8분"
   ]
  },
  {
   "cell_type": "code",
   "execution_count": 11,
   "metadata": {
    "colab": {
     "base_uri": "https://localhost:8080/"
    },
    "executionInfo": {
     "elapsed": 338773,
     "status": "ok",
     "timestamp": 1673408124415,
     "user": {
      "displayName": "이정구",
      "userId": "17400242557229223804"
     },
     "user_tz": -540
    },
    "id": "5ZTtl9IZEwyu",
    "outputId": "9432de28-2560-46fd-c4fb-96ded208ba91",
    "scrolled": true
   },
   "outputs": [
    {
     "name": "stdout",
     "output_type": "stream",
     "text": [
      "Epoch 1/500\n",
      "\u001b[1m323/323\u001b[0m \u001b[32m━━━━━━━━━━━━━━━━━━━━\u001b[0m\u001b[37m\u001b[0m \u001b[1m1s\u001b[0m 1ms/step - loss: 308.4272 - mae: 14.6354 - val_loss: 43.3864 - val_mae: 3.9153\n",
      "Epoch 2/500\n",
      "\u001b[1m323/323\u001b[0m \u001b[32m━━━━━━━━━━━━━━━━━━━━\u001b[0m\u001b[37m\u001b[0m \u001b[1m0s\u001b[0m 873us/step - loss: 29.6661 - mae: 3.7914 - val_loss: 27.7758 - val_mae: 2.9617\n",
      "Epoch 3/500\n",
      "\u001b[1m323/323\u001b[0m \u001b[32m━━━━━━━━━━━━━━━━━━━━\u001b[0m\u001b[37m\u001b[0m \u001b[1m0s\u001b[0m 912us/step - loss: 14.6687 - mae: 2.9036 - val_loss: 20.1094 - val_mae: 2.6391\n",
      "Epoch 4/500\n",
      "\u001b[1m323/323\u001b[0m \u001b[32m━━━━━━━━━━━━━━━━━━━━\u001b[0m\u001b[37m\u001b[0m \u001b[1m0s\u001b[0m 912us/step - loss: 14.2474 - mae: 2.7258 - val_loss: 19.0223 - val_mae: 2.8075\n",
      "Epoch 5/500\n",
      "\u001b[1m323/323\u001b[0m \u001b[32m━━━━━━━━━━━━━━━━━━━━\u001b[0m\u001b[37m\u001b[0m \u001b[1m0s\u001b[0m 842us/step - loss: 13.8476 - mae: 2.5426 - val_loss: 19.2585 - val_mae: 2.5962\n",
      "Epoch 6/500\n",
      "\u001b[1m323/323\u001b[0m \u001b[32m━━━━━━━━━━━━━━━━━━━━\u001b[0m\u001b[37m\u001b[0m \u001b[1m0s\u001b[0m 916us/step - loss: 12.2238 - mae: 2.3728 - val_loss: 18.9701 - val_mae: 2.4947\n",
      "Epoch 7/500\n",
      "\u001b[1m323/323\u001b[0m \u001b[32m━━━━━━━━━━━━━━━━━━━━\u001b[0m\u001b[37m\u001b[0m \u001b[1m0s\u001b[0m 910us/step - loss: 15.1415 - mae: 2.5213 - val_loss: 21.1156 - val_mae: 2.6827\n",
      "Epoch 8/500\n",
      "\u001b[1m323/323\u001b[0m \u001b[32m━━━━━━━━━━━━━━━━━━━━\u001b[0m\u001b[37m\u001b[0m \u001b[1m0s\u001b[0m 907us/step - loss: 13.5757 - mae: 2.3207 - val_loss: 16.0696 - val_mae: 2.4317\n",
      "Epoch 9/500\n",
      "\u001b[1m323/323\u001b[0m \u001b[32m━━━━━━━━━━━━━━━━━━━━\u001b[0m\u001b[37m\u001b[0m \u001b[1m0s\u001b[0m 894us/step - loss: 11.1210 - mae: 2.1516 - val_loss: 18.6539 - val_mae: 2.4821\n",
      "Epoch 10/500\n",
      "\u001b[1m323/323\u001b[0m \u001b[32m━━━━━━━━━━━━━━━━━━━━\u001b[0m\u001b[37m\u001b[0m \u001b[1m0s\u001b[0m 868us/step - loss: 15.1607 - mae: 2.3809 - val_loss: 14.4759 - val_mae: 2.2268\n",
      "Epoch 11/500\n",
      "\u001b[1m323/323\u001b[0m \u001b[32m━━━━━━━━━━━━━━━━━━━━\u001b[0m\u001b[37m\u001b[0m \u001b[1m0s\u001b[0m 837us/step - loss: 9.3307 - mae: 2.1562 - val_loss: 17.7830 - val_mae: 2.3997\n",
      "Epoch 12/500\n",
      "\u001b[1m323/323\u001b[0m \u001b[32m━━━━━━━━━━━━━━━━━━━━\u001b[0m\u001b[37m\u001b[0m \u001b[1m0s\u001b[0m 889us/step - loss: 13.5535 - mae: 2.1496 - val_loss: 17.4522 - val_mae: 2.5503\n",
      "Epoch 13/500\n",
      "\u001b[1m323/323\u001b[0m \u001b[32m━━━━━━━━━━━━━━━━━━━━\u001b[0m\u001b[37m\u001b[0m \u001b[1m0s\u001b[0m 825us/step - loss: 11.3808 - mae: 2.1518 - val_loss: 17.1463 - val_mae: 2.5105\n",
      "Epoch 14/500\n",
      "\u001b[1m323/323\u001b[0m \u001b[32m━━━━━━━━━━━━━━━━━━━━\u001b[0m\u001b[37m\u001b[0m \u001b[1m0s\u001b[0m 814us/step - loss: 9.5155 - mae: 2.0691 - val_loss: 16.5791 - val_mae: 2.4710\n",
      "Epoch 15/500\n",
      "\u001b[1m323/323\u001b[0m \u001b[32m━━━━━━━━━━━━━━━━━━━━\u001b[0m\u001b[37m\u001b[0m \u001b[1m0s\u001b[0m 932us/step - loss: 9.7573 - mae: 2.1064 - val_loss: 16.6679 - val_mae: 2.3391\n",
      "Epoch 16/500\n",
      "\u001b[1m323/323\u001b[0m \u001b[32m━━━━━━━━━━━━━━━━━━━━\u001b[0m\u001b[37m\u001b[0m \u001b[1m0s\u001b[0m 949us/step - loss: 9.5182 - mae: 1.9036 - val_loss: 15.3706 - val_mae: 2.4224\n",
      "Epoch 17/500\n",
      "\u001b[1m323/323\u001b[0m \u001b[32m━━━━━━━━━━━━━━━━━━━━\u001b[0m\u001b[37m\u001b[0m \u001b[1m0s\u001b[0m 870us/step - loss: 8.1308 - mae: 1.8842 - val_loss: 18.6213 - val_mae: 2.4613\n",
      "Epoch 18/500\n",
      "\u001b[1m323/323\u001b[0m \u001b[32m━━━━━━━━━━━━━━━━━━━━\u001b[0m\u001b[37m\u001b[0m \u001b[1m0s\u001b[0m 891us/step - loss: 9.1278 - mae: 1.8654 - val_loss: 19.6131 - val_mae: 2.6889\n",
      "Epoch 19/500\n",
      "\u001b[1m323/323\u001b[0m \u001b[32m━━━━━━━━━━━━━━━━━━━━\u001b[0m\u001b[37m\u001b[0m \u001b[1m0s\u001b[0m 889us/step - loss: 9.0293 - mae: 2.0112 - val_loss: 17.1070 - val_mae: 2.3403\n",
      "Epoch 20/500\n",
      "\u001b[1m323/323\u001b[0m \u001b[32m━━━━━━━━━━━━━━━━━━━━\u001b[0m\u001b[37m\u001b[0m \u001b[1m0s\u001b[0m 888us/step - loss: 14.0333 - mae: 2.2366 - val_loss: 16.5381 - val_mae: 2.3404\n",
      "Epoch 21/500\n",
      "\u001b[1m323/323\u001b[0m \u001b[32m━━━━━━━━━━━━━━━━━━━━\u001b[0m\u001b[37m\u001b[0m \u001b[1m0s\u001b[0m 880us/step - loss: 7.7177 - mae: 1.9213 - val_loss: 14.4648 - val_mae: 2.2703\n",
      "Epoch 22/500\n",
      "\u001b[1m323/323\u001b[0m \u001b[32m━━━━━━━━━━━━━━━━━━━━\u001b[0m\u001b[37m\u001b[0m \u001b[1m0s\u001b[0m 832us/step - loss: 10.8340 - mae: 2.1298 - val_loss: 16.5108 - val_mae: 2.6497\n",
      "Epoch 23/500\n",
      "\u001b[1m323/323\u001b[0m \u001b[32m━━━━━━━━━━━━━━━━━━━━\u001b[0m\u001b[37m\u001b[0m \u001b[1m0s\u001b[0m 867us/step - loss: 8.9946 - mae: 1.9637 - val_loss: 13.8261 - val_mae: 2.1729\n",
      "Epoch 24/500\n",
      "\u001b[1m323/323\u001b[0m \u001b[32m━━━━━━━━━━━━━━━━━━━━\u001b[0m\u001b[37m\u001b[0m \u001b[1m0s\u001b[0m 889us/step - loss: 11.3893 - mae: 2.1354 - val_loss: 16.0087 - val_mae: 2.3160\n",
      "Epoch 25/500\n",
      "\u001b[1m323/323\u001b[0m \u001b[32m━━━━━━━━━━━━━━━━━━━━\u001b[0m\u001b[37m\u001b[0m \u001b[1m0s\u001b[0m 908us/step - loss: 8.8116 - mae: 1.9773 - val_loss: 14.3536 - val_mae: 2.2829\n",
      "Epoch 26/500\n",
      "\u001b[1m323/323\u001b[0m \u001b[32m━━━━━━━━━━━━━━━━━━━━\u001b[0m\u001b[37m\u001b[0m \u001b[1m0s\u001b[0m 868us/step - loss: 11.4260 - mae: 2.1267 - val_loss: 15.1553 - val_mae: 2.2948\n",
      "Epoch 27/500\n",
      "\u001b[1m323/323\u001b[0m \u001b[32m━━━━━━━━━━━━━━━━━━━━\u001b[0m\u001b[37m\u001b[0m \u001b[1m0s\u001b[0m 881us/step - loss: 8.9655 - mae: 2.0147 - val_loss: 13.5951 - val_mae: 2.1739\n",
      "Epoch 28/500\n",
      "\u001b[1m323/323\u001b[0m \u001b[32m━━━━━━━━━━━━━━━━━━━━\u001b[0m\u001b[37m\u001b[0m \u001b[1m0s\u001b[0m 918us/step - loss: 8.3636 - mae: 1.9403 - val_loss: 14.0484 - val_mae: 2.1931\n",
      "Epoch 29/500\n",
      "\u001b[1m323/323\u001b[0m \u001b[32m━━━━━━━━━━━━━━━━━━━━\u001b[0m\u001b[37m\u001b[0m \u001b[1m0s\u001b[0m 887us/step - loss: 6.9065 - mae: 1.6888 - val_loss: 13.2600 - val_mae: 2.2484\n",
      "Epoch 30/500\n",
      "\u001b[1m323/323\u001b[0m \u001b[32m━━━━━━━━━━━━━━━━━━━━\u001b[0m\u001b[37m\u001b[0m \u001b[1m0s\u001b[0m 956us/step - loss: 12.6643 - mae: 2.2423 - val_loss: 12.5770 - val_mae: 2.1735\n",
      "Epoch 31/500\n",
      "\u001b[1m323/323\u001b[0m \u001b[32m━━━━━━━━━━━━━━━━━━━━\u001b[0m\u001b[37m\u001b[0m \u001b[1m0s\u001b[0m 863us/step - loss: 7.4593 - mae: 1.7677 - val_loss: 13.0447 - val_mae: 2.4606\n",
      "Epoch 32/500\n",
      "\u001b[1m323/323\u001b[0m \u001b[32m━━━━━━━━━━━━━━━━━━━━\u001b[0m\u001b[37m\u001b[0m \u001b[1m0s\u001b[0m 899us/step - loss: 7.0032 - mae: 1.7209 - val_loss: 13.4645 - val_mae: 2.3095\n",
      "Epoch 33/500\n",
      "\u001b[1m323/323\u001b[0m \u001b[32m━━━━━━━━━━━━━━━━━━━━\u001b[0m\u001b[37m\u001b[0m \u001b[1m0s\u001b[0m 857us/step - loss: 8.7988 - mae: 1.9738 - val_loss: 15.8846 - val_mae: 2.6664\n",
      "Epoch 34/500\n",
      "\u001b[1m323/323\u001b[0m \u001b[32m━━━━━━━━━━━━━━━━━━━━\u001b[0m\u001b[37m\u001b[0m \u001b[1m0s\u001b[0m 896us/step - loss: 10.4074 - mae: 2.0740 - val_loss: 13.4678 - val_mae: 2.2564\n",
      "Epoch 35/500\n",
      "\u001b[1m323/323\u001b[0m \u001b[32m━━━━━━━━━━━━━━━━━━━━\u001b[0m\u001b[37m\u001b[0m \u001b[1m0s\u001b[0m 886us/step - loss: 6.1785 - mae: 1.8048 - val_loss: 16.3834 - val_mae: 3.0401\n",
      "Epoch 36/500\n",
      "\u001b[1m323/323\u001b[0m \u001b[32m━━━━━━━━━━━━━━━━━━━━\u001b[0m\u001b[37m\u001b[0m \u001b[1m0s\u001b[0m 894us/step - loss: 7.7717 - mae: 1.9483 - val_loss: 12.1061 - val_mae: 2.4296\n",
      "Epoch 37/500\n",
      "\u001b[1m323/323\u001b[0m \u001b[32m━━━━━━━━━━━━━━━━━━━━\u001b[0m\u001b[37m\u001b[0m \u001b[1m0s\u001b[0m 964us/step - loss: 6.1895 - mae: 1.7755 - val_loss: 12.7438 - val_mae: 2.2516\n",
      "Epoch 38/500\n",
      "\u001b[1m323/323\u001b[0m \u001b[32m━━━━━━━━━━━━━━━━━━━━\u001b[0m\u001b[37m\u001b[0m \u001b[1m0s\u001b[0m 958us/step - loss: 5.4530 - mae: 1.6745 - val_loss: 12.9115 - val_mae: 2.4346\n",
      "Epoch 39/500\n",
      "\u001b[1m323/323\u001b[0m \u001b[32m━━━━━━━━━━━━━━━━━━━━\u001b[0m\u001b[37m\u001b[0m \u001b[1m0s\u001b[0m 937us/step - loss: 8.4691 - mae: 1.8570 - val_loss: 12.9754 - val_mae: 2.2244\n",
      "Epoch 40/500\n",
      "\u001b[1m323/323\u001b[0m \u001b[32m━━━━━━━━━━━━━━━━━━━━\u001b[0m\u001b[37m\u001b[0m \u001b[1m0s\u001b[0m 942us/step - loss: 7.9356 - mae: 1.7414 - val_loss: 10.9810 - val_mae: 2.1112\n",
      "Epoch 41/500\n",
      "\u001b[1m323/323\u001b[0m \u001b[32m━━━━━━━━━━━━━━━━━━━━\u001b[0m\u001b[37m\u001b[0m \u001b[1m0s\u001b[0m 898us/step - loss: 8.3947 - mae: 1.8664 - val_loss: 12.3155 - val_mae: 2.2823\n",
      "Epoch 42/500\n",
      "\u001b[1m323/323\u001b[0m \u001b[32m━━━━━━━━━━━━━━━━━━━━\u001b[0m\u001b[37m\u001b[0m \u001b[1m0s\u001b[0m 916us/step - loss: 11.0539 - mae: 1.9083 - val_loss: 11.5915 - val_mae: 2.1391\n",
      "Epoch 43/500\n",
      "\u001b[1m323/323\u001b[0m \u001b[32m━━━━━━━━━━━━━━━━━━━━\u001b[0m\u001b[37m\u001b[0m \u001b[1m0s\u001b[0m 943us/step - loss: 6.4790 - mae: 1.6958 - val_loss: 12.1111 - val_mae: 2.2422\n",
      "Epoch 44/500\n",
      "\u001b[1m323/323\u001b[0m \u001b[32m━━━━━━━━━━━━━━━━━━━━\u001b[0m\u001b[37m\u001b[0m \u001b[1m0s\u001b[0m 869us/step - loss: 8.7342 - mae: 1.7793 - val_loss: 9.6845 - val_mae: 1.9933\n",
      "Epoch 45/500\n",
      "\u001b[1m323/323\u001b[0m \u001b[32m━━━━━━━━━━━━━━━━━━━━\u001b[0m\u001b[37m\u001b[0m \u001b[1m0s\u001b[0m 898us/step - loss: 6.9419 - mae: 1.7492 - val_loss: 11.0664 - val_mae: 2.2280\n",
      "Epoch 46/500\n",
      "\u001b[1m323/323\u001b[0m \u001b[32m━━━━━━━━━━━━━━━━━━━━\u001b[0m\u001b[37m\u001b[0m \u001b[1m0s\u001b[0m 884us/step - loss: 7.4003 - mae: 1.7461 - val_loss: 11.6664 - val_mae: 2.0674\n",
      "Epoch 47/500\n",
      "\u001b[1m323/323\u001b[0m \u001b[32m━━━━━━━━━━━━━━━━━━━━\u001b[0m\u001b[37m\u001b[0m \u001b[1m0s\u001b[0m 974us/step - loss: 6.7619 - mae: 1.7104 - val_loss: 13.0112 - val_mae: 2.4264\n",
      "Epoch 48/500\n",
      "\u001b[1m323/323\u001b[0m \u001b[32m━━━━━━━━━━━━━━━━━━━━\u001b[0m\u001b[37m\u001b[0m \u001b[1m0s\u001b[0m 880us/step - loss: 11.0944 - mae: 1.7810 - val_loss: 9.0782 - val_mae: 2.0514\n",
      "Epoch 49/500\n",
      "\u001b[1m323/323\u001b[0m \u001b[32m━━━━━━━━━━━━━━━━━━━━\u001b[0m\u001b[37m\u001b[0m \u001b[1m0s\u001b[0m 916us/step - loss: 5.5388 - mae: 1.6258 - val_loss: 9.6090 - val_mae: 2.0800\n",
      "Epoch 50/500\n",
      "\u001b[1m323/323\u001b[0m \u001b[32m━━━━━━━━━━━━━━━━━━━━\u001b[0m\u001b[37m\u001b[0m \u001b[1m0s\u001b[0m 872us/step - loss: 5.0370 - mae: 1.5202 - val_loss: 10.0385 - val_mae: 2.2065\n",
      "Epoch 51/500\n",
      "\u001b[1m323/323\u001b[0m \u001b[32m━━━━━━━━━━━━━━━━━━━━\u001b[0m\u001b[37m\u001b[0m \u001b[1m0s\u001b[0m 1ms/step - loss: 4.1669 - mae: 1.5133 - val_loss: 8.9845 - val_mae: 2.1258\n",
      "Epoch 52/500\n",
      "\u001b[1m323/323\u001b[0m \u001b[32m━━━━━━━━━━━━━━━━━━━━\u001b[0m\u001b[37m\u001b[0m \u001b[1m0s\u001b[0m 934us/step - loss: 7.2220 - mae: 1.7484 - val_loss: 9.9101 - val_mae: 2.1187\n",
      "Epoch 53/500\n",
      "\u001b[1m323/323\u001b[0m \u001b[32m━━━━━━━━━━━━━━━━━━━━\u001b[0m\u001b[37m\u001b[0m \u001b[1m0s\u001b[0m 860us/step - loss: 4.7361 - mae: 1.5526 - val_loss: 8.3328 - val_mae: 1.9946\n",
      "Epoch 54/500\n",
      "\u001b[1m323/323\u001b[0m \u001b[32m━━━━━━━━━━━━━━━━━━━━\u001b[0m\u001b[37m\u001b[0m \u001b[1m0s\u001b[0m 897us/step - loss: 10.7056 - mae: 1.8508 - val_loss: 9.9081 - val_mae: 2.0450\n",
      "Epoch 55/500\n",
      "\u001b[1m323/323\u001b[0m \u001b[32m━━━━━━━━━━━━━━━━━━━━\u001b[0m\u001b[37m\u001b[0m \u001b[1m0s\u001b[0m 916us/step - loss: 4.4646 - mae: 1.4888 - val_loss: 9.9241 - val_mae: 2.1166\n",
      "Epoch 56/500\n",
      "\u001b[1m323/323\u001b[0m \u001b[32m━━━━━━━━━━━━━━━━━━━━\u001b[0m\u001b[37m\u001b[0m \u001b[1m0s\u001b[0m 855us/step - loss: 6.1035 - mae: 1.5878 - val_loss: 8.7858 - val_mae: 2.0124\n",
      "Epoch 57/500\n",
      "\u001b[1m323/323\u001b[0m \u001b[32m━━━━━━━━━━━━━━━━━━━━\u001b[0m\u001b[37m\u001b[0m \u001b[1m0s\u001b[0m 869us/step - loss: 5.9118 - mae: 1.6730 - val_loss: 10.6943 - val_mae: 2.3008\n",
      "Epoch 58/500\n",
      "\u001b[1m323/323\u001b[0m \u001b[32m━━━━━━━━━━━━━━━━━━━━\u001b[0m\u001b[37m\u001b[0m \u001b[1m0s\u001b[0m 895us/step - loss: 5.4323 - mae: 1.6582 - val_loss: 10.4806 - val_mae: 2.0773\n",
      "Epoch 59/500\n",
      "\u001b[1m323/323\u001b[0m \u001b[32m━━━━━━━━━━━━━━━━━━━━\u001b[0m\u001b[37m\u001b[0m \u001b[1m0s\u001b[0m 875us/step - loss: 5.0850 - mae: 1.4101 - val_loss: 8.7906 - val_mae: 2.0453\n",
      "Epoch 60/500\n",
      "\u001b[1m323/323\u001b[0m \u001b[32m━━━━━━━━━━━━━━━━━━━━\u001b[0m\u001b[37m\u001b[0m \u001b[1m0s\u001b[0m 916us/step - loss: 7.3513 - mae: 1.7179 - val_loss: 10.5523 - val_mae: 2.2024\n",
      "Epoch 61/500\n",
      "\u001b[1m323/323\u001b[0m \u001b[32m━━━━━━━━━━━━━━━━━━━━\u001b[0m\u001b[37m\u001b[0m \u001b[1m0s\u001b[0m 951us/step - loss: 6.3632 - mae: 1.5720 - val_loss: 10.4655 - val_mae: 2.1529\n",
      "Epoch 62/500\n",
      "\u001b[1m323/323\u001b[0m \u001b[32m━━━━━━━━━━━━━━━━━━━━\u001b[0m\u001b[37m\u001b[0m \u001b[1m0s\u001b[0m 975us/step - loss: 6.6594 - mae: 1.6317 - val_loss: 9.3044 - val_mae: 1.9886\n",
      "Epoch 63/500\n",
      "\u001b[1m323/323\u001b[0m \u001b[32m━━━━━━━━━━━━━━━━━━━━\u001b[0m\u001b[37m\u001b[0m \u001b[1m0s\u001b[0m 1ms/step - loss: 4.0805 - mae: 1.3837 - val_loss: 8.9941 - val_mae: 2.0708\n",
      "Epoch 64/500\n",
      "\u001b[1m323/323\u001b[0m \u001b[32m━━━━━━━━━━━━━━━━━━━━\u001b[0m\u001b[37m\u001b[0m \u001b[1m0s\u001b[0m 1ms/step - loss: 3.6282 - mae: 1.4401 - val_loss: 10.4586 - val_mae: 2.3134\n",
      "Epoch 65/500\n",
      "\u001b[1m323/323\u001b[0m \u001b[32m━━━━━━━━━━━━━━━━━━━━\u001b[0m\u001b[37m\u001b[0m \u001b[1m0s\u001b[0m 1ms/step - loss: 4.9199 - mae: 1.4846 - val_loss: 8.8413 - val_mae: 2.1131\n",
      "Epoch 66/500\n",
      "\u001b[1m323/323\u001b[0m \u001b[32m━━━━━━━━━━━━━━━━━━━━\u001b[0m\u001b[37m\u001b[0m \u001b[1m0s\u001b[0m 906us/step - loss: 5.0889 - mae: 1.4898 - val_loss: 10.7022 - val_mae: 2.2919\n",
      "Epoch 67/500\n",
      "\u001b[1m323/323\u001b[0m \u001b[32m━━━━━━━━━━━━━━━━━━━━\u001b[0m\u001b[37m\u001b[0m \u001b[1m0s\u001b[0m 889us/step - loss: 5.7570 - mae: 1.7053 - val_loss: 9.1317 - val_mae: 2.0416\n",
      "Epoch 68/500\n",
      "\u001b[1m323/323\u001b[0m \u001b[32m━━━━━━━━━━━━━━━━━━━━\u001b[0m\u001b[37m\u001b[0m \u001b[1m0s\u001b[0m 1ms/step - loss: 4.4149 - mae: 1.4285 - val_loss: 9.0390 - val_mae: 2.1690\n",
      "Epoch 69/500\n",
      "\u001b[1m323/323\u001b[0m \u001b[32m━━━━━━━━━━━━━━━━━━━━\u001b[0m\u001b[37m\u001b[0m \u001b[1m0s\u001b[0m 922us/step - loss: 4.2464 - mae: 1.4954 - val_loss: 9.6708 - val_mae: 2.1464\n",
      "Epoch 70/500\n",
      "\u001b[1m323/323\u001b[0m \u001b[32m━━━━━━━━━━━━━━━━━━━━\u001b[0m\u001b[37m\u001b[0m \u001b[1m0s\u001b[0m 931us/step - loss: 4.9687 - mae: 1.5416 - val_loss: 9.4774 - val_mae: 2.0277\n",
      "Epoch 71/500\n",
      "\u001b[1m323/323\u001b[0m \u001b[32m━━━━━━━━━━━━━━━━━━━━\u001b[0m\u001b[37m\u001b[0m \u001b[1m0s\u001b[0m 911us/step - loss: 4.0580 - mae: 1.4192 - val_loss: 9.5184 - val_mae: 2.2555\n",
      "Epoch 72/500\n",
      "\u001b[1m323/323\u001b[0m \u001b[32m━━━━━━━━━━━━━━━━━━━━\u001b[0m\u001b[37m\u001b[0m \u001b[1m0s\u001b[0m 965us/step - loss: 5.5832 - mae: 1.5789 - val_loss: 10.0832 - val_mae: 2.3195\n",
      "Epoch 73/500\n",
      "\u001b[1m323/323\u001b[0m \u001b[32m━━━━━━━━━━━━━━━━━━━━\u001b[0m\u001b[37m\u001b[0m \u001b[1m0s\u001b[0m 881us/step - loss: 4.4202 - mae: 1.4806 - val_loss: 10.9197 - val_mae: 2.4615\n",
      "Epoch 74/500\n",
      "\u001b[1m323/323\u001b[0m \u001b[32m━━━━━━━━━━━━━━━━━━━━\u001b[0m\u001b[37m\u001b[0m \u001b[1m0s\u001b[0m 884us/step - loss: 4.4957 - mae: 1.3778 - val_loss: 10.6115 - val_mae: 2.1853\n",
      "Epoch 75/500\n",
      "\u001b[1m323/323\u001b[0m \u001b[32m━━━━━━━━━━━━━━━━━━━━\u001b[0m\u001b[37m\u001b[0m \u001b[1m0s\u001b[0m 964us/step - loss: 5.1214 - mae: 1.5114 - val_loss: 9.8063 - val_mae: 2.1041\n",
      "Epoch 76/500\n",
      "\u001b[1m323/323\u001b[0m \u001b[32m━━━━━━━━━━━━━━━━━━━━\u001b[0m\u001b[37m\u001b[0m \u001b[1m0s\u001b[0m 894us/step - loss: 5.2723 - mae: 1.5515 - val_loss: 11.5462 - val_mae: 2.2993\n",
      "Epoch 77/500\n",
      "\u001b[1m323/323\u001b[0m \u001b[32m━━━━━━━━━━━━━━━━━━━━\u001b[0m\u001b[37m\u001b[0m \u001b[1m0s\u001b[0m 894us/step - loss: 6.9929 - mae: 1.5727 - val_loss: 10.9574 - val_mae: 2.3501\n",
      "Epoch 78/500\n",
      "\u001b[1m323/323\u001b[0m \u001b[32m━━━━━━━━━━━━━━━━━━━━\u001b[0m\u001b[37m\u001b[0m \u001b[1m0s\u001b[0m 917us/step - loss: 3.9835 - mae: 1.3881 - val_loss: 10.3167 - val_mae: 2.3779\n",
      "Epoch 79/500\n",
      "\u001b[1m323/323\u001b[0m \u001b[32m━━━━━━━━━━━━━━━━━━━━\u001b[0m\u001b[37m\u001b[0m \u001b[1m0s\u001b[0m 893us/step - loss: 6.9143 - mae: 1.6142 - val_loss: 9.7750 - val_mae: 2.0468\n",
      "Epoch 80/500\n",
      "\u001b[1m323/323\u001b[0m \u001b[32m━━━━━━━━━━━━━━━━━━━━\u001b[0m\u001b[37m\u001b[0m \u001b[1m0s\u001b[0m 930us/step - loss: 5.9696 - mae: 1.4790 - val_loss: 8.7368 - val_mae: 2.0031\n",
      "Epoch 81/500\n",
      "\u001b[1m323/323\u001b[0m \u001b[32m━━━━━━━━━━━━━━━━━━━━\u001b[0m\u001b[37m\u001b[0m \u001b[1m0s\u001b[0m 983us/step - loss: 3.6187 - mae: 1.4209 - val_loss: 9.5400 - val_mae: 2.0863\n",
      "Epoch 82/500\n",
      "\u001b[1m323/323\u001b[0m \u001b[32m━━━━━━━━━━━━━━━━━━━━\u001b[0m\u001b[37m\u001b[0m \u001b[1m0s\u001b[0m 883us/step - loss: 3.8337 - mae: 1.3428 - val_loss: 9.2272 - val_mae: 2.0875\n",
      "Epoch 83/500\n",
      "\u001b[1m323/323\u001b[0m \u001b[32m━━━━━━━━━━━━━━━━━━━━\u001b[0m\u001b[37m\u001b[0m \u001b[1m0s\u001b[0m 873us/step - loss: 4.7875 - mae: 1.4934 - val_loss: 9.4519 - val_mae: 2.1224\n",
      "Epoch 84/500\n",
      "\u001b[1m323/323\u001b[0m \u001b[32m━━━━━━━━━━━━━━━━━━━━\u001b[0m\u001b[37m\u001b[0m \u001b[1m0s\u001b[0m 996us/step - loss: 3.5601 - mae: 1.2999 - val_loss: 10.1915 - val_mae: 2.2082\n",
      "Epoch 85/500\n",
      "\u001b[1m323/323\u001b[0m \u001b[32m━━━━━━━━━━━━━━━━━━━━\u001b[0m\u001b[37m\u001b[0m \u001b[1m0s\u001b[0m 942us/step - loss: 6.5133 - mae: 1.4893 - val_loss: 10.1905 - val_mae: 2.2469\n",
      "Epoch 86/500\n",
      "\u001b[1m323/323\u001b[0m \u001b[32m━━━━━━━━━━━━━━━━━━━━\u001b[0m\u001b[37m\u001b[0m \u001b[1m0s\u001b[0m 913us/step - loss: 7.2494 - mae: 1.6534 - val_loss: 9.0991 - val_mae: 2.0523\n",
      "Epoch 87/500\n",
      "\u001b[1m323/323\u001b[0m \u001b[32m━━━━━━━━━━━━━━━━━━━━\u001b[0m\u001b[37m\u001b[0m \u001b[1m0s\u001b[0m 984us/step - loss: 4.7032 - mae: 1.4215 - val_loss: 10.0627 - val_mae: 2.2284\n",
      "Epoch 88/500\n",
      "\u001b[1m323/323\u001b[0m \u001b[32m━━━━━━━━━━━━━━━━━━━━\u001b[0m\u001b[37m\u001b[0m \u001b[1m0s\u001b[0m 936us/step - loss: 4.5792 - mae: 1.3827 - val_loss: 14.0972 - val_mae: 2.8531\n",
      "Epoch 89/500\n",
      "\u001b[1m323/323\u001b[0m \u001b[32m━━━━━━━━━━━━━━━━━━━━\u001b[0m\u001b[37m\u001b[0m \u001b[1m0s\u001b[0m 924us/step - loss: 6.8281 - mae: 1.5487 - val_loss: 12.2638 - val_mae: 2.4195\n",
      "Epoch 90/500\n",
      "\u001b[1m323/323\u001b[0m \u001b[32m━━━━━━━━━━━━━━━━━━━━\u001b[0m\u001b[37m\u001b[0m \u001b[1m0s\u001b[0m 904us/step - loss: 3.7214 - mae: 1.3872 - val_loss: 9.1456 - val_mae: 2.1176\n",
      "Epoch 91/500\n",
      "\u001b[1m323/323\u001b[0m \u001b[32m━━━━━━━━━━━━━━━━━━━━\u001b[0m\u001b[37m\u001b[0m \u001b[1m0s\u001b[0m 907us/step - loss: 3.5044 - mae: 1.1998 - val_loss: 10.1992 - val_mae: 2.0880\n",
      "Epoch 92/500\n",
      "\u001b[1m323/323\u001b[0m \u001b[32m━━━━━━━━━━━━━━━━━━━━\u001b[0m\u001b[37m\u001b[0m \u001b[1m0s\u001b[0m 953us/step - loss: 3.7558 - mae: 1.2485 - val_loss: 13.0892 - val_mae: 2.6327\n",
      "Epoch 93/500\n",
      "\u001b[1m323/323\u001b[0m \u001b[32m━━━━━━━━━━━━━━━━━━━━\u001b[0m\u001b[37m\u001b[0m \u001b[1m0s\u001b[0m 981us/step - loss: 3.9373 - mae: 1.3884 - val_loss: 9.6866 - val_mae: 2.1232\n",
      "Epoch 94/500\n",
      "\u001b[1m323/323\u001b[0m \u001b[32m━━━━━━━━━━━━━━━━━━━━\u001b[0m\u001b[37m\u001b[0m \u001b[1m0s\u001b[0m 942us/step - loss: 5.1851 - mae: 1.4746 - val_loss: 12.7638 - val_mae: 2.5470\n",
      "Epoch 95/500\n",
      "\u001b[1m323/323\u001b[0m \u001b[32m━━━━━━━━━━━━━━━━━━━━\u001b[0m\u001b[37m\u001b[0m \u001b[1m0s\u001b[0m 962us/step - loss: 4.9602 - mae: 1.3896 - val_loss: 9.0944 - val_mae: 1.9928\n",
      "Epoch 96/500\n",
      "\u001b[1m323/323\u001b[0m \u001b[32m━━━━━━━━━━━━━━━━━━━━\u001b[0m\u001b[37m\u001b[0m \u001b[1m0s\u001b[0m 966us/step - loss: 2.6658 - mae: 1.1577 - val_loss: 8.9347 - val_mae: 2.1644\n",
      "Epoch 97/500\n",
      "\u001b[1m323/323\u001b[0m \u001b[32m━━━━━━━━━━━━━━━━━━━━\u001b[0m\u001b[37m\u001b[0m \u001b[1m0s\u001b[0m 950us/step - loss: 5.6102 - mae: 1.4564 - val_loss: 12.0010 - val_mae: 2.4361\n",
      "Epoch 98/500\n",
      "\u001b[1m323/323\u001b[0m \u001b[32m━━━━━━━━━━━━━━━━━━━━\u001b[0m\u001b[37m\u001b[0m \u001b[1m0s\u001b[0m 971us/step - loss: 4.5933 - mae: 1.3606 - val_loss: 9.4530 - val_mae: 2.1712\n",
      "Epoch 99/500\n",
      "\u001b[1m323/323\u001b[0m \u001b[32m━━━━━━━━━━━━━━━━━━━━\u001b[0m\u001b[37m\u001b[0m \u001b[1m0s\u001b[0m 916us/step - loss: 2.6491 - mae: 1.1894 - val_loss: 11.6532 - val_mae: 2.4928\n",
      "Epoch 100/500\n",
      "\u001b[1m323/323\u001b[0m \u001b[32m━━━━━━━━━━━━━━━━━━━━\u001b[0m\u001b[37m\u001b[0m \u001b[1m0s\u001b[0m 879us/step - loss: 3.1308 - mae: 1.2815 - val_loss: 10.0221 - val_mae: 2.2190\n",
      "Epoch 101/500\n",
      "\u001b[1m323/323\u001b[0m \u001b[32m━━━━━━━━━━━━━━━━━━━━\u001b[0m\u001b[37m\u001b[0m \u001b[1m0s\u001b[0m 926us/step - loss: 4.3866 - mae: 1.4186 - val_loss: 14.2741 - val_mae: 2.6664\n",
      "Epoch 102/500\n",
      "\u001b[1m323/323\u001b[0m \u001b[32m━━━━━━━━━━━━━━━━━━━━\u001b[0m\u001b[37m\u001b[0m \u001b[1m0s\u001b[0m 944us/step - loss: 3.4672 - mae: 1.3385 - val_loss: 9.3189 - val_mae: 2.1348\n",
      "Epoch 103/500\n",
      "\u001b[1m323/323\u001b[0m \u001b[32m━━━━━━━━━━━━━━━━━━━━\u001b[0m\u001b[37m\u001b[0m \u001b[1m0s\u001b[0m 917us/step - loss: 3.3949 - mae: 1.3722 - val_loss: 10.6002 - val_mae: 2.4139\n",
      "Epoch 104/500\n",
      "\u001b[1m323/323\u001b[0m \u001b[32m━━━━━━━━━━━━━━━━━━━━\u001b[0m\u001b[37m\u001b[0m \u001b[1m0s\u001b[0m 891us/step - loss: 2.5335 - mae: 1.1519 - val_loss: 10.2443 - val_mae: 2.2564\n",
      "Epoch 105/500\n",
      "\u001b[1m323/323\u001b[0m \u001b[32m━━━━━━━━━━━━━━━━━━━━\u001b[0m\u001b[37m\u001b[0m \u001b[1m0s\u001b[0m 966us/step - loss: 4.2793 - mae: 1.4006 - val_loss: 9.1687 - val_mae: 2.1594\n",
      "Epoch 106/500\n",
      "\u001b[1m323/323\u001b[0m \u001b[32m━━━━━━━━━━━━━━━━━━━━\u001b[0m\u001b[37m\u001b[0m \u001b[1m0s\u001b[0m 881us/step - loss: 3.2177 - mae: 1.2213 - val_loss: 10.8757 - val_mae: 2.4175\n",
      "Epoch 107/500\n",
      "\u001b[1m323/323\u001b[0m \u001b[32m━━━━━━━━━━━━━━━━━━━━\u001b[0m\u001b[37m\u001b[0m \u001b[1m0s\u001b[0m 921us/step - loss: 3.7749 - mae: 1.3712 - val_loss: 11.6505 - val_mae: 2.4417\n",
      "Epoch 108/500\n",
      "\u001b[1m323/323\u001b[0m \u001b[32m━━━━━━━━━━━━━━━━━━━━\u001b[0m\u001b[37m\u001b[0m \u001b[1m0s\u001b[0m 969us/step - loss: 4.6603 - mae: 1.3974 - val_loss: 9.1472 - val_mae: 2.0759\n",
      "Epoch 109/500\n",
      "\u001b[1m323/323\u001b[0m \u001b[32m━━━━━━━━━━━━━━━━━━━━\u001b[0m\u001b[37m\u001b[0m \u001b[1m0s\u001b[0m 903us/step - loss: 4.1664 - mae: 1.3513 - val_loss: 9.5448 - val_mae: 2.1676\n",
      "Epoch 110/500\n",
      "\u001b[1m323/323\u001b[0m \u001b[32m━━━━━━━━━━━━━━━━━━━━\u001b[0m\u001b[37m\u001b[0m \u001b[1m0s\u001b[0m 901us/step - loss: 6.1150 - mae: 1.5270 - val_loss: 9.8678 - val_mae: 2.2142\n",
      "Epoch 111/500\n",
      "\u001b[1m323/323\u001b[0m \u001b[32m━━━━━━━━━━━━━━━━━━━━\u001b[0m\u001b[37m\u001b[0m \u001b[1m0s\u001b[0m 902us/step - loss: 4.5956 - mae: 1.3932 - val_loss: 11.0361 - val_mae: 2.3559\n",
      "Epoch 112/500\n",
      "\u001b[1m323/323\u001b[0m \u001b[32m━━━━━━━━━━━━━━━━━━━━\u001b[0m\u001b[37m\u001b[0m \u001b[1m0s\u001b[0m 868us/step - loss: 5.1987 - mae: 1.3468 - val_loss: 9.6049 - val_mae: 2.1383\n",
      "Epoch 113/500\n",
      "\u001b[1m323/323\u001b[0m \u001b[32m━━━━━━━━━━━━━━━━━━━━\u001b[0m\u001b[37m\u001b[0m \u001b[1m0s\u001b[0m 988us/step - loss: 3.1898 - mae: 1.1595 - val_loss: 11.1705 - val_mae: 2.3779\n",
      "Epoch 114/500\n",
      "\u001b[1m323/323\u001b[0m \u001b[32m━━━━━━━━━━━━━━━━━━━━\u001b[0m\u001b[37m\u001b[0m \u001b[1m0s\u001b[0m 904us/step - loss: 2.8806 - mae: 1.1934 - val_loss: 9.6115 - val_mae: 2.3401\n",
      "Epoch 115/500\n",
      "\u001b[1m323/323\u001b[0m \u001b[32m━━━━━━━━━━━━━━━━━━━━\u001b[0m\u001b[37m\u001b[0m \u001b[1m0s\u001b[0m 939us/step - loss: 3.9732 - mae: 1.3116 - val_loss: 9.0587 - val_mae: 2.1830\n",
      "Epoch 116/500\n",
      "\u001b[1m323/323\u001b[0m \u001b[32m━━━━━━━━━━━━━━━━━━━━\u001b[0m\u001b[37m\u001b[0m \u001b[1m0s\u001b[0m 919us/step - loss: 3.5282 - mae: 1.3299 - val_loss: 8.8772 - val_mae: 2.1469\n",
      "Epoch 117/500\n",
      "\u001b[1m323/323\u001b[0m \u001b[32m━━━━━━━━━━━━━━━━━━━━\u001b[0m\u001b[37m\u001b[0m \u001b[1m0s\u001b[0m 973us/step - loss: 3.0335 - mae: 1.1478 - val_loss: 9.8784 - val_mae: 2.1941\n",
      "Epoch 118/500\n",
      "\u001b[1m323/323\u001b[0m \u001b[32m━━━━━━━━━━━━━━━━━━━━\u001b[0m\u001b[37m\u001b[0m \u001b[1m0s\u001b[0m 962us/step - loss: 4.8002 - mae: 1.3231 - val_loss: 9.9158 - val_mae: 2.1955\n",
      "Epoch 119/500\n",
      "\u001b[1m323/323\u001b[0m \u001b[32m━━━━━━━━━━━━━━━━━━━━\u001b[0m\u001b[37m\u001b[0m \u001b[1m0s\u001b[0m 925us/step - loss: 3.4512 - mae: 1.2503 - val_loss: 11.5880 - val_mae: 2.4898\n",
      "Epoch 120/500\n",
      "\u001b[1m323/323\u001b[0m \u001b[32m━━━━━━━━━━━━━━━━━━━━\u001b[0m\u001b[37m\u001b[0m \u001b[1m0s\u001b[0m 897us/step - loss: 2.9976 - mae: 1.2073 - val_loss: 10.6993 - val_mae: 2.3221\n",
      "Epoch 121/500\n",
      "\u001b[1m323/323\u001b[0m \u001b[32m━━━━━━━━━━━━━━━━━━━━\u001b[0m\u001b[37m\u001b[0m \u001b[1m0s\u001b[0m 936us/step - loss: 3.0799 - mae: 1.2498 - val_loss: 11.1402 - val_mae: 2.3709\n",
      "Epoch 122/500\n",
      "\u001b[1m323/323\u001b[0m \u001b[32m━━━━━━━━━━━━━━━━━━━━\u001b[0m\u001b[37m\u001b[0m \u001b[1m0s\u001b[0m 986us/step - loss: 3.9467 - mae: 1.2088 - val_loss: 9.6282 - val_mae: 2.2523\n",
      "Epoch 123/500\n",
      "\u001b[1m323/323\u001b[0m \u001b[32m━━━━━━━━━━━━━━━━━━━━\u001b[0m\u001b[37m\u001b[0m \u001b[1m0s\u001b[0m 892us/step - loss: 2.5363 - mae: 1.1081 - val_loss: 11.2368 - val_mae: 2.5266\n",
      "Epoch 124/500\n",
      "\u001b[1m323/323\u001b[0m \u001b[32m━━━━━━━━━━━━━━━━━━━━\u001b[0m\u001b[37m\u001b[0m \u001b[1m0s\u001b[0m 908us/step - loss: 4.0651 - mae: 1.3145 - val_loss: 11.8329 - val_mae: 2.5349\n",
      "Epoch 125/500\n",
      "\u001b[1m323/323\u001b[0m \u001b[32m━━━━━━━━━━━━━━━━━━━━\u001b[0m\u001b[37m\u001b[0m \u001b[1m0s\u001b[0m 910us/step - loss: 2.4623 - mae: 1.1324 - val_loss: 9.2011 - val_mae: 2.2081\n",
      "Epoch 126/500\n",
      "\u001b[1m323/323\u001b[0m \u001b[32m━━━━━━━━━━━━━━━━━━━━\u001b[0m\u001b[37m\u001b[0m \u001b[1m0s\u001b[0m 1ms/step - loss: 2.3488 - mae: 1.1064 - val_loss: 10.5109 - val_mae: 2.2460\n",
      "Epoch 127/500\n",
      "\u001b[1m323/323\u001b[0m \u001b[32m━━━━━━━━━━━━━━━━━━━━\u001b[0m\u001b[37m\u001b[0m \u001b[1m0s\u001b[0m 972us/step - loss: 4.2406 - mae: 1.3510 - val_loss: 10.2566 - val_mae: 2.2606\n",
      "Epoch 128/500\n",
      "\u001b[1m323/323\u001b[0m \u001b[32m━━━━━━━━━━━━━━━━━━━━\u001b[0m\u001b[37m\u001b[0m \u001b[1m0s\u001b[0m 907us/step - loss: 4.6220 - mae: 1.2878 - val_loss: 8.4820 - val_mae: 2.0968\n",
      "Epoch 129/500\n",
      "\u001b[1m323/323\u001b[0m \u001b[32m━━━━━━━━━━━━━━━━━━━━\u001b[0m\u001b[37m\u001b[0m \u001b[1m0s\u001b[0m 910us/step - loss: 2.7921 - mae: 1.2142 - val_loss: 9.4827 - val_mae: 2.1266\n",
      "Epoch 130/500\n",
      "\u001b[1m323/323\u001b[0m \u001b[32m━━━━━━━━━━━━━━━━━━━━\u001b[0m\u001b[37m\u001b[0m \u001b[1m0s\u001b[0m 930us/step - loss: 3.7942 - mae: 1.3268 - val_loss: 10.1532 - val_mae: 2.2369\n",
      "Epoch 131/500\n",
      "\u001b[1m323/323\u001b[0m \u001b[32m━━━━━━━━━━━━━━━━━━━━\u001b[0m\u001b[37m\u001b[0m \u001b[1m0s\u001b[0m 894us/step - loss: 3.2016 - mae: 1.2343 - val_loss: 10.2384 - val_mae: 2.3300\n",
      "Epoch 132/500\n",
      "\u001b[1m323/323\u001b[0m \u001b[32m━━━━━━━━━━━━━━━━━━━━\u001b[0m\u001b[37m\u001b[0m \u001b[1m0s\u001b[0m 907us/step - loss: 3.0196 - mae: 1.1605 - val_loss: 9.1068 - val_mae: 2.1814\n",
      "Epoch 133/500\n",
      "\u001b[1m323/323\u001b[0m \u001b[32m━━━━━━━━━━━━━━━━━━━━\u001b[0m\u001b[37m\u001b[0m \u001b[1m0s\u001b[0m 914us/step - loss: 2.5812 - mae: 1.1431 - val_loss: 9.3616 - val_mae: 2.3102\n",
      "Epoch 134/500\n",
      "\u001b[1m323/323\u001b[0m \u001b[32m━━━━━━━━━━━━━━━━━━━━\u001b[0m\u001b[37m\u001b[0m \u001b[1m0s\u001b[0m 1ms/step - loss: 3.2746 - mae: 1.2617 - val_loss: 10.6217 - val_mae: 2.2710\n",
      "Epoch 135/500\n",
      "\u001b[1m323/323\u001b[0m \u001b[32m━━━━━━━━━━━━━━━━━━━━\u001b[0m\u001b[37m\u001b[0m \u001b[1m0s\u001b[0m 910us/step - loss: 2.6674 - mae: 1.0727 - val_loss: 11.6405 - val_mae: 2.4835\n",
      "Epoch 136/500\n",
      "\u001b[1m323/323\u001b[0m \u001b[32m━━━━━━━━━━━━━━━━━━━━\u001b[0m\u001b[37m\u001b[0m \u001b[1m0s\u001b[0m 954us/step - loss: 2.6351 - mae: 1.1271 - val_loss: 12.1021 - val_mae: 2.3473\n",
      "Epoch 137/500\n",
      "\u001b[1m323/323\u001b[0m \u001b[32m━━━━━━━━━━━━━━━━━━━━\u001b[0m\u001b[37m\u001b[0m \u001b[1m0s\u001b[0m 915us/step - loss: 3.3520 - mae: 1.2878 - val_loss: 11.1056 - val_mae: 2.3813\n",
      "Epoch 138/500\n",
      "\u001b[1m323/323\u001b[0m \u001b[32m━━━━━━━━━━━━━━━━━━━━\u001b[0m\u001b[37m\u001b[0m \u001b[1m0s\u001b[0m 950us/step - loss: 3.5867 - mae: 1.2717 - val_loss: 10.5142 - val_mae: 2.3248\n",
      "Epoch 139/500\n",
      "\u001b[1m323/323\u001b[0m \u001b[32m━━━━━━━━━━━━━━━━━━━━\u001b[0m\u001b[37m\u001b[0m \u001b[1m0s\u001b[0m 903us/step - loss: 2.2960 - mae: 1.1399 - val_loss: 15.3367 - val_mae: 2.7413\n",
      "Epoch 140/500\n",
      "\u001b[1m323/323\u001b[0m \u001b[32m━━━━━━━━━━━━━━━━━━━━\u001b[0m\u001b[37m\u001b[0m \u001b[1m0s\u001b[0m 938us/step - loss: 3.3985 - mae: 1.2494 - val_loss: 9.7393 - val_mae: 2.2121\n",
      "Epoch 141/500\n",
      "\u001b[1m323/323\u001b[0m \u001b[32m━━━━━━━━━━━━━━━━━━━━\u001b[0m\u001b[37m\u001b[0m \u001b[1m0s\u001b[0m 1ms/step - loss: 5.3673 - mae: 1.2872 - val_loss: 10.0506 - val_mae: 2.2521\n",
      "Epoch 142/500\n",
      "\u001b[1m323/323\u001b[0m \u001b[32m━━━━━━━━━━━━━━━━━━━━\u001b[0m\u001b[37m\u001b[0m \u001b[1m0s\u001b[0m 930us/step - loss: 3.1155 - mae: 1.1988 - val_loss: 10.9319 - val_mae: 2.3411\n",
      "Epoch 143/500\n",
      "\u001b[1m323/323\u001b[0m \u001b[32m━━━━━━━━━━━━━━━━━━━━\u001b[0m\u001b[37m\u001b[0m \u001b[1m0s\u001b[0m 988us/step - loss: 2.9196 - mae: 1.2781 - val_loss: 9.9095 - val_mae: 2.1890\n",
      "Epoch 144/500\n",
      "\u001b[1m323/323\u001b[0m \u001b[32m━━━━━━━━━━━━━━━━━━━━\u001b[0m\u001b[37m\u001b[0m \u001b[1m0s\u001b[0m 976us/step - loss: 2.1322 - mae: 0.9917 - val_loss: 9.9605 - val_mae: 2.2501\n",
      "Epoch 145/500\n",
      "\u001b[1m323/323\u001b[0m \u001b[32m━━━━━━━━━━━━━━━━━━━━\u001b[0m\u001b[37m\u001b[0m \u001b[1m0s\u001b[0m 991us/step - loss: 2.6003 - mae: 1.1720 - val_loss: 12.6066 - val_mae: 2.5391\n",
      "Epoch 146/500\n",
      "\u001b[1m323/323\u001b[0m \u001b[32m━━━━━━━━━━━━━━━━━━━━\u001b[0m\u001b[37m\u001b[0m \u001b[1m0s\u001b[0m 893us/step - loss: 2.6782 - mae: 1.1630 - val_loss: 10.3128 - val_mae: 2.3785\n",
      "Epoch 147/500\n",
      "\u001b[1m323/323\u001b[0m \u001b[32m━━━━━━━━━━━━━━━━━━━━\u001b[0m\u001b[37m\u001b[0m \u001b[1m0s\u001b[0m 912us/step - loss: 2.7857 - mae: 1.1792 - val_loss: 9.6807 - val_mae: 2.1946\n",
      "Epoch 148/500\n",
      "\u001b[1m323/323\u001b[0m \u001b[32m━━━━━━━━━━━━━━━━━━━━\u001b[0m\u001b[37m\u001b[0m \u001b[1m0s\u001b[0m 880us/step - loss: 2.6817 - mae: 1.1455 - val_loss: 14.0378 - val_mae: 2.7454\n",
      "Epoch 149/500\n",
      "\u001b[1m323/323\u001b[0m \u001b[32m━━━━━━━━━━━━━━━━━━━━\u001b[0m\u001b[37m\u001b[0m \u001b[1m0s\u001b[0m 946us/step - loss: 2.4403 - mae: 1.1979 - val_loss: 9.6551 - val_mae: 2.2265\n",
      "Epoch 150/500\n",
      "\u001b[1m323/323\u001b[0m \u001b[32m━━━━━━━━━━━━━━━━━━━━\u001b[0m\u001b[37m\u001b[0m \u001b[1m0s\u001b[0m 925us/step - loss: 2.4904 - mae: 1.0613 - val_loss: 10.6451 - val_mae: 2.2158\n",
      "Epoch 151/500\n",
      "\u001b[1m323/323\u001b[0m \u001b[32m━━━━━━━━━━━━━━━━━━━━\u001b[0m\u001b[37m\u001b[0m \u001b[1m0s\u001b[0m 920us/step - loss: 3.4263 - mae: 1.2550 - val_loss: 11.1328 - val_mae: 2.3256\n",
      "Epoch 152/500\n",
      "\u001b[1m323/323\u001b[0m \u001b[32m━━━━━━━━━━━━━━━━━━━━\u001b[0m\u001b[37m\u001b[0m \u001b[1m0s\u001b[0m 1ms/step - loss: 2.5532 - mae: 1.1040 - val_loss: 10.6068 - val_mae: 2.2953\n",
      "Epoch 153/500\n",
      "\u001b[1m323/323\u001b[0m \u001b[32m━━━━━━━━━━━━━━━━━━━━\u001b[0m\u001b[37m\u001b[0m \u001b[1m0s\u001b[0m 914us/step - loss: 2.4225 - mae: 1.1163 - val_loss: 11.4492 - val_mae: 2.3830\n",
      "Epoch 154/500\n",
      "\u001b[1m323/323\u001b[0m \u001b[32m━━━━━━━━━━━━━━━━━━━━\u001b[0m\u001b[37m\u001b[0m \u001b[1m0s\u001b[0m 929us/step - loss: 2.2854 - mae: 1.1098 - val_loss: 11.9954 - val_mae: 2.3596\n",
      "Epoch 155/500\n",
      "\u001b[1m323/323\u001b[0m \u001b[32m━━━━━━━━━━━━━━━━━━━━\u001b[0m\u001b[37m\u001b[0m \u001b[1m0s\u001b[0m 893us/step - loss: 1.9582 - mae: 1.0236 - val_loss: 10.6700 - val_mae: 2.2623\n",
      "Epoch 156/500\n",
      "\u001b[1m323/323\u001b[0m \u001b[32m━━━━━━━━━━━━━━━━━━━━\u001b[0m\u001b[37m\u001b[0m \u001b[1m0s\u001b[0m 959us/step - loss: 3.6594 - mae: 1.2404 - val_loss: 11.2812 - val_mae: 2.3581\n",
      "Epoch 157/500\n",
      "\u001b[1m323/323\u001b[0m \u001b[32m━━━━━━━━━━━━━━━━━━━━\u001b[0m\u001b[37m\u001b[0m \u001b[1m0s\u001b[0m 944us/step - loss: 3.0443 - mae: 1.0879 - val_loss: 10.3448 - val_mae: 2.3514\n",
      "Epoch 158/500\n",
      "\u001b[1m323/323\u001b[0m \u001b[32m━━━━━━━━━━━━━━━━━━━━\u001b[0m\u001b[37m\u001b[0m \u001b[1m0s\u001b[0m 950us/step - loss: 2.8005 - mae: 1.1355 - val_loss: 12.1017 - val_mae: 2.4231\n",
      "Epoch 159/500\n",
      "\u001b[1m323/323\u001b[0m \u001b[32m━━━━━━━━━━━━━━━━━━━━\u001b[0m\u001b[37m\u001b[0m \u001b[1m0s\u001b[0m 1ms/step - loss: 3.0536 - mae: 1.2048 - val_loss: 9.9002 - val_mae: 2.1813\n",
      "Epoch 160/500\n",
      "\u001b[1m323/323\u001b[0m \u001b[32m━━━━━━━━━━━━━━━━━━━━\u001b[0m\u001b[37m\u001b[0m \u001b[1m0s\u001b[0m 879us/step - loss: 2.4061 - mae: 1.1342 - val_loss: 12.0204 - val_mae: 2.4001\n",
      "Epoch 161/500\n",
      "\u001b[1m323/323\u001b[0m \u001b[32m━━━━━━━━━━━━━━━━━━━━\u001b[0m\u001b[37m\u001b[0m \u001b[1m0s\u001b[0m 902us/step - loss: 2.2491 - mae: 1.1203 - val_loss: 9.7801 - val_mae: 2.2842\n",
      "Epoch 162/500\n",
      "\u001b[1m323/323\u001b[0m \u001b[32m━━━━━━━━━━━━━━━━━━━━\u001b[0m\u001b[37m\u001b[0m \u001b[1m0s\u001b[0m 936us/step - loss: 2.5218 - mae: 1.1125 - val_loss: 12.3215 - val_mae: 2.4382\n",
      "Epoch 163/500\n",
      "\u001b[1m323/323\u001b[0m \u001b[32m━━━━━━━━━━━━━━━━━━━━\u001b[0m\u001b[37m\u001b[0m \u001b[1m0s\u001b[0m 959us/step - loss: 2.0811 - mae: 1.0324 - val_loss: 11.6175 - val_mae: 2.5320\n",
      "Epoch 164/500\n",
      "\u001b[1m323/323\u001b[0m \u001b[32m━━━━━━━━━━━━━━━━━━━━\u001b[0m\u001b[37m\u001b[0m \u001b[1m0s\u001b[0m 933us/step - loss: 2.8212 - mae: 1.1330 - val_loss: 10.6634 - val_mae: 2.2926\n",
      "Epoch 165/500\n",
      "\u001b[1m323/323\u001b[0m \u001b[32m━━━━━━━━━━━━━━━━━━━━\u001b[0m\u001b[37m\u001b[0m \u001b[1m0s\u001b[0m 914us/step - loss: 2.1961 - mae: 1.0619 - val_loss: 11.0873 - val_mae: 2.3507\n",
      "Epoch 166/500\n",
      "\u001b[1m323/323\u001b[0m \u001b[32m━━━━━━━━━━━━━━━━━━━━\u001b[0m\u001b[37m\u001b[0m \u001b[1m0s\u001b[0m 964us/step - loss: 2.2810 - mae: 1.0553 - val_loss: 11.7800 - val_mae: 2.4482\n",
      "Epoch 167/500\n",
      "\u001b[1m323/323\u001b[0m \u001b[32m━━━━━━━━━━━━━━━━━━━━\u001b[0m\u001b[37m\u001b[0m \u001b[1m0s\u001b[0m 891us/step - loss: 2.6804 - mae: 1.0789 - val_loss: 10.1297 - val_mae: 2.3432\n",
      "Epoch 168/500\n",
      "\u001b[1m323/323\u001b[0m \u001b[32m━━━━━━━━━━━━━━━━━━━━\u001b[0m\u001b[37m\u001b[0m \u001b[1m0s\u001b[0m 980us/step - loss: 2.2301 - mae: 1.0231 - val_loss: 12.1128 - val_mae: 2.3842\n",
      "Epoch 169/500\n",
      "\u001b[1m323/323\u001b[0m \u001b[32m━━━━━━━━━━━━━━━━━━━━\u001b[0m\u001b[37m\u001b[0m \u001b[1m0s\u001b[0m 913us/step - loss: 1.9878 - mae: 1.0153 - val_loss: 9.9210 - val_mae: 2.1966\n",
      "Epoch 170/500\n",
      "\u001b[1m323/323\u001b[0m \u001b[32m━━━━━━━━━━━━━━━━━━━━\u001b[0m\u001b[37m\u001b[0m \u001b[1m0s\u001b[0m 1ms/step - loss: 2.1439 - mae: 1.0319 - val_loss: 14.7745 - val_mae: 2.8348\n",
      "Epoch 171/500\n",
      "\u001b[1m323/323\u001b[0m \u001b[32m━━━━━━━━━━━━━━━━━━━━\u001b[0m\u001b[37m\u001b[0m \u001b[1m0s\u001b[0m 854us/step - loss: 2.4593 - mae: 1.1348 - val_loss: 13.0688 - val_mae: 2.4385\n",
      "Epoch 172/500\n",
      "\u001b[1m323/323\u001b[0m \u001b[32m━━━━━━━━━━━━━━━━━━━━\u001b[0m\u001b[37m\u001b[0m \u001b[1m0s\u001b[0m 866us/step - loss: 1.9393 - mae: 0.9938 - val_loss: 12.8316 - val_mae: 2.4158\n",
      "Epoch 173/500\n",
      "\u001b[1m323/323\u001b[0m \u001b[32m━━━━━━━━━━━━━━━━━━━━\u001b[0m\u001b[37m\u001b[0m \u001b[1m0s\u001b[0m 993us/step - loss: 2.3672 - mae: 1.1008 - val_loss: 12.0147 - val_mae: 2.3897\n",
      "Epoch 174/500\n",
      "\u001b[1m323/323\u001b[0m \u001b[32m━━━━━━━━━━━━━━━━━━━━\u001b[0m\u001b[37m\u001b[0m \u001b[1m0s\u001b[0m 941us/step - loss: 2.4881 - mae: 1.1136 - val_loss: 10.9038 - val_mae: 2.3058\n",
      "Epoch 175/500\n",
      "\u001b[1m323/323\u001b[0m \u001b[32m━━━━━━━━━━━━━━━━━━━━\u001b[0m\u001b[37m\u001b[0m \u001b[1m0s\u001b[0m 879us/step - loss: 2.1640 - mae: 1.0995 - val_loss: 12.3426 - val_mae: 2.6906\n",
      "Epoch 176/500\n",
      "\u001b[1m323/323\u001b[0m \u001b[32m━━━━━━━━━━━━━━━━━━━━\u001b[0m\u001b[37m\u001b[0m \u001b[1m0s\u001b[0m 1ms/step - loss: 2.4313 - mae: 1.1477 - val_loss: 12.7423 - val_mae: 2.3958\n",
      "Epoch 177/500\n",
      "\u001b[1m323/323\u001b[0m \u001b[32m━━━━━━━━━━━━━━━━━━━━\u001b[0m\u001b[37m\u001b[0m \u001b[1m0s\u001b[0m 961us/step - loss: 1.8684 - mae: 0.9637 - val_loss: 11.6771 - val_mae: 2.4340\n",
      "Epoch 178/500\n",
      "\u001b[1m323/323\u001b[0m \u001b[32m━━━━━━━━━━━━━━━━━━━━\u001b[0m\u001b[37m\u001b[0m \u001b[1m0s\u001b[0m 903us/step - loss: 1.8983 - mae: 1.0189 - val_loss: 11.4512 - val_mae: 2.3578\n",
      "Epoch 179/500\n",
      "\u001b[1m323/323\u001b[0m \u001b[32m━━━━━━━━━━━━━━━━━━━━\u001b[0m\u001b[37m\u001b[0m \u001b[1m0s\u001b[0m 975us/step - loss: 2.7652 - mae: 1.0917 - val_loss: 12.2822 - val_mae: 2.6090\n",
      "Epoch 180/500\n",
      "\u001b[1m323/323\u001b[0m \u001b[32m━━━━━━━━━━━━━━━━━━━━\u001b[0m\u001b[37m\u001b[0m \u001b[1m0s\u001b[0m 919us/step - loss: 2.4010 - mae: 1.0990 - val_loss: 12.3539 - val_mae: 2.4617\n",
      "Epoch 181/500\n",
      "\u001b[1m323/323\u001b[0m \u001b[32m━━━━━━━━━━━━━━━━━━━━\u001b[0m\u001b[37m\u001b[0m \u001b[1m0s\u001b[0m 907us/step - loss: 1.9002 - mae: 0.9479 - val_loss: 9.3793 - val_mae: 2.1529\n",
      "Epoch 182/500\n",
      "\u001b[1m323/323\u001b[0m \u001b[32m━━━━━━━━━━━━━━━━━━━━\u001b[0m\u001b[37m\u001b[0m \u001b[1m0s\u001b[0m 1ms/step - loss: 1.9298 - mae: 0.9998 - val_loss: 12.0240 - val_mae: 2.4243\n",
      "Epoch 183/500\n",
      "\u001b[1m323/323\u001b[0m \u001b[32m━━━━━━━━━━━━━━━━━━━━\u001b[0m\u001b[37m\u001b[0m \u001b[1m0s\u001b[0m 922us/step - loss: 2.3592 - mae: 1.0613 - val_loss: 12.1911 - val_mae: 2.5364\n",
      "Epoch 184/500\n",
      "\u001b[1m323/323\u001b[0m \u001b[32m━━━━━━━━━━━━━━━━━━━━\u001b[0m\u001b[37m\u001b[0m \u001b[1m0s\u001b[0m 897us/step - loss: 2.4785 - mae: 1.1093 - val_loss: 11.1890 - val_mae: 2.3786\n",
      "Epoch 185/500\n",
      "\u001b[1m323/323\u001b[0m \u001b[32m━━━━━━━━━━━━━━━━━━━━\u001b[0m\u001b[37m\u001b[0m \u001b[1m0s\u001b[0m 986us/step - loss: 2.0076 - mae: 1.0206 - val_loss: 9.6082 - val_mae: 2.2062\n",
      "Epoch 186/500\n",
      "\u001b[1m323/323\u001b[0m \u001b[32m━━━━━━━━━━━━━━━━━━━━\u001b[0m\u001b[37m\u001b[0m \u001b[1m0s\u001b[0m 889us/step - loss: 1.8788 - mae: 0.9685 - val_loss: 10.2906 - val_mae: 2.3129\n",
      "Epoch 187/500\n",
      "\u001b[1m323/323\u001b[0m \u001b[32m━━━━━━━━━━━━━━━━━━━━\u001b[0m\u001b[37m\u001b[0m \u001b[1m0s\u001b[0m 894us/step - loss: 1.9357 - mae: 0.9995 - val_loss: 10.9196 - val_mae: 2.4325\n",
      "Epoch 188/500\n",
      "\u001b[1m323/323\u001b[0m \u001b[32m━━━━━━━━━━━━━━━━━━━━\u001b[0m\u001b[37m\u001b[0m \u001b[1m0s\u001b[0m 1ms/step - loss: 1.9008 - mae: 1.0703 - val_loss: 11.0500 - val_mae: 2.3779\n",
      "Epoch 189/500\n",
      "\u001b[1m323/323\u001b[0m \u001b[32m━━━━━━━━━━━━━━━━━━━━\u001b[0m\u001b[37m\u001b[0m \u001b[1m0s\u001b[0m 1ms/step - loss: 1.8754 - mae: 0.9729 - val_loss: 11.1735 - val_mae: 2.4175\n",
      "Epoch 190/500\n",
      "\u001b[1m323/323\u001b[0m \u001b[32m━━━━━━━━━━━━━━━━━━━━\u001b[0m\u001b[37m\u001b[0m \u001b[1m0s\u001b[0m 906us/step - loss: 2.0372 - mae: 1.0263 - val_loss: 10.7409 - val_mae: 2.3346\n",
      "Epoch 191/500\n",
      "\u001b[1m323/323\u001b[0m \u001b[32m━━━━━━━━━━━━━━━━━━━━\u001b[0m\u001b[37m\u001b[0m \u001b[1m0s\u001b[0m 981us/step - loss: 3.0376 - mae: 1.1353 - val_loss: 11.5299 - val_mae: 2.3296\n",
      "Epoch 192/500\n",
      "\u001b[1m323/323\u001b[0m \u001b[32m━━━━━━━━━━━━━━━━━━━━\u001b[0m\u001b[37m\u001b[0m \u001b[1m0s\u001b[0m 990us/step - loss: 2.0045 - mae: 1.1171 - val_loss: 13.0862 - val_mae: 2.5095\n",
      "Epoch 193/500\n",
      "\u001b[1m323/323\u001b[0m \u001b[32m━━━━━━━━━━━━━━━━━━━━\u001b[0m\u001b[37m\u001b[0m \u001b[1m0s\u001b[0m 878us/step - loss: 2.3461 - mae: 1.0457 - val_loss: 13.3187 - val_mae: 2.5857\n",
      "Epoch 194/500\n",
      "\u001b[1m323/323\u001b[0m \u001b[32m━━━━━━━━━━━━━━━━━━━━\u001b[0m\u001b[37m\u001b[0m \u001b[1m0s\u001b[0m 980us/step - loss: 2.2061 - mae: 1.1079 - val_loss: 11.4001 - val_mae: 2.3374\n",
      "Epoch 195/500\n",
      "\u001b[1m323/323\u001b[0m \u001b[32m━━━━━━━━━━━━━━━━━━━━\u001b[0m\u001b[37m\u001b[0m \u001b[1m0s\u001b[0m 887us/step - loss: 2.1235 - mae: 1.0798 - val_loss: 11.9244 - val_mae: 2.3056\n",
      "Epoch 196/500\n",
      "\u001b[1m323/323\u001b[0m \u001b[32m━━━━━━━━━━━━━━━━━━━━\u001b[0m\u001b[37m\u001b[0m \u001b[1m0s\u001b[0m 936us/step - loss: 2.3113 - mae: 1.0784 - val_loss: 14.3366 - val_mae: 2.6220\n",
      "Epoch 197/500\n",
      "\u001b[1m323/323\u001b[0m \u001b[32m━━━━━━━━━━━━━━━━━━━━\u001b[0m\u001b[37m\u001b[0m \u001b[1m0s\u001b[0m 992us/step - loss: 1.9613 - mae: 1.0045 - val_loss: 11.4081 - val_mae: 2.5279\n",
      "Epoch 198/500\n",
      "\u001b[1m323/323\u001b[0m \u001b[32m━━━━━━━━━━━━━━━━━━━━\u001b[0m\u001b[37m\u001b[0m \u001b[1m0s\u001b[0m 975us/step - loss: 1.7894 - mae: 0.9841 - val_loss: 10.3584 - val_mae: 2.3209\n",
      "Epoch 199/500\n",
      "\u001b[1m323/323\u001b[0m \u001b[32m━━━━━━━━━━━━━━━━━━━━\u001b[0m\u001b[37m\u001b[0m \u001b[1m0s\u001b[0m 953us/step - loss: 2.4666 - mae: 1.1249 - val_loss: 10.1178 - val_mae: 2.3348\n",
      "Epoch 200/500\n",
      "\u001b[1m323/323\u001b[0m \u001b[32m━━━━━━━━━━━━━━━━━━━━\u001b[0m\u001b[37m\u001b[0m \u001b[1m0s\u001b[0m 957us/step - loss: 2.2934 - mae: 1.0271 - val_loss: 11.3465 - val_mae: 2.4220\n",
      "Epoch 201/500\n",
      "\u001b[1m323/323\u001b[0m \u001b[32m━━━━━━━━━━━━━━━━━━━━\u001b[0m\u001b[37m\u001b[0m \u001b[1m0s\u001b[0m 948us/step - loss: 2.2459 - mae: 1.0624 - val_loss: 11.9325 - val_mae: 2.4657\n",
      "Epoch 202/500\n",
      "\u001b[1m323/323\u001b[0m \u001b[32m━━━━━━━━━━━━━━━━━━━━\u001b[0m\u001b[37m\u001b[0m \u001b[1m0s\u001b[0m 929us/step - loss: 1.6594 - mae: 0.9302 - val_loss: 11.1377 - val_mae: 2.3616\n",
      "Epoch 203/500\n",
      "\u001b[1m323/323\u001b[0m \u001b[32m━━━━━━━━━━━━━━━━━━━━\u001b[0m\u001b[37m\u001b[0m \u001b[1m0s\u001b[0m 973us/step - loss: 1.9640 - mae: 1.0524 - val_loss: 10.3282 - val_mae: 2.3454\n",
      "Epoch 204/500\n",
      "\u001b[1m323/323\u001b[0m \u001b[32m━━━━━━━━━━━━━━━━━━━━\u001b[0m\u001b[37m\u001b[0m \u001b[1m0s\u001b[0m 967us/step - loss: 1.9403 - mae: 0.9694 - val_loss: 11.1937 - val_mae: 2.3566\n",
      "Epoch 205/500\n",
      "\u001b[1m323/323\u001b[0m \u001b[32m━━━━━━━━━━━━━━━━━━━━\u001b[0m\u001b[37m\u001b[0m \u001b[1m0s\u001b[0m 889us/step - loss: 1.8295 - mae: 1.0249 - val_loss: 12.9970 - val_mae: 2.6393\n",
      "Epoch 206/500\n",
      "\u001b[1m323/323\u001b[0m \u001b[32m━━━━━━━━━━━━━━━━━━━━\u001b[0m\u001b[37m\u001b[0m \u001b[1m0s\u001b[0m 998us/step - loss: 2.0912 - mae: 1.0802 - val_loss: 10.8647 - val_mae: 2.3499\n",
      "Epoch 207/500\n",
      "\u001b[1m323/323\u001b[0m \u001b[32m━━━━━━━━━━━━━━━━━━━━\u001b[0m\u001b[37m\u001b[0m \u001b[1m0s\u001b[0m 909us/step - loss: 1.6542 - mae: 0.9322 - val_loss: 11.1555 - val_mae: 2.3861\n",
      "Epoch 208/500\n",
      "\u001b[1m323/323\u001b[0m \u001b[32m━━━━━━━━━━━━━━━━━━━━\u001b[0m\u001b[37m\u001b[0m \u001b[1m0s\u001b[0m 1000us/step - loss: 1.9160 - mae: 1.0109 - val_loss: 10.6434 - val_mae: 2.3588\n",
      "Epoch 209/500\n",
      "\u001b[1m323/323\u001b[0m \u001b[32m━━━━━━━━━━━━━━━━━━━━\u001b[0m\u001b[37m\u001b[0m \u001b[1m0s\u001b[0m 948us/step - loss: 1.9749 - mae: 1.0155 - val_loss: 11.7078 - val_mae: 2.5423\n",
      "Epoch 210/500\n",
      "\u001b[1m323/323\u001b[0m \u001b[32m━━━━━━━━━━━━━━━━━━━━\u001b[0m\u001b[37m\u001b[0m \u001b[1m0s\u001b[0m 924us/step - loss: 1.6864 - mae: 0.9535 - val_loss: 11.4976 - val_mae: 2.4928\n",
      "Epoch 211/500\n",
      "\u001b[1m323/323\u001b[0m \u001b[32m━━━━━━━━━━━━━━━━━━━━\u001b[0m\u001b[37m\u001b[0m \u001b[1m0s\u001b[0m 1ms/step - loss: 1.7796 - mae: 0.9805 - val_loss: 11.3235 - val_mae: 2.2997\n",
      "Epoch 212/500\n",
      "\u001b[1m323/323\u001b[0m \u001b[32m━━━━━━━━━━━━━━━━━━━━\u001b[0m\u001b[37m\u001b[0m \u001b[1m0s\u001b[0m 954us/step - loss: 2.4501 - mae: 1.0928 - val_loss: 12.6846 - val_mae: 2.5364\n",
      "Epoch 213/500\n",
      "\u001b[1m323/323\u001b[0m \u001b[32m━━━━━━━━━━━━━━━━━━━━\u001b[0m\u001b[37m\u001b[0m \u001b[1m0s\u001b[0m 926us/step - loss: 1.8571 - mae: 0.9774 - val_loss: 10.3776 - val_mae: 2.2966\n",
      "Epoch 214/500\n",
      "\u001b[1m323/323\u001b[0m \u001b[32m━━━━━━━━━━━━━━━━━━━━\u001b[0m\u001b[37m\u001b[0m \u001b[1m0s\u001b[0m 1ms/step - loss: 1.5223 - mae: 0.9132 - val_loss: 12.5198 - val_mae: 2.3837\n",
      "Epoch 215/500\n",
      "\u001b[1m323/323\u001b[0m \u001b[32m━━━━━━━━━━━━━━━━━━━━\u001b[0m\u001b[37m\u001b[0m \u001b[1m0s\u001b[0m 961us/step - loss: 1.7468 - mae: 0.9562 - val_loss: 11.5196 - val_mae: 2.3877\n",
      "Epoch 216/500\n",
      "\u001b[1m323/323\u001b[0m \u001b[32m━━━━━━━━━━━━━━━━━━━━\u001b[0m\u001b[37m\u001b[0m \u001b[1m0s\u001b[0m 1ms/step - loss: 1.9593 - mae: 1.0003 - val_loss: 13.6260 - val_mae: 2.5281\n",
      "Epoch 217/500\n",
      "\u001b[1m323/323\u001b[0m \u001b[32m━━━━━━━━━━━━━━━━━━━━\u001b[0m\u001b[37m\u001b[0m \u001b[1m0s\u001b[0m 966us/step - loss: 1.8989 - mae: 0.9672 - val_loss: 10.9349 - val_mae: 2.2528\n",
      "Epoch 218/500\n",
      "\u001b[1m323/323\u001b[0m \u001b[32m━━━━━━━━━━━━━━━━━━━━\u001b[0m\u001b[37m\u001b[0m \u001b[1m0s\u001b[0m 932us/step - loss: 2.0006 - mae: 1.0405 - val_loss: 11.8184 - val_mae: 2.3949\n",
      "Epoch 219/500\n",
      "\u001b[1m323/323\u001b[0m \u001b[32m━━━━━━━━━━━━━━━━━━━━\u001b[0m\u001b[37m\u001b[0m \u001b[1m0s\u001b[0m 1ms/step - loss: 1.7004 - mae: 0.9655 - val_loss: 10.7636 - val_mae: 2.3469\n",
      "Epoch 220/500\n",
      "\u001b[1m323/323\u001b[0m \u001b[32m━━━━━━━━━━━━━━━━━━━━\u001b[0m\u001b[37m\u001b[0m \u001b[1m0s\u001b[0m 920us/step - loss: 1.9883 - mae: 0.9575 - val_loss: 13.9724 - val_mae: 2.7666\n",
      "Epoch 221/500\n",
      "\u001b[1m323/323\u001b[0m \u001b[32m━━━━━━━━━━━━━━━━━━━━\u001b[0m\u001b[37m\u001b[0m \u001b[1m0s\u001b[0m 1ms/step - loss: 1.8688 - mae: 1.0301 - val_loss: 12.5255 - val_mae: 2.4498\n",
      "Epoch 222/500\n",
      "\u001b[1m323/323\u001b[0m \u001b[32m━━━━━━━━━━━━━━━━━━━━\u001b[0m\u001b[37m\u001b[0m \u001b[1m0s\u001b[0m 963us/step - loss: 1.7992 - mae: 0.9861 - val_loss: 14.4743 - val_mae: 2.5498\n",
      "Epoch 223/500\n",
      "\u001b[1m323/323\u001b[0m \u001b[32m━━━━━━━━━━━━━━━━━━━━\u001b[0m\u001b[37m\u001b[0m \u001b[1m0s\u001b[0m 925us/step - loss: 1.5702 - mae: 0.9002 - val_loss: 13.2446 - val_mae: 2.3404\n",
      "Epoch 224/500\n",
      "\u001b[1m323/323\u001b[0m \u001b[32m━━━━━━━━━━━━━━━━━━━━\u001b[0m\u001b[37m\u001b[0m \u001b[1m0s\u001b[0m 982us/step - loss: 1.7332 - mae: 0.9617 - val_loss: 12.0023 - val_mae: 2.3219\n",
      "Epoch 225/500\n",
      "\u001b[1m323/323\u001b[0m \u001b[32m━━━━━━━━━━━━━━━━━━━━\u001b[0m\u001b[37m\u001b[0m \u001b[1m0s\u001b[0m 915us/step - loss: 1.8581 - mae: 1.0162 - val_loss: 13.3539 - val_mae: 2.5186\n",
      "Epoch 226/500\n",
      "\u001b[1m323/323\u001b[0m \u001b[32m━━━━━━━━━━━━━━━━━━━━\u001b[0m\u001b[37m\u001b[0m \u001b[1m0s\u001b[0m 948us/step - loss: 1.8365 - mae: 0.9578 - val_loss: 12.5802 - val_mae: 2.5398\n",
      "Epoch 227/500\n",
      "\u001b[1m323/323\u001b[0m \u001b[32m━━━━━━━━━━━━━━━━━━━━\u001b[0m\u001b[37m\u001b[0m \u001b[1m0s\u001b[0m 1ms/step - loss: 1.6469 - mae: 0.9658 - val_loss: 11.1415 - val_mae: 2.2390\n",
      "Epoch 228/500\n",
      "\u001b[1m323/323\u001b[0m \u001b[32m━━━━━━━━━━━━━━━━━━━━\u001b[0m\u001b[37m\u001b[0m \u001b[1m0s\u001b[0m 947us/step - loss: 1.9682 - mae: 1.0121 - val_loss: 13.5030 - val_mae: 2.4845\n",
      "Epoch 229/500\n",
      "\u001b[1m323/323\u001b[0m \u001b[32m━━━━━━━━━━━━━━━━━━━━\u001b[0m\u001b[37m\u001b[0m \u001b[1m0s\u001b[0m 1ms/step - loss: 1.8058 - mae: 0.9965 - val_loss: 12.5190 - val_mae: 2.3014\n",
      "Epoch 230/500\n",
      "\u001b[1m323/323\u001b[0m \u001b[32m━━━━━━━━━━━━━━━━━━━━\u001b[0m\u001b[37m\u001b[0m \u001b[1m0s\u001b[0m 922us/step - loss: 1.9569 - mae: 0.9996 - val_loss: 12.2488 - val_mae: 2.3541\n",
      "Epoch 231/500\n",
      "\u001b[1m323/323\u001b[0m \u001b[32m━━━━━━━━━━━━━━━━━━━━\u001b[0m\u001b[37m\u001b[0m \u001b[1m0s\u001b[0m 919us/step - loss: 1.7222 - mae: 0.9293 - val_loss: 11.9206 - val_mae: 2.5657\n",
      "Epoch 232/500\n",
      "\u001b[1m323/323\u001b[0m \u001b[32m━━━━━━━━━━━━━━━━━━━━\u001b[0m\u001b[37m\u001b[0m \u001b[1m0s\u001b[0m 1ms/step - loss: 1.6769 - mae: 0.9543 - val_loss: 13.0575 - val_mae: 2.5728\n",
      "Epoch 233/500\n",
      "\u001b[1m323/323\u001b[0m \u001b[32m━━━━━━━━━━━━━━━━━━━━\u001b[0m\u001b[37m\u001b[0m \u001b[1m0s\u001b[0m 952us/step - loss: 1.7625 - mae: 0.9314 - val_loss: 11.8356 - val_mae: 2.5157\n",
      "Epoch 234/500\n",
      "\u001b[1m323/323\u001b[0m \u001b[32m━━━━━━━━━━━━━━━━━━━━\u001b[0m\u001b[37m\u001b[0m \u001b[1m0s\u001b[0m 1ms/step - loss: 1.4373 - mae: 0.8863 - val_loss: 11.1970 - val_mae: 2.3596\n",
      "Epoch 235/500\n",
      "\u001b[1m323/323\u001b[0m \u001b[32m━━━━━━━━━━━━━━━━━━━━\u001b[0m\u001b[37m\u001b[0m \u001b[1m0s\u001b[0m 894us/step - loss: 1.5284 - mae: 0.9114 - val_loss: 11.6788 - val_mae: 2.4767\n",
      "Epoch 236/500\n",
      "\u001b[1m323/323\u001b[0m \u001b[32m━━━━━━━━━━━━━━━━━━━━\u001b[0m\u001b[37m\u001b[0m \u001b[1m0s\u001b[0m 966us/step - loss: 1.5450 - mae: 0.9161 - val_loss: 11.4624 - val_mae: 2.3778\n",
      "Epoch 237/500\n",
      "\u001b[1m323/323\u001b[0m \u001b[32m━━━━━━━━━━━━━━━━━━━━\u001b[0m\u001b[37m\u001b[0m \u001b[1m0s\u001b[0m 1ms/step - loss: 1.9678 - mae: 0.9799 - val_loss: 11.4325 - val_mae: 2.3778\n",
      "Epoch 238/500\n",
      "\u001b[1m323/323\u001b[0m \u001b[32m━━━━━━━━━━━━━━━━━━━━\u001b[0m\u001b[37m\u001b[0m \u001b[1m0s\u001b[0m 913us/step - loss: 1.8568 - mae: 0.9766 - val_loss: 13.7675 - val_mae: 2.6706\n",
      "Epoch 239/500\n",
      "\u001b[1m323/323\u001b[0m \u001b[32m━━━━━━━━━━━━━━━━━━━━\u001b[0m\u001b[37m\u001b[0m \u001b[1m0s\u001b[0m 1ms/step - loss: 1.8603 - mae: 0.9816 - val_loss: 13.6996 - val_mae: 2.6026\n",
      "Epoch 240/500\n",
      "\u001b[1m323/323\u001b[0m \u001b[32m━━━━━━━━━━━━━━━━━━━━\u001b[0m\u001b[37m\u001b[0m \u001b[1m0s\u001b[0m 935us/step - loss: 1.5746 - mae: 0.9276 - val_loss: 11.5899 - val_mae: 2.3789\n",
      "Epoch 241/500\n",
      "\u001b[1m323/323\u001b[0m \u001b[32m━━━━━━━━━━━━━━━━━━━━\u001b[0m\u001b[37m\u001b[0m \u001b[1m0s\u001b[0m 1ms/step - loss: 1.3982 - mae: 0.8782 - val_loss: 11.2818 - val_mae: 2.2895\n",
      "Epoch 242/500\n",
      "\u001b[1m323/323\u001b[0m \u001b[32m━━━━━━━━━━━━━━━━━━━━\u001b[0m\u001b[37m\u001b[0m \u001b[1m0s\u001b[0m 950us/step - loss: 1.6042 - mae: 0.9779 - val_loss: 11.5966 - val_mae: 2.3610\n",
      "Epoch 243/500\n",
      "\u001b[1m323/323\u001b[0m \u001b[32m━━━━━━━━━━━━━━━━━━━━\u001b[0m\u001b[37m\u001b[0m \u001b[1m0s\u001b[0m 947us/step - loss: 1.5676 - mae: 0.9688 - val_loss: 12.2656 - val_mae: 2.4128\n",
      "Epoch 244/500\n",
      "\u001b[1m323/323\u001b[0m \u001b[32m━━━━━━━━━━━━━━━━━━━━\u001b[0m\u001b[37m\u001b[0m \u001b[1m0s\u001b[0m 1ms/step - loss: 1.4024 - mae: 0.9013 - val_loss: 12.6750 - val_mae: 2.4121\n",
      "Epoch 245/500\n",
      "\u001b[1m323/323\u001b[0m \u001b[32m━━━━━━━━━━━━━━━━━━━━\u001b[0m\u001b[37m\u001b[0m \u001b[1m0s\u001b[0m 927us/step - loss: 1.7028 - mae: 0.9659 - val_loss: 12.6891 - val_mae: 2.4162\n",
      "Epoch 246/500\n",
      "\u001b[1m323/323\u001b[0m \u001b[32m━━━━━━━━━━━━━━━━━━━━\u001b[0m\u001b[37m\u001b[0m \u001b[1m0s\u001b[0m 1ms/step - loss: 1.6477 - mae: 0.9186 - val_loss: 12.2158 - val_mae: 2.2755\n",
      "Epoch 247/500\n",
      "\u001b[1m323/323\u001b[0m \u001b[32m━━━━━━━━━━━━━━━━━━━━\u001b[0m\u001b[37m\u001b[0m \u001b[1m0s\u001b[0m 989us/step - loss: 1.5175 - mae: 0.9114 - val_loss: 13.5662 - val_mae: 2.5503\n",
      "Epoch 248/500\n",
      "\u001b[1m323/323\u001b[0m \u001b[32m━━━━━━━━━━━━━━━━━━━━\u001b[0m\u001b[37m\u001b[0m \u001b[1m0s\u001b[0m 1ms/step - loss: 1.5318 - mae: 0.9317 - val_loss: 13.2245 - val_mae: 2.5595\n",
      "Epoch 249/500\n",
      "\u001b[1m323/323\u001b[0m \u001b[32m━━━━━━━━━━━━━━━━━━━━\u001b[0m\u001b[37m\u001b[0m \u001b[1m0s\u001b[0m 1ms/step - loss: 1.5539 - mae: 0.8931 - val_loss: 12.1628 - val_mae: 2.3613\n",
      "Epoch 250/500\n",
      "\u001b[1m323/323\u001b[0m \u001b[32m━━━━━━━━━━━━━━━━━━━━\u001b[0m\u001b[37m\u001b[0m \u001b[1m0s\u001b[0m 962us/step - loss: 1.6046 - mae: 0.9369 - val_loss: 11.0612 - val_mae: 2.3180\n",
      "Epoch 251/500\n",
      "\u001b[1m323/323\u001b[0m \u001b[32m━━━━━━━━━━━━━━━━━━━━\u001b[0m\u001b[37m\u001b[0m \u001b[1m0s\u001b[0m 998us/step - loss: 1.6255 - mae: 0.9317 - val_loss: 12.5719 - val_mae: 2.4458\n",
      "Epoch 252/500\n",
      "\u001b[1m323/323\u001b[0m \u001b[32m━━━━━━━━━━━━━━━━━━━━\u001b[0m\u001b[37m\u001b[0m \u001b[1m0s\u001b[0m 963us/step - loss: 1.4595 - mae: 0.9115 - val_loss: 11.6852 - val_mae: 2.3258\n",
      "Epoch 253/500\n",
      "\u001b[1m323/323\u001b[0m \u001b[32m━━━━━━━━━━━━━━━━━━━━\u001b[0m\u001b[37m\u001b[0m \u001b[1m0s\u001b[0m 1ms/step - loss: 1.5950 - mae: 0.9230 - val_loss: 10.8642 - val_mae: 2.2195\n",
      "Epoch 254/500\n",
      "\u001b[1m323/323\u001b[0m \u001b[32m━━━━━━━━━━━━━━━━━━━━\u001b[0m\u001b[37m\u001b[0m \u001b[1m0s\u001b[0m 955us/step - loss: 1.4958 - mae: 0.8819 - val_loss: 11.3712 - val_mae: 2.3583\n",
      "Epoch 255/500\n",
      "\u001b[1m323/323\u001b[0m \u001b[32m━━━━━━━━━━━━━━━━━━━━\u001b[0m\u001b[37m\u001b[0m \u001b[1m0s\u001b[0m 976us/step - loss: 1.2550 - mae: 0.8453 - val_loss: 11.2528 - val_mae: 2.3140\n",
      "Epoch 256/500\n",
      "\u001b[1m323/323\u001b[0m \u001b[32m━━━━━━━━━━━━━━━━━━━━\u001b[0m\u001b[37m\u001b[0m \u001b[1m0s\u001b[0m 985us/step - loss: 1.7926 - mae: 0.9726 - val_loss: 13.2598 - val_mae: 2.4865\n",
      "Epoch 257/500\n",
      "\u001b[1m323/323\u001b[0m \u001b[32m━━━━━━━━━━━━━━━━━━━━\u001b[0m\u001b[37m\u001b[0m \u001b[1m0s\u001b[0m 945us/step - loss: 1.2885 - mae: 0.8656 - val_loss: 12.8018 - val_mae: 2.3373\n",
      "Epoch 258/500\n",
      "\u001b[1m323/323\u001b[0m \u001b[32m━━━━━━━━━━━━━━━━━━━━\u001b[0m\u001b[37m\u001b[0m \u001b[1m0s\u001b[0m 900us/step - loss: 1.4832 - mae: 0.8903 - val_loss: 13.9010 - val_mae: 2.4201\n",
      "Epoch 259/500\n",
      "\u001b[1m323/323\u001b[0m \u001b[32m━━━━━━━━━━━━━━━━━━━━\u001b[0m\u001b[37m\u001b[0m \u001b[1m0s\u001b[0m 996us/step - loss: 1.2601 - mae: 0.8554 - val_loss: 12.8536 - val_mae: 2.4573\n",
      "Epoch 260/500\n",
      "\u001b[1m323/323\u001b[0m \u001b[32m━━━━━━━━━━━━━━━━━━━━\u001b[0m\u001b[37m\u001b[0m \u001b[1m0s\u001b[0m 933us/step - loss: 1.4067 - mae: 0.8875 - val_loss: 11.7849 - val_mae: 2.4345\n",
      "Epoch 261/500\n",
      "\u001b[1m323/323\u001b[0m \u001b[32m━━━━━━━━━━━━━━━━━━━━\u001b[0m\u001b[37m\u001b[0m \u001b[1m0s\u001b[0m 1ms/step - loss: 1.3347 - mae: 0.8503 - val_loss: 11.6744 - val_mae: 2.3314\n",
      "Epoch 262/500\n",
      "\u001b[1m323/323\u001b[0m \u001b[32m━━━━━━━━━━━━━━━━━━━━\u001b[0m\u001b[37m\u001b[0m \u001b[1m0s\u001b[0m 988us/step - loss: 1.2950 - mae: 0.8421 - val_loss: 11.6416 - val_mae: 2.2708\n",
      "Epoch 263/500\n",
      "\u001b[1m323/323\u001b[0m \u001b[32m━━━━━━━━━━━━━━━━━━━━\u001b[0m\u001b[37m\u001b[0m \u001b[1m0s\u001b[0m 997us/step - loss: 1.5528 - mae: 0.8676 - val_loss: 13.1249 - val_mae: 2.4611\n",
      "Epoch 264/500\n",
      "\u001b[1m323/323\u001b[0m \u001b[32m━━━━━━━━━━━━━━━━━━━━\u001b[0m\u001b[37m\u001b[0m \u001b[1m1s\u001b[0m 1ms/step - loss: 1.6185 - mae: 0.9543 - val_loss: 15.8398 - val_mae: 2.6399\n",
      "Epoch 265/500\n",
      "\u001b[1m323/323\u001b[0m \u001b[32m━━━━━━━━━━━━━━━━━━━━\u001b[0m\u001b[37m\u001b[0m \u001b[1m0s\u001b[0m 978us/step - loss: 1.2884 - mae: 0.8219 - val_loss: 13.8935 - val_mae: 2.5218\n",
      "Epoch 266/500\n",
      "\u001b[1m323/323\u001b[0m \u001b[32m━━━━━━━━━━━━━━━━━━━━\u001b[0m\u001b[37m\u001b[0m \u001b[1m0s\u001b[0m 1ms/step - loss: 1.7101 - mae: 0.9545 - val_loss: 12.6265 - val_mae: 2.3938\n",
      "Epoch 267/500\n",
      "\u001b[1m323/323\u001b[0m \u001b[32m━━━━━━━━━━━━━━━━━━━━\u001b[0m\u001b[37m\u001b[0m \u001b[1m0s\u001b[0m 960us/step - loss: 1.1595 - mae: 0.7899 - val_loss: 10.6884 - val_mae: 2.2877\n",
      "Epoch 268/500\n",
      "\u001b[1m323/323\u001b[0m \u001b[32m━━━━━━━━━━━━━━━━━━━━\u001b[0m\u001b[37m\u001b[0m \u001b[1m0s\u001b[0m 998us/step - loss: 1.3957 - mae: 0.9002 - val_loss: 10.5013 - val_mae: 2.2961\n",
      "Epoch 269/500\n",
      "\u001b[1m323/323\u001b[0m \u001b[32m━━━━━━━━━━━━━━━━━━━━\u001b[0m\u001b[37m\u001b[0m \u001b[1m0s\u001b[0m 969us/step - loss: 1.4430 - mae: 0.8687 - val_loss: 13.2978 - val_mae: 2.5608\n",
      "Epoch 270/500\n",
      "\u001b[1m323/323\u001b[0m \u001b[32m━━━━━━━━━━━━━━━━━━━━\u001b[0m\u001b[37m\u001b[0m \u001b[1m0s\u001b[0m 932us/step - loss: 1.2169 - mae: 0.8118 - val_loss: 12.4704 - val_mae: 2.4097\n",
      "Epoch 271/500\n",
      "\u001b[1m323/323\u001b[0m \u001b[32m━━━━━━━━━━━━━━━━━━━━\u001b[0m\u001b[37m\u001b[0m \u001b[1m0s\u001b[0m 1ms/step - loss: 1.4518 - mae: 0.8928 - val_loss: 12.6931 - val_mae: 2.5450\n",
      "Epoch 272/500\n",
      "\u001b[1m323/323\u001b[0m \u001b[32m━━━━━━━━━━━━━━━━━━━━\u001b[0m\u001b[37m\u001b[0m \u001b[1m0s\u001b[0m 947us/step - loss: 1.1413 - mae: 0.7815 - val_loss: 12.1890 - val_mae: 2.3968\n",
      "Epoch 273/500\n",
      "\u001b[1m323/323\u001b[0m \u001b[32m━━━━━━━━━━━━━━━━━━━━\u001b[0m\u001b[37m\u001b[0m \u001b[1m0s\u001b[0m 997us/step - loss: 1.4684 - mae: 0.8752 - val_loss: 12.9410 - val_mae: 2.5421\n",
      "Epoch 274/500\n",
      "\u001b[1m323/323\u001b[0m \u001b[32m━━━━━━━━━━━━━━━━━━━━\u001b[0m\u001b[37m\u001b[0m \u001b[1m0s\u001b[0m 924us/step - loss: 1.3892 - mae: 0.8908 - val_loss: 12.6137 - val_mae: 2.4693\n",
      "Epoch 275/500\n",
      "\u001b[1m323/323\u001b[0m \u001b[32m━━━━━━━━━━━━━━━━━━━━\u001b[0m\u001b[37m\u001b[0m \u001b[1m0s\u001b[0m 1ms/step - loss: 1.3675 - mae: 0.8521 - val_loss: 13.8450 - val_mae: 2.6149\n",
      "Epoch 276/500\n",
      "\u001b[1m323/323\u001b[0m \u001b[32m━━━━━━━━━━━━━━━━━━━━\u001b[0m\u001b[37m\u001b[0m \u001b[1m0s\u001b[0m 964us/step - loss: 1.3400 - mae: 0.8426 - val_loss: 17.2367 - val_mae: 2.9149\n",
      "Epoch 277/500\n",
      "\u001b[1m323/323\u001b[0m \u001b[32m━━━━━━━━━━━━━━━━━━━━\u001b[0m\u001b[37m\u001b[0m \u001b[1m0s\u001b[0m 999us/step - loss: 1.4298 - mae: 0.8681 - val_loss: 12.5379 - val_mae: 2.5066\n",
      "Epoch 278/500\n",
      "\u001b[1m323/323\u001b[0m \u001b[32m━━━━━━━━━━━━━━━━━━━━\u001b[0m\u001b[37m\u001b[0m \u001b[1m0s\u001b[0m 977us/step - loss: 1.2861 - mae: 0.8486 - val_loss: 12.2045 - val_mae: 2.6351\n",
      "Epoch 279/500\n",
      "\u001b[1m323/323\u001b[0m \u001b[32m━━━━━━━━━━━━━━━━━━━━\u001b[0m\u001b[37m\u001b[0m \u001b[1m0s\u001b[0m 966us/step - loss: 1.5350 - mae: 0.9162 - val_loss: 17.4213 - val_mae: 2.9262\n",
      "Epoch 280/500\n",
      "\u001b[1m323/323\u001b[0m \u001b[32m━━━━━━━━━━━━━━━━━━━━\u001b[0m\u001b[37m\u001b[0m \u001b[1m0s\u001b[0m 1ms/step - loss: 1.6988 - mae: 0.9107 - val_loss: 11.2261 - val_mae: 2.3762\n",
      "Epoch 281/500\n",
      "\u001b[1m323/323\u001b[0m \u001b[32m━━━━━━━━━━━━━━━━━━━━\u001b[0m\u001b[37m\u001b[0m \u001b[1m0s\u001b[0m 959us/step - loss: 1.5057 - mae: 0.8698 - val_loss: 11.8280 - val_mae: 2.4394\n",
      "Epoch 282/500\n",
      "\u001b[1m323/323\u001b[0m \u001b[32m━━━━━━━━━━━━━━━━━━━━\u001b[0m\u001b[37m\u001b[0m \u001b[1m0s\u001b[0m 1ms/step - loss: 1.6286 - mae: 0.9112 - val_loss: 10.2021 - val_mae: 2.1998\n",
      "Epoch 283/500\n",
      "\u001b[1m323/323\u001b[0m \u001b[32m━━━━━━━━━━━━━━━━━━━━\u001b[0m\u001b[37m\u001b[0m \u001b[1m0s\u001b[0m 932us/step - loss: 1.2716 - mae: 0.8266 - val_loss: 10.4754 - val_mae: 2.2027\n",
      "Epoch 284/500\n",
      "\u001b[1m323/323\u001b[0m \u001b[32m━━━━━━━━━━━━━━━━━━━━\u001b[0m\u001b[37m\u001b[0m \u001b[1m0s\u001b[0m 1ms/step - loss: 1.1060 - mae: 0.7742 - val_loss: 12.5769 - val_mae: 2.5436\n",
      "Epoch 285/500\n",
      "\u001b[1m323/323\u001b[0m \u001b[32m━━━━━━━━━━━━━━━━━━━━\u001b[0m\u001b[37m\u001b[0m \u001b[1m0s\u001b[0m 945us/step - loss: 1.2770 - mae: 0.7891 - val_loss: 12.7631 - val_mae: 2.4939\n",
      "Epoch 286/500\n",
      "\u001b[1m323/323\u001b[0m \u001b[32m━━━━━━━━━━━━━━━━━━━━\u001b[0m\u001b[37m\u001b[0m \u001b[1m0s\u001b[0m 1ms/step - loss: 1.4241 - mae: 0.9134 - val_loss: 10.7002 - val_mae: 2.2767\n",
      "Epoch 287/500\n",
      "\u001b[1m323/323\u001b[0m \u001b[32m━━━━━━━━━━━━━━━━━━━━\u001b[0m\u001b[37m\u001b[0m \u001b[1m0s\u001b[0m 947us/step - loss: 1.2128 - mae: 0.8095 - val_loss: 11.5939 - val_mae: 2.3698\n",
      "Epoch 288/500\n",
      "\u001b[1m323/323\u001b[0m \u001b[32m━━━━━━━━━━━━━━━━━━━━\u001b[0m\u001b[37m\u001b[0m \u001b[1m0s\u001b[0m 1ms/step - loss: 1.4608 - mae: 0.8774 - val_loss: 13.9718 - val_mae: 2.5352\n",
      "Epoch 289/500\n",
      "\u001b[1m323/323\u001b[0m \u001b[32m━━━━━━━━━━━━━━━━━━━━\u001b[0m\u001b[37m\u001b[0m \u001b[1m0s\u001b[0m 949us/step - loss: 1.2896 - mae: 0.8189 - val_loss: 12.3123 - val_mae: 2.4573\n",
      "Epoch 290/500\n",
      "\u001b[1m323/323\u001b[0m \u001b[32m━━━━━━━━━━━━━━━━━━━━\u001b[0m\u001b[37m\u001b[0m \u001b[1m0s\u001b[0m 1ms/step - loss: 1.5673 - mae: 0.8416 - val_loss: 12.7759 - val_mae: 2.4934\n",
      "Epoch 291/500\n",
      "\u001b[1m323/323\u001b[0m \u001b[32m━━━━━━━━━━━━━━━━━━━━\u001b[0m\u001b[37m\u001b[0m \u001b[1m0s\u001b[0m 951us/step - loss: 1.4205 - mae: 0.8612 - val_loss: 13.5216 - val_mae: 2.6979\n",
      "Epoch 292/500\n",
      "\u001b[1m323/323\u001b[0m \u001b[32m━━━━━━━━━━━━━━━━━━━━\u001b[0m\u001b[37m\u001b[0m \u001b[1m0s\u001b[0m 953us/step - loss: 1.5224 - mae: 0.8749 - val_loss: 15.7005 - val_mae: 2.6251\n",
      "Epoch 293/500\n",
      "\u001b[1m323/323\u001b[0m \u001b[32m━━━━━━━━━━━━━━━━━━━━\u001b[0m\u001b[37m\u001b[0m \u001b[1m0s\u001b[0m 1ms/step - loss: 1.4857 - mae: 0.8900 - val_loss: 12.9148 - val_mae: 2.5654\n",
      "Epoch 294/500\n",
      "\u001b[1m323/323\u001b[0m \u001b[32m━━━━━━━━━━━━━━━━━━━━\u001b[0m\u001b[37m\u001b[0m \u001b[1m0s\u001b[0m 912us/step - loss: 1.2010 - mae: 0.8488 - val_loss: 11.3067 - val_mae: 2.3901\n",
      "Epoch 295/500\n",
      "\u001b[1m323/323\u001b[0m \u001b[32m━━━━━━━━━━━━━━━━━━━━\u001b[0m\u001b[37m\u001b[0m \u001b[1m0s\u001b[0m 1ms/step - loss: 1.4106 - mae: 0.8719 - val_loss: 10.2845 - val_mae: 2.3206\n",
      "Epoch 296/500\n",
      "\u001b[1m323/323\u001b[0m \u001b[32m━━━━━━━━━━━━━━━━━━━━\u001b[0m\u001b[37m\u001b[0m \u001b[1m0s\u001b[0m 958us/step - loss: 1.4959 - mae: 0.8981 - val_loss: 11.0724 - val_mae: 2.3081\n",
      "Epoch 297/500\n",
      "\u001b[1m323/323\u001b[0m \u001b[32m━━━━━━━━━━━━━━━━━━━━\u001b[0m\u001b[37m\u001b[0m \u001b[1m0s\u001b[0m 919us/step - loss: 1.2660 - mae: 0.8293 - val_loss: 11.0255 - val_mae: 2.3648\n",
      "Epoch 298/500\n",
      "\u001b[1m323/323\u001b[0m \u001b[32m━━━━━━━━━━━━━━━━━━━━\u001b[0m\u001b[37m\u001b[0m \u001b[1m0s\u001b[0m 1ms/step - loss: 1.2446 - mae: 0.8297 - val_loss: 11.0847 - val_mae: 2.3918\n",
      "Epoch 299/500\n",
      "\u001b[1m323/323\u001b[0m \u001b[32m━━━━━━━━━━━━━━━━━━━━\u001b[0m\u001b[37m\u001b[0m \u001b[1m0s\u001b[0m 965us/step - loss: 1.1970 - mae: 0.8314 - val_loss: 12.2497 - val_mae: 2.5030\n",
      "Epoch 300/500\n",
      "\u001b[1m323/323\u001b[0m \u001b[32m━━━━━━━━━━━━━━━━━━━━\u001b[0m\u001b[37m\u001b[0m \u001b[1m0s\u001b[0m 1ms/step - loss: 1.0787 - mae: 0.7666 - val_loss: 11.5265 - val_mae: 2.4233\n",
      "Epoch 301/500\n",
      "\u001b[1m323/323\u001b[0m \u001b[32m━━━━━━━━━━━━━━━━━━━━\u001b[0m\u001b[37m\u001b[0m \u001b[1m0s\u001b[0m 951us/step - loss: 1.0852 - mae: 0.7467 - val_loss: 11.2093 - val_mae: 2.3974\n",
      "Epoch 302/500\n",
      "\u001b[1m323/323\u001b[0m \u001b[32m━━━━━━━━━━━━━━━━━━━━\u001b[0m\u001b[37m\u001b[0m \u001b[1m0s\u001b[0m 1ms/step - loss: 1.0981 - mae: 0.7701 - val_loss: 13.2581 - val_mae: 2.5349\n",
      "Epoch 303/500\n",
      "\u001b[1m323/323\u001b[0m \u001b[32m━━━━━━━━━━━━━━━━━━━━\u001b[0m\u001b[37m\u001b[0m \u001b[1m0s\u001b[0m 994us/step - loss: 1.1575 - mae: 0.7882 - val_loss: 13.7336 - val_mae: 2.6818\n",
      "Epoch 304/500\n",
      "\u001b[1m323/323\u001b[0m \u001b[32m━━━━━━━━━━━━━━━━━━━━\u001b[0m\u001b[37m\u001b[0m \u001b[1m0s\u001b[0m 1ms/step - loss: 1.1813 - mae: 0.8214 - val_loss: 12.9638 - val_mae: 2.6505\n",
      "Epoch 305/500\n",
      "\u001b[1m323/323\u001b[0m \u001b[32m━━━━━━━━━━━━━━━━━━━━\u001b[0m\u001b[37m\u001b[0m \u001b[1m0s\u001b[0m 941us/step - loss: 1.4541 - mae: 0.8489 - val_loss: 13.2460 - val_mae: 2.6196\n",
      "Epoch 306/500\n",
      "\u001b[1m323/323\u001b[0m \u001b[32m━━━━━━━━━━━━━━━━━━━━\u001b[0m\u001b[37m\u001b[0m \u001b[1m0s\u001b[0m 979us/step - loss: 1.0553 - mae: 0.7538 - val_loss: 19.1954 - val_mae: 3.0294\n",
      "Epoch 307/500\n",
      "\u001b[1m323/323\u001b[0m \u001b[32m━━━━━━━━━━━━━━━━━━━━\u001b[0m\u001b[37m\u001b[0m \u001b[1m0s\u001b[0m 1ms/step - loss: 1.2886 - mae: 0.8589 - val_loss: 12.2174 - val_mae: 2.4410\n",
      "Epoch 308/500\n",
      "\u001b[1m323/323\u001b[0m \u001b[32m━━━━━━━━━━━━━━━━━━━━\u001b[0m\u001b[37m\u001b[0m \u001b[1m0s\u001b[0m 1ms/step - loss: 1.0915 - mae: 0.7846 - val_loss: 15.0650 - val_mae: 2.7405\n",
      "Epoch 309/500\n",
      "\u001b[1m323/323\u001b[0m \u001b[32m━━━━━━━━━━━━━━━━━━━━\u001b[0m\u001b[37m\u001b[0m \u001b[1m0s\u001b[0m 960us/step - loss: 1.6831 - mae: 0.8232 - val_loss: 10.9054 - val_mae: 2.3475\n",
      "Epoch 310/500\n",
      "\u001b[1m323/323\u001b[0m \u001b[32m━━━━━━━━━━━━━━━━━━━━\u001b[0m\u001b[37m\u001b[0m \u001b[1m0s\u001b[0m 1ms/step - loss: 1.1905 - mae: 0.7890 - val_loss: 11.7523 - val_mae: 2.3580\n",
      "Epoch 311/500\n",
      "\u001b[1m323/323\u001b[0m \u001b[32m━━━━━━━━━━━━━━━━━━━━\u001b[0m\u001b[37m\u001b[0m \u001b[1m0s\u001b[0m 955us/step - loss: 1.2105 - mae: 0.8141 - val_loss: 12.4189 - val_mae: 2.5732\n",
      "Epoch 312/500\n",
      "\u001b[1m323/323\u001b[0m \u001b[32m━━━━━━━━━━━━━━━━━━━━\u001b[0m\u001b[37m\u001b[0m \u001b[1m0s\u001b[0m 1ms/step - loss: 1.1111 - mae: 0.7645 - val_loss: 13.0118 - val_mae: 2.6405\n",
      "Epoch 313/500\n",
      "\u001b[1m323/323\u001b[0m \u001b[32m━━━━━━━━━━━━━━━━━━━━\u001b[0m\u001b[37m\u001b[0m \u001b[1m0s\u001b[0m 986us/step - loss: 1.1890 - mae: 0.8033 - val_loss: 12.9286 - val_mae: 2.4929\n",
      "Epoch 314/500\n",
      "\u001b[1m323/323\u001b[0m \u001b[32m━━━━━━━━━━━━━━━━━━━━\u001b[0m\u001b[37m\u001b[0m \u001b[1m0s\u001b[0m 1ms/step - loss: 1.2885 - mae: 0.8494 - val_loss: 11.9875 - val_mae: 2.5482\n",
      "Epoch 315/500\n",
      "\u001b[1m323/323\u001b[0m \u001b[32m━━━━━━━━━━━━━━━━━━━━\u001b[0m\u001b[37m\u001b[0m \u001b[1m0s\u001b[0m 988us/step - loss: 1.3427 - mae: 0.8225 - val_loss: 12.1582 - val_mae: 2.3850\n",
      "Epoch 316/500\n",
      "\u001b[1m323/323\u001b[0m \u001b[32m━━━━━━━━━━━━━━━━━━━━\u001b[0m\u001b[37m\u001b[0m \u001b[1m0s\u001b[0m 1ms/step - loss: 1.0314 - mae: 0.7484 - val_loss: 12.6206 - val_mae: 2.5615\n",
      "Epoch 317/500\n",
      "\u001b[1m323/323\u001b[0m \u001b[32m━━━━━━━━━━━━━━━━━━━━\u001b[0m\u001b[37m\u001b[0m \u001b[1m0s\u001b[0m 986us/step - loss: 1.2588 - mae: 0.8132 - val_loss: 11.8947 - val_mae: 2.4390\n",
      "Epoch 318/500\n",
      "\u001b[1m323/323\u001b[0m \u001b[32m━━━━━━━━━━━━━━━━━━━━\u001b[0m\u001b[37m\u001b[0m \u001b[1m0s\u001b[0m 1ms/step - loss: 1.3097 - mae: 0.8229 - val_loss: 12.7577 - val_mae: 2.4903\n",
      "Epoch 319/500\n",
      "\u001b[1m323/323\u001b[0m \u001b[32m━━━━━━━━━━━━━━━━━━━━\u001b[0m\u001b[37m\u001b[0m \u001b[1m0s\u001b[0m 1ms/step - loss: 1.0426 - mae: 0.7108 - val_loss: 11.1158 - val_mae: 2.3571\n",
      "Epoch 320/500\n",
      "\u001b[1m323/323\u001b[0m \u001b[32m━━━━━━━━━━━━━━━━━━━━\u001b[0m\u001b[37m\u001b[0m \u001b[1m0s\u001b[0m 1ms/step - loss: 1.3248 - mae: 0.8109 - val_loss: 12.0999 - val_mae: 2.4476\n",
      "Epoch 321/500\n",
      "\u001b[1m323/323\u001b[0m \u001b[32m━━━━━━━━━━━━━━━━━━━━\u001b[0m\u001b[37m\u001b[0m \u001b[1m0s\u001b[0m 1ms/step - loss: 1.0469 - mae: 0.7196 - val_loss: 12.4890 - val_mae: 2.4610\n",
      "Epoch 322/500\n",
      "\u001b[1m323/323\u001b[0m \u001b[32m━━━━━━━━━━━━━━━━━━━━\u001b[0m\u001b[37m\u001b[0m \u001b[1m0s\u001b[0m 1ms/step - loss: 1.2787 - mae: 0.8255 - val_loss: 12.6259 - val_mae: 2.5318\n",
      "Epoch 323/500\n",
      "\u001b[1m323/323\u001b[0m \u001b[32m━━━━━━━━━━━━━━━━━━━━\u001b[0m\u001b[37m\u001b[0m \u001b[1m0s\u001b[0m 987us/step - loss: 1.4561 - mae: 0.9042 - val_loss: 11.9254 - val_mae: 2.4682\n",
      "Epoch 324/500\n",
      "\u001b[1m323/323\u001b[0m \u001b[32m━━━━━━━━━━━━━━━━━━━━\u001b[0m\u001b[37m\u001b[0m \u001b[1m0s\u001b[0m 1ms/step - loss: 1.2163 - mae: 0.8336 - val_loss: 12.1921 - val_mae: 2.5343\n",
      "Epoch 325/500\n",
      "\u001b[1m323/323\u001b[0m \u001b[32m━━━━━━━━━━━━━━━━━━━━\u001b[0m\u001b[37m\u001b[0m \u001b[1m0s\u001b[0m 941us/step - loss: 1.0958 - mae: 0.7827 - val_loss: 11.2596 - val_mae: 2.3724\n",
      "Epoch 326/500\n",
      "\u001b[1m323/323\u001b[0m \u001b[32m━━━━━━━━━━━━━━━━━━━━\u001b[0m\u001b[37m\u001b[0m \u001b[1m0s\u001b[0m 1ms/step - loss: 0.9808 - mae: 0.7347 - val_loss: 10.8445 - val_mae: 2.4018\n",
      "Epoch 327/500\n",
      "\u001b[1m323/323\u001b[0m \u001b[32m━━━━━━━━━━━━━━━━━━━━\u001b[0m\u001b[37m\u001b[0m \u001b[1m0s\u001b[0m 994us/step - loss: 1.3988 - mae: 0.8660 - val_loss: 10.7247 - val_mae: 2.3017\n",
      "Epoch 328/500\n",
      "\u001b[1m323/323\u001b[0m \u001b[32m━━━━━━━━━━━━━━━━━━━━\u001b[0m\u001b[37m\u001b[0m \u001b[1m0s\u001b[0m 1ms/step - loss: 1.1309 - mae: 0.7994 - val_loss: 12.2217 - val_mae: 2.3891\n",
      "Epoch 329/500\n",
      "\u001b[1m323/323\u001b[0m \u001b[32m━━━━━━━━━━━━━━━━━━━━\u001b[0m\u001b[37m\u001b[0m \u001b[1m0s\u001b[0m 969us/step - loss: 1.2178 - mae: 0.8215 - val_loss: 11.4138 - val_mae: 2.2876\n",
      "Epoch 330/500\n",
      "\u001b[1m323/323\u001b[0m \u001b[32m━━━━━━━━━━━━━━━━━━━━\u001b[0m\u001b[37m\u001b[0m \u001b[1m0s\u001b[0m 1ms/step - loss: 1.2264 - mae: 0.7881 - val_loss: 12.7897 - val_mae: 2.4472\n",
      "Epoch 331/500\n",
      "\u001b[1m323/323\u001b[0m \u001b[32m━━━━━━━━━━━━━━━━━━━━\u001b[0m\u001b[37m\u001b[0m \u001b[1m0s\u001b[0m 1ms/step - loss: 0.9169 - mae: 0.7383 - val_loss: 11.8809 - val_mae: 2.3269\n",
      "Epoch 332/500\n",
      "\u001b[1m323/323\u001b[0m \u001b[32m━━━━━━━━━━━━━━━━━━━━\u001b[0m\u001b[37m\u001b[0m \u001b[1m0s\u001b[0m 1ms/step - loss: 1.1866 - mae: 0.7748 - val_loss: 12.0066 - val_mae: 2.4522\n",
      "Epoch 333/500\n",
      "\u001b[1m323/323\u001b[0m \u001b[32m━━━━━━━━━━━━━━━━━━━━\u001b[0m\u001b[37m\u001b[0m \u001b[1m0s\u001b[0m 1ms/step - loss: 1.1673 - mae: 0.7888 - val_loss: 10.6744 - val_mae: 2.3561\n",
      "Epoch 334/500\n",
      "\u001b[1m323/323\u001b[0m \u001b[32m━━━━━━━━━━━━━━━━━━━━\u001b[0m\u001b[37m\u001b[0m \u001b[1m0s\u001b[0m 1ms/step - loss: 1.0571 - mae: 0.7567 - val_loss: 10.1921 - val_mae: 2.2659\n",
      "Epoch 335/500\n",
      "\u001b[1m323/323\u001b[0m \u001b[32m━━━━━━━━━━━━━━━━━━━━\u001b[0m\u001b[37m\u001b[0m \u001b[1m0s\u001b[0m 953us/step - loss: 1.0913 - mae: 0.7900 - val_loss: 13.4775 - val_mae: 2.6828\n",
      "Epoch 336/500\n",
      "\u001b[1m323/323\u001b[0m \u001b[32m━━━━━━━━━━━━━━━━━━━━\u001b[0m\u001b[37m\u001b[0m \u001b[1m0s\u001b[0m 1ms/step - loss: 1.3152 - mae: 0.8958 - val_loss: 11.1318 - val_mae: 2.4711\n",
      "Epoch 337/500\n",
      "\u001b[1m323/323\u001b[0m \u001b[32m━━━━━━━━━━━━━━━━━━━━\u001b[0m\u001b[37m\u001b[0m \u001b[1m0s\u001b[0m 943us/step - loss: 1.1800 - mae: 0.8079 - val_loss: 13.5516 - val_mae: 2.5929\n",
      "Epoch 338/500\n",
      "\u001b[1m323/323\u001b[0m \u001b[32m━━━━━━━━━━━━━━━━━━━━\u001b[0m\u001b[37m\u001b[0m \u001b[1m0s\u001b[0m 1ms/step - loss: 1.4716 - mae: 0.8665 - val_loss: 11.7940 - val_mae: 2.4159\n",
      "Epoch 339/500\n",
      "\u001b[1m323/323\u001b[0m \u001b[32m━━━━━━━━━━━━━━━━━━━━\u001b[0m\u001b[37m\u001b[0m \u001b[1m0s\u001b[0m 949us/step - loss: 0.9632 - mae: 0.7256 - val_loss: 13.9442 - val_mae: 2.6419\n",
      "Epoch 340/500\n",
      "\u001b[1m323/323\u001b[0m \u001b[32m━━━━━━━━━━━━━━━━━━━━\u001b[0m\u001b[37m\u001b[0m \u001b[1m0s\u001b[0m 1ms/step - loss: 1.2262 - mae: 0.8197 - val_loss: 10.9153 - val_mae: 2.2883\n",
      "Epoch 341/500\n",
      "\u001b[1m323/323\u001b[0m \u001b[32m━━━━━━━━━━━━━━━━━━━━\u001b[0m\u001b[37m\u001b[0m \u001b[1m0s\u001b[0m 1ms/step - loss: 1.1450 - mae: 0.7551 - val_loss: 12.1605 - val_mae: 2.4920\n",
      "Epoch 342/500\n",
      "\u001b[1m323/323\u001b[0m \u001b[32m━━━━━━━━━━━━━━━━━━━━\u001b[0m\u001b[37m\u001b[0m \u001b[1m0s\u001b[0m 1ms/step - loss: 1.1474 - mae: 0.7712 - val_loss: 13.1317 - val_mae: 2.6085\n",
      "Epoch 343/500\n",
      "\u001b[1m323/323\u001b[0m \u001b[32m━━━━━━━━━━━━━━━━━━━━\u001b[0m\u001b[37m\u001b[0m \u001b[1m0s\u001b[0m 1ms/step - loss: 1.1623 - mae: 0.7970 - val_loss: 13.0454 - val_mae: 2.5712\n",
      "Epoch 344/500\n",
      "\u001b[1m323/323\u001b[0m \u001b[32m━━━━━━━━━━━━━━━━━━━━\u001b[0m\u001b[37m\u001b[0m \u001b[1m0s\u001b[0m 1ms/step - loss: 1.2203 - mae: 0.8243 - val_loss: 10.8574 - val_mae: 2.2835\n",
      "Epoch 345/500\n",
      "\u001b[1m323/323\u001b[0m \u001b[32m━━━━━━━━━━━━━━━━━━━━\u001b[0m\u001b[37m\u001b[0m \u001b[1m0s\u001b[0m 951us/step - loss: 1.0531 - mae: 0.7467 - val_loss: 11.6226 - val_mae: 2.5013\n",
      "Epoch 346/500\n",
      "\u001b[1m323/323\u001b[0m \u001b[32m━━━━━━━━━━━━━━━━━━━━\u001b[0m\u001b[37m\u001b[0m \u001b[1m0s\u001b[0m 1ms/step - loss: 0.8915 - mae: 0.7113 - val_loss: 11.2128 - val_mae: 2.3796\n",
      "Epoch 347/500\n",
      "\u001b[1m323/323\u001b[0m \u001b[32m━━━━━━━━━━━━━━━━━━━━\u001b[0m\u001b[37m\u001b[0m \u001b[1m0s\u001b[0m 960us/step - loss: 1.0566 - mae: 0.7579 - val_loss: 11.4694 - val_mae: 2.3175\n",
      "Epoch 348/500\n",
      "\u001b[1m323/323\u001b[0m \u001b[32m━━━━━━━━━━━━━━━━━━━━\u001b[0m\u001b[37m\u001b[0m \u001b[1m0s\u001b[0m 1ms/step - loss: 0.9878 - mae: 0.7382 - val_loss: 11.6606 - val_mae: 2.3246\n",
      "Epoch 349/500\n",
      "\u001b[1m323/323\u001b[0m \u001b[32m━━━━━━━━━━━━━━━━━━━━\u001b[0m\u001b[37m\u001b[0m \u001b[1m0s\u001b[0m 1ms/step - loss: 1.1107 - mae: 0.7777 - val_loss: 11.3853 - val_mae: 2.4016\n",
      "Epoch 350/500\n",
      "\u001b[1m323/323\u001b[0m \u001b[32m━━━━━━━━━━━━━━━━━━━━\u001b[0m\u001b[37m\u001b[0m \u001b[1m0s\u001b[0m 969us/step - loss: 0.9540 - mae: 0.7155 - val_loss: 10.8096 - val_mae: 2.2559\n",
      "Epoch 351/500\n",
      "\u001b[1m323/323\u001b[0m \u001b[32m━━━━━━━━━━━━━━━━━━━━\u001b[0m\u001b[37m\u001b[0m \u001b[1m0s\u001b[0m 1ms/step - loss: 0.9577 - mae: 0.7305 - val_loss: 10.9676 - val_mae: 2.3428\n",
      "Epoch 352/500\n",
      "\u001b[1m323/323\u001b[0m \u001b[32m━━━━━━━━━━━━━━━━━━━━\u001b[0m\u001b[37m\u001b[0m \u001b[1m0s\u001b[0m 938us/step - loss: 0.8815 - mae: 0.7239 - val_loss: 11.1379 - val_mae: 2.3673\n",
      "Epoch 353/500\n",
      "\u001b[1m323/323\u001b[0m \u001b[32m━━━━━━━━━━━━━━━━━━━━\u001b[0m\u001b[37m\u001b[0m \u001b[1m0s\u001b[0m 997us/step - loss: 0.9983 - mae: 0.7657 - val_loss: 13.1731 - val_mae: 2.4585\n",
      "Epoch 354/500\n",
      "\u001b[1m323/323\u001b[0m \u001b[32m━━━━━━━━━━━━━━━━━━━━\u001b[0m\u001b[37m\u001b[0m \u001b[1m0s\u001b[0m 960us/step - loss: 1.3016 - mae: 0.8385 - val_loss: 11.6955 - val_mae: 2.4619\n",
      "Epoch 355/500\n",
      "\u001b[1m323/323\u001b[0m \u001b[32m━━━━━━━━━━━━━━━━━━━━\u001b[0m\u001b[37m\u001b[0m \u001b[1m0s\u001b[0m 1ms/step - loss: 1.1408 - mae: 0.7762 - val_loss: 12.0114 - val_mae: 2.3480\n",
      "Epoch 356/500\n",
      "\u001b[1m323/323\u001b[0m \u001b[32m━━━━━━━━━━━━━━━━━━━━\u001b[0m\u001b[37m\u001b[0m \u001b[1m0s\u001b[0m 991us/step - loss: 0.9822 - mae: 0.7258 - val_loss: 13.4564 - val_mae: 2.6258\n",
      "Epoch 357/500\n",
      "\u001b[1m323/323\u001b[0m \u001b[32m━━━━━━━━━━━━━━━━━━━━\u001b[0m\u001b[37m\u001b[0m \u001b[1m0s\u001b[0m 1ms/step - loss: 1.1505 - mae: 0.7768 - val_loss: 13.4814 - val_mae: 2.6731\n",
      "Epoch 358/500\n",
      "\u001b[1m323/323\u001b[0m \u001b[32m━━━━━━━━━━━━━━━━━━━━\u001b[0m\u001b[37m\u001b[0m \u001b[1m0s\u001b[0m 1ms/step - loss: 1.2972 - mae: 0.7933 - val_loss: 12.2594 - val_mae: 2.4840\n",
      "Epoch 359/500\n",
      "\u001b[1m323/323\u001b[0m \u001b[32m━━━━━━━━━━━━━━━━━━━━\u001b[0m\u001b[37m\u001b[0m \u001b[1m0s\u001b[0m 1ms/step - loss: 1.2526 - mae: 0.8174 - val_loss: 11.9083 - val_mae: 2.3863\n",
      "Epoch 360/500\n",
      "\u001b[1m323/323\u001b[0m \u001b[32m━━━━━━━━━━━━━━━━━━━━\u001b[0m\u001b[37m\u001b[0m \u001b[1m0s\u001b[0m 1ms/step - loss: 1.1212 - mae: 0.8225 - val_loss: 11.4870 - val_mae: 2.4734\n",
      "Epoch 361/500\n",
      "\u001b[1m323/323\u001b[0m \u001b[32m━━━━━━━━━━━━━━━━━━━━\u001b[0m\u001b[37m\u001b[0m \u001b[1m0s\u001b[0m 1ms/step - loss: 0.9183 - mae: 0.7151 - val_loss: 10.6067 - val_mae: 2.2850\n",
      "Epoch 362/500\n",
      "\u001b[1m323/323\u001b[0m \u001b[32m━━━━━━━━━━━━━━━━━━━━\u001b[0m\u001b[37m\u001b[0m \u001b[1m0s\u001b[0m 1ms/step - loss: 1.1005 - mae: 0.7515 - val_loss: 10.9380 - val_mae: 2.3534\n",
      "Epoch 363/500\n",
      "\u001b[1m323/323\u001b[0m \u001b[32m━━━━━━━━━━━━━━━━━━━━\u001b[0m\u001b[37m\u001b[0m \u001b[1m0s\u001b[0m 991us/step - loss: 1.0232 - mae: 0.7557 - val_loss: 11.5306 - val_mae: 2.3169\n",
      "Epoch 364/500\n",
      "\u001b[1m323/323\u001b[0m \u001b[32m━━━━━━━━━━━━━━━━━━━━\u001b[0m\u001b[37m\u001b[0m \u001b[1m0s\u001b[0m 1ms/step - loss: 1.0325 - mae: 0.7341 - val_loss: 10.2768 - val_mae: 2.3106\n",
      "Epoch 365/500\n",
      "\u001b[1m323/323\u001b[0m \u001b[32m━━━━━━━━━━━━━━━━━━━━\u001b[0m\u001b[37m\u001b[0m \u001b[1m0s\u001b[0m 1ms/step - loss: 1.2819 - mae: 0.8234 - val_loss: 11.0271 - val_mae: 2.2694\n",
      "Epoch 366/500\n",
      "\u001b[1m323/323\u001b[0m \u001b[32m━━━━━━━━━━━━━━━━━━━━\u001b[0m\u001b[37m\u001b[0m \u001b[1m0s\u001b[0m 1ms/step - loss: 0.9185 - mae: 0.6923 - val_loss: 10.5799 - val_mae: 2.2105\n",
      "Epoch 367/500\n",
      "\u001b[1m323/323\u001b[0m \u001b[32m━━━━━━━━━━━━━━━━━━━━\u001b[0m\u001b[37m\u001b[0m \u001b[1m0s\u001b[0m 991us/step - loss: 1.1627 - mae: 0.7491 - val_loss: 10.7846 - val_mae: 2.2844\n",
      "Epoch 368/500\n",
      "\u001b[1m323/323\u001b[0m \u001b[32m━━━━━━━━━━━━━━━━━━━━\u001b[0m\u001b[37m\u001b[0m \u001b[1m0s\u001b[0m 1ms/step - loss: 1.2493 - mae: 0.8345 - val_loss: 11.9465 - val_mae: 2.5101\n",
      "Epoch 369/500\n",
      "\u001b[1m323/323\u001b[0m \u001b[32m━━━━━━━━━━━━━━━━━━━━\u001b[0m\u001b[37m\u001b[0m \u001b[1m0s\u001b[0m 1ms/step - loss: 0.8660 - mae: 0.7077 - val_loss: 12.1666 - val_mae: 2.4949\n",
      "Epoch 370/500\n",
      "\u001b[1m323/323\u001b[0m \u001b[32m━━━━━━━━━━━━━━━━━━━━\u001b[0m\u001b[37m\u001b[0m \u001b[1m0s\u001b[0m 1ms/step - loss: 0.9692 - mae: 0.7349 - val_loss: 10.4209 - val_mae: 2.2953\n",
      "Epoch 371/500\n",
      "\u001b[1m323/323\u001b[0m \u001b[32m━━━━━━━━━━━━━━━━━━━━\u001b[0m\u001b[37m\u001b[0m \u001b[1m0s\u001b[0m 1ms/step - loss: 1.0025 - mae: 0.7405 - val_loss: 10.9870 - val_mae: 2.5078\n",
      "Epoch 372/500\n",
      "\u001b[1m323/323\u001b[0m \u001b[32m━━━━━━━━━━━━━━━━━━━━\u001b[0m\u001b[37m\u001b[0m \u001b[1m0s\u001b[0m 1ms/step - loss: 0.8793 - mae: 0.6983 - val_loss: 16.1568 - val_mae: 2.8233\n",
      "Epoch 373/500\n",
      "\u001b[1m323/323\u001b[0m \u001b[32m━━━━━━━━━━━━━━━━━━━━\u001b[0m\u001b[37m\u001b[0m \u001b[1m0s\u001b[0m 1ms/step - loss: 1.1914 - mae: 0.7868 - val_loss: 10.1604 - val_mae: 2.2207\n",
      "Epoch 374/500\n",
      "\u001b[1m323/323\u001b[0m \u001b[32m━━━━━━━━━━━━━━━━━━━━\u001b[0m\u001b[37m\u001b[0m \u001b[1m0s\u001b[0m 982us/step - loss: 0.9441 - mae: 0.7460 - val_loss: 11.3886 - val_mae: 2.4197\n",
      "Epoch 375/500\n",
      "\u001b[1m323/323\u001b[0m \u001b[32m━━━━━━━━━━━━━━━━━━━━\u001b[0m\u001b[37m\u001b[0m \u001b[1m0s\u001b[0m 1ms/step - loss: 0.9933 - mae: 0.7487 - val_loss: 12.0417 - val_mae: 2.4451\n",
      "Epoch 376/500\n",
      "\u001b[1m323/323\u001b[0m \u001b[32m━━━━━━━━━━━━━━━━━━━━\u001b[0m\u001b[37m\u001b[0m \u001b[1m0s\u001b[0m 1000us/step - loss: 1.0136 - mae: 0.7451 - val_loss: 11.6887 - val_mae: 2.4503\n",
      "Epoch 377/500\n",
      "\u001b[1m323/323\u001b[0m \u001b[32m━━━━━━━━━━━━━━━━━━━━\u001b[0m\u001b[37m\u001b[0m \u001b[1m0s\u001b[0m 1ms/step - loss: 1.0122 - mae: 0.7551 - val_loss: 10.4012 - val_mae: 2.3395\n",
      "Epoch 378/500\n",
      "\u001b[1m323/323\u001b[0m \u001b[32m━━━━━━━━━━━━━━━━━━━━\u001b[0m\u001b[37m\u001b[0m \u001b[1m0s\u001b[0m 984us/step - loss: 0.9734 - mae: 0.7307 - val_loss: 10.7896 - val_mae: 2.3382\n",
      "Epoch 379/500\n",
      "\u001b[1m323/323\u001b[0m \u001b[32m━━━━━━━━━━━━━━━━━━━━\u001b[0m\u001b[37m\u001b[0m \u001b[1m0s\u001b[0m 1ms/step - loss: 1.1574 - mae: 0.8029 - val_loss: 10.7860 - val_mae: 2.3825\n",
      "Epoch 380/500\n",
      "\u001b[1m323/323\u001b[0m \u001b[32m━━━━━━━━━━━━━━━━━━━━\u001b[0m\u001b[37m\u001b[0m \u001b[1m0s\u001b[0m 1ms/step - loss: 0.9950 - mae: 0.7636 - val_loss: 10.9231 - val_mae: 2.3939\n",
      "Epoch 381/500\n",
      "\u001b[1m323/323\u001b[0m \u001b[32m━━━━━━━━━━━━━━━━━━━━\u001b[0m\u001b[37m\u001b[0m \u001b[1m0s\u001b[0m 1ms/step - loss: 0.8441 - mae: 0.6981 - val_loss: 13.3848 - val_mae: 2.5522\n",
      "Epoch 382/500\n",
      "\u001b[1m323/323\u001b[0m \u001b[32m━━━━━━━━━━━━━━━━━━━━\u001b[0m\u001b[37m\u001b[0m \u001b[1m0s\u001b[0m 982us/step - loss: 1.0512 - mae: 0.7706 - val_loss: 11.0049 - val_mae: 2.3869\n",
      "Epoch 383/500\n",
      "\u001b[1m323/323\u001b[0m \u001b[32m━━━━━━━━━━━━━━━━━━━━\u001b[0m\u001b[37m\u001b[0m \u001b[1m0s\u001b[0m 1ms/step - loss: 1.0108 - mae: 0.7875 - val_loss: 10.7490 - val_mae: 2.3254\n",
      "Epoch 384/500\n",
      "\u001b[1m323/323\u001b[0m \u001b[32m━━━━━━━━━━━━━━━━━━━━\u001b[0m\u001b[37m\u001b[0m \u001b[1m0s\u001b[0m 991us/step - loss: 1.1374 - mae: 0.8247 - val_loss: 11.2917 - val_mae: 2.3895\n",
      "Epoch 385/500\n",
      "\u001b[1m323/323\u001b[0m \u001b[32m━━━━━━━━━━━━━━━━━━━━\u001b[0m\u001b[37m\u001b[0m \u001b[1m0s\u001b[0m 1ms/step - loss: 0.9752 - mae: 0.7186 - val_loss: 11.8854 - val_mae: 2.3835\n",
      "Epoch 386/500\n",
      "\u001b[1m323/323\u001b[0m \u001b[32m━━━━━━━━━━━━━━━━━━━━\u001b[0m\u001b[37m\u001b[0m \u001b[1m0s\u001b[0m 1ms/step - loss: 1.0644 - mae: 0.7578 - val_loss: 12.5610 - val_mae: 2.4644\n",
      "Epoch 387/500\n",
      "\u001b[1m323/323\u001b[0m \u001b[32m━━━━━━━━━━━━━━━━━━━━\u001b[0m\u001b[37m\u001b[0m \u001b[1m0s\u001b[0m 932us/step - loss: 1.0218 - mae: 0.7444 - val_loss: 12.0421 - val_mae: 2.5066\n",
      "Epoch 388/500\n",
      "\u001b[1m323/323\u001b[0m \u001b[32m━━━━━━━━━━━━━━━━━━━━\u001b[0m\u001b[37m\u001b[0m \u001b[1m0s\u001b[0m 1ms/step - loss: 0.8852 - mae: 0.7008 - val_loss: 10.3182 - val_mae: 2.3032\n",
      "Epoch 389/500\n",
      "\u001b[1m323/323\u001b[0m \u001b[32m━━━━━━━━━━━━━━━━━━━━\u001b[0m\u001b[37m\u001b[0m \u001b[1m0s\u001b[0m 1ms/step - loss: 0.9260 - mae: 0.6868 - val_loss: 12.4479 - val_mae: 2.4895\n",
      "Epoch 390/500\n",
      "\u001b[1m323/323\u001b[0m \u001b[32m━━━━━━━━━━━━━━━━━━━━\u001b[0m\u001b[37m\u001b[0m \u001b[1m0s\u001b[0m 937us/step - loss: 1.2803 - mae: 0.8205 - val_loss: 11.7588 - val_mae: 2.4970\n",
      "Epoch 391/500\n",
      "\u001b[1m323/323\u001b[0m \u001b[32m━━━━━━━━━━━━━━━━━━━━\u001b[0m\u001b[37m\u001b[0m \u001b[1m0s\u001b[0m 1ms/step - loss: 1.1054 - mae: 0.7909 - val_loss: 11.5443 - val_mae: 2.3522\n",
      "Epoch 392/500\n",
      "\u001b[1m323/323\u001b[0m \u001b[32m━━━━━━━━━━━━━━━━━━━━\u001b[0m\u001b[37m\u001b[0m \u001b[1m0s\u001b[0m 948us/step - loss: 0.9959 - mae: 0.7149 - val_loss: 11.3164 - val_mae: 2.3981\n",
      "Epoch 393/500\n",
      "\u001b[1m323/323\u001b[0m \u001b[32m━━━━━━━━━━━━━━━━━━━━\u001b[0m\u001b[37m\u001b[0m \u001b[1m0s\u001b[0m 1ms/step - loss: 0.9144 - mae: 0.7085 - val_loss: 11.4178 - val_mae: 2.3519\n",
      "Epoch 394/500\n",
      "\u001b[1m323/323\u001b[0m \u001b[32m━━━━━━━━━━━━━━━━━━━━\u001b[0m\u001b[37m\u001b[0m \u001b[1m0s\u001b[0m 976us/step - loss: 0.7458 - mae: 0.6610 - val_loss: 12.2694 - val_mae: 2.3898\n",
      "Epoch 395/500\n",
      "\u001b[1m323/323\u001b[0m \u001b[32m━━━━━━━━━━━━━━━━━━━━\u001b[0m\u001b[37m\u001b[0m \u001b[1m0s\u001b[0m 1ms/step - loss: 0.8851 - mae: 0.7001 - val_loss: 9.8158 - val_mae: 2.2786\n",
      "Epoch 396/500\n",
      "\u001b[1m323/323\u001b[0m \u001b[32m━━━━━━━━━━━━━━━━━━━━\u001b[0m\u001b[37m\u001b[0m \u001b[1m0s\u001b[0m 1ms/step - loss: 0.9486 - mae: 0.7241 - val_loss: 10.8760 - val_mae: 2.5144\n",
      "Epoch 397/500\n",
      "\u001b[1m323/323\u001b[0m \u001b[32m━━━━━━━━━━━━━━━━━━━━\u001b[0m\u001b[37m\u001b[0m \u001b[1m0s\u001b[0m 929us/step - loss: 1.0629 - mae: 0.8005 - val_loss: 10.1410 - val_mae: 2.3083\n",
      "Epoch 398/500\n",
      "\u001b[1m323/323\u001b[0m \u001b[32m━━━━━━━━━━━━━━━━━━━━\u001b[0m\u001b[37m\u001b[0m \u001b[1m0s\u001b[0m 1ms/step - loss: 1.1151 - mae: 0.8160 - val_loss: 10.0850 - val_mae: 2.3036\n",
      "Epoch 399/500\n",
      "\u001b[1m323/323\u001b[0m \u001b[32m━━━━━━━━━━━━━━━━━━━━\u001b[0m\u001b[37m\u001b[0m \u001b[1m0s\u001b[0m 1ms/step - loss: 0.9995 - mae: 0.7039 - val_loss: 9.8425 - val_mae: 2.2262\n",
      "Epoch 400/500\n",
      "\u001b[1m323/323\u001b[0m \u001b[32m━━━━━━━━━━━━━━━━━━━━\u001b[0m\u001b[37m\u001b[0m \u001b[1m0s\u001b[0m 1ms/step - loss: 0.9968 - mae: 0.7621 - val_loss: 11.4659 - val_mae: 2.4209\n",
      "Epoch 401/500\n",
      "\u001b[1m323/323\u001b[0m \u001b[32m━━━━━━━━━━━━━━━━━━━━\u001b[0m\u001b[37m\u001b[0m \u001b[1m0s\u001b[0m 1ms/step - loss: 1.0295 - mae: 0.7476 - val_loss: 9.9748 - val_mae: 2.2848\n",
      "Epoch 402/500\n",
      "\u001b[1m323/323\u001b[0m \u001b[32m━━━━━━━━━━━━━━━━━━━━\u001b[0m\u001b[37m\u001b[0m \u001b[1m0s\u001b[0m 1ms/step - loss: 0.9367 - mae: 0.7264 - val_loss: 11.6508 - val_mae: 2.3885\n",
      "Epoch 403/500\n",
      "\u001b[1m323/323\u001b[0m \u001b[32m━━━━━━━━━━━━━━━━━━━━\u001b[0m\u001b[37m\u001b[0m \u001b[1m0s\u001b[0m 1ms/step - loss: 0.9013 - mae: 0.7054 - val_loss: 11.4201 - val_mae: 2.4587\n",
      "Epoch 404/500\n",
      "\u001b[1m323/323\u001b[0m \u001b[32m━━━━━━━━━━━━━━━━━━━━\u001b[0m\u001b[37m\u001b[0m \u001b[1m0s\u001b[0m 1ms/step - loss: 1.2194 - mae: 0.8016 - val_loss: 11.2436 - val_mae: 2.4353\n",
      "Epoch 405/500\n",
      "\u001b[1m323/323\u001b[0m \u001b[32m━━━━━━━━━━━━━━━━━━━━\u001b[0m\u001b[37m\u001b[0m \u001b[1m0s\u001b[0m 1ms/step - loss: 0.9183 - mae: 0.7076 - val_loss: 11.0680 - val_mae: 2.4426\n",
      "Epoch 406/500\n",
      "\u001b[1m323/323\u001b[0m \u001b[32m━━━━━━━━━━━━━━━━━━━━\u001b[0m\u001b[37m\u001b[0m \u001b[1m0s\u001b[0m 1ms/step - loss: 0.9135 - mae: 0.6847 - val_loss: 10.4751 - val_mae: 2.2794\n",
      "Epoch 407/500\n",
      "\u001b[1m323/323\u001b[0m \u001b[32m━━━━━━━━━━━━━━━━━━━━\u001b[0m\u001b[37m\u001b[0m \u001b[1m0s\u001b[0m 1ms/step - loss: 1.0178 - mae: 0.7195 - val_loss: 10.6272 - val_mae: 2.3326\n",
      "Epoch 408/500\n",
      "\u001b[1m323/323\u001b[0m \u001b[32m━━━━━━━━━━━━━━━━━━━━\u001b[0m\u001b[37m\u001b[0m \u001b[1m0s\u001b[0m 988us/step - loss: 0.8414 - mae: 0.6884 - val_loss: 10.6200 - val_mae: 2.3883\n",
      "Epoch 409/500\n",
      "\u001b[1m323/323\u001b[0m \u001b[32m━━━━━━━━━━━━━━━━━━━━\u001b[0m\u001b[37m\u001b[0m \u001b[1m0s\u001b[0m 1ms/step - loss: 0.7709 - mae: 0.6677 - val_loss: 11.8385 - val_mae: 2.3641\n",
      "Epoch 410/500\n",
      "\u001b[1m323/323\u001b[0m \u001b[32m━━━━━━━━━━━━━━━━━━━━\u001b[0m\u001b[37m\u001b[0m \u001b[1m0s\u001b[0m 997us/step - loss: 0.9238 - mae: 0.7236 - val_loss: 12.5797 - val_mae: 2.5923\n",
      "Epoch 411/500\n",
      "\u001b[1m323/323\u001b[0m \u001b[32m━━━━━━━━━━━━━━━━━━━━\u001b[0m\u001b[37m\u001b[0m \u001b[1m0s\u001b[0m 963us/step - loss: 1.0209 - mae: 0.7581 - val_loss: 11.4921 - val_mae: 2.3921\n",
      "Epoch 412/500\n",
      "\u001b[1m323/323\u001b[0m \u001b[32m━━━━━━━━━━━━━━━━━━━━\u001b[0m\u001b[37m\u001b[0m \u001b[1m0s\u001b[0m 994us/step - loss: 0.9848 - mae: 0.7343 - val_loss: 12.1658 - val_mae: 2.5497\n",
      "Epoch 413/500\n",
      "\u001b[1m323/323\u001b[0m \u001b[32m━━━━━━━━━━━━━━━━━━━━\u001b[0m\u001b[37m\u001b[0m \u001b[1m0s\u001b[0m 963us/step - loss: 0.7736 - mae: 0.6264 - val_loss: 11.3742 - val_mae: 2.3852\n",
      "Epoch 414/500\n",
      "\u001b[1m323/323\u001b[0m \u001b[32m━━━━━━━━━━━━━━━━━━━━\u001b[0m\u001b[37m\u001b[0m \u001b[1m0s\u001b[0m 1ms/step - loss: 1.0343 - mae: 0.7236 - val_loss: 11.5451 - val_mae: 2.4774\n",
      "Epoch 415/500\n",
      "\u001b[1m323/323\u001b[0m \u001b[32m━━━━━━━━━━━━━━━━━━━━\u001b[0m\u001b[37m\u001b[0m \u001b[1m0s\u001b[0m 976us/step - loss: 0.7865 - mae: 0.6847 - val_loss: 11.6499 - val_mae: 2.4434\n",
      "Epoch 416/500\n",
      "\u001b[1m323/323\u001b[0m \u001b[32m━━━━━━━━━━━━━━━━━━━━\u001b[0m\u001b[37m\u001b[0m \u001b[1m0s\u001b[0m 1ms/step - loss: 0.8251 - mae: 0.7236 - val_loss: 11.2444 - val_mae: 2.4271\n",
      "Epoch 417/500\n",
      "\u001b[1m323/323\u001b[0m \u001b[32m━━━━━━━━━━━━━━━━━━━━\u001b[0m\u001b[37m\u001b[0m \u001b[1m0s\u001b[0m 985us/step - loss: 0.9495 - mae: 0.7095 - val_loss: 10.8933 - val_mae: 2.3190\n",
      "Epoch 418/500\n",
      "\u001b[1m323/323\u001b[0m \u001b[32m━━━━━━━━━━━━━━━━━━━━\u001b[0m\u001b[37m\u001b[0m \u001b[1m0s\u001b[0m 1ms/step - loss: 0.9351 - mae: 0.7128 - val_loss: 12.5508 - val_mae: 2.5216\n",
      "Epoch 419/500\n",
      "\u001b[1m323/323\u001b[0m \u001b[32m━━━━━━━━━━━━━━━━━━━━\u001b[0m\u001b[37m\u001b[0m \u001b[1m0s\u001b[0m 966us/step - loss: 1.0656 - mae: 0.7547 - val_loss: 11.2403 - val_mae: 2.5043\n",
      "Epoch 420/500\n",
      "\u001b[1m323/323\u001b[0m \u001b[32m━━━━━━━━━━━━━━━━━━━━\u001b[0m\u001b[37m\u001b[0m \u001b[1m0s\u001b[0m 1ms/step - loss: 0.8992 - mae: 0.7107 - val_loss: 11.3173 - val_mae: 2.3880\n",
      "Epoch 421/500\n",
      "\u001b[1m323/323\u001b[0m \u001b[32m━━━━━━━━━━━━━━━━━━━━\u001b[0m\u001b[37m\u001b[0m \u001b[1m0s\u001b[0m 991us/step - loss: 0.9693 - mae: 0.7146 - val_loss: 11.3173 - val_mae: 2.3628\n",
      "Epoch 422/500\n",
      "\u001b[1m323/323\u001b[0m \u001b[32m━━━━━━━━━━━━━━━━━━━━\u001b[0m\u001b[37m\u001b[0m \u001b[1m0s\u001b[0m 1ms/step - loss: 0.8833 - mae: 0.6931 - val_loss: 12.1793 - val_mae: 2.4370\n",
      "Epoch 423/500\n",
      "\u001b[1m323/323\u001b[0m \u001b[32m━━━━━━━━━━━━━━━━━━━━\u001b[0m\u001b[37m\u001b[0m \u001b[1m0s\u001b[0m 1ms/step - loss: 0.9650 - mae: 0.7156 - val_loss: 10.4300 - val_mae: 2.2419\n",
      "Epoch 424/500\n",
      "\u001b[1m323/323\u001b[0m \u001b[32m━━━━━━━━━━━━━━━━━━━━\u001b[0m\u001b[37m\u001b[0m \u001b[1m0s\u001b[0m 1ms/step - loss: 1.0112 - mae: 0.6986 - val_loss: 11.3779 - val_mae: 2.3729\n",
      "Epoch 425/500\n",
      "\u001b[1m323/323\u001b[0m \u001b[32m━━━━━━━━━━━━━━━━━━━━\u001b[0m\u001b[37m\u001b[0m \u001b[1m0s\u001b[0m 994us/step - loss: 0.9530 - mae: 0.7399 - val_loss: 11.5137 - val_mae: 2.3863\n",
      "Epoch 426/500\n",
      "\u001b[1m323/323\u001b[0m \u001b[32m━━━━━━━━━━━━━━━━━━━━\u001b[0m\u001b[37m\u001b[0m \u001b[1m0s\u001b[0m 1ms/step - loss: 0.9111 - mae: 0.7156 - val_loss: 11.1045 - val_mae: 2.3872\n",
      "Epoch 427/500\n",
      "\u001b[1m323/323\u001b[0m \u001b[32m━━━━━━━━━━━━━━━━━━━━\u001b[0m\u001b[37m\u001b[0m \u001b[1m0s\u001b[0m 1ms/step - loss: 0.8139 - mae: 0.6451 - val_loss: 12.9547 - val_mae: 2.4779\n",
      "Epoch 428/500\n",
      "\u001b[1m323/323\u001b[0m \u001b[32m━━━━━━━━━━━━━━━━━━━━\u001b[0m\u001b[37m\u001b[0m \u001b[1m0s\u001b[0m 1ms/step - loss: 0.8131 - mae: 0.6962 - val_loss: 10.6303 - val_mae: 2.3593\n",
      "Epoch 429/500\n",
      "\u001b[1m323/323\u001b[0m \u001b[32m━━━━━━━━━━━━━━━━━━━━\u001b[0m\u001b[37m\u001b[0m \u001b[1m0s\u001b[0m 1ms/step - loss: 0.8708 - mae: 0.7102 - val_loss: 13.7106 - val_mae: 2.7130\n",
      "Epoch 430/500\n",
      "\u001b[1m323/323\u001b[0m \u001b[32m━━━━━━━━━━━━━━━━━━━━\u001b[0m\u001b[37m\u001b[0m \u001b[1m0s\u001b[0m 960us/step - loss: 0.9184 - mae: 0.7325 - val_loss: 11.3477 - val_mae: 2.2990\n",
      "Epoch 431/500\n",
      "\u001b[1m323/323\u001b[0m \u001b[32m━━━━━━━━━━━━━━━━━━━━\u001b[0m\u001b[37m\u001b[0m \u001b[1m0s\u001b[0m 1ms/step - loss: 0.8966 - mae: 0.6923 - val_loss: 10.7228 - val_mae: 2.3758\n",
      "Epoch 432/500\n",
      "\u001b[1m323/323\u001b[0m \u001b[32m━━━━━━━━━━━━━━━━━━━━\u001b[0m\u001b[37m\u001b[0m \u001b[1m0s\u001b[0m 926us/step - loss: 0.9755 - mae: 0.6957 - val_loss: 11.8844 - val_mae: 2.4034\n",
      "Epoch 433/500\n",
      "\u001b[1m323/323\u001b[0m \u001b[32m━━━━━━━━━━━━━━━━━━━━\u001b[0m\u001b[37m\u001b[0m \u001b[1m0s\u001b[0m 1ms/step - loss: 0.8842 - mae: 0.6482 - val_loss: 11.1194 - val_mae: 2.4169\n",
      "Epoch 434/500\n",
      "\u001b[1m323/323\u001b[0m \u001b[32m━━━━━━━━━━━━━━━━━━━━\u001b[0m\u001b[37m\u001b[0m \u001b[1m0s\u001b[0m 1ms/step - loss: 0.8049 - mae: 0.6660 - val_loss: 12.0332 - val_mae: 2.5523\n",
      "Epoch 435/500\n",
      "\u001b[1m323/323\u001b[0m \u001b[32m━━━━━━━━━━━━━━━━━━━━\u001b[0m\u001b[37m\u001b[0m \u001b[1m0s\u001b[0m 1ms/step - loss: 0.8370 - mae: 0.6801 - val_loss: 10.5873 - val_mae: 2.3735\n",
      "Epoch 436/500\n",
      "\u001b[1m323/323\u001b[0m \u001b[32m━━━━━━━━━━━━━━━━━━━━\u001b[0m\u001b[37m\u001b[0m \u001b[1m0s\u001b[0m 1ms/step - loss: 0.8522 - mae: 0.7033 - val_loss: 11.2018 - val_mae: 2.3024\n",
      "Epoch 437/500\n",
      "\u001b[1m323/323\u001b[0m \u001b[32m━━━━━━━━━━━━━━━━━━━━\u001b[0m\u001b[37m\u001b[0m \u001b[1m0s\u001b[0m 982us/step - loss: 1.0814 - mae: 0.7371 - val_loss: 11.9935 - val_mae: 2.5096\n",
      "Epoch 438/500\n",
      "\u001b[1m323/323\u001b[0m \u001b[32m━━━━━━━━━━━━━━━━━━━━\u001b[0m\u001b[37m\u001b[0m \u001b[1m0s\u001b[0m 982us/step - loss: 0.8630 - mae: 0.7170 - val_loss: 11.5117 - val_mae: 2.2964\n",
      "Epoch 439/500\n",
      "\u001b[1m323/323\u001b[0m \u001b[32m━━━━━━━━━━━━━━━━━━━━\u001b[0m\u001b[37m\u001b[0m \u001b[1m0s\u001b[0m 1ms/step - loss: 0.8299 - mae: 0.6806 - val_loss: 11.8055 - val_mae: 2.4998\n",
      "Epoch 440/500\n",
      "\u001b[1m323/323\u001b[0m \u001b[32m━━━━━━━━━━━━━━━━━━━━\u001b[0m\u001b[37m\u001b[0m \u001b[1m0s\u001b[0m 1ms/step - loss: 0.9942 - mae: 0.7144 - val_loss: 11.7680 - val_mae: 2.3867\n",
      "Epoch 441/500\n",
      "\u001b[1m323/323\u001b[0m \u001b[32m━━━━━━━━━━━━━━━━━━━━\u001b[0m\u001b[37m\u001b[0m \u001b[1m0s\u001b[0m 1ms/step - loss: 1.1227 - mae: 0.7522 - val_loss: 10.3310 - val_mae: 2.1944\n",
      "Epoch 442/500\n",
      "\u001b[1m323/323\u001b[0m \u001b[32m━━━━━━━━━━━━━━━━━━━━\u001b[0m\u001b[37m\u001b[0m \u001b[1m0s\u001b[0m 985us/step - loss: 0.7768 - mae: 0.6622 - val_loss: 12.0857 - val_mae: 2.3826\n",
      "Epoch 443/500\n",
      "\u001b[1m323/323\u001b[0m \u001b[32m━━━━━━━━━━━━━━━━━━━━\u001b[0m\u001b[37m\u001b[0m \u001b[1m0s\u001b[0m 1ms/step - loss: 0.9831 - mae: 0.7233 - val_loss: 12.7789 - val_mae: 2.5086\n",
      "Epoch 444/500\n",
      "\u001b[1m323/323\u001b[0m \u001b[32m━━━━━━━━━━━━━━━━━━━━\u001b[0m\u001b[37m\u001b[0m \u001b[1m0s\u001b[0m 1ms/step - loss: 1.0629 - mae: 0.7780 - val_loss: 10.7946 - val_mae: 2.2845\n",
      "Epoch 445/500\n",
      "\u001b[1m323/323\u001b[0m \u001b[32m━━━━━━━━━━━━━━━━━━━━\u001b[0m\u001b[37m\u001b[0m \u001b[1m0s\u001b[0m 1ms/step - loss: 0.8827 - mae: 0.7119 - val_loss: 10.7416 - val_mae: 2.2313\n",
      "Epoch 446/500\n",
      "\u001b[1m323/323\u001b[0m \u001b[32m━━━━━━━━━━━━━━━━━━━━\u001b[0m\u001b[37m\u001b[0m \u001b[1m0s\u001b[0m 999us/step - loss: 1.0094 - mae: 0.7762 - val_loss: 12.4461 - val_mae: 2.5612\n",
      "Epoch 447/500\n",
      "\u001b[1m323/323\u001b[0m \u001b[32m━━━━━━━━━━━━━━━━━━━━\u001b[0m\u001b[37m\u001b[0m \u001b[1m0s\u001b[0m 1ms/step - loss: 0.9809 - mae: 0.7197 - val_loss: 10.9843 - val_mae: 2.4447\n",
      "Epoch 448/500\n",
      "\u001b[1m323/323\u001b[0m \u001b[32m━━━━━━━━━━━━━━━━━━━━\u001b[0m\u001b[37m\u001b[0m \u001b[1m0s\u001b[0m 1ms/step - loss: 0.7515 - mae: 0.6398 - val_loss: 11.3711 - val_mae: 2.3491\n",
      "Epoch 449/500\n",
      "\u001b[1m323/323\u001b[0m \u001b[32m━━━━━━━━━━━━━━━━━━━━\u001b[0m\u001b[37m\u001b[0m \u001b[1m0s\u001b[0m 1ms/step - loss: 0.8337 - mae: 0.6942 - val_loss: 16.1653 - val_mae: 2.7863\n",
      "Epoch 450/500\n",
      "\u001b[1m323/323\u001b[0m \u001b[32m━━━━━━━━━━━━━━━━━━━━\u001b[0m\u001b[37m\u001b[0m \u001b[1m0s\u001b[0m 973us/step - loss: 0.8591 - mae: 0.7015 - val_loss: 11.6183 - val_mae: 2.4081\n",
      "Epoch 451/500\n",
      "\u001b[1m323/323\u001b[0m \u001b[32m━━━━━━━━━━━━━━━━━━━━\u001b[0m\u001b[37m\u001b[0m \u001b[1m0s\u001b[0m 1ms/step - loss: 0.9581 - mae: 0.6972 - val_loss: 12.9648 - val_mae: 2.5191\n",
      "Epoch 452/500\n",
      "\u001b[1m323/323\u001b[0m \u001b[32m━━━━━━━━━━━━━━━━━━━━\u001b[0m\u001b[37m\u001b[0m \u001b[1m0s\u001b[0m 991us/step - loss: 0.8488 - mae: 0.6725 - val_loss: 12.3957 - val_mae: 2.5051\n",
      "Epoch 453/500\n",
      "\u001b[1m323/323\u001b[0m \u001b[32m━━━━━━━━━━━━━━━━━━━━\u001b[0m\u001b[37m\u001b[0m \u001b[1m0s\u001b[0m 1ms/step - loss: 0.8443 - mae: 0.7112 - val_loss: 13.1379 - val_mae: 2.6316\n",
      "Epoch 454/500\n",
      "\u001b[1m323/323\u001b[0m \u001b[32m━━━━━━━━━━━━━━━━━━━━\u001b[0m\u001b[37m\u001b[0m \u001b[1m0s\u001b[0m 966us/step - loss: 0.8875 - mae: 0.6926 - val_loss: 12.2481 - val_mae: 2.5116\n",
      "Epoch 455/500\n",
      "\u001b[1m323/323\u001b[0m \u001b[32m━━━━━━━━━━━━━━━━━━━━\u001b[0m\u001b[37m\u001b[0m \u001b[1m0s\u001b[0m 1ms/step - loss: 0.7407 - mae: 0.6411 - val_loss: 14.2940 - val_mae: 2.4022\n",
      "Epoch 456/500\n",
      "\u001b[1m323/323\u001b[0m \u001b[32m━━━━━━━━━━━━━━━━━━━━\u001b[0m\u001b[37m\u001b[0m \u001b[1m0s\u001b[0m 976us/step - loss: 0.9944 - mae: 0.6892 - val_loss: 12.3953 - val_mae: 2.3840\n",
      "Epoch 457/500\n",
      "\u001b[1m323/323\u001b[0m \u001b[32m━━━━━━━━━━━━━━━━━━━━\u001b[0m\u001b[37m\u001b[0m \u001b[1m0s\u001b[0m 1ms/step - loss: 0.8812 - mae: 0.6989 - val_loss: 13.2971 - val_mae: 2.3515\n",
      "Epoch 458/500\n",
      "\u001b[1m323/323\u001b[0m \u001b[32m━━━━━━━━━━━━━━━━━━━━\u001b[0m\u001b[37m\u001b[0m \u001b[1m0s\u001b[0m 966us/step - loss: 0.7958 - mae: 0.6510 - val_loss: 12.8609 - val_mae: 2.4755\n",
      "Epoch 459/500\n",
      "\u001b[1m323/323\u001b[0m \u001b[32m━━━━━━━━━━━━━━━━━━━━\u001b[0m\u001b[37m\u001b[0m \u001b[1m0s\u001b[0m 1ms/step - loss: 0.8518 - mae: 0.6957 - val_loss: 11.6857 - val_mae: 2.4433\n",
      "Epoch 460/500\n",
      "\u001b[1m323/323\u001b[0m \u001b[32m━━━━━━━━━━━━━━━━━━━━\u001b[0m\u001b[37m\u001b[0m \u001b[1m0s\u001b[0m 982us/step - loss: 0.8263 - mae: 0.6922 - val_loss: 14.3355 - val_mae: 2.4809\n",
      "Epoch 461/500\n",
      "\u001b[1m323/323\u001b[0m \u001b[32m━━━━━━━━━━━━━━━━━━━━\u001b[0m\u001b[37m\u001b[0m \u001b[1m0s\u001b[0m 991us/step - loss: 0.9062 - mae: 0.6854 - val_loss: 13.0369 - val_mae: 2.4667\n",
      "Epoch 462/500\n",
      "\u001b[1m323/323\u001b[0m \u001b[32m━━━━━━━━━━━━━━━━━━━━\u001b[0m\u001b[37m\u001b[0m \u001b[1m0s\u001b[0m 1ms/step - loss: 0.9863 - mae: 0.7283 - val_loss: 13.3697 - val_mae: 2.4458\n",
      "Epoch 463/500\n",
      "\u001b[1m323/323\u001b[0m \u001b[32m━━━━━━━━━━━━━━━━━━━━\u001b[0m\u001b[37m\u001b[0m \u001b[1m0s\u001b[0m 1ms/step - loss: 0.7852 - mae: 0.6774 - val_loss: 13.8248 - val_mae: 2.5283\n",
      "Epoch 464/500\n",
      "\u001b[1m323/323\u001b[0m \u001b[32m━━━━━━━━━━━━━━━━━━━━\u001b[0m\u001b[37m\u001b[0m \u001b[1m0s\u001b[0m 954us/step - loss: 0.7299 - mae: 0.6251 - val_loss: 12.7202 - val_mae: 2.4221\n",
      "Epoch 465/500\n",
      "\u001b[1m323/323\u001b[0m \u001b[32m━━━━━━━━━━━━━━━━━━━━\u001b[0m\u001b[37m\u001b[0m \u001b[1m0s\u001b[0m 971us/step - loss: 0.8398 - mae: 0.6841 - val_loss: 12.5514 - val_mae: 2.5918\n",
      "Epoch 466/500\n",
      "\u001b[1m323/323\u001b[0m \u001b[32m━━━━━━━━━━━━━━━━━━━━\u001b[0m\u001b[37m\u001b[0m \u001b[1m0s\u001b[0m 1ms/step - loss: 0.9041 - mae: 0.6998 - val_loss: 11.4555 - val_mae: 2.3238\n",
      "Epoch 467/500\n",
      "\u001b[1m323/323\u001b[0m \u001b[32m━━━━━━━━━━━━━━━━━━━━\u001b[0m\u001b[37m\u001b[0m \u001b[1m0s\u001b[0m 985us/step - loss: 0.8913 - mae: 0.6897 - val_loss: 12.1067 - val_mae: 2.3499\n",
      "Epoch 468/500\n",
      "\u001b[1m323/323\u001b[0m \u001b[32m━━━━━━━━━━━━━━━━━━━━\u001b[0m\u001b[37m\u001b[0m \u001b[1m0s\u001b[0m 1ms/step - loss: 0.6872 - mae: 0.6300 - val_loss: 14.1651 - val_mae: 2.4968\n",
      "Epoch 469/500\n",
      "\u001b[1m323/323\u001b[0m \u001b[32m━━━━━━━━━━━━━━━━━━━━\u001b[0m\u001b[37m\u001b[0m \u001b[1m0s\u001b[0m 1ms/step - loss: 0.7086 - mae: 0.6300 - val_loss: 13.5646 - val_mae: 2.4935\n",
      "Epoch 470/500\n",
      "\u001b[1m323/323\u001b[0m \u001b[32m━━━━━━━━━━━━━━━━━━━━\u001b[0m\u001b[37m\u001b[0m \u001b[1m0s\u001b[0m 1ms/step - loss: 1.0379 - mae: 0.7753 - val_loss: 13.8110 - val_mae: 2.4801\n",
      "Epoch 471/500\n",
      "\u001b[1m323/323\u001b[0m \u001b[32m━━━━━━━━━━━━━━━━━━━━\u001b[0m\u001b[37m\u001b[0m \u001b[1m0s\u001b[0m 982us/step - loss: 0.9119 - mae: 0.6907 - val_loss: 12.5885 - val_mae: 2.4421\n",
      "Epoch 472/500\n",
      "\u001b[1m323/323\u001b[0m \u001b[32m━━━━━━━━━━━━━━━━━━━━\u001b[0m\u001b[37m\u001b[0m \u001b[1m0s\u001b[0m 1ms/step - loss: 0.9535 - mae: 0.7249 - val_loss: 12.3423 - val_mae: 2.4509\n",
      "Epoch 473/500\n",
      "\u001b[1m323/323\u001b[0m \u001b[32m━━━━━━━━━━━━━━━━━━━━\u001b[0m\u001b[37m\u001b[0m \u001b[1m0s\u001b[0m 1ms/step - loss: 0.8246 - mae: 0.6361 - val_loss: 12.4738 - val_mae: 2.4816\n",
      "Epoch 474/500\n",
      "\u001b[1m323/323\u001b[0m \u001b[32m━━━━━━━━━━━━━━━━━━━━\u001b[0m\u001b[37m\u001b[0m \u001b[1m0s\u001b[0m 1ms/step - loss: 0.9503 - mae: 0.7262 - val_loss: 13.3971 - val_mae: 2.4953\n",
      "Epoch 475/500\n",
      "\u001b[1m323/323\u001b[0m \u001b[32m━━━━━━━━━━━━━━━━━━━━\u001b[0m\u001b[37m\u001b[0m \u001b[1m0s\u001b[0m 979us/step - loss: 0.7881 - mae: 0.6086 - val_loss: 12.2421 - val_mae: 2.4957\n",
      "Epoch 476/500\n",
      "\u001b[1m323/323\u001b[0m \u001b[32m━━━━━━━━━━━━━━━━━━━━\u001b[0m\u001b[37m\u001b[0m \u001b[1m0s\u001b[0m 1ms/step - loss: 0.7543 - mae: 0.6866 - val_loss: 12.9051 - val_mae: 2.4442\n",
      "Epoch 477/500\n",
      "\u001b[1m323/323\u001b[0m \u001b[32m━━━━━━━━━━━━━━━━━━━━\u001b[0m\u001b[37m\u001b[0m \u001b[1m0s\u001b[0m 1ms/step - loss: 0.6442 - mae: 0.6032 - val_loss: 13.3940 - val_mae: 2.4450\n",
      "Epoch 478/500\n",
      "\u001b[1m323/323\u001b[0m \u001b[32m━━━━━━━━━━━━━━━━━━━━\u001b[0m\u001b[37m\u001b[0m \u001b[1m0s\u001b[0m 1ms/step - loss: 1.1261 - mae: 0.7422 - val_loss: 13.1407 - val_mae: 2.6004\n",
      "Epoch 479/500\n",
      "\u001b[1m323/323\u001b[0m \u001b[32m━━━━━━━━━━━━━━━━━━━━\u001b[0m\u001b[37m\u001b[0m \u001b[1m0s\u001b[0m 985us/step - loss: 0.8713 - mae: 0.6843 - val_loss: 12.3555 - val_mae: 2.4474\n",
      "Epoch 480/500\n",
      "\u001b[1m323/323\u001b[0m \u001b[32m━━━━━━━━━━━━━━━━━━━━\u001b[0m\u001b[37m\u001b[0m \u001b[1m0s\u001b[0m 1ms/step - loss: 0.7861 - mae: 0.6471 - val_loss: 12.7821 - val_mae: 2.5363\n",
      "Epoch 481/500\n",
      "\u001b[1m323/323\u001b[0m \u001b[32m━━━━━━━━━━━━━━━━━━━━\u001b[0m\u001b[37m\u001b[0m \u001b[1m0s\u001b[0m 988us/step - loss: 0.7909 - mae: 0.6737 - val_loss: 12.0646 - val_mae: 2.4826\n",
      "Epoch 482/500\n",
      "\u001b[1m323/323\u001b[0m \u001b[32m━━━━━━━━━━━━━━━━━━━━\u001b[0m\u001b[37m\u001b[0m \u001b[1m0s\u001b[0m 1ms/step - loss: 0.6742 - mae: 0.6124 - val_loss: 12.4217 - val_mae: 2.4906\n",
      "Epoch 483/500\n",
      "\u001b[1m323/323\u001b[0m \u001b[32m━━━━━━━━━━━━━━━━━━━━\u001b[0m\u001b[37m\u001b[0m \u001b[1m0s\u001b[0m 988us/step - loss: 0.8290 - mae: 0.6432 - val_loss: 12.4877 - val_mae: 2.5487\n",
      "Epoch 484/500\n",
      "\u001b[1m323/323\u001b[0m \u001b[32m━━━━━━━━━━━━━━━━━━━━\u001b[0m\u001b[37m\u001b[0m \u001b[1m0s\u001b[0m 1ms/step - loss: 0.8797 - mae: 0.6618 - val_loss: 12.6853 - val_mae: 2.4385\n",
      "Epoch 485/500\n",
      "\u001b[1m323/323\u001b[0m \u001b[32m━━━━━━━━━━━━━━━━━━━━\u001b[0m\u001b[37m\u001b[0m \u001b[1m0s\u001b[0m 1ms/step - loss: 0.8444 - mae: 0.7129 - val_loss: 10.8176 - val_mae: 2.4086\n",
      "Epoch 486/500\n",
      "\u001b[1m323/323\u001b[0m \u001b[32m━━━━━━━━━━━━━━━━━━━━\u001b[0m\u001b[37m\u001b[0m \u001b[1m0s\u001b[0m 1ms/step - loss: 0.9541 - mae: 0.7122 - val_loss: 12.1904 - val_mae: 2.4380\n",
      "Epoch 487/500\n",
      "\u001b[1m323/323\u001b[0m \u001b[32m━━━━━━━━━━━━━━━━━━━━\u001b[0m\u001b[37m\u001b[0m \u001b[1m0s\u001b[0m 978us/step - loss: 0.7308 - mae: 0.6119 - val_loss: 12.0585 - val_mae: 2.3554\n",
      "Epoch 488/500\n",
      "\u001b[1m323/323\u001b[0m \u001b[32m━━━━━━━━━━━━━━━━━━━━\u001b[0m\u001b[37m\u001b[0m \u001b[1m0s\u001b[0m 1ms/step - loss: 0.8682 - mae: 0.6647 - val_loss: 12.8115 - val_mae: 2.6002\n",
      "Epoch 489/500\n",
      "\u001b[1m323/323\u001b[0m \u001b[32m━━━━━━━━━━━━━━━━━━━━\u001b[0m\u001b[37m\u001b[0m \u001b[1m0s\u001b[0m 976us/step - loss: 0.8829 - mae: 0.6799 - val_loss: 11.8624 - val_mae: 2.4502\n",
      "Epoch 490/500\n",
      "\u001b[1m323/323\u001b[0m \u001b[32m━━━━━━━━━━━━━━━━━━━━\u001b[0m\u001b[37m\u001b[0m \u001b[1m0s\u001b[0m 991us/step - loss: 0.8060 - mae: 0.6456 - val_loss: 12.4932 - val_mae: 2.5064\n",
      "Epoch 491/500\n",
      "\u001b[1m323/323\u001b[0m \u001b[32m━━━━━━━━━━━━━━━━━━━━\u001b[0m\u001b[37m\u001b[0m \u001b[1m0s\u001b[0m 1ms/step - loss: 0.7940 - mae: 0.6096 - val_loss: 13.1754 - val_mae: 2.5661\n",
      "Epoch 492/500\n",
      "\u001b[1m323/323\u001b[0m \u001b[32m━━━━━━━━━━━━━━━━━━━━\u001b[0m\u001b[37m\u001b[0m \u001b[1m0s\u001b[0m 976us/step - loss: 0.7390 - mae: 0.6494 - val_loss: 12.6801 - val_mae: 2.6310\n",
      "Epoch 493/500\n",
      "\u001b[1m323/323\u001b[0m \u001b[32m━━━━━━━━━━━━━━━━━━━━\u001b[0m\u001b[37m\u001b[0m \u001b[1m0s\u001b[0m 1ms/step - loss: 0.7581 - mae: 0.6503 - val_loss: 11.9393 - val_mae: 2.3487\n",
      "Epoch 494/500\n",
      "\u001b[1m323/323\u001b[0m \u001b[32m━━━━━━━━━━━━━━━━━━━━\u001b[0m\u001b[37m\u001b[0m \u001b[1m0s\u001b[0m 994us/step - loss: 0.8118 - mae: 0.6572 - val_loss: 10.9381 - val_mae: 2.4040\n",
      "Epoch 495/500\n",
      "\u001b[1m323/323\u001b[0m \u001b[32m━━━━━━━━━━━━━━━━━━━━\u001b[0m\u001b[37m\u001b[0m \u001b[1m0s\u001b[0m 1ms/step - loss: 0.6909 - mae: 0.6288 - val_loss: 13.1393 - val_mae: 2.4693\n",
      "Epoch 496/500\n",
      "\u001b[1m323/323\u001b[0m \u001b[32m━━━━━━━━━━━━━━━━━━━━\u001b[0m\u001b[37m\u001b[0m \u001b[1m0s\u001b[0m 979us/step - loss: 0.8588 - mae: 0.6574 - val_loss: 11.0505 - val_mae: 2.3232\n",
      "Epoch 497/500\n",
      "\u001b[1m323/323\u001b[0m \u001b[32m━━━━━━━━━━━━━━━━━━━━\u001b[0m\u001b[37m\u001b[0m \u001b[1m0s\u001b[0m 1ms/step - loss: 0.7502 - mae: 0.6611 - val_loss: 11.8360 - val_mae: 2.3789\n",
      "Epoch 498/500\n",
      "\u001b[1m323/323\u001b[0m \u001b[32m━━━━━━━━━━━━━━━━━━━━\u001b[0m\u001b[37m\u001b[0m \u001b[1m0s\u001b[0m 1ms/step - loss: 0.6613 - mae: 0.5957 - val_loss: 12.9448 - val_mae: 2.5241\n",
      "Epoch 499/500\n",
      "\u001b[1m323/323\u001b[0m \u001b[32m━━━━━━━━━━━━━━━━━━━━\u001b[0m\u001b[37m\u001b[0m \u001b[1m0s\u001b[0m 1ms/step - loss: 0.7907 - mae: 0.6801 - val_loss: 12.3760 - val_mae: 2.4441\n",
      "Epoch 500/500\n",
      "\u001b[1m323/323\u001b[0m \u001b[32m━━━━━━━━━━━━━━━━━━━━\u001b[0m\u001b[37m\u001b[0m \u001b[1m0s\u001b[0m 985us/step - loss: 0.7417 - mae: 0.6297 - val_loss: 11.3745 - val_mae: 2.4959\n"
     ]
    }
   ],
   "source": [
    "# %%time\n",
    "\n",
    "Hist_boston = boston.fit(X_train, y_train,\n",
    "                         epochs = 500,\n",
    "                         batch_size = 1,\n",
    "                         validation_data = (X_valid, y_valid))"
   ]
  },
  {
   "cell_type": "markdown",
   "metadata": {
    "id": "9Eiv18Q5FhHc"
   },
   "source": [
    "> ## 4) 학습 결과 시각화"
   ]
  },
  {
   "cell_type": "markdown",
   "metadata": {
    "id": "i1Jbkw4cdJcb"
   },
   "source": [
    "* 전체 시각화"
   ]
  },
  {
   "cell_type": "code",
   "execution_count": 12,
   "metadata": {
    "colab": {
     "base_uri": "https://localhost:8080/",
     "height": 404
    },
    "executionInfo": {
     "elapsed": 29,
     "status": "ok",
     "timestamp": 1673408124417,
     "user": {
      "displayName": "이정구",
      "userId": "17400242557229223804"
     },
     "user_tz": -540
    },
    "id": "_wItRpKeFkpm",
    "outputId": "0cbd4884-9778-458a-cd28-68da2895d991"
   },
   "outputs": [
    {
     "data": {
      "image/png": "[encoded data removed]",
      "text/plain": [
       "<Figure size 900x600 with 1 Axes>"
      ]
     },
     "metadata": {},
     "output_type": "display_data"
    }
   ],
   "source": [
    "import matplotlib.pyplot as plt\n",
    "\n",
    "epochs = range(1, len(Hist_boston.history['val_mae']) + 1)\n",
    "\n",
    "plt.figure(figsize = (9, 6))\n",
    "plt.plot(epochs, Hist_boston.history['val_mae'])\n",
    "plt.title('Validation MAE')\n",
    "plt.xlabel('Epochs')\n",
    "plt.ylabel('Mean Absolute Error')\n",
    "plt.grid()\n",
    "plt.show()"
   ]
  },
  {
   "cell_type": "markdown",
   "metadata": {
    "id": "flGadAoGdLzN"
   },
   "source": [
    "* 5번째 이후 MAE 확인"
   ]
  },
  {
   "cell_type": "code",
   "execution_count": 13,
   "metadata": {
    "colab": {
     "base_uri": "https://localhost:8080/",
     "height": 404
    },
    "executionInfo": {
     "elapsed": 524,
     "status": "ok",
     "timestamp": 1673408124930,
     "user": {
      "displayName": "이정구",
      "userId": "17400242557229223804"
     },
     "user_tz": -540
    },
    "id": "XoofiV2fHzgb",
    "outputId": "cb32da1a-ef1d-4ac2-affa-1ed1d9d3cc6b"
   },
   "outputs": [
    {
     "data": {
      "image/png": "[encoded data removed]",
      "text/plain": [
       "<Figure size 900x600 with 1 Axes>"
      ]
     },
     "metadata": {},
     "output_type": "display_data"
    }
   ],
   "source": [
    "# 보기 편하게 스무딩해주자\n",
    "# 스케일 차이가 큰 첫 5개 포인트는 제외하고\n",
    "# 부드러운 곡선을 얻기 위해 각 포인트를 이전 포인트의 지수 이동 평균으로 대체한다.\n",
    "def smooth_curve(points, factor = 0.9):\n",
    "  smoothed_points = []\n",
    "  for point in points:\n",
    "    if smoothed_points:\n",
    "      previous = smoothed_points[-1]\n",
    "      smoothed_points.append(previous * factor + point * (1 - factor))\n",
    "    else:\n",
    "      smoothed_points.append(point)\n",
    "  return smoothed_points\n",
    "\n",
    "mae_history = Hist_boston.history['val_mae']\n",
    "\n",
    "mae_history = smooth_curve(mae_history[5:])\n",
    "\n",
    "plt.figure(figsize = (9, 6))\n",
    "plt.plot(range(1, len(mae_history) + 1), mae_history)\n",
    "plt.title('Validation MAE')\n",
    "plt.xlabel('Epochs')\n",
    "plt.ylabel('Mean Absolute Error')\n",
    "plt.grid()\n",
    "plt.show()"
   ]
  },
  {
   "cell_type": "markdown",
   "metadata": {
    "id": "kt-_vL_OLEzU"
   },
   "source": [
    "> ## 5) Model Evaluate"
   ]
  },
  {
   "cell_type": "code",
   "execution_count": 14,
   "metadata": {
    "colab": {
     "base_uri": "https://localhost:8080/"
    },
    "executionInfo": {
     "elapsed": 33,
     "status": "ok",
     "timestamp": 1673408124931,
     "user": {
      "displayName": "이정구",
      "userId": "17400242557229223804"
     },
     "user_tz": -540
    },
    "id": "l6w9a_lSLGmJ",
    "outputId": "d1805e9a-e2c7-4df1-c250-6233fd700cff"
   },
   "outputs": [
    {
     "name": "stdout",
     "output_type": "stream",
     "text": [
      "\u001b[1m4/4\u001b[0m \u001b[32m━━━━━━━━━━━━━━━━━━━━\u001b[0m\u001b[37m\u001b[0m \u001b[1m0s\u001b[0m 2ms/step - loss: 11.5874 - mae: 2.3793 \n",
      "MAE is : 2.749713182449341\n"
     ]
    }
   ],
   "source": [
    "test_mse_score, test_mae_score = boston.evaluate(X_test, y_test)\n",
    "\n",
    "print('MAE is :',test_mae_score)"
   ]
  },
  {
   "cell_type": "markdown",
   "metadata": {
    "id": "KKQ8KnRdpPMS"
   },
   "source": [
    "> ## 6) Keras Session Clear"
   ]
  },
  {
   "cell_type": "code",
   "execution_count": 15,
   "metadata": {
    "executionInfo": {
     "elapsed": 20,
     "status": "ok",
     "timestamp": 1673408124932,
     "user": {
      "displayName": "이정구",
      "userId": "17400242557229223804"
     },
     "user_tz": -540
    },
    "id": "sB8JVRhPJzWO"
   },
   "outputs": [
    {
     "name": "stdout",
     "output_type": "stream",
     "text": [
      "WARNING:tensorflow:From C:\\Users\\yoosj\\anaconda3\\Lib\\site-packages\\keras\\src\\backend\\common\\global_state.py:82: The name tf.reset_default_graph is deprecated. Please use tf.compat.v1.reset_default_graph instead.\n",
      "\n"
     ]
    }
   ],
   "source": [
    "# 대용량 데이터 학습 시 GPU메모리 부족 에러 대응\n",
    "# 모델 생성 후에는 꼭 클리어해주자.\n",
    "from tensorflow.keras import backend as K\n",
    "\n",
    "K.clear_session()"
   ]
  },
  {
   "cell_type": "markdown",
   "metadata": {
    "id": "Nz2gBFoyKPeA"
   },
   "source": [
    "# IV. Early Stopping"
   ]
  },
  {
   "cell_type": "markdown",
   "metadata": {
    "id": "5o9-5pfvc3F7"
   },
   "source": [
    "> ## 1) Model Define & Compile"
   ]
  },
  {
   "cell_type": "code",
   "execution_count": 16,
   "metadata": {
    "executionInfo": {
     "elapsed": 20,
     "status": "ok",
     "timestamp": 1673408124933,
     "user": {
      "displayName": "이정구",
      "userId": "17400242557229223804"
     },
     "user_tz": -540
    },
    "id": "000wbBePKgnj"
   },
   "outputs": [],
   "source": [
    "from tensorflow.keras import models\n",
    "from tensorflow.keras import layers\n",
    "\n",
    "boston = models.Sequential(name = 'EarlyStopping')\n",
    "boston.add(layers.Dense(64, activation = 'relu', input_shape = (13,)))\n",
    "boston.add(layers.Dense(64, activation = 'relu'))\n",
    "boston.add(layers.Dense(1))\n",
    "\n",
    "boston.compile(loss = 'mse',\n",
    "               optimizer = 'rmsprop',\n",
    "               metrics = ['mae'])"
   ]
  },
  {
   "cell_type": "markdown",
   "metadata": {
    "id": "9HDY22OwodvA"
   },
   "source": [
    "> ## 2) EarlyStopping( )\n",
    "\n",
    "* monitor : 모니터링 대상 성능\n",
    "* mode : 모니터링 대상을 최소화(min) 또는 최대화(max)\n",
    "* patience : 성능이 개선되지 않는 epoch 횟수"
   ]
  },
  {
   "cell_type": "code",
   "execution_count": 17,
   "metadata": {
    "executionInfo": {
     "elapsed": 18,
     "status": "ok",
     "timestamp": 1673408124933,
     "user": {
      "displayName": "이정구",
      "userId": "17400242557229223804"
     },
     "user_tz": -540
    },
    "id": "JUQ6jh5OlLBZ"
   },
   "outputs": [],
   "source": [
    "from tensorflow.keras.callbacks import EarlyStopping\n",
    "\n",
    "es = EarlyStopping(monitor = 'val_mae', \n",
    "                   mode = 'min', \n",
    "                   patience = 50, \n",
    "                   verbose = 1)"
   ]
  },
  {
   "cell_type": "markdown",
   "metadata": {
    "id": "dZ0l_lZToiaU"
   },
   "source": [
    "> ## 3) ModelCheckpoint( )\n",
    "\n",
    "* 'best_boston.h5' : 최적모델이 저장될 경로\n",
    "* save_best_only : 최적모델만 저장할지 지정"
   ]
  },
  {
   "cell_type": "code",
   "execution_count": 18,
   "metadata": {
    "executionInfo": {
     "elapsed": 20,
     "status": "ok",
     "timestamp": 1673408124935,
     "user": {
      "displayName": "이정구",
      "userId": "17400242557229223804"
     },
     "user_tz": -540
    },
    "id": "tTgC-bN6lQDa"
   },
   "outputs": [
    {
     "ename": "ValueError",
     "evalue": "The filepath provided must end in `.keras` (Keras model format). Received: filepath=best_boston.h5",
     "output_type": "error",
     "traceback": [
      "\u001b[1;31m---------------------------------------------------------------------------\u001b[0m",
      "\u001b[1;31mValueError\u001b[0m                                Traceback (most recent call last)",
      "Cell \u001b[1;32mIn[18], line 3\u001b[0m\n\u001b[0;32m      1\u001b[0m \u001b[38;5;28;01mfrom\u001b[39;00m \u001b[38;5;21;01mtensorflow\u001b[39;00m\u001b[38;5;21;01m.\u001b[39;00m\u001b[38;5;21;01mkeras\u001b[39;00m\u001b[38;5;21;01m.\u001b[39;00m\u001b[38;5;21;01mcallbacks\u001b[39;00m \u001b[38;5;28;01mimport\u001b[39;00m ModelCheckpoint\n\u001b[1;32m----> 3\u001b[0m mc \u001b[38;5;241m=\u001b[39m ModelCheckpoint(\u001b[38;5;124m'\u001b[39m\u001b[38;5;124mbest_boston.h5\u001b[39m\u001b[38;5;124m'\u001b[39m, \n\u001b[0;32m      4\u001b[0m                      monitor \u001b[38;5;241m=\u001b[39m \u001b[38;5;124m'\u001b[39m\u001b[38;5;124mval_mae\u001b[39m\u001b[38;5;124m'\u001b[39m, \n\u001b[0;32m      5\u001b[0m                      mode \u001b[38;5;241m=\u001b[39m \u001b[38;5;124m'\u001b[39m\u001b[38;5;124mmin\u001b[39m\u001b[38;5;124m'\u001b[39m, \n\u001b[0;32m      6\u001b[0m                      save_best_only \u001b[38;5;241m=\u001b[39m \u001b[38;5;28;01mTrue\u001b[39;00m,\n\u001b[0;32m      7\u001b[0m                      verbose \u001b[38;5;241m=\u001b[39m \u001b[38;5;241m1\u001b[39m)\n",
      "File \u001b[1;32m~\\anaconda3\\Lib\\site-packages\\keras\\src\\callbacks\\model_checkpoint.py:191\u001b[0m, in \u001b[0;36mModelCheckpoint.__init__\u001b[1;34m(self, filepath, monitor, verbose, save_best_only, save_weights_only, mode, save_freq, initial_value_threshold)\u001b[0m\n\u001b[0;32m    189\u001b[0m \u001b[38;5;28;01melse\u001b[39;00m:\n\u001b[0;32m    190\u001b[0m     \u001b[38;5;28;01mif\u001b[39;00m \u001b[38;5;129;01mnot\u001b[39;00m \u001b[38;5;28mself\u001b[39m\u001b[38;5;241m.\u001b[39mfilepath\u001b[38;5;241m.\u001b[39mendswith(\u001b[38;5;124m\"\u001b[39m\u001b[38;5;124m.keras\u001b[39m\u001b[38;5;124m\"\u001b[39m):\n\u001b[1;32m--> 191\u001b[0m         \u001b[38;5;28;01mraise\u001b[39;00m \u001b[38;5;167;01mValueError\u001b[39;00m(\n\u001b[0;32m    192\u001b[0m             \u001b[38;5;124m\"\u001b[39m\u001b[38;5;124mThe filepath provided must end in `.keras` \u001b[39m\u001b[38;5;124m\"\u001b[39m\n\u001b[0;32m    193\u001b[0m             \u001b[38;5;124m\"\u001b[39m\u001b[38;5;124m(Keras model format). Received: \u001b[39m\u001b[38;5;124m\"\u001b[39m\n\u001b[0;32m    194\u001b[0m             \u001b[38;5;124mf\u001b[39m\u001b[38;5;124m\"\u001b[39m\u001b[38;5;124mfilepath=\u001b[39m\u001b[38;5;132;01m{\u001b[39;00m\u001b[38;5;28mself\u001b[39m\u001b[38;5;241m.\u001b[39mfilepath\u001b[38;5;132;01m}\u001b[39;00m\u001b[38;5;124m\"\u001b[39m\n\u001b[0;32m    195\u001b[0m         )\n",
      "\u001b[1;31mValueError\u001b[0m: The filepath provided must end in `.keras` (Keras model format). Received: filepath=best_boston.h5"
     ]
    }
   ],
   "source": [
    "from tensorflow.keras.callbacks import ModelCheckpoint\n",
    "\n",
    "mc = ModelCheckpoint('best_boston.h5', \n",
    "                     monitor = 'val_mae', \n",
    "                     mode = 'min', \n",
    "                     save_best_only = True,\n",
    "                     verbose = 1)"
   ]
  },
  {
   "cell_type": "markdown",
   "metadata": {
    "id": "nHWTF7_wc7jx"
   },
   "source": [
    "> ## 4) Model Fit with callbacks\n",
    "\n",
    "* callbacks : Earlystopping( ) 과 ModelCheckpoint( ) 객체 지정"
   ]
  },
  {
   "cell_type": "code",
   "execution_count": null,
   "metadata": {
    "colab": {
     "base_uri": "https://localhost:8080/"
    },
    "executionInfo": {
     "elapsed": 45641,
     "status": "ok",
     "timestamp": 1673408170557,
     "user": {
      "displayName": "이정구",
      "userId": "17400242557229223804"
     },
     "user_tz": -540
    },
    "id": "M5Ie96-4J6Yq",
    "outputId": "da9fe09c-9a23-4a57-e302-bfdde96b058a",
    "tags": []
   },
   "outputs": [],
   "source": [
    "# %%time\n",
    "\n",
    "Hist_boston = boston.fit(X_train, y_train,\n",
    "                         epochs = 500,\n",
    "                         batch_size = 1,\n",
    "                         validation_data = (X_valid, y_valid),\n",
    "                         callbacks = [es, mc],\n",
    "                         verbose = 1)"
   ]
  },
  {
   "cell_type": "markdown",
   "metadata": {
    "id": "42K82_o3oyIa"
   },
   "source": [
    "> ## 5) Best Model"
   ]
  },
  {
   "cell_type": "code",
   "execution_count": null,
   "metadata": {
    "colab": {
     "base_uri": "https://localhost:8080/"
    },
    "executionInfo": {
     "elapsed": 15,
     "status": "ok",
     "timestamp": 1673408170558,
     "user": {
      "displayName": "이정구",
      "userId": "17400242557229223804"
     },
     "user_tz": -540
    },
    "id": "jQ7uKeyYmFYg",
    "outputId": "10eb92d8-58f8-4f4a-b343-1e00aaa2ba41"
   },
   "outputs": [],
   "source": [
    "# !ls -l"
   ]
  },
  {
   "cell_type": "markdown",
   "metadata": {
    "id": "Ar1VIaMyGPcL"
   },
   "source": [
    "> ## 6) Model Evaluate"
   ]
  },
  {
   "cell_type": "code",
   "execution_count": null,
   "metadata": {
    "executionInfo": {
     "elapsed": 6,
     "status": "ok",
     "timestamp": 1673408170558,
     "user": {
      "displayName": "이정구",
      "userId": "17400242557229223804"
     },
     "user_tz": -540
    },
    "id": "hFxkiyF-mMSo"
   },
   "outputs": [],
   "source": [
    "from tensorflow.keras.models import load_model\n",
    "\n",
    "best_boston = load_model('best_boston.h5')"
   ]
  },
  {
   "cell_type": "code",
   "execution_count": null,
   "metadata": {
    "colab": {
     "base_uri": "https://localhost:8080/"
    },
    "executionInfo": {
     "elapsed": 422,
     "status": "ok",
     "timestamp": 1673408170974,
     "user": {
      "displayName": "이정구",
      "userId": "17400242557229223804"
     },
     "user_tz": -540
    },
    "id": "3pz6nkVvmXIK",
    "outputId": "8d60be5e-e578-4824-ee0d-b4d728e32489"
   },
   "outputs": [],
   "source": [
    "test_mse_score, test_mae_score = best_boston.evaluate(X_test, y_test)\n",
    "\n",
    "print('MAE is :',test_mae_score)"
   ]
  },
  {
   "cell_type": "markdown",
   "metadata": {
    "id": "QC9joeODLqOD"
   },
   "source": [
    "# The End"
   ]
  },
  {
   "cell_type": "code",
   "execution_count": null,
   "metadata": {},
   "outputs": [],
   "source": []
  }
 ],
 "metadata": {
  "colab": {
   "provenance": []
  },
  "kernelspec": {
   "display_name": "Python 3 (ipykernel)",
   "language": "python",
   "name": "python3"
  },
  "language_info": {
   "codemirror_mode": {
    "name": "ipython",
    "version": 3
   },
   "file_extension": ".py",
   "mimetype": "text/x-python",
   "name": "python",
   "nbconvert_exporter": "python",
   "pygments_lexer": "ipython3",
   "version": "3.11.7"
  },
  "toc": {
   "base_numbering": 1,
   "nav_menu": {},
   "number_sections": true,
   "sideBar": true,
   "skip_h1_title": false,
   "title_cell": "Table of Contents",
   "title_sidebar": "Contents",
   "toc_cell": false,
   "toc_position": {},
   "toc_section_display": true,
   "toc_window_display": false
  }
 },
 "nbformat": 4,
 "nbformat_minor": 4
}
